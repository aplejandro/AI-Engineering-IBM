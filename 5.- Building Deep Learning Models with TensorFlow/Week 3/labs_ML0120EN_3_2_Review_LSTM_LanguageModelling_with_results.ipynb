{
  "nbformat": 4,
  "nbformat_minor": 0,
  "metadata": {
    "anaconda-cloud": {},
    "kernelspec": {
      "display_name": "Python 3.7.4 64-bit ('3.7.4': pyenv)",
      "language": "python",
      "name": "python37464bit374pyenv4cfdc264fdd84133abd43c540c9caa0c"
    },
    "language_info": {
      "codemirror_mode": {
        "name": "ipython",
        "version": 3
      },
      "file_extension": ".py",
      "mimetype": "text/x-python",
      "name": "python",
      "nbconvert_exporter": "python",
      "pygments_lexer": "ipython3",
      "version": "3.7.4-final"
    },
    "colab": {
      "name": "labs_ML0120EN-3.2-Review-LSTM-LanguageModelling_with_results.ipynb",
      "provenance": [],
      "collapsed_sections": []
    }
  },
  "cells": [
    {
      "cell_type": "markdown",
      "metadata": {
        "id": "YF9D5xCs_BG4"
      },
      "source": [
        "<a href=\"https://www.skills.network/\"><img src=\"https://cf-courses-data.s3.us.cloud-object-storage.appdomain.cloud/IBM-DL0120ENedX/labs/Template%20for%20Instructional%20Hands-on%20Labs/images/IDSNlogo.png\" width=\"400px\" align=\"center\"></a>\n",
        "\n",
        "<h1 align=\"center\"><font size=\"5\">RECURRENT NETWORKS and LSTM IN DEEP LEARNING</font></h1>\n"
      ]
    },
    {
      "cell_type": "markdown",
      "metadata": {
        "id": "xCxpV_fC_BHD"
      },
      "source": [
        "<h2>Applying Recurrent Neural Networks/LSTM for Language Modeling</h2>\n",
        "Hello and welcome to this part. In this notebook, we will go over the topic of Language Modelling, and create a Recurrent Neural Network model based on the Long Short-Term Memory unit to train and benchmark on the Penn Treebank dataset. By the end of this notebook, you should be able to understand how TensorFlow builds and executes a RNN model for Language Modelling.\n"
      ]
    },
    {
      "cell_type": "markdown",
      "metadata": {
        "id": "kDzJYLsn_BHE"
      },
      "source": [
        "<h2>The Objective</h2>\n",
        "By now, you should have an understanding of how Recurrent Networks work -- a specialized model to process sequential data by keeping track of the \"state\" or context. In this notebook, we go over a TensorFlow code snippet for creating a model focused on <b>Language Modelling</b> -- a very relevant task that is the cornerstone of many different linguistic problems such as <b>Speech Recognition, Machine Translation and Image Captioning</b>. For this, we will be using the Penn Treebank dataset, which is an often-used dataset for benchmarking Language Modelling models.\n"
      ]
    },
    {
      "cell_type": "markdown",
      "metadata": {
        "id": "xtwQdjKa_BHF"
      },
      "source": [
        "<h2>Table of Contents</h2>\n",
        "<ol>\n",
        "    <li><a href=\"#language_modelling\">What exactly is Language Modelling?</a></li>\n",
        "    <li><a href=\"#treebank_dataset\">The Penn Treebank dataset</a></li>\n",
        "    <li><a href=\"#word_embedding\">Word Embedding</a></li>\n",
        "    <li><a href=\"#building_lstm_model\">Building the LSTM model for Language Modeling</a></li>\n",
        "    <li><a href=\"#ltsm\">LTSM</a></li>\n",
        "</ol>\n",
        "<p></p>\n",
        "</div>\n",
        "<br>\n"
      ]
    },
    {
      "cell_type": "markdown",
      "metadata": {
        "button": false,
        "deletable": true,
        "new_sheet": false,
        "run_control": {
          "read_only": false
        },
        "id": "yrKaSFag_BHG"
      },
      "source": [
        "* * *\n"
      ]
    },
    {
      "cell_type": "markdown",
      "metadata": {
        "id": "0tCYGJkD_BHG"
      },
      "source": [
        "<a id=\"language_modelling\"></a>\n",
        "\n",
        "<h2>What exactly is Language Modelling?</h2>\n",
        "Language Modelling, to put it simply, <b>is the task of assigning probabilities to sequences of words</b>. This means that, given a context of one or a sequence of words in the language the model was trained on, the model should provide the next most probable words or sequence of words that follows from the given sequence of words the sentence. Language Modelling is one of the most important tasks in Natural Language Processing.\n",
        "\n",
        "<img src=\"https://ibm.box.com/shared/static/1d1i5gub6wljby2vani2vzxp0xsph702.png\" width=\"1080\">\n",
        "<center><i>Example of a sentence being predicted</i></center>\n",
        "<br><br>\n",
        "In this example, one can see the predictions for the next word of a sentence, given the context \"This is an\". As you can see, this boils down to a sequential data analysis task -- you are given a word or a sequence of words (the input data), and, given the context (the state), you need to find out what is the next word (the prediction). This kind of analysis is very important for language-related tasks such as <b>Speech Recognition, Machine Translation, Image Captioning, Text Correction</b> and many other very relevant problems. \n",
        "\n",
        "<img src=\"https://ibm.box.com/shared/static/az39idf9ipfdpc5ugifpgxnydelhyf3i.png\" width=\"1080\">\n",
        "<center><i>The above example is a schema of an RNN in execution</i></center>\n",
        "<br><br>\n",
        "As the above image shows, Recurrent Network models fit this problem like a glove. Alongside LSTM and its capacity to maintain the model's state for over one thousand time steps, we have all the tools we need to undertake this problem. The goal for this notebook is to create a model that can reach <b>low levels of perplexity</b> on our desired dataset.\n",
        "\n",
        "For Language Modelling problems, <b>perplexity</b> is the way to gauge efficiency. Perplexity is simply a measure of how well a probabilistic model is able to predict its sample. A higher-level way to explain this would be saying that <b>low perplexity means a higher degree of trust in the predictions the model makes</b>. Therefore, the lower perplexity is, the better.\n"
      ]
    },
    {
      "cell_type": "markdown",
      "metadata": {
        "id": "q-z5LjBu_BHH"
      },
      "source": [
        "<a id=\"treebank_dataset\"></a>\n",
        "\n",
        "<h2>The Penn Treebank dataset</h2>\n",
        "Historically, datasets big enough for Natural Language Processing are hard to come by. This is in part due to the necessity of the sentences to be broken down and tagged with a certain degree of correctness -- or else the models trained on it won't be able to be correct at all. This means that we need a <b>large amount of data, annotated by or at least corrected by humans</b>. This is, of course, not an easy task at all.\n",
        "\n",
        "The Penn Treebank, or PTB for short, is a dataset maintained by the University of Pennsylvania. It is <i>huge</i> -- there are over <b>four million and eight hundred thousand</b> annotated words in it, all corrected by humans. It is composed of many different sources, from abstracts of Department of Energy papers to texts from the Library of America. Since it is verifiably correct and of such a huge size, the Penn Treebank is commonly used as a benchmark dataset for Language Modelling.\n",
        "\n",
        "The dataset is divided in different kinds of annotations, such as Piece-of-Speech, Syntactic and Semantic skeletons. For this example, we will simply use a sample of clean, non-annotated words (with the exception of one tag --<code><unk></code>\n",
        ", which is used for rare words such as uncommon proper nouns) for our model. This means that we just want to predict what the next words would be, not what they mean in context or their classes on a given sentence.\n",
        "\n",
        "<center>Example of text from the dataset we are going to use, <b>ptb.train</b></center>\n",
        "<br><br>\n",
        "\n",
        "<div class=\"alert alert-block alert-info\" style=\"margin-top: 20px\">\n",
        "    <center>the percentage of lung cancer deaths among the workers at the west <code>&lt;unk&gt;</code> mass. paper factory appears to be the highest for any asbestos workers studied in western industrialized countries he said \n",
        " the plant which is owned by <code>&lt;unk&gt;</code> & <code>&lt;unk&gt;</code> co. was under contract with <code>&lt;unk&gt;</code> to make the cigarette filters \n",
        " the finding probably will support those who argue that the U.S. should regulate the class of asbestos including <code>&lt;unk&gt;</code> more <code>&lt;unk&gt;</code> than the common kind of asbestos <code>&lt;unk&gt;</code> found in most schools and other buildings dr. <code>&lt;unk&gt;</code> said</center>\n",
        "</div>\n"
      ]
    },
    {
      "cell_type": "markdown",
      "metadata": {
        "button": false,
        "deletable": true,
        "new_sheet": false,
        "run_control": {
          "read_only": false
        },
        "id": "SrIW7Qmg_BHJ"
      },
      "source": [
        "<a id=\"word_embedding\"></a>\n",
        "\n",
        "<h2>Word Embeddings</h2><br/>\n",
        "\n",
        "For better processing, in this example, we will make use of <a href=\"https://www.tensorflow.org/tutorials/word2vec/\"><b>word embeddings</b></a>, which is <b>a way of representing sentence structures or words as n-dimensional vectors (where n is a reasonably high number, such as 200 or 500) of real numbers</b>. Basically, we will assign each word a randomly-initialized vector, and input those into the network to be processed. After a number of iterations, these vectors are expected to assume values that help the network to correctly predict what it needs to -- in our case, the probable next word in the sentence. This is shown to be a very effective task in Natural Language Processing, and is a commonplace practice.\n",
        "<br><br>\n",
        "<font size=\"4\"><strong>\n",
        "$$Vec(\"Example\") = [0.02, 0.00, 0.00, 0.92, 0.30, \\ldots]$$\n",
        "</strong></font>\n",
        "<br>\n",
        "Word Embedding tends to group up similarly used words <i>reasonably</i> close together in the vectorial space. For example, if we use T-SNE (a dimensional reduction visualization algorithm) to flatten the dimensions of our vectors into a 2-dimensional space and plot these words in a 2-dimensional space, we might see something like this:\n",
        "\n",
        "<img src=\"https://ibm.box.com/shared/static/bqhc5dg879gcoabzhxra1w8rkg3od1cu.png\" width=\"800\">\n",
        "<center><i>T-SNE Mockup with clusters marked for easier visualization</i></center>\n",
        "<br><br>\n",
        "As you can see, words that are frequently used together, in place of each other, or in the same places as them tend to be grouped together -- being closer together the higher they are correlated. For example, \"None\" is pretty semantically close to \"Zero\", while a phrase that uses \"Italy\", you could probably also fit \"Germany\" in it, with little damage to the sentence structure. The vectorial \"closeness\" for similar words like this is a great indicator of a well-built model.\n",
        "\n",
        "<hr>\n",
        " \n"
      ]
    },
    {
      "cell_type": "markdown",
      "metadata": {
        "button": false,
        "deletable": true,
        "new_sheet": false,
        "run_control": {
          "read_only": false
        },
        "id": "cAnQvTWk_BHK"
      },
      "source": [
        "We need to import the necessary modules for our code. We need <b><code>numpy</code></b> and <b><code>tensorflow</code></b>, obviously. Additionally, we can import directly the <b><code>tensorflow.models.rnn</code></b> model, which includes the function for building RNNs, and <b><code>tensorflow.models.rnn.ptb.reader</code></b> which is the helper module for getting the input data from the dataset we just downloaded.\n",
        "\n",
        "If you want to learn more take a look at <https://github.com/tensorflow/models/blob/master/tutorials/rnn/ptb/reader.py>\n"
      ]
    },
    {
      "cell_type": "code",
      "metadata": {
        "tags": [],
        "colab": {
          "base_uri": "https://localhost:8080/"
        },
        "id": "PMgt8or1_BHL",
        "outputId": "7365538b-e036-43c7-b551-78fb2582f528"
      },
      "source": [
        "!pip install tensorflow==2.2.0rc0\n",
        "!pip install numpy\n"
      ],
      "execution_count": 1,
      "outputs": [
        {
          "output_type": "stream",
          "text": [
            "Collecting tensorflow==2.2.0rc0\n",
            "\u001b[?25l  Downloading https://files.pythonhosted.org/packages/07/65/d25cff95d127ec759a3782301207a427fd396e2fbc32f72fd0361fb97031/tensorflow-2.2.0rc0-cp37-cp37m-manylinux2010_x86_64.whl (515.9MB)\n",
            "\u001b[K     |████████████████████████████████| 515.9MB 30kB/s \n",
            "\u001b[?25hRequirement already satisfied: wrapt>=1.11.1 in /usr/local/lib/python3.7/dist-packages (from tensorflow==2.2.0rc0) (1.12.1)\n",
            "Requirement already satisfied: astunparse==1.6.3 in /usr/local/lib/python3.7/dist-packages (from tensorflow==2.2.0rc0) (1.6.3)\n",
            "Collecting tensorboard<2.2.0,>=2.1.0\n",
            "\u001b[?25l  Downloading https://files.pythonhosted.org/packages/d9/41/bbf49b61370e4f4d245d4c6051dfb6db80cec672605c91b1652ac8cc3d38/tensorboard-2.1.1-py3-none-any.whl (3.8MB)\n",
            "\u001b[K     |████████████████████████████████| 3.9MB 35.4MB/s \n",
            "\u001b[?25hRequirement already satisfied: wheel>=0.26; python_version >= \"3\" in /usr/local/lib/python3.7/dist-packages (from tensorflow==2.2.0rc0) (0.36.2)\n",
            "Collecting tensorflow-estimator<2.2.0,>=2.1.0\n",
            "\u001b[?25l  Downloading https://files.pythonhosted.org/packages/18/90/b77c328a1304437ab1310b463e533fa7689f4bfc41549593056d812fab8e/tensorflow_estimator-2.1.0-py2.py3-none-any.whl (448kB)\n",
            "\u001b[K     |████████████████████████████████| 450kB 36.8MB/s \n",
            "\u001b[?25hRequirement already satisfied: absl-py>=0.7.0 in /usr/local/lib/python3.7/dist-packages (from tensorflow==2.2.0rc0) (0.12.0)\n",
            "Requirement already satisfied: scipy==1.4.1; python_version >= \"3\" in /usr/local/lib/python3.7/dist-packages (from tensorflow==2.2.0rc0) (1.4.1)\n",
            "Requirement already satisfied: google-pasta>=0.1.8 in /usr/local/lib/python3.7/dist-packages (from tensorflow==2.2.0rc0) (0.2.0)\n",
            "Requirement already satisfied: keras-preprocessing>=1.1.0 in /usr/local/lib/python3.7/dist-packages (from tensorflow==2.2.0rc0) (1.1.2)\n",
            "Requirement already satisfied: numpy<2.0,>=1.16.0 in /usr/local/lib/python3.7/dist-packages (from tensorflow==2.2.0rc0) (1.19.5)\n",
            "Requirement already satisfied: opt-einsum>=2.3.2 in /usr/local/lib/python3.7/dist-packages (from tensorflow==2.2.0rc0) (3.3.0)\n",
            "Requirement already satisfied: h5py<2.11.0,>=2.10.0 in /usr/local/lib/python3.7/dist-packages (from tensorflow==2.2.0rc0) (2.10.0)\n",
            "Requirement already satisfied: six>=1.12.0 in /usr/local/lib/python3.7/dist-packages (from tensorflow==2.2.0rc0) (1.15.0)\n",
            "Requirement already satisfied: termcolor>=1.1.0 in /usr/local/lib/python3.7/dist-packages (from tensorflow==2.2.0rc0) (1.1.0)\n",
            "Requirement already satisfied: grpcio>=1.8.6 in /usr/local/lib/python3.7/dist-packages (from tensorflow==2.2.0rc0) (1.32.0)\n",
            "Requirement already satisfied: gast==0.3.3 in /usr/local/lib/python3.7/dist-packages (from tensorflow==2.2.0rc0) (0.3.3)\n",
            "Requirement already satisfied: protobuf>=3.8.0 in /usr/local/lib/python3.7/dist-packages (from tensorflow==2.2.0rc0) (3.12.4)\n",
            "Requirement already satisfied: requests<3,>=2.21.0 in /usr/local/lib/python3.7/dist-packages (from tensorboard<2.2.0,>=2.1.0->tensorflow==2.2.0rc0) (2.23.0)\n",
            "Requirement already satisfied: markdown>=2.6.8 in /usr/local/lib/python3.7/dist-packages (from tensorboard<2.2.0,>=2.1.0->tensorflow==2.2.0rc0) (3.3.4)\n",
            "Requirement already satisfied: werkzeug>=0.11.15 in /usr/local/lib/python3.7/dist-packages (from tensorboard<2.2.0,>=2.1.0->tensorflow==2.2.0rc0) (1.0.1)\n",
            "Requirement already satisfied: google-auth<2,>=1.6.3 in /usr/local/lib/python3.7/dist-packages (from tensorboard<2.2.0,>=2.1.0->tensorflow==2.2.0rc0) (1.28.1)\n",
            "Requirement already satisfied: google-auth-oauthlib<0.5,>=0.4.1 in /usr/local/lib/python3.7/dist-packages (from tensorboard<2.2.0,>=2.1.0->tensorflow==2.2.0rc0) (0.4.4)\n",
            "Requirement already satisfied: setuptools>=41.0.0 in /usr/local/lib/python3.7/dist-packages (from tensorboard<2.2.0,>=2.1.0->tensorflow==2.2.0rc0) (56.0.0)\n",
            "Requirement already satisfied: idna<3,>=2.5 in /usr/local/lib/python3.7/dist-packages (from requests<3,>=2.21.0->tensorboard<2.2.0,>=2.1.0->tensorflow==2.2.0rc0) (2.10)\n",
            "Requirement already satisfied: chardet<4,>=3.0.2 in /usr/local/lib/python3.7/dist-packages (from requests<3,>=2.21.0->tensorboard<2.2.0,>=2.1.0->tensorflow==2.2.0rc0) (3.0.4)\n",
            "Requirement already satisfied: urllib3!=1.25.0,!=1.25.1,<1.26,>=1.21.1 in /usr/local/lib/python3.7/dist-packages (from requests<3,>=2.21.0->tensorboard<2.2.0,>=2.1.0->tensorflow==2.2.0rc0) (1.24.3)\n",
            "Requirement already satisfied: certifi>=2017.4.17 in /usr/local/lib/python3.7/dist-packages (from requests<3,>=2.21.0->tensorboard<2.2.0,>=2.1.0->tensorflow==2.2.0rc0) (2020.12.5)\n",
            "Requirement already satisfied: importlib-metadata; python_version < \"3.8\" in /usr/local/lib/python3.7/dist-packages (from markdown>=2.6.8->tensorboard<2.2.0,>=2.1.0->tensorflow==2.2.0rc0) (3.10.1)\n",
            "Requirement already satisfied: pyasn1-modules>=0.2.1 in /usr/local/lib/python3.7/dist-packages (from google-auth<2,>=1.6.3->tensorboard<2.2.0,>=2.1.0->tensorflow==2.2.0rc0) (0.2.8)\n",
            "Requirement already satisfied: rsa<5,>=3.1.4; python_version >= \"3.6\" in /usr/local/lib/python3.7/dist-packages (from google-auth<2,>=1.6.3->tensorboard<2.2.0,>=2.1.0->tensorflow==2.2.0rc0) (4.7.2)\n",
            "Requirement already satisfied: cachetools<5.0,>=2.0.0 in /usr/local/lib/python3.7/dist-packages (from google-auth<2,>=1.6.3->tensorboard<2.2.0,>=2.1.0->tensorflow==2.2.0rc0) (4.2.1)\n",
            "Requirement already satisfied: requests-oauthlib>=0.7.0 in /usr/local/lib/python3.7/dist-packages (from google-auth-oauthlib<0.5,>=0.4.1->tensorboard<2.2.0,>=2.1.0->tensorflow==2.2.0rc0) (1.3.0)\n",
            "Requirement already satisfied: typing-extensions>=3.6.4; python_version < \"3.8\" in /usr/local/lib/python3.7/dist-packages (from importlib-metadata; python_version < \"3.8\"->markdown>=2.6.8->tensorboard<2.2.0,>=2.1.0->tensorflow==2.2.0rc0) (3.7.4.3)\n",
            "Requirement already satisfied: zipp>=0.5 in /usr/local/lib/python3.7/dist-packages (from importlib-metadata; python_version < \"3.8\"->markdown>=2.6.8->tensorboard<2.2.0,>=2.1.0->tensorflow==2.2.0rc0) (3.4.1)\n",
            "Requirement already satisfied: pyasn1<0.5.0,>=0.4.6 in /usr/local/lib/python3.7/dist-packages (from pyasn1-modules>=0.2.1->google-auth<2,>=1.6.3->tensorboard<2.2.0,>=2.1.0->tensorflow==2.2.0rc0) (0.4.8)\n",
            "Requirement already satisfied: oauthlib>=3.0.0 in /usr/local/lib/python3.7/dist-packages (from requests-oauthlib>=0.7.0->google-auth-oauthlib<0.5,>=0.4.1->tensorboard<2.2.0,>=2.1.0->tensorflow==2.2.0rc0) (3.1.0)\n",
            "Installing collected packages: tensorboard, tensorflow-estimator, tensorflow\n",
            "  Found existing installation: tensorboard 2.4.1\n",
            "    Uninstalling tensorboard-2.4.1:\n",
            "      Successfully uninstalled tensorboard-2.4.1\n",
            "  Found existing installation: tensorflow-estimator 2.4.0\n",
            "    Uninstalling tensorflow-estimator-2.4.0:\n",
            "      Successfully uninstalled tensorflow-estimator-2.4.0\n",
            "  Found existing installation: tensorflow 2.4.1\n",
            "    Uninstalling tensorflow-2.4.1:\n",
            "      Successfully uninstalled tensorflow-2.4.1\n",
            "Successfully installed tensorboard-2.1.1 tensorflow-2.2.0rc0 tensorflow-estimator-2.1.0\n",
            "Requirement already satisfied: numpy in /usr/local/lib/python3.7/dist-packages (1.19.5)\n"
          ],
          "name": "stdout"
        }
      ]
    },
    {
      "cell_type": "code",
      "metadata": {
        "id": "ydgBurOz_BHM"
      },
      "source": [
        "import time\n",
        "import numpy as np\n",
        "import tensorflow as tf\n",
        "if not tf.__version__ == '2.2.0-rc0':\n",
        "    print(tf.__version__)\n",
        "    raise ValueError('please upgrade to TensorFlow 2.2.0-rc0, or restart your Kernel (Kernel->Restart & Clear Output)')"
      ],
      "execution_count": 2,
      "outputs": []
    },
    {
      "cell_type": "markdown",
      "metadata": {
        "id": "k0Gfs2Nu_BHM"
      },
      "source": [
        "IMPORTANT! => Please restart the kernel by clicking on \"Kernel\"->\"Restart and Clear Outout\" and wait until all output disapears. Then your changes are beeing picked up\n"
      ]
    },
    {
      "cell_type": "code",
      "metadata": {
        "button": false,
        "deletable": true,
        "new_sheet": false,
        "run_control": {
          "read_only": false
        },
        "tags": [],
        "id": "s0JU-3PU_BHN"
      },
      "source": [
        "!mkdir data\n",
        "!mkdir data/ptb\n",
        "!wget -q -O data/ptb/reader.py https://cf-courses-data.s3.us.cloud-object-storage.appdomain.cloud/IBMDeveloperSkillsNetwork-DL0120EN-SkillsNetwork/labs/Week3/data/ptb/reader.py\n",
        "!cp data/ptb/reader.py . \n",
        "\n"
      ],
      "execution_count": 3,
      "outputs": []
    },
    {
      "cell_type": "code",
      "metadata": {
        "tags": [],
        "id": "aGY3dBo3_BHO"
      },
      "source": [
        "import reader"
      ],
      "execution_count": 4,
      "outputs": []
    },
    {
      "cell_type": "markdown",
      "metadata": {
        "button": false,
        "deletable": true,
        "new_sheet": false,
        "run_control": {
          "read_only": false
        },
        "id": "dFroG70v_BHO"
      },
      "source": [
        "<a id=\"building_lstm_model\"></a>\n",
        "\n",
        "<h2>Building the LSTM model for Language Modeling</h2>\n",
        "Now that we know exactly what we are doing, we can start building our model using TensorFlow. The very first thing we need to do is download and extract the <code>simple-examples</code> dataset, which can be done by executing the code cell below.\n"
      ]
    },
    {
      "cell_type": "code",
      "metadata": {
        "button": false,
        "deletable": true,
        "new_sheet": false,
        "run_control": {
          "read_only": false
        },
        "tags": [],
        "colab": {
          "base_uri": "https://localhost:8080/"
        },
        "id": "6r0fXB9G_BHO",
        "outputId": "d2922ab0-15e6-408a-fe37-c0dfcffecfd0"
      },
      "source": [
        "!wget http://www.fit.vutbr.cz/~imikolov/rnnlm/simple-examples.tgz \n",
        "!tar xzf simple-examples.tgz -C data/"
      ],
      "execution_count": 5,
      "outputs": [
        {
          "output_type": "stream",
          "text": [
            "--2021-04-24 17:53:18--  http://www.fit.vutbr.cz/~imikolov/rnnlm/simple-examples.tgz\n",
            "Resolving www.fit.vutbr.cz (www.fit.vutbr.cz)... 147.229.9.23, 2001:67c:1220:809::93e5:917\n",
            "Connecting to www.fit.vutbr.cz (www.fit.vutbr.cz)|147.229.9.23|:80... connected.\n",
            "HTTP request sent, awaiting response... 200 OK\n",
            "Length: 34869662 (33M) [application/x-gtar]\n",
            "Saving to: ‘simple-examples.tgz’\n",
            "\n",
            "simple-examples.tgz 100%[===================>]  33.25M  3.74MB/s    in 10s     \n",
            "\n",
            "2021-04-24 17:53:29 (3.27 MB/s) - ‘simple-examples.tgz’ saved [34869662/34869662]\n",
            "\n"
          ],
          "name": "stdout"
        }
      ]
    },
    {
      "cell_type": "markdown",
      "metadata": {
        "button": false,
        "deletable": true,
        "new_sheet": false,
        "run_control": {
          "read_only": false
        },
        "id": "yuz6DRDx_BHP"
      },
      "source": [
        "Additionally, for the sake of making it easy to play around with the model's hyperparameters, we can declare them beforehand. Feel free to change these -- you will see a difference in performance each time you change those!  \n"
      ]
    },
    {
      "cell_type": "code",
      "metadata": {
        "button": false,
        "deletable": true,
        "new_sheet": false,
        "run_control": {
          "read_only": false
        },
        "id": "FA0ihdA8_BHP"
      },
      "source": [
        "#Initial weight scale\n",
        "init_scale = 0.1\n",
        "#Initial learning rate\n",
        "learning_rate = 1.0\n",
        "#Maximum permissible norm for the gradient (For gradient clipping -- another measure against Exploding Gradients)\n",
        "max_grad_norm = 5\n",
        "#The number of layers in our model\n",
        "num_layers = 2\n",
        "#The total number of recurrence steps, also known as the number of layers when our RNN is \"unfolded\"\n",
        "num_steps = 20\n",
        "#The number of processing units (neurons) in the hidden layers\n",
        "hidden_size_l1 = 256\n",
        "hidden_size_l2 = 128\n",
        "#The maximum number of epochs trained with the initial learning rate\n",
        "max_epoch_decay_lr = 4\n",
        "#The total number of epochs in training\n",
        "max_epoch = 15\n",
        "#The probability for keeping data in the Dropout Layer (This is an optimization, but is outside our scope for this notebook!)\n",
        "#At 1, we ignore the Dropout Layer wrapping.\n",
        "keep_prob = 1\n",
        "#The decay for the learning rate\n",
        "decay = 0.5\n",
        "#The size for each batch of data\n",
        "batch_size = 30\n",
        "#The size of our vocabulary\n",
        "vocab_size = 10000\n",
        "embeding_vector_size= 200\n",
        "#Training flag to separate training from testing\n",
        "is_training = 1\n",
        "#Data directory for our dataset\n",
        "data_dir = \"data/simple-examples/data/\""
      ],
      "execution_count": 6,
      "outputs": []
    },
    {
      "cell_type": "markdown",
      "metadata": {
        "button": false,
        "new_sheet": false,
        "run_control": {
          "read_only": false
        },
        "id": "BRp612la_BHQ"
      },
      "source": [
        "Some clarifications for LSTM architecture based on the arguments:\n",
        "\n",
        "Network structure:\n",
        "\n",
        "<ul>\n",
        "    <li>In this network, the number of LSTM cells are 2. To give the model more expressive power, we can add multiple layers of LSTMs to process the data. The output of the first layer will become the input of the second and so on.\n",
        "    </li>\n",
        "    <li>The recurrence steps is 20, that is, when our RNN is \"Unfolded\", the recurrence step is 20.</li>   \n",
        "    <li>the structure is like:\n",
        "        <ul>\n",
        "            <li>200 input units -> [200x200] Weight -> 200 Hidden units (first layer) -> [200x200] Weight matrix  -> 200 Hidden units (second layer) ->  [200] weight Matrix -> 200 unit output</li>\n",
        "        </ul>\n",
        "    </li>\n",
        "</ul>\n",
        "<br>\n",
        "\n",
        "Input layer: \n",
        "\n",
        "<ul>\n",
        "    <li>The network has 200 input units.</li>\n",
        "    <li>Suppose each word is represented by an embedding vector of dimensionality e=200. The input layer of each cell will have 200 linear units. These e=200 linear units are connected to each of the h=200 LSTM units in the hidden layer (assuming there is only one hidden layer, though our case has 2 layers).\n",
        "    </li>\n",
        "    <li>The input shape is [batch_size, num_steps], that is [30x20]. It will turn into [30x20x200] after embedding, and then 20x[30x200]\n",
        "    </li>\n",
        "</ul>\n",
        "<br>\n",
        "\n",
        "Hidden layer:\n",
        "\n",
        "<ul>\n",
        "    <li>Each LSTM has 200 hidden units which is equivalent to the dimensionality of the embedding words and output.</li>\n",
        "</ul>\n",
        "<br>\n"
      ]
    },
    {
      "cell_type": "markdown",
      "metadata": {
        "button": false,
        "deletable": true,
        "new_sheet": false,
        "run_control": {
          "read_only": false
        },
        "id": "8MANk-pe_BHQ"
      },
      "source": [
        "There is a lot to be done and a ton of information to process at the same time, so go over this code slowly. It may seem complex at first, but if you try to apply what you just learned about language modelling to the code you see, you should be able to understand it.\n",
        "\n",
        "This code is adapted from the <a href=\"https://github.com/tensorflow/models\">PTBModel</a> example bundled with the TensorFlow source code.\n",
        "\n",
        "<h3>Training data</h3>\n",
        "The story starts from data:\n",
        "<ul>\n",
        "    <li>Train data is a list of words, of size 929589, represented by numbers, e.g. [9971, 9972, 9974, 9975,...]</li>\n",
        "    <li>We read data as mini-batch of size b=30. Assume the size of each sentence is 20 words (num_steps = 20). Then it will take $$floor(\\frac{N}{b \\times h})+1=1548$$ iterations for the learner to go through all sentences once. Where N is the size of the list of words, b is batch size, and h is size of each sentence. So, the number of iterators is 1548\n",
        "    </li>\n",
        "    <li>Each batch data is read from train dataset of size 600, and shape of [30x20]</li>\n",
        "</ul>\n"
      ]
    },
    {
      "cell_type": "code",
      "metadata": {
        "button": false,
        "deletable": true,
        "new_sheet": false,
        "run_control": {
          "read_only": false
        },
        "id": "9jMV2HHg_BHR"
      },
      "source": [
        "# Reads the data and separates it into training data, validation data and testing data\n",
        "raw_data = reader.ptb_raw_data(data_dir)\n",
        "train_data, valid_data, test_data, vocab, word_to_id = raw_data"
      ],
      "execution_count": 7,
      "outputs": []
    },
    {
      "cell_type": "code",
      "metadata": {
        "colab": {
          "base_uri": "https://localhost:8080/"
        },
        "id": "yqaEvO-T_BHS",
        "outputId": "23e541bd-acca-446f-9dfa-7b55bb9ba24b"
      },
      "source": [
        "len(train_data)"
      ],
      "execution_count": 8,
      "outputs": [
        {
          "output_type": "execute_result",
          "data": {
            "text/plain": [
              "929589"
            ]
          },
          "metadata": {
            "tags": []
          },
          "execution_count": 8
        }
      ]
    },
    {
      "cell_type": "code",
      "metadata": {
        "tags": [],
        "colab": {
          "base_uri": "https://localhost:8080/"
        },
        "id": "ZTsfAkN-_BHS",
        "outputId": "2760f3b0-d4fa-4b58-efc3-2bc7234372b5"
      },
      "source": [
        "def id_to_word(id_list):\n",
        "    line = []\n",
        "    for w in id_list:\n",
        "        for word, wid in word_to_id.items():\n",
        "            if wid == w:\n",
        "                line.append(word)\n",
        "    return line            \n",
        "                \n",
        "\n",
        "print(id_to_word(train_data[0:100]))"
      ],
      "execution_count": 9,
      "outputs": [
        {
          "output_type": "stream",
          "text": [
            "['aer', 'banknote', 'berlitz', 'calloway', 'centrust', 'cluett', 'fromstein', 'gitano', 'guterman', 'hydro-quebec', 'ipo', 'kia', 'memotec', 'mlx', 'nahb', 'punts', 'rake', 'regatta', 'rubens', 'sim', 'snack-food', 'ssangyong', 'swapo', 'wachter', '<eos>', 'pierre', '<unk>', 'N', 'years', 'old', 'will', 'join', 'the', 'board', 'as', 'a', 'nonexecutive', 'director', 'nov.', 'N', '<eos>', 'mr.', '<unk>', 'is', 'chairman', 'of', '<unk>', 'n.v.', 'the', 'dutch', 'publishing', 'group', '<eos>', 'rudolph', '<unk>', 'N', 'years', 'old', 'and', 'former', 'chairman', 'of', 'consolidated', 'gold', 'fields', 'plc', 'was', 'named', 'a', 'nonexecutive', 'director', 'of', 'this', 'british', 'industrial', 'conglomerate', '<eos>', 'a', 'form', 'of', 'asbestos', 'once', 'used', 'to', 'make', 'kent', 'cigarette', 'filters', 'has', 'caused', 'a', 'high', 'percentage', 'of', 'cancer', 'deaths', 'among', 'a', 'group', 'of']\n"
          ],
          "name": "stdout"
        }
      ]
    },
    {
      "cell_type": "markdown",
      "metadata": {
        "button": false,
        "deletable": true,
        "new_sheet": false,
        "run_control": {
          "read_only": false
        },
        "id": "VyJSAkpG_BHT"
      },
      "source": [
        "Lets just read one mini-batch now and feed our network:\n"
      ]
    },
    {
      "cell_type": "code",
      "metadata": {
        "button": false,
        "deletable": true,
        "new_sheet": false,
        "run_control": {
          "read_only": false
        },
        "id": "BJ6s1kHs_BHT"
      },
      "source": [
        "itera = reader.ptb_iterator(train_data, batch_size, num_steps)\n",
        "first_touple = itera.__next__()\n",
        "_input_data = first_touple[0]\n",
        "_targets = first_touple[1]"
      ],
      "execution_count": 10,
      "outputs": []
    },
    {
      "cell_type": "code",
      "metadata": {
        "button": false,
        "deletable": true,
        "new_sheet": false,
        "run_control": {
          "read_only": false
        },
        "colab": {
          "base_uri": "https://localhost:8080/"
        },
        "id": "L7Fz8vFQ_BHT",
        "outputId": "f183e7f5-a985-4e6a-d75d-53fc891f1c26"
      },
      "source": [
        "_input_data.shape"
      ],
      "execution_count": 11,
      "outputs": [
        {
          "output_type": "execute_result",
          "data": {
            "text/plain": [
              "(30, 20)"
            ]
          },
          "metadata": {
            "tags": []
          },
          "execution_count": 11
        }
      ]
    },
    {
      "cell_type": "code",
      "metadata": {
        "colab": {
          "base_uri": "https://localhost:8080/"
        },
        "id": "9CRYebv1_BHT",
        "outputId": "9b659df5-d3d7-4715-90c6-9f48e93d9c55"
      },
      "source": [
        "_targets.shape"
      ],
      "execution_count": 12,
      "outputs": [
        {
          "output_type": "execute_result",
          "data": {
            "text/plain": [
              "(30, 20)"
            ]
          },
          "metadata": {
            "tags": []
          },
          "execution_count": 12
        }
      ]
    },
    {
      "cell_type": "markdown",
      "metadata": {
        "button": false,
        "deletable": true,
        "new_sheet": false,
        "run_control": {
          "read_only": false
        },
        "id": "DIc0jyyD_BHU"
      },
      "source": [
        "Lets look at 3 sentences of our input x:\n"
      ]
    },
    {
      "cell_type": "code",
      "metadata": {
        "button": false,
        "deletable": true,
        "new_sheet": false,
        "run_control": {
          "read_only": false
        },
        "colab": {
          "base_uri": "https://localhost:8080/"
        },
        "id": "zgJG9ZA5_BHU",
        "outputId": "128c53b5-8a67-4810-eddd-96c8e346bcc4"
      },
      "source": [
        "_input_data[0:3]"
      ],
      "execution_count": 13,
      "outputs": [
        {
          "output_type": "execute_result",
          "data": {
            "text/plain": [
              "array([[9970, 9971, 9972, 9974, 9975, 9976, 9980, 9981, 9982, 9983, 9984,\n",
              "        9986, 9987, 9988, 9989, 9991, 9992, 9993, 9994, 9995],\n",
              "       [2654,    6,  334, 2886,    4,    1,  233,  711,  834,   11,  130,\n",
              "         123,    7,  514,    2,   63,   10,  514,    8,  605],\n",
              "       [   0, 1071,    4,    0,  185,   24,  368,   20,   31, 3109,  954,\n",
              "          12,    3,   21,    2, 2915,    2,   12,    3,   21]],\n",
              "      dtype=int32)"
            ]
          },
          "metadata": {
            "tags": []
          },
          "execution_count": 13
        }
      ]
    },
    {
      "cell_type": "code",
      "metadata": {
        "colab": {
          "base_uri": "https://localhost:8080/"
        },
        "id": "fUGRQOfQ_BHU",
        "outputId": "ea8e5fb7-a718-4523-c87a-3af7e363983b"
      },
      "source": [
        "print(id_to_word(_input_data[0,:]))"
      ],
      "execution_count": 14,
      "outputs": [
        {
          "output_type": "stream",
          "text": [
            "['aer', 'banknote', 'berlitz', 'calloway', 'centrust', 'cluett', 'fromstein', 'gitano', 'guterman', 'hydro-quebec', 'ipo', 'kia', 'memotec', 'mlx', 'nahb', 'punts', 'rake', 'regatta', 'rubens', 'sim']\n"
          ],
          "name": "stdout"
        }
      ]
    },
    {
      "cell_type": "markdown",
      "metadata": {
        "button": false,
        "deletable": true,
        "new_sheet": false,
        "run_control": {
          "read_only": false
        },
        "id": "3cOsDleN_BHV"
      },
      "source": [
        "<h3>Embeddings</h3>\n",
        "We have to convert the words in our dataset to vectors of numbers. The traditional approach is to use one-hot encoding method that is usually used for converting categorical values to numerical values. However, One-hot encoded vectors are high-dimensional, sparse and in a big dataset, computationally inefficient. So, we use word2vec approach. It is, in fact, a layer in our LSTM network, where the word IDs will be represented as a dense representation before feeding to the LSTM. \n",
        "\n",
        "The embedded vectors also get updated during the training process of the deep neural network.\n",
        "We create the embeddings for our input data. <b>embedding_vocab</b> is matrix of [10000x200] for all 10000 unique words.\n"
      ]
    },
    {
      "cell_type": "markdown",
      "metadata": {
        "button": false,
        "deletable": true,
        "new_sheet": false,
        "run_control": {
          "read_only": false
        },
        "id": "5o2SdQYX_BHV"
      },
      "source": [
        "<b>embedding_lookup()</b> finds the embedded values for our batch of 30x20 words. It  goes to each row of <code>input_data</code>, and for each word in the row/sentence, finds the correspond vector in <code>embedding_dic<code>. <br>\n",
        "It creates a [30x20x200] tensor, so, the first element of <b>inputs</b> (the first sentence), is a matrix of 20x200, which each row of it, is vector representing a word in the sentence.\n"
      ]
    },
    {
      "cell_type": "code",
      "metadata": {
        "id": "KRLpCYHS_BHW"
      },
      "source": [
        "embedding_layer = tf.keras.layers.Embedding(vocab_size, embeding_vector_size,batch_input_shape=(batch_size, num_steps),trainable=True,name=\"embedding_vocab\")  "
      ],
      "execution_count": 15,
      "outputs": []
    },
    {
      "cell_type": "code",
      "metadata": {
        "colab": {
          "base_uri": "https://localhost:8080/"
        },
        "id": "CLchVHye_BHW",
        "outputId": "11c59df8-ce81-4db6-c608-8eb3db70f7bc"
      },
      "source": [
        "# Define where to get the data for our embeddings from\n",
        "inputs = embedding_layer(_input_data)\n",
        "inputs"
      ],
      "execution_count": 16,
      "outputs": [
        {
          "output_type": "execute_result",
          "data": {
            "text/plain": [
              "<tf.Tensor: shape=(30, 20, 200), dtype=float32, numpy=\n",
              "array([[[-2.49938611e-02, -1.60031430e-02,  4.10450436e-02, ...,\n",
              "          3.64363678e-02, -8.31804425e-03,  9.14838165e-03],\n",
              "        [-9.09094885e-03,  4.11237739e-02,  1.39884464e-02, ...,\n",
              "         -4.14294228e-02, -2.07353476e-02, -1.62703879e-02],\n",
              "        [ 4.30905260e-02, -1.37948282e-02,  1.48133300e-02, ...,\n",
              "         -6.22916967e-04, -1.41546950e-02, -2.96015032e-02],\n",
              "        ...,\n",
              "        [-2.51237396e-02,  3.22398879e-02, -1.08888149e-02, ...,\n",
              "         -3.13174501e-02, -4.56315055e-02, -3.21438462e-02],\n",
              "        [-1.00035779e-02, -1.54701956e-02,  1.85880549e-02, ...,\n",
              "         -4.70135361e-03,  1.01950988e-02,  6.48437813e-03],\n",
              "        [ 1.48636959e-02,  5.11461496e-03,  2.23366171e-03, ...,\n",
              "          9.11243260e-05,  2.21668519e-02,  3.78902890e-02]],\n",
              "\n",
              "       [[-1.72477961e-03,  7.29294866e-03,  7.28076696e-03, ...,\n",
              "         -1.32578127e-02,  2.08112486e-02,  2.71168388e-02],\n",
              "        [-3.50720175e-02,  1.26929320e-02,  1.13277920e-02, ...,\n",
              "          1.79185010e-02,  2.43397020e-02, -3.26132327e-02],\n",
              "        [-1.37987509e-02,  2.13160850e-02,  1.10935792e-02, ...,\n",
              "         -1.91808231e-02, -2.92615537e-02,  2.06107609e-02],\n",
              "        ...,\n",
              "        [-4.17029038e-02, -2.82801315e-03,  1.52337216e-02, ...,\n",
              "          3.43628637e-02,  4.26477306e-02, -1.79913752e-02],\n",
              "        [ 2.38908567e-02, -2.88623460e-02,  5.37658855e-03, ...,\n",
              "         -8.30375031e-03,  2.53663547e-02, -2.99104583e-02],\n",
              "        [-1.76904798e-02,  4.37420122e-02, -2.14324351e-02, ...,\n",
              "          2.30459683e-02,  1.94101073e-02, -2.53750011e-03]],\n",
              "\n",
              "       [[ 1.77024119e-02, -3.86338122e-02, -4.29687276e-02, ...,\n",
              "         -1.89698935e-02,  4.78780158e-02,  1.97642334e-02],\n",
              "        [-4.27246578e-02,  2.28814818e-02,  3.84610891e-03, ...,\n",
              "         -4.44955491e-02,  4.87812050e-02, -1.39666572e-02],\n",
              "        [ 1.39421225e-03, -2.53110062e-02,  1.97023489e-02, ...,\n",
              "          3.70837934e-02,  3.95363458e-02, -2.71512996e-02],\n",
              "        ...,\n",
              "        [ 2.69882716e-02, -4.13111672e-02,  7.58497790e-03, ...,\n",
              "         -2.72448659e-02, -1.71364918e-02, -6.60182163e-03],\n",
              "        [ 3.12634148e-02, -4.21098359e-02,  4.48968075e-02, ...,\n",
              "         -7.85265118e-03, -1.50333531e-02,  1.23899207e-02],\n",
              "        [-3.31579931e-02, -2.55677700e-02,  3.47993635e-02, ...,\n",
              "         -4.37747240e-02, -8.24043900e-03, -1.14763267e-02]],\n",
              "\n",
              "       ...,\n",
              "\n",
              "       [[-4.48690169e-02, -4.25006859e-02,  4.73723747e-02, ...,\n",
              "         -4.80867513e-02, -4.58712503e-03,  1.30673088e-02],\n",
              "        [ 3.87943499e-02,  3.41697782e-03, -3.96207795e-02, ...,\n",
              "          1.91457383e-02,  4.52739634e-02,  4.62731384e-02],\n",
              "        [-3.12921777e-02,  7.37775117e-04,  2.69219019e-02, ...,\n",
              "          1.75051801e-02,  3.55752744e-02,  4.81853001e-02],\n",
              "        ...,\n",
              "        [ 3.90745439e-02,  1.39915608e-02, -3.82958651e-02, ...,\n",
              "          2.72184610e-03, -3.45155373e-02, -3.07587869e-02],\n",
              "        [ 4.22923304e-02,  1.49717443e-02,  3.06857340e-02, ...,\n",
              "         -3.09978854e-02,  2.48833038e-02,  1.90276243e-02],\n",
              "        [ 6.23395294e-03,  3.72320153e-02,  4.10011075e-02, ...,\n",
              "          2.43724324e-02, -4.38958183e-02,  7.43591785e-03]],\n",
              "\n",
              "       [[-5.15063852e-03,  2.39204243e-03, -6.52650744e-03, ...,\n",
              "          4.66854610e-02, -4.20402773e-02, -2.18885783e-02],\n",
              "        [-1.41250379e-02, -1.84634216e-02, -1.69336908e-02, ...,\n",
              "         -3.08646802e-02, -4.89828736e-03, -2.09058169e-02],\n",
              "        [ 1.39421225e-03, -2.53110062e-02,  1.97023489e-02, ...,\n",
              "          3.70837934e-02,  3.95363458e-02, -2.71512996e-02],\n",
              "        ...,\n",
              "        [ 7.98742846e-03, -1.44562870e-03, -3.09453011e-02, ...,\n",
              "          4.58208434e-02, -4.91105802e-02, -1.25204325e-02],\n",
              "        [-3.50720175e-02,  1.26929320e-02,  1.13277920e-02, ...,\n",
              "          1.79185010e-02,  2.43397020e-02, -3.26132327e-02],\n",
              "        [-1.30133703e-03,  3.88562568e-02, -4.79235426e-02, ...,\n",
              "         -3.70041952e-02,  9.46176052e-03, -4.40589301e-02]],\n",
              "\n",
              "       [[ 3.03325318e-02, -1.99571978e-02,  6.61609322e-03, ...,\n",
              "         -4.42375317e-02,  3.35092284e-02, -4.34346087e-02],\n",
              "        [-5.20322472e-03,  2.66031735e-02,  3.57079618e-02, ...,\n",
              "          2.52322815e-02,  4.54743542e-02, -2.62666829e-02],\n",
              "        [ 7.26836920e-03,  3.87903303e-03,  4.76842001e-03, ...,\n",
              "         -3.45940702e-02, -4.28852327e-02,  4.73834574e-04],\n",
              "        ...,\n",
              "        [ 3.86640467e-02,  1.05769038e-02,  1.17930770e-02, ...,\n",
              "         -2.00284254e-02,  4.85161282e-02, -2.11039782e-02],\n",
              "        [-2.07204465e-02,  8.73078033e-03,  2.19898298e-03, ...,\n",
              "         -4.87091057e-02,  2.09087469e-02, -3.72190699e-02],\n",
              "        [-1.05258711e-02, -4.74457517e-02, -1.67526230e-02, ...,\n",
              "          4.60317396e-02, -3.39345708e-02,  8.50697607e-03]]],\n",
              "      dtype=float32)>"
            ]
          },
          "metadata": {
            "tags": []
          },
          "execution_count": 16
        }
      ]
    },
    {
      "cell_type": "markdown",
      "metadata": {
        "id": "C12Bq2Yx_BHX"
      },
      "source": [
        "<h3>Constructing Recurrent Neural Networks</h3>\n"
      ]
    },
    {
      "cell_type": "markdown",
      "metadata": {
        "button": false,
        "deletable": true,
        "new_sheet": false,
        "run_control": {
          "read_only": false
        },
        "id": "iyn4peNN_BHX"
      },
      "source": [
        "In this step, we create the stacked LSTM using <b>tf.keras.layers.StackedRNNCells</b>, which is a 2 layer LSTM network:\n"
      ]
    },
    {
      "cell_type": "code",
      "metadata": {
        "id": "3GM86b5q_BHY"
      },
      "source": [
        "lstm_cell_l1 = tf.keras.layers.LSTMCell(hidden_size_l1)\n",
        "lstm_cell_l2 = tf.keras.layers.LSTMCell(hidden_size_l2)"
      ],
      "execution_count": 17,
      "outputs": []
    },
    {
      "cell_type": "code",
      "metadata": {
        "button": false,
        "deletable": true,
        "new_sheet": false,
        "run_control": {
          "read_only": false
        },
        "id": "-_igGFXm_BHY"
      },
      "source": [
        "stacked_lstm = tf.keras.layers.StackedRNNCells([lstm_cell_l1, lstm_cell_l2])"
      ],
      "execution_count": 18,
      "outputs": []
    },
    {
      "cell_type": "markdown",
      "metadata": {
        "id": "Kow7GBOc_BHY"
      },
      "source": [
        "<b>tf.keras.layers.RNN</b> creates a recurrent neural network using <b>stacked_lstm</b>. \n",
        "\n",
        "The input should be a Tensor of shape: [batch_size, max_time, embedding_vector_size], in our case it would be (30, 20, 200)\n"
      ]
    },
    {
      "cell_type": "code",
      "metadata": {
        "id": "u3BH1vZc_BHZ"
      },
      "source": [
        "layer  =  tf.keras.layers.RNN(stacked_lstm,[batch_size, num_steps],return_state=False,stateful=True,trainable=True)"
      ],
      "execution_count": 19,
      "outputs": []
    },
    {
      "cell_type": "markdown",
      "metadata": {
        "button": false,
        "deletable": true,
        "new_sheet": false,
        "run_control": {
          "read_only": false
        },
        "id": "BgRJgnJh_BHZ"
      },
      "source": [
        "Also, we initialize the states of the nework:\n",
        "\n",
        "<h4>_initial_state</h4>\n",
        "\n",
        "For each LSTM, there are 2 state matrices, c_state and m_state.  c_state and m_state represent \"Memory State\" and \"Cell State\". Each hidden layer, has a vector of size 30, which keeps the states. so, for 200 hidden units in each LSTM, we have a matrix of size [30x200]\n"
      ]
    },
    {
      "cell_type": "code",
      "metadata": {
        "id": "-wDbNj1Z_BHZ"
      },
      "source": [
        "init_state = tf.Variable(tf.zeros([batch_size,embeding_vector_size]),trainable=False)"
      ],
      "execution_count": 20,
      "outputs": []
    },
    {
      "cell_type": "code",
      "metadata": {
        "id": "iolFPpGs_BHZ"
      },
      "source": [
        "layer.inital_state = init_state"
      ],
      "execution_count": 21,
      "outputs": []
    },
    {
      "cell_type": "code",
      "metadata": {
        "colab": {
          "base_uri": "https://localhost:8080/"
        },
        "id": "rqvs-Cw2_BHa",
        "outputId": "e0ddf637-4c03-43c2-a0dd-b29a33454a4c"
      },
      "source": [
        "layer.inital_state"
      ],
      "execution_count": 22,
      "outputs": [
        {
          "output_type": "execute_result",
          "data": {
            "text/plain": [
              "<tf.Variable 'Variable:0' shape=(30, 200) dtype=float32, numpy=\n",
              "array([[0., 0., 0., ..., 0., 0., 0.],\n",
              "       [0., 0., 0., ..., 0., 0., 0.],\n",
              "       [0., 0., 0., ..., 0., 0., 0.],\n",
              "       ...,\n",
              "       [0., 0., 0., ..., 0., 0., 0.],\n",
              "       [0., 0., 0., ..., 0., 0., 0.],\n",
              "       [0., 0., 0., ..., 0., 0., 0.]], dtype=float32)>"
            ]
          },
          "metadata": {
            "tags": []
          },
          "execution_count": 22
        }
      ]
    },
    {
      "cell_type": "markdown",
      "metadata": {
        "id": "lM3j666s_BHa"
      },
      "source": [
        "so, lets look at the outputs. The output of the stackedLSTM comes from 128 hidden_layer, and in each time step(=20), one of them get activated. we use the linear activation to map the 128 hidden layer to a [30X20 matrix]\n"
      ]
    },
    {
      "cell_type": "code",
      "metadata": {
        "id": "NJvNPqKj_BHb"
      },
      "source": [
        "outputs = layer(inputs)"
      ],
      "execution_count": 23,
      "outputs": []
    },
    {
      "cell_type": "code",
      "metadata": {
        "colab": {
          "base_uri": "https://localhost:8080/"
        },
        "id": "Axoqwrw6_BHb",
        "outputId": "4b20fad8-8594-4988-8d65-bf43306692b4"
      },
      "source": [
        "outputs"
      ],
      "execution_count": 24,
      "outputs": [
        {
          "output_type": "execute_result",
          "data": {
            "text/plain": [
              "<tf.Tensor: shape=(30, 20, 128), dtype=float32, numpy=\n",
              "array([[[-1.2275125e-05, -2.6202004e-03, -3.1001319e-04, ...,\n",
              "         -9.4889569e-05, -2.5028014e-04, -1.4397096e-03],\n",
              "        [ 6.5262098e-04, -3.4616345e-03,  1.0041682e-03, ...,\n",
              "          1.3140312e-03, -3.7187021e-04, -9.2613039e-04],\n",
              "        [-4.3557052e-04, -3.0124320e-03,  2.1137805e-03, ...,\n",
              "          1.7833358e-03, -4.1995245e-05, -1.1197516e-03],\n",
              "        ...,\n",
              "        [-1.0308583e-03, -6.5767826e-03, -6.6921073e-03, ...,\n",
              "          4.7755409e-03, -8.2501359e-03,  4.5595258e-03],\n",
              "        [-4.2294004e-04, -4.5839935e-03, -7.6086363e-03, ...,\n",
              "          6.7793676e-03, -7.9119150e-03,  3.1990637e-03],\n",
              "        [ 2.2388976e-04, -4.3272199e-03, -8.3687752e-03, ...,\n",
              "          7.5762328e-03, -7.2127669e-03,  1.9529866e-03]],\n",
              "\n",
              "       [[-3.1878459e-05, -1.8908537e-03, -3.0963146e-04, ...,\n",
              "          5.4013639e-05, -9.4876945e-04,  2.8850755e-04],\n",
              "        [-5.5421621e-04, -1.9899136e-03, -7.6371618e-04, ...,\n",
              "          6.8184594e-04, -1.8904239e-03,  1.1014820e-03],\n",
              "        [-4.3852031e-04, -1.3037436e-03, -2.9148224e-03, ...,\n",
              "          2.2664946e-03, -2.8113357e-03,  6.0556602e-04],\n",
              "        ...,\n",
              "        [-3.6837980e-03,  5.5548348e-03, -3.9661666e-03, ...,\n",
              "         -5.2101415e-04,  4.9669803e-03,  8.0084084e-03],\n",
              "        [-2.7842899e-03,  3.6323275e-03, -5.7867770e-03, ...,\n",
              "         -1.3618096e-03,  4.5171129e-03,  7.6815756e-03],\n",
              "        [-3.7041008e-03,  1.7572330e-04, -6.2525175e-03, ...,\n",
              "         -1.9137365e-03,  4.2534508e-03,  7.3240357e-03]],\n",
              "\n",
              "       [[-9.5734571e-04, -6.8695174e-04, -2.4250608e-05, ...,\n",
              "         -1.2345678e-04, -1.1001172e-03, -1.4711777e-03],\n",
              "        [-2.7244114e-03,  8.5369445e-04,  1.4616909e-03, ...,\n",
              "          1.3045968e-03, -1.7472089e-03, -3.1182973e-03],\n",
              "        [-3.8988367e-03,  3.5062425e-03,  4.2583226e-04, ...,\n",
              "          1.5762848e-03, -3.6217449e-03, -3.9496594e-03],\n",
              "        ...,\n",
              "        [-1.8882288e-03,  6.0824831e-03,  2.9102492e-03, ...,\n",
              "         -1.0612763e-03,  8.8085840e-04, -5.4833083e-03],\n",
              "        [-9.3814742e-04,  7.6217847e-03,  2.8673359e-03, ...,\n",
              "         -1.6583907e-03,  1.8369847e-03, -6.6369171e-03],\n",
              "        [ 5.0037733e-04,  6.5152012e-03,  3.9027960e-03, ...,\n",
              "         -1.8800356e-03,  1.8621000e-03, -6.6916742e-03]],\n",
              "\n",
              "       ...,\n",
              "\n",
              "       [[-7.4777915e-04, -1.8153891e-03, -2.6042404e-04, ...,\n",
              "         -1.7121247e-03,  8.3317026e-04,  5.6683138e-04],\n",
              "        [-1.6652250e-03, -1.2949622e-03, -5.9346826e-04, ...,\n",
              "         -2.4233737e-03,  1.7982711e-04,  8.9938170e-05],\n",
              "        [-1.6334193e-03, -1.4282558e-03, -2.3161748e-03, ...,\n",
              "         -4.0978529e-03, -1.0802380e-03, -6.9398095e-04],\n",
              "        ...,\n",
              "        [ 1.8902360e-03,  8.2952296e-04,  5.6129461e-04, ...,\n",
              "          2.9997192e-03,  4.3149386e-03, -2.4030679e-03],\n",
              "        [ 1.5606044e-03,  1.3706997e-03, -6.6891831e-04, ...,\n",
              "          2.1204592e-03,  5.0905985e-03, -1.9847539e-03],\n",
              "        [ 3.2610588e-03,  1.3552415e-03, -3.0098713e-03, ...,\n",
              "          1.1335475e-03,  4.1373270e-03, -2.4693655e-03]],\n",
              "\n",
              "       [[ 4.0265784e-04, -6.4701358e-05, -5.0776108e-04, ...,\n",
              "          3.9789424e-04, -1.1038620e-03, -1.2623047e-03],\n",
              "        [-6.0750404e-04,  4.7857515e-04, -2.2416415e-03, ...,\n",
              "          1.2819192e-03, -1.1583392e-03, -1.3596328e-03],\n",
              "        [-1.2114246e-03,  2.6734392e-03, -4.8059528e-03, ...,\n",
              "          2.0461120e-03, -2.6966487e-03, -1.8182565e-03],\n",
              "        ...,\n",
              "        [ 4.9945358e-03,  5.5192770e-03,  3.5103376e-03, ...,\n",
              "          1.1337651e-03,  2.7722344e-03,  3.2654335e-03],\n",
              "        [ 4.5817760e-03,  6.0706846e-03,  5.0985375e-03, ...,\n",
              "          1.5955154e-03,  1.9915602e-03,  3.6600598e-03],\n",
              "        [ 3.2862059e-03,  5.5744858e-03,  6.7577558e-03, ...,\n",
              "          1.3275215e-03, -9.7928947e-05,  2.6512691e-03]],\n",
              "\n",
              "       [[-6.3305088e-05, -1.0299569e-03, -6.9031370e-04, ...,\n",
              "          5.0523835e-05,  3.4555121e-04, -3.2287804e-04],\n",
              "        [-3.9365837e-05, -1.1414668e-03, -7.7211100e-04, ...,\n",
              "         -2.8800286e-04,  1.4056821e-03,  2.2151790e-04],\n",
              "        [ 1.0842193e-04, -3.8826908e-04,  3.1843063e-04, ...,\n",
              "          1.0258885e-03,  2.5005487e-03,  4.2850181e-04],\n",
              "        ...,\n",
              "        [ 1.8060352e-03, -2.6396558e-05, -3.1952157e-03, ...,\n",
              "          2.9317739e-03,  7.2417293e-05,  2.7962154e-04],\n",
              "        [ 3.1037526e-03,  1.9536687e-04, -2.3398169e-03, ...,\n",
              "          5.8437637e-03, -9.3022303e-04, -9.7612101e-05],\n",
              "        [ 3.9668311e-03, -2.1876208e-04, -2.4665752e-03, ...,\n",
              "          7.2803185e-03, -1.5212304e-03,  3.2705010e-04]]], dtype=float32)>"
            ]
          },
          "metadata": {
            "tags": []
          },
          "execution_count": 24
        }
      ]
    },
    {
      "cell_type": "markdown",
      "metadata": {
        "button": false,
        "deletable": true,
        "new_sheet": false,
        "run_control": {
          "read_only": false
        },
        "id": "jaWem9fA_BHc"
      },
      "source": [
        "<h2>Dense layer</h2>\n",
        "We now create densely-connected neural network layer that would reshape the outputs tensor from  [30 x 20 x 128] to [30 x 20 x 10000].\n"
      ]
    },
    {
      "cell_type": "code",
      "metadata": {
        "id": "MDTIiB17_BHd"
      },
      "source": [
        "dense = tf.keras.layers.Dense(vocab_size)"
      ],
      "execution_count": 25,
      "outputs": []
    },
    {
      "cell_type": "code",
      "metadata": {
        "id": "QlNDS8Sy_BHd"
      },
      "source": [
        "logits_outputs  = dense(outputs)"
      ],
      "execution_count": 26,
      "outputs": []
    },
    {
      "cell_type": "code",
      "metadata": {
        "colab": {
          "base_uri": "https://localhost:8080/"
        },
        "id": "HG8qMoA8_BHe",
        "outputId": "05cdf516-e604-404d-a3ac-e97eb9af95d9"
      },
      "source": [
        "print(\"shape of the output from dense layer: \", logits_outputs.shape) #(batch_size, sequence_length, vocab_size)"
      ],
      "execution_count": 27,
      "outputs": [
        {
          "output_type": "stream",
          "text": [
            "shape of the output from dense layer:  (30, 20, 10000)\n"
          ],
          "name": "stdout"
        }
      ]
    },
    {
      "cell_type": "markdown",
      "metadata": {
        "id": "u5wxhrV6_BHe"
      },
      "source": [
        "<h2>Activation layer</h2>\n",
        "\n",
        "A softmax activation layers is also then applied to derive the probability of the output being in any of the multiclass(10000 in this case) possibilities. \n"
      ]
    },
    {
      "cell_type": "code",
      "metadata": {
        "id": "L2zV3xe4_BHf"
      },
      "source": [
        "activation = tf.keras.layers.Activation('softmax')"
      ],
      "execution_count": 28,
      "outputs": []
    },
    {
      "cell_type": "code",
      "metadata": {
        "id": "6pfGL1Qx_BHf"
      },
      "source": [
        "output_words_prob = activation(logits_outputs)"
      ],
      "execution_count": 29,
      "outputs": []
    },
    {
      "cell_type": "code",
      "metadata": {
        "colab": {
          "base_uri": "https://localhost:8080/"
        },
        "id": "XCKf1su4_BHf",
        "outputId": "6f7b0d8c-34b8-4d6d-fd1e-5979fd1960e3"
      },
      "source": [
        "print(\"shape of the output from the activation layer: \", output_words_prob.shape) #(batch_size, sequence_length, vocab_size)"
      ],
      "execution_count": 30,
      "outputs": [
        {
          "output_type": "stream",
          "text": [
            "shape of the output from the activation layer:  (30, 20, 10000)\n"
          ],
          "name": "stdout"
        }
      ]
    },
    {
      "cell_type": "markdown",
      "metadata": {
        "id": "WjTu-XBp_BHg"
      },
      "source": [
        "Lets look at the probability of observing words for t=0 to t=20:\n"
      ]
    },
    {
      "cell_type": "code",
      "metadata": {
        "colab": {
          "base_uri": "https://localhost:8080/"
        },
        "id": "3l_ObmGw_BHg",
        "outputId": "2bb1f542-029e-4512-ea29-94fe458deaee"
      },
      "source": [
        "print(\"The probability of observing words in t=0 to t=20\", output_words_prob[0,0:num_steps])"
      ],
      "execution_count": 31,
      "outputs": [
        {
          "output_type": "stream",
          "text": [
            "The probability of observing words in t=0 to t=20 tf.Tensor(\n",
            "[[9.99836848e-05 9.99836484e-05 9.99990443e-05 ... 9.99986005e-05\n",
            "  9.99892800e-05 9.99733966e-05]\n",
            " [9.99915210e-05 9.99800104e-05 1.00014346e-04 ... 9.99926779e-05\n",
            "  9.99724871e-05 9.99514887e-05]\n",
            " [9.99953409e-05 9.99808253e-05 1.00014717e-04 ... 1.00000601e-04\n",
            "  9.99598415e-05 9.99215918e-05]\n",
            " ...\n",
            " [9.99215408e-05 1.00034806e-04 1.00122001e-04 ... 9.99265249e-05\n",
            "  9.99670956e-05 9.99017648e-05]\n",
            " [9.99070253e-05 1.00050798e-04 1.00096593e-04 ... 9.99295298e-05\n",
            "  9.99840995e-05 9.99376425e-05]\n",
            " [9.98915784e-05 1.00073434e-04 1.00075435e-04 ... 9.99365802e-05\n",
            "  1.00013756e-04 9.99736658e-05]], shape=(20, 10000), dtype=float32)\n"
          ],
          "name": "stdout"
        }
      ]
    },
    {
      "cell_type": "markdown",
      "metadata": {
        "button": false,
        "deletable": true,
        "new_sheet": false,
        "run_control": {
          "read_only": false
        },
        "id": "kvb6ATDX_BHi"
      },
      "source": [
        "<h3>Prediction</h3>\n",
        "What is the word correspond to the probability output? Lets use the maximum probability:\n"
      ]
    },
    {
      "cell_type": "code",
      "metadata": {
        "colab": {
          "base_uri": "https://localhost:8080/"
        },
        "id": "Zzr_sENQ_BHi",
        "outputId": "ec41b2b2-60fb-4227-841a-61a5327d30db"
      },
      "source": [
        "np.argmax(output_words_prob[0,0:num_steps], axis=1)"
      ],
      "execution_count": 32,
      "outputs": [
        {
          "output_type": "execute_result",
          "data": {
            "text/plain": [
              "array([4739, 3418, 3674, 4548, 4548, 1913, 4813, 4813, 4756, 8260, 4567,\n",
              "       4567, 4567, 3825, 1177, 8432, 8432, 8432, 1002, 1002])"
            ]
          },
          "metadata": {
            "tags": []
          },
          "execution_count": 32
        }
      ]
    },
    {
      "cell_type": "markdown",
      "metadata": {
        "button": false,
        "deletable": true,
        "new_sheet": false,
        "run_control": {
          "read_only": false
        },
        "id": "ommuzEMS_BHj"
      },
      "source": [
        "So, what is the ground truth for the first word of first sentence? You can get it from target tensor, if you want to find the embedding vector: \n"
      ]
    },
    {
      "cell_type": "code",
      "metadata": {
        "button": false,
        "deletable": true,
        "new_sheet": false,
        "run_control": {
          "read_only": false
        },
        "colab": {
          "base_uri": "https://localhost:8080/"
        },
        "id": "am5XhmEy_BHk",
        "outputId": "76904b48-fb27-41c9-be63-d39336d37b0f"
      },
      "source": [
        "_targets[0]"
      ],
      "execution_count": 33,
      "outputs": [
        {
          "output_type": "execute_result",
          "data": {
            "text/plain": [
              "array([9971, 9972, 9974, 9975, 9976, 9980, 9981, 9982, 9983, 9984, 9986,\n",
              "       9987, 9988, 9989, 9991, 9992, 9993, 9994, 9995, 9996], dtype=int32)"
            ]
          },
          "metadata": {
            "tags": []
          },
          "execution_count": 33
        }
      ]
    },
    {
      "cell_type": "markdown",
      "metadata": {
        "button": false,
        "new_sheet": false,
        "run_control": {
          "read_only": false
        },
        "id": "WU7lUsoI_BHk"
      },
      "source": [
        "<h4>Objective function</h4>\n",
        "\n",
        "How similar the predicted words are to the target words?\n",
        "\n",
        "Now we have to define our objective function, to calculate the similarity of predicted values to ground truth, and then, penalize the model with the error. Our objective is to minimize loss function, that is, to minimize the average negative log probability of the target words:\n",
        "\n",
        "$$\\text{loss} = -\\frac{1}{N}\\sum_{i=1}^{N} \\ln p_{\\text{target}_i}$$\n",
        "\n",
        "This function is already implemented and available in TensorFlow through _tf.keras.losses.sparse_categorical_crossentropy_. It calculates the categorical cross-entropy loss for <b>logits</b> and the <b>target</b> sequence.  \n",
        "\n",
        "The arguments of this function are:  \n",
        "\n",
        "<ul>\n",
        "    <li>logits: List of 2D Tensors of shape [batch_size x num_decoder_symbols].</li>  \n",
        "    <li>targets: List of 1D batch-sized int32 Tensors of the same length as logits.</li>   \n",
        "</ul>\n"
      ]
    },
    {
      "cell_type": "code",
      "metadata": {
        "id": "GTu6Gmvl_BHl"
      },
      "source": [
        "def crossentropy(y_true, y_pred):\n",
        "    return tf.keras.losses.sparse_categorical_crossentropy(y_true, y_pred)"
      ],
      "execution_count": 34,
      "outputs": []
    },
    {
      "cell_type": "code",
      "metadata": {
        "id": "XrpPc4Dn_BHl"
      },
      "source": [
        "loss  = crossentropy(_targets, output_words_prob)"
      ],
      "execution_count": 35,
      "outputs": []
    },
    {
      "cell_type": "markdown",
      "metadata": {
        "button": false,
        "new_sheet": false,
        "run_control": {
          "read_only": false
        },
        "id": "qwK57NdN_BHl"
      },
      "source": [
        "Lets look at the first 10 values of loss:\n"
      ]
    },
    {
      "cell_type": "code",
      "metadata": {
        "colab": {
          "base_uri": "https://localhost:8080/"
        },
        "id": "BtHUYsfO_BHn",
        "outputId": "77e8b6f6-b71d-41b9-85db-1d9885daf235"
      },
      "source": [
        "loss[0,:10]"
      ],
      "execution_count": 36,
      "outputs": [
        {
          "output_type": "execute_result",
          "data": {
            "text/plain": [
              "<tf.Tensor: shape=(10,), dtype=float32, numpy=\n",
              "array([9.210333, 9.210345, 9.21099 , 9.210247, 9.209978, 9.209975,\n",
              "       9.210583, 9.210074, 9.210193, 9.210828], dtype=float32)>"
            ]
          },
          "metadata": {
            "tags": []
          },
          "execution_count": 36
        }
      ]
    },
    {
      "cell_type": "markdown",
      "metadata": {
        "id": "Bn2dPQK0_BHn"
      },
      "source": [
        "Now, we define cost as average of the losses:\n"
      ]
    },
    {
      "cell_type": "code",
      "metadata": {
        "colab": {
          "base_uri": "https://localhost:8080/"
        },
        "id": "G-VgJ1Lc_BHn",
        "outputId": "49b6e846-b536-426b-b8c9-94ea7abbe385"
      },
      "source": [
        "cost = tf.reduce_sum(loss / batch_size)\n",
        "cost"
      ],
      "execution_count": 37,
      "outputs": [
        {
          "output_type": "execute_result",
          "data": {
            "text/plain": [
              "<tf.Tensor: shape=(), dtype=float32, numpy=184.20715>"
            ]
          },
          "metadata": {
            "tags": []
          },
          "execution_count": 37
        }
      ]
    },
    {
      "cell_type": "markdown",
      "metadata": {
        "button": false,
        "deletable": true,
        "new_sheet": false,
        "run_control": {
          "read_only": false
        },
        "id": "Vd3HexKV_BHo"
      },
      "source": [
        "<h3>Training</h3>\n",
        "\n",
        "To do training for our network, we have to take the following steps:\n",
        "\n",
        "<ol>\n",
        "    <li>Define the optimizer.</li>\n",
        "    <li>Assemble layers to build model.</li>\n",
        "    <li>Calculate the gradients based on the loss function.</li>\n",
        "    <li>Apply the optimizer to the variables/gradients tuple.</li>\n",
        "</ol>\n"
      ]
    },
    {
      "cell_type": "markdown",
      "metadata": {
        "button": false,
        "deletable": true,
        "new_sheet": false,
        "run_control": {
          "read_only": false
        },
        "id": "BuzKEUob_BHo"
      },
      "source": [
        "<h4>1. Define Optimizer</h4>\n"
      ]
    },
    {
      "cell_type": "code",
      "metadata": {
        "id": "Gbohw70f_BHp"
      },
      "source": [
        "# Create a variable for the learning rate\n",
        "lr = tf.Variable(0.0, trainable=False)\n",
        "optimizer = tf.keras.optimizers.SGD(lr=lr, clipnorm=max_grad_norm)"
      ],
      "execution_count": 38,
      "outputs": []
    },
    {
      "cell_type": "markdown",
      "metadata": {
        "id": "prR_A85K_BHp"
      },
      "source": [
        "<h4>2. Assemble layers to build model.</h4>\n"
      ]
    },
    {
      "cell_type": "code",
      "metadata": {
        "colab": {
          "base_uri": "https://localhost:8080/"
        },
        "id": "XSyY0Vtt_BHp",
        "outputId": "1a602d70-b1a4-44ee-cd30-ff72dbc0dcca"
      },
      "source": [
        "model = tf.keras.Sequential()\n",
        "model.add(embedding_layer)\n",
        "model.add(layer)\n",
        "model.add(dense)\n",
        "model.add(activation)\n",
        "model.compile(loss=crossentropy, optimizer=optimizer)\n",
        "model.summary()"
      ],
      "execution_count": 39,
      "outputs": [
        {
          "output_type": "stream",
          "text": [
            "Model: \"sequential\"\n",
            "_________________________________________________________________\n",
            "Layer (type)                 Output Shape              Param #   \n",
            "=================================================================\n",
            "embedding_vocab (Embedding)  (30, 20, 200)             2000000   \n",
            "_________________________________________________________________\n",
            "rnn (RNN)                    (30, 20, 128)             671088    \n",
            "_________________________________________________________________\n",
            "dense (Dense)                (30, 20, 10000)           1290000   \n",
            "_________________________________________________________________\n",
            "activation (Activation)      (30, 20, 10000)           0         \n",
            "=================================================================\n",
            "Total params: 3,961,088\n",
            "Trainable params: 3,955,088\n",
            "Non-trainable params: 6,000\n",
            "_________________________________________________________________\n"
          ],
          "name": "stdout"
        }
      ]
    },
    {
      "cell_type": "markdown",
      "metadata": {
        "button": false,
        "new_sheet": false,
        "run_control": {
          "read_only": false
        },
        "id": "lQvurg5s_BHp"
      },
      "source": [
        "<h4>2. Trainable Variables</h4>\n"
      ]
    },
    {
      "cell_type": "markdown",
      "metadata": {
        "button": false,
        "new_sheet": false,
        "run_control": {
          "read_only": false
        },
        "id": "KvQl8_Os_BHq"
      },
      "source": [
        "Defining a variable, if you passed <i>trainable=True</i>, the variable constructor automatically adds new variables to the graph collection <b>GraphKeys.TRAINABLE_VARIABLES</b>. Now, using <i>tf.trainable_variables()</i> you can get all variables created with <b>trainable=True</b>.\n"
      ]
    },
    {
      "cell_type": "code",
      "metadata": {
        "button": false,
        "new_sheet": false,
        "run_control": {
          "read_only": false
        },
        "id": "rswVRkft_BHq"
      },
      "source": [
        "# Get all TensorFlow variables marked as \"trainable\" (i.e. all of them except _lr, which we just created)\n",
        "tvars = model.trainable_variables"
      ],
      "execution_count": 40,
      "outputs": []
    },
    {
      "cell_type": "markdown",
      "metadata": {
        "button": false,
        "new_sheet": false,
        "run_control": {
          "read_only": false
        },
        "id": "Zkvk0chU_BHq"
      },
      "source": [
        "Note: we can find the name and scope of all variables:\n"
      ]
    },
    {
      "cell_type": "code",
      "metadata": {
        "button": false,
        "new_sheet": false,
        "run_control": {
          "read_only": false
        },
        "colab": {
          "base_uri": "https://localhost:8080/"
        },
        "id": "GL5Pw09j_BHr",
        "outputId": "c00e18a2-2a7a-4837-9587-c40e5ba439bc"
      },
      "source": [
        "[v.name for v in tvars] "
      ],
      "execution_count": 41,
      "outputs": [
        {
          "output_type": "execute_result",
          "data": {
            "text/plain": [
              "['embedding_vocab/embeddings:0',\n",
              " 'rnn/stacked_rnn_cells/lstm_cell/kernel:0',\n",
              " 'rnn/stacked_rnn_cells/lstm_cell/recurrent_kernel:0',\n",
              " 'rnn/stacked_rnn_cells/lstm_cell/bias:0',\n",
              " 'rnn/stacked_rnn_cells/lstm_cell_1/kernel:0',\n",
              " 'rnn/stacked_rnn_cells/lstm_cell_1/recurrent_kernel:0',\n",
              " 'rnn/stacked_rnn_cells/lstm_cell_1/bias:0',\n",
              " 'dense/kernel:0',\n",
              " 'dense/bias:0']"
            ]
          },
          "metadata": {
            "tags": []
          },
          "execution_count": 41
        }
      ]
    },
    {
      "cell_type": "markdown",
      "metadata": {
        "button": false,
        "new_sheet": false,
        "run_control": {
          "read_only": false
        },
        "id": "v2wA0GSL_BHr"
      },
      "source": [
        "<h4>3. Calculate the gradients based on the loss function</h4>\n"
      ]
    },
    {
      "cell_type": "markdown",
      "metadata": {
        "button": false,
        "deletable": true,
        "new_sheet": false,
        "run_control": {
          "read_only": false
        },
        "id": "jLxf1TeM_BHr"
      },
      "source": [
        "**Gradient**: The gradient of a function is the slope of its derivative (line), or in other words, the rate of change of a function. It's a vector (a direction to move) that points in the direction of greatest increase of the function, and calculated by the <b>derivative</b> operation.\n"
      ]
    },
    {
      "cell_type": "markdown",
      "metadata": {
        "id": "08nUD8qw_BHs"
      },
      "source": [
        "First lets recall the gradient function using an toy example:\n",
        "$$ z = \\left(2x^2 + 3xy\\right)$$\n"
      ]
    },
    {
      "cell_type": "code",
      "metadata": {
        "id": "rhMchrhT_BHs"
      },
      "source": [
        "x = tf.constant(1.0)\n",
        "y =  tf.constant(2.0)\n",
        "with tf.GradientTape(persistent=True) as g:\n",
        "    g.watch(x)\n",
        "    g.watch(y)\n",
        "    func_test = 2 * x * x + 3 * x * y"
      ],
      "execution_count": 42,
      "outputs": []
    },
    {
      "cell_type": "markdown",
      "metadata": {
        "id": "CVr9mKtZ_BHs"
      },
      "source": [
        "The <b>tf.gradients()</b> function allows you to compute the symbolic gradient of one tensor with respect to one or more other tensors—including variables. <b>tf.gradients(func, xs)</b> constructs symbolic partial derivatives of sum of <b>func</b> w.r.t. <i>x</i> in <b>xs</b>. \n",
        "\n",
        "Now, lets look at the derivitive w.r.t. <b>var_x</b>:\n",
        "$$ \\frac{\\partial \\:}{\\partial \\:x}\\left(2x^2 + 3xy\\right) = 4x + 3y $$\n"
      ]
    },
    {
      "cell_type": "code",
      "metadata": {
        "colab": {
          "base_uri": "https://localhost:8080/"
        },
        "id": "2jes1gds_BHt",
        "outputId": "58e78ec9-1c66-4b50-8700-56eb782eb172"
      },
      "source": [
        "var_grad = g.gradient(func_test, x) # Will compute to 10.0\n",
        "print(var_grad)"
      ],
      "execution_count": 43,
      "outputs": [
        {
          "output_type": "stream",
          "text": [
            "tf.Tensor(10.0, shape=(), dtype=float32)\n"
          ],
          "name": "stdout"
        }
      ]
    },
    {
      "cell_type": "markdown",
      "metadata": {
        "id": "SMI9spko_BHt"
      },
      "source": [
        "the derivative w.r.t. <b>var_y</b>:\n",
        "$$ \\frac{\\partial \\:}{\\partial \\:y}\\left(2x^2 + 3xy\\right) = 3x $$\n"
      ]
    },
    {
      "cell_type": "code",
      "metadata": {
        "colab": {
          "base_uri": "https://localhost:8080/"
        },
        "id": "9H_MfHSq_BHt",
        "outputId": "c456ac13-3f44-4f1f-a0a8-9cac363d8ab9"
      },
      "source": [
        "var_grad = g.gradient(func_test, y) # Will compute to 3.0\n",
        "print(var_grad)"
      ],
      "execution_count": 44,
      "outputs": [
        {
          "output_type": "stream",
          "text": [
            "tf.Tensor(3.0, shape=(), dtype=float32)\n"
          ],
          "name": "stdout"
        }
      ]
    },
    {
      "cell_type": "markdown",
      "metadata": {
        "id": "qEYAQ0BT_BHu"
      },
      "source": [
        "Now, we can look at gradients w.r.t all variables:\n"
      ]
    },
    {
      "cell_type": "code",
      "metadata": {
        "id": "nfCa1CWQ_BHu"
      },
      "source": [
        "with tf.GradientTape() as tape:\n",
        "    # Forward pass.\n",
        "    output_words_prob = model(_input_data)\n",
        "    # Loss value for this batch.\n",
        "    loss  = crossentropy(_targets, output_words_prob)\n",
        "    cost = tf.reduce_sum(loss,axis=0) / batch_size"
      ],
      "execution_count": 45,
      "outputs": []
    },
    {
      "cell_type": "code",
      "metadata": {
        "id": "4PTE22TT_BHu"
      },
      "source": [
        "# Get gradients of loss wrt the trainable variables.\n",
        "grad_t_list = tape.gradient(cost, tvars)"
      ],
      "execution_count": 46,
      "outputs": []
    },
    {
      "cell_type": "code",
      "metadata": {
        "colab": {
          "base_uri": "https://localhost:8080/"
        },
        "id": "wO4IEZEM_BHu",
        "outputId": "5ab5890d-3e90-4450-c7f3-b55e14b2156c"
      },
      "source": [
        "print(grad_t_list)"
      ],
      "execution_count": 47,
      "outputs": [
        {
          "output_type": "stream",
          "text": [
            "[<tensorflow.python.framework.indexed_slices.IndexedSlices object at 0x7f9c23f28190>, <tf.Tensor: shape=(200, 1024), dtype=float32, numpy=\n",
            "array([[-1.3803771e-07, -1.3331705e-06,  7.4838891e-07, ...,\n",
            "         4.6875701e-07, -1.6449175e-07,  3.0229086e-07],\n",
            "       [ 1.8871532e-07, -5.6967110e-08, -7.6375727e-07, ...,\n",
            "        -1.7457614e-07,  4.4602189e-09,  6.5112016e-07],\n",
            "       [ 5.4943393e-07, -1.0136986e-06, -8.9639974e-07, ...,\n",
            "         1.1073713e-07,  3.0282894e-07,  5.3986150e-07],\n",
            "       ...,\n",
            "       [-6.8431780e-07,  8.7599858e-07,  9.1539471e-07, ...,\n",
            "        -2.4283011e-07,  6.1896600e-08, -2.8742519e-07],\n",
            "       [ 7.4441976e-07, -1.1632537e-06, -2.0419448e-06, ...,\n",
            "        -1.6112969e-07,  9.3515986e-09,  6.3843402e-08],\n",
            "       [-1.4633594e-07,  9.0342547e-07,  1.4470461e-07, ...,\n",
            "         4.0720715e-07, -1.8778812e-07,  6.2267702e-10]], dtype=float32)>, <tf.Tensor: shape=(256, 1024), dtype=float32, numpy=\n",
            "array([[ 1.3061890e-07, -5.0208005e-08,  1.2983676e-09, ...,\n",
            "         9.1101171e-08, -4.5512515e-08, -1.4551568e-07],\n",
            "       [-7.1139588e-08, -3.5198099e-07,  2.8812938e-08, ...,\n",
            "        -1.4466075e-08, -8.3501796e-08, -2.6159049e-07],\n",
            "       [ 5.5731405e-08, -4.5051172e-07,  2.7171705e-08, ...,\n",
            "        -2.4558602e-08, -1.3928075e-08, -9.4461825e-08],\n",
            "       ...,\n",
            "       [-2.9696707e-09, -1.1456463e-07, -1.5783371e-07, ...,\n",
            "         3.2784106e-07, -9.0274668e-09, -1.1489181e-08],\n",
            "       [ 5.0527092e-08, -7.4245179e-08, -2.9453169e-08, ...,\n",
            "        -8.9966036e-08,  2.3377794e-07, -7.9548435e-08],\n",
            "       [ 6.6012575e-08,  2.2585769e-07, -1.2427927e-07, ...,\n",
            "         3.5262236e-08,  2.7180889e-09,  6.6764079e-07]], dtype=float32)>, <tf.Tensor: shape=(1024,), dtype=float32, numpy=\n",
            "array([ 3.5170901e-06, -4.8198712e-05, -3.0306383e-06, ...,\n",
            "        5.9202248e-06,  3.1929596e-06, -1.7196464e-05], dtype=float32)>, <tf.Tensor: shape=(256, 512), dtype=float32, numpy=\n",
            "array([[-7.7721104e-08,  5.3298816e-08, -5.3379132e-08, ...,\n",
            "        -2.6943235e-07, -5.4176901e-08, -1.5697773e-07],\n",
            "       [ 4.1098339e-08, -9.2604026e-08, -2.7837370e-07, ...,\n",
            "        -2.6580304e-07, -1.8467482e-08, -2.5563031e-07],\n",
            "       [ 5.2076924e-08,  2.3085647e-08, -2.8700708e-07, ...,\n",
            "        -4.0653271e-07,  1.0895951e-07, -1.2244658e-07],\n",
            "       ...,\n",
            "       [ 1.7273894e-07,  4.6601599e-08,  6.0122012e-08, ...,\n",
            "         3.4125495e-07, -1.2879920e-07, -2.3621871e-07],\n",
            "       [ 1.5210396e-08, -8.3780684e-08, -1.5067721e-07, ...,\n",
            "        -6.4934085e-09, -8.1286231e-09,  8.8860119e-08],\n",
            "       [-1.5054944e-07,  7.1137343e-08,  1.8051614e-07, ...,\n",
            "        -9.4130975e-08, -7.3254306e-08, -1.9714037e-08]], dtype=float32)>, <tf.Tensor: shape=(128, 512), dtype=float32, numpy=\n",
            "array([[-2.12514180e-07,  2.60226845e-08, -5.50432766e-08, ...,\n",
            "        -1.43996061e-07,  1.68333870e-07,  4.53001725e-08],\n",
            "       [-1.04164776e-07,  2.85368955e-08, -7.04374585e-08, ...,\n",
            "        -1.54591731e-07, -4.75368935e-08, -1.21127854e-07],\n",
            "       [-4.56479121e-08, -1.05413378e-07,  1.14696633e-07, ...,\n",
            "         2.31171740e-07, -7.41597859e-08, -1.14522905e-07],\n",
            "       ...,\n",
            "       [-9.41648679e-08, -1.08168194e-08, -1.37356636e-07, ...,\n",
            "        -4.72206580e-07,  8.66350121e-08,  6.63792221e-09],\n",
            "       [-8.89306406e-10, -1.88514662e-08,  3.80936562e-08, ...,\n",
            "         2.46613411e-07, -2.01251623e-07, -7.62612729e-09],\n",
            "       [-8.19193033e-08, -2.73953731e-08, -8.96317118e-08, ...,\n",
            "        -6.68734046e-08, -1.40515112e-07,  1.37941484e-07]], dtype=float32)>, <tf.Tensor: shape=(512,), dtype=float32, numpy=\n",
            "array([-7.95955111e-06,  2.00612230e-05, -2.06234727e-05, -3.45565168e-05,\n",
            "        4.24601385e-05,  3.88305270e-05,  1.84328201e-07,  1.69863779e-05,\n",
            "        3.41995037e-05,  2.48175202e-05, -7.88332363e-06, -4.13850466e-05,\n",
            "       -3.57884674e-05,  3.87323917e-06, -3.63587242e-05,  1.65350557e-05,\n",
            "       -1.92942025e-06, -4.72032916e-05,  6.79295863e-06, -2.54648385e-05,\n",
            "       -5.17654444e-05,  3.84667546e-05, -2.86876311e-05,  1.68107563e-05,\n",
            "       -1.73616772e-05,  5.63126632e-05, -2.89706695e-05, -5.43741817e-06,\n",
            "       -2.79966080e-05, -1.01823407e-05,  1.66372265e-05, -9.40760401e-06,\n",
            "        5.37431515e-06,  2.84636317e-05, -4.19664320e-05,  1.65481906e-05,\n",
            "       -6.39372447e-05, -3.62798028e-06, -7.74984801e-05,  1.91194031e-05,\n",
            "        1.81528467e-05,  5.71372475e-05,  4.88479927e-05,  3.37539313e-05,\n",
            "       -4.53544744e-05, -9.52621485e-06,  3.67415259e-06, -2.88755518e-06,\n",
            "        1.37863128e-04,  2.14765787e-05, -3.08662056e-05, -8.26893847e-06,\n",
            "       -7.68730661e-06,  5.46982628e-05, -2.72263533e-05, -4.64229634e-05,\n",
            "       -2.50057856e-05,  2.49419863e-05,  3.71596434e-05,  1.84012406e-05,\n",
            "       -2.46397012e-05,  6.12993899e-05, -2.93665435e-05,  1.72159162e-05,\n",
            "        5.62477871e-05,  2.22707204e-05, -1.86476991e-05,  4.73487817e-05,\n",
            "        2.41508678e-06, -6.72908300e-06,  1.37913612e-05,  2.31730155e-05,\n",
            "       -2.84187536e-05, -3.36413796e-05,  2.46600102e-05, -9.14398261e-05,\n",
            "       -5.01584873e-06,  1.50277037e-05, -1.06167019e-04,  1.62610231e-05,\n",
            "        5.68664291e-05,  2.69829088e-05,  2.88949141e-05,  4.19731841e-05,\n",
            "       -7.37780792e-05, -1.03427501e-05, -1.92891712e-05, -3.32344825e-06,\n",
            "        5.22891241e-05,  4.49566251e-05,  4.13200905e-05, -6.23098686e-06,\n",
            "        1.45434024e-05, -3.44832515e-05, -2.83636073e-05,  4.61378622e-05,\n",
            "        1.14859131e-05, -1.37855659e-05, -5.82972789e-05,  9.35921416e-05,\n",
            "       -6.77173593e-05,  2.86656687e-05,  1.23557853e-04, -1.65912679e-05,\n",
            "       -2.31280301e-05, -2.79700998e-07,  3.01875616e-06, -1.50173037e-05,\n",
            "       -3.02030276e-05,  3.60659214e-05,  4.53723396e-06,  7.78845788e-09,\n",
            "       -1.42113386e-05,  1.69135592e-06, -1.63097611e-05, -8.44168062e-06,\n",
            "       -1.58188504e-05,  4.33109562e-07,  1.44599635e-05, -1.64386074e-05,\n",
            "        1.89737439e-05,  7.39484040e-06, -1.76727644e-06,  2.19544127e-05,\n",
            "       -1.12952694e-06, -6.72784590e-05,  1.73095668e-05, -2.03185627e-05,\n",
            "       -4.96861958e-06,  5.45691682e-06, -1.71585980e-05, -4.05722603e-05,\n",
            "        5.57013518e-05,  4.75549168e-05,  2.09501031e-05,  3.54378244e-07,\n",
            "        2.64466289e-05,  1.35671899e-05, -2.21725204e-05, -7.96787645e-05,\n",
            "       -5.75195299e-05,  2.44018302e-05, -4.94472260e-05,  1.01744117e-05,\n",
            "       -4.59983494e-06, -3.76574826e-05,  6.44490228e-06, -1.51663389e-05,\n",
            "       -5.50566037e-05,  4.22243866e-05, -3.98574557e-05, -2.99756630e-06,\n",
            "       -2.04517801e-05,  5.83751971e-05, -2.97376428e-05, -3.10560699e-06,\n",
            "       -4.04682251e-05, -1.24258895e-05,  3.46747947e-05,  6.93178663e-07,\n",
            "        1.22282145e-05,  6.20420906e-05, -6.33256714e-05,  3.37878373e-05,\n",
            "       -8.86768539e-05, -2.08081256e-05, -7.12650508e-05,  3.66722597e-05,\n",
            "        2.08086767e-05,  7.67899401e-05,  5.19884052e-05,  5.13115010e-05,\n",
            "       -5.84455775e-05, -2.64352366e-05,  5.48387288e-06,  1.81757878e-06,\n",
            "        1.89051963e-04,  3.04339119e-05, -9.61670685e-06, -1.86745074e-05,\n",
            "       -2.19977846e-06,  7.94193766e-05, -3.15669604e-05, -4.81323332e-05,\n",
            "       -2.96552935e-05,  1.15612238e-05,  4.89760205e-05,  2.21656373e-05,\n",
            "       -4.58848663e-05,  8.29797646e-05, -3.71319475e-05,  2.16915141e-05,\n",
            "        5.86188653e-05,  3.37589445e-05, -4.20612778e-05,  1.01662939e-04,\n",
            "        2.43280756e-05, -2.52827085e-05, -8.46154944e-06,  3.91885806e-05,\n",
            "       -6.19219209e-05, -6.32649899e-05,  3.73946568e-05, -1.33504858e-04,\n",
            "        3.95148800e-06,  2.97488896e-06, -1.76956382e-04,  4.57686619e-05,\n",
            "        3.24674475e-05,  4.87766119e-05,  1.08178338e-05,  8.13934821e-05,\n",
            "       -9.14506963e-05, -2.71391109e-05, -3.94277449e-05, -9.60823854e-07,\n",
            "        8.57950945e-05,  6.71281232e-05,  5.57653366e-05, -1.69108989e-05,\n",
            "       -4.32236811e-06,  4.67795871e-07, -9.85184761e-06,  6.36482437e-05,\n",
            "        5.04546006e-06, -1.88348458e-05, -6.25247994e-05,  8.32846636e-05,\n",
            "       -1.00646692e-04,  5.33503226e-05,  1.31812674e-04, -1.87793976e-05,\n",
            "       -7.44410645e-05, -2.07273006e-05, -7.23217909e-07,  9.74302020e-06,\n",
            "       -6.79585937e-05,  1.44052283e-05,  2.54377883e-05, -2.05807737e-06,\n",
            "       -3.38551581e-05, -1.07071291e-05, -1.53015826e-05, -2.03402396e-06,\n",
            "       -1.49161770e-05,  1.16527290e-05, -1.57622571e-06, -3.73641233e-05,\n",
            "        2.42656115e-05, -1.14326485e-06, -5.95317306e-06,  1.33081057e-05,\n",
            "        2.38980519e-05, -6.57388009e-05,  3.67592293e-05, -3.36664489e-05,\n",
            "       -1.59933493e-02, -1.61103555e-03,  2.50181742e-02, -7.69692194e-03,\n",
            "        4.04481702e-02, -5.15761748e-02,  3.90418340e-03,  1.94963682e-02,\n",
            "        1.62497237e-02,  2.08369223e-03,  1.32624777e-02, -1.73789114e-02,\n",
            "        3.66166420e-02, -1.11220367e-02,  3.23573686e-02,  1.00007281e-04,\n",
            "        1.56849390e-03, -1.38421971e-02,  9.71486513e-03,  2.98675131e-02,\n",
            "        6.73386827e-02,  6.60127029e-02,  2.60849614e-02, -5.80069749e-03,\n",
            "        9.69560118e-04,  2.56147664e-02, -1.43718384e-02,  3.16181630e-02,\n",
            "        1.38539746e-02, -2.86260489e-02,  7.08660763e-03, -7.33601954e-03,\n",
            "        1.89519413e-02,  9.88769904e-03,  2.94870101e-02, -7.88974343e-04,\n",
            "       -3.54792774e-02, -3.56526673e-03, -3.17632891e-02,  4.32581604e-02,\n",
            "        5.50937746e-03, -7.43981265e-03,  4.19031084e-02, -5.25311334e-03,\n",
            "       -4.74367291e-02, -2.28002891e-02,  1.77698322e-02,  6.59974990e-03,\n",
            "       -7.24058151e-02, -4.22043353e-02, -2.95708384e-02, -2.44731619e-03,\n",
            "        1.20811444e-02,  6.11142814e-02, -6.80036284e-03, -2.62630321e-02,\n",
            "        1.12363221e-02,  2.29901262e-02,  1.69443712e-02, -2.71496288e-02,\n",
            "       -1.80025790e-02,  1.09805614e-02, -2.39927657e-02, -1.98102146e-02,\n",
            "        1.02406880e-02,  1.85262486e-02,  3.15710790e-02, -5.77517301e-02,\n",
            "        2.79847104e-02, -1.40900034e-02,  2.79508922e-02, -6.94191176e-03,\n",
            "        1.77531987e-02, -4.13602293e-02,  2.21036933e-02,  4.13525775e-02,\n",
            "        1.34386998e-02,  2.17565000e-02,  6.12337813e-02,  3.91089208e-02,\n",
            "       -4.92180651e-03, -4.44032438e-02, -2.03408320e-02,  2.13535093e-02,\n",
            "       -4.51945253e-02, -1.37833916e-02,  3.70373875e-02,  3.52044813e-02,\n",
            "       -2.35096365e-03,  5.71846738e-02, -1.68075580e-02,  5.24802133e-03,\n",
            "        1.66000873e-02,  7.33579043e-04, -2.09181756e-02,  3.57595533e-02,\n",
            "       -1.10313762e-02,  4.02091593e-02,  4.25134823e-02,  2.34154649e-02,\n",
            "       -3.02813407e-02,  1.86480433e-02,  3.88438255e-02, -3.74344960e-02,\n",
            "        1.64605007e-02,  4.83954977e-03, -1.13554569e-02, -3.18988934e-02,\n",
            "        2.34114602e-02,  2.72870734e-02, -3.32468338e-02, -1.77164301e-02,\n",
            "       -3.31901163e-02,  3.40243280e-02,  4.44103312e-03, -5.38897794e-03,\n",
            "        1.49786267e-02, -3.05632083e-03, -3.68037145e-03, -1.78871918e-02,\n",
            "        1.44335506e-02, -4.75616287e-03,  1.26798805e-02,  4.30878717e-03,\n",
            "        6.47745281e-03, -3.72022130e-02, -1.58329401e-02,  1.35471895e-02,\n",
            "       -7.06634228e-06,  1.70161329e-05, -3.00742049e-05, -2.61230489e-05,\n",
            "        4.63934557e-05,  3.98936936e-05,  2.10214239e-06,  2.09479404e-05,\n",
            "        4.20209290e-05,  2.25250005e-05, -9.77524724e-06, -5.08621015e-05,\n",
            "       -4.29172069e-05,  1.24751787e-05, -3.52103016e-05,  1.84596465e-05,\n",
            "       -1.35877053e-06, -5.28184100e-05,  2.35220978e-06, -2.01795938e-05,\n",
            "       -4.87989273e-05,  3.94567069e-05, -3.47474233e-05,  1.05146164e-05,\n",
            "       -1.68995230e-05,  6.19404163e-05, -2.65931048e-05, -1.75499281e-05,\n",
            "       -2.99854182e-05, -5.47514446e-06,  2.86134618e-05, -1.10337769e-05,\n",
            "        1.66559330e-05,  3.56890596e-05, -4.62137868e-05,  2.30170190e-05,\n",
            "       -6.60031001e-05, -1.49670450e-06, -8.42825175e-05,  2.22415092e-05,\n",
            "        1.52324728e-05,  6.05580863e-05,  5.25910291e-05,  3.56112323e-05,\n",
            "       -4.21061850e-05, -7.68294831e-06,  5.34209994e-06,  7.09305732e-06,\n",
            "        1.66133337e-04,  2.75371240e-05, -3.77729048e-05, -1.66191585e-05,\n",
            "        3.67981556e-07,  6.92189496e-05, -2.93951089e-05, -4.77337162e-05,\n",
            "       -2.62641406e-05,  2.47895478e-05,  4.51711639e-05,  1.95036064e-05,\n",
            "       -3.57703393e-05,  8.09294870e-05, -3.04488385e-05,  1.40011180e-05,\n",
            "        6.68352004e-05,  2.27753808e-05, -1.11833688e-05,  6.62893144e-05,\n",
            "        1.17184263e-05, -9.93715366e-06,  9.77931086e-06,  2.24468822e-05,\n",
            "       -3.71229835e-05, -4.79676237e-05,  2.80496060e-05, -1.14357863e-04,\n",
            "       -7.58050237e-06,  1.24892758e-05, -1.33607857e-04,  2.05004762e-05,\n",
            "        6.73371978e-05,  3.22489941e-05,  2.36875130e-05,  4.94524102e-05,\n",
            "       -8.19789711e-05, -2.35650150e-05, -1.79687377e-05, -7.77136574e-06,\n",
            "        6.24343011e-05,  4.62324606e-05,  4.95160675e-05, -1.05787449e-05,\n",
            "        1.14399108e-05, -3.77939141e-05, -2.96443868e-05,  4.69510815e-05,\n",
            "        6.77159369e-06, -6.57490727e-06, -5.59279724e-05,  9.12392206e-05,\n",
            "       -7.60547409e-05,  3.60535923e-05,  1.40377815e-04, -1.99428941e-05,\n",
            "       -4.28461863e-05,  2.15323416e-06,  6.69494375e-06,  4.12770646e-07,\n",
            "       -2.55560699e-05,  4.27567284e-05,  1.04107412e-05, -1.66177051e-06,\n",
            "       -1.38056475e-05, -9.07811682e-07, -1.74665256e-05,  2.80653694e-06,\n",
            "       -2.61294772e-05,  3.80829078e-06,  7.40101814e-06, -1.94714194e-05,\n",
            "        2.43916893e-05,  1.56566130e-05, -1.00276884e-06,  2.40515692e-05,\n",
            "       -5.50494951e-06, -7.53735367e-05,  2.75377679e-05, -2.54720508e-05],\n",
            "      dtype=float32)>, <tf.Tensor: shape=(128, 10000), dtype=float32, numpy=\n",
            "array([[ 3.7463469e-04,  1.1300792e-03, -1.3788468e-03, ...,\n",
            "         1.4216098e-06,  1.4171967e-06,  1.4193030e-06],\n",
            "       [-3.9643474e-04, -9.4947906e-04, -1.1720069e-03, ...,\n",
            "         1.8078722e-06,  1.8073702e-06,  1.8071730e-06],\n",
            "       [ 1.3011490e-03,  2.2333674e-04,  1.0030129e-03, ...,\n",
            "        -3.2224143e-06, -3.2213579e-06, -3.2219984e-06],\n",
            "       ...,\n",
            "       [ 1.8408938e-04, -2.8091157e-04, -1.9472191e-03, ...,\n",
            "         2.5950121e-06,  2.5930985e-06,  2.5940285e-06],\n",
            "       [ 1.6113016e-04,  9.3555206e-04,  3.3837155e-04, ...,\n",
            "        -1.5453724e-06, -1.5451188e-06, -1.5469685e-06],\n",
            "       [-2.3677773e-04, -7.6462596e-04,  1.5763054e-04, ...,\n",
            "        -7.1886762e-07, -7.1799894e-07, -7.1823695e-07]], dtype=float32)>, <tf.Tensor: shape=(10000,), dtype=float32, numpy=\n",
            "array([-0.797998  , -1.0313315 , -1.0313317 , ...,  0.00199984,\n",
            "        0.00199957,  0.00199975], dtype=float32)>]\n"
          ],
          "name": "stdout"
        }
      ]
    },
    {
      "cell_type": "markdown",
      "metadata": {
        "button": false,
        "new_sheet": false,
        "run_control": {
          "read_only": false
        },
        "id": "q1l4-LnC_BHv"
      },
      "source": [
        "now, we have a list of tensors, t-list. We can use it to find clipped tensors. <b>clip_by_global_norm</b> clips values of multiple tensors by the ratio of the sum of their norms.\n",
        "\n",
        "<b>clip_by_global_norm</b> get <i>t-list</i> as input and returns 2 things:\n",
        "\n",
        "<ul>\n",
        "    <li>a list of clipped tensors, so called <i>list_clipped</i></li> \n",
        "    <li>the global norm (global_norm) of all tensors in t_list</li> \n",
        "</ul>\n"
      ]
    },
    {
      "cell_type": "code",
      "metadata": {
        "colab": {
          "base_uri": "https://localhost:8080/"
        },
        "id": "3AwHpjfA_BHv",
        "outputId": "ac64101c-afcd-4112-aa0a-6634d9fdba0c"
      },
      "source": [
        "# Define the gradient clipping threshold\n",
        "grads, _ = tf.clip_by_global_norm(grad_t_list, max_grad_norm)\n",
        "grads"
      ],
      "execution_count": 48,
      "outputs": [
        {
          "output_type": "execute_result",
          "data": {
            "text/plain": [
              "[<tensorflow.python.framework.indexed_slices.IndexedSlices at 0x7f9c23f5dfd0>,\n",
              " <tf.Tensor: shape=(200, 1024), dtype=float32, numpy=\n",
              " array([[-1.3803771e-07, -1.3331705e-06,  7.4838891e-07, ...,\n",
              "          4.6875701e-07, -1.6449175e-07,  3.0229086e-07],\n",
              "        [ 1.8871532e-07, -5.6967110e-08, -7.6375727e-07, ...,\n",
              "         -1.7457614e-07,  4.4602189e-09,  6.5112016e-07],\n",
              "        [ 5.4943393e-07, -1.0136986e-06, -8.9639974e-07, ...,\n",
              "          1.1073713e-07,  3.0282894e-07,  5.3986150e-07],\n",
              "        ...,\n",
              "        [-6.8431780e-07,  8.7599858e-07,  9.1539471e-07, ...,\n",
              "         -2.4283011e-07,  6.1896600e-08, -2.8742519e-07],\n",
              "        [ 7.4441976e-07, -1.1632537e-06, -2.0419448e-06, ...,\n",
              "         -1.6112969e-07,  9.3515986e-09,  6.3843402e-08],\n",
              "        [-1.4633594e-07,  9.0342547e-07,  1.4470461e-07, ...,\n",
              "          4.0720715e-07, -1.8778812e-07,  6.2267702e-10]], dtype=float32)>,\n",
              " <tf.Tensor: shape=(256, 1024), dtype=float32, numpy=\n",
              " array([[ 1.3061890e-07, -5.0208005e-08,  1.2983676e-09, ...,\n",
              "          9.1101171e-08, -4.5512515e-08, -1.4551568e-07],\n",
              "        [-7.1139588e-08, -3.5198099e-07,  2.8812938e-08, ...,\n",
              "         -1.4466075e-08, -8.3501796e-08, -2.6159049e-07],\n",
              "        [ 5.5731405e-08, -4.5051172e-07,  2.7171705e-08, ...,\n",
              "         -2.4558602e-08, -1.3928075e-08, -9.4461825e-08],\n",
              "        ...,\n",
              "        [-2.9696707e-09, -1.1456463e-07, -1.5783371e-07, ...,\n",
              "          3.2784106e-07, -9.0274668e-09, -1.1489181e-08],\n",
              "        [ 5.0527092e-08, -7.4245179e-08, -2.9453169e-08, ...,\n",
              "         -8.9966036e-08,  2.3377794e-07, -7.9548435e-08],\n",
              "        [ 6.6012575e-08,  2.2585769e-07, -1.2427927e-07, ...,\n",
              "          3.5262236e-08,  2.7180889e-09,  6.6764079e-07]], dtype=float32)>,\n",
              " <tf.Tensor: shape=(1024,), dtype=float32, numpy=\n",
              " array([ 3.5170901e-06, -4.8198712e-05, -3.0306383e-06, ...,\n",
              "         5.9202248e-06,  3.1929596e-06, -1.7196464e-05], dtype=float32)>,\n",
              " <tf.Tensor: shape=(256, 512), dtype=float32, numpy=\n",
              " array([[-7.7721104e-08,  5.3298816e-08, -5.3379132e-08, ...,\n",
              "         -2.6943235e-07, -5.4176901e-08, -1.5697773e-07],\n",
              "        [ 4.1098339e-08, -9.2604026e-08, -2.7837370e-07, ...,\n",
              "         -2.6580304e-07, -1.8467482e-08, -2.5563031e-07],\n",
              "        [ 5.2076924e-08,  2.3085647e-08, -2.8700708e-07, ...,\n",
              "         -4.0653271e-07,  1.0895951e-07, -1.2244658e-07],\n",
              "        ...,\n",
              "        [ 1.7273894e-07,  4.6601599e-08,  6.0122012e-08, ...,\n",
              "          3.4125495e-07, -1.2879920e-07, -2.3621871e-07],\n",
              "        [ 1.5210396e-08, -8.3780684e-08, -1.5067721e-07, ...,\n",
              "         -6.4934085e-09, -8.1286231e-09,  8.8860119e-08],\n",
              "        [-1.5054944e-07,  7.1137343e-08,  1.8051614e-07, ...,\n",
              "         -9.4130975e-08, -7.3254306e-08, -1.9714037e-08]], dtype=float32)>,\n",
              " <tf.Tensor: shape=(128, 512), dtype=float32, numpy=\n",
              " array([[-2.12514180e-07,  2.60226845e-08, -5.50432766e-08, ...,\n",
              "         -1.43996061e-07,  1.68333870e-07,  4.53001725e-08],\n",
              "        [-1.04164776e-07,  2.85368955e-08, -7.04374585e-08, ...,\n",
              "         -1.54591731e-07, -4.75368935e-08, -1.21127854e-07],\n",
              "        [-4.56479121e-08, -1.05413378e-07,  1.14696633e-07, ...,\n",
              "          2.31171740e-07, -7.41597859e-08, -1.14522905e-07],\n",
              "        ...,\n",
              "        [-9.41648679e-08, -1.08168194e-08, -1.37356636e-07, ...,\n",
              "         -4.72206580e-07,  8.66350121e-08,  6.63792221e-09],\n",
              "        [-8.89306406e-10, -1.88514662e-08,  3.80936562e-08, ...,\n",
              "          2.46613411e-07, -2.01251623e-07, -7.62612729e-09],\n",
              "        [-8.19193033e-08, -2.73953731e-08, -8.96317118e-08, ...,\n",
              "         -6.68734046e-08, -1.40515112e-07,  1.37941484e-07]], dtype=float32)>,\n",
              " <tf.Tensor: shape=(512,), dtype=float32, numpy=\n",
              " array([-7.95955111e-06,  2.00612230e-05, -2.06234727e-05, -3.45565168e-05,\n",
              "         4.24601385e-05,  3.88305270e-05,  1.84328201e-07,  1.69863779e-05,\n",
              "         3.41995037e-05,  2.48175202e-05, -7.88332363e-06, -4.13850466e-05,\n",
              "        -3.57884674e-05,  3.87323917e-06, -3.63587242e-05,  1.65350557e-05,\n",
              "        -1.92942025e-06, -4.72032916e-05,  6.79295863e-06, -2.54648385e-05,\n",
              "        -5.17654444e-05,  3.84667546e-05, -2.86876311e-05,  1.68107563e-05,\n",
              "        -1.73616772e-05,  5.63126632e-05, -2.89706695e-05, -5.43741817e-06,\n",
              "        -2.79966080e-05, -1.01823407e-05,  1.66372265e-05, -9.40760401e-06,\n",
              "         5.37431515e-06,  2.84636317e-05, -4.19664320e-05,  1.65481906e-05,\n",
              "        -6.39372447e-05, -3.62798028e-06, -7.74984801e-05,  1.91194031e-05,\n",
              "         1.81528467e-05,  5.71372475e-05,  4.88479927e-05,  3.37539313e-05,\n",
              "        -4.53544744e-05, -9.52621485e-06,  3.67415259e-06, -2.88755518e-06,\n",
              "         1.37863128e-04,  2.14765787e-05, -3.08662056e-05, -8.26893847e-06,\n",
              "        -7.68730661e-06,  5.46982628e-05, -2.72263533e-05, -4.64229634e-05,\n",
              "        -2.50057856e-05,  2.49419863e-05,  3.71596434e-05,  1.84012406e-05,\n",
              "        -2.46397012e-05,  6.12993899e-05, -2.93665435e-05,  1.72159162e-05,\n",
              "         5.62477871e-05,  2.22707204e-05, -1.86476991e-05,  4.73487817e-05,\n",
              "         2.41508678e-06, -6.72908300e-06,  1.37913612e-05,  2.31730155e-05,\n",
              "        -2.84187536e-05, -3.36413796e-05,  2.46600102e-05, -9.14398261e-05,\n",
              "        -5.01584873e-06,  1.50277037e-05, -1.06167019e-04,  1.62610231e-05,\n",
              "         5.68664291e-05,  2.69829088e-05,  2.88949141e-05,  4.19731841e-05,\n",
              "        -7.37780792e-05, -1.03427501e-05, -1.92891712e-05, -3.32344825e-06,\n",
              "         5.22891241e-05,  4.49566251e-05,  4.13200905e-05, -6.23098686e-06,\n",
              "         1.45434024e-05, -3.44832515e-05, -2.83636073e-05,  4.61378622e-05,\n",
              "         1.14859131e-05, -1.37855659e-05, -5.82972789e-05,  9.35921416e-05,\n",
              "        -6.77173593e-05,  2.86656687e-05,  1.23557853e-04, -1.65912679e-05,\n",
              "        -2.31280301e-05, -2.79700998e-07,  3.01875616e-06, -1.50173037e-05,\n",
              "        -3.02030276e-05,  3.60659214e-05,  4.53723396e-06,  7.78845788e-09,\n",
              "        -1.42113386e-05,  1.69135592e-06, -1.63097611e-05, -8.44168062e-06,\n",
              "        -1.58188504e-05,  4.33109562e-07,  1.44599635e-05, -1.64386074e-05,\n",
              "         1.89737439e-05,  7.39484040e-06, -1.76727644e-06,  2.19544127e-05,\n",
              "        -1.12952694e-06, -6.72784590e-05,  1.73095668e-05, -2.03185627e-05,\n",
              "        -4.96861958e-06,  5.45691682e-06, -1.71585980e-05, -4.05722603e-05,\n",
              "         5.57013518e-05,  4.75549168e-05,  2.09501031e-05,  3.54378244e-07,\n",
              "         2.64466289e-05,  1.35671899e-05, -2.21725204e-05, -7.96787645e-05,\n",
              "        -5.75195299e-05,  2.44018302e-05, -4.94472260e-05,  1.01744117e-05,\n",
              "        -4.59983494e-06, -3.76574826e-05,  6.44490228e-06, -1.51663389e-05,\n",
              "        -5.50566037e-05,  4.22243866e-05, -3.98574557e-05, -2.99756630e-06,\n",
              "        -2.04517801e-05,  5.83751971e-05, -2.97376428e-05, -3.10560699e-06,\n",
              "        -4.04682251e-05, -1.24258895e-05,  3.46747947e-05,  6.93178663e-07,\n",
              "         1.22282145e-05,  6.20420906e-05, -6.33256714e-05,  3.37878373e-05,\n",
              "        -8.86768539e-05, -2.08081256e-05, -7.12650508e-05,  3.66722597e-05,\n",
              "         2.08086767e-05,  7.67899401e-05,  5.19884052e-05,  5.13115010e-05,\n",
              "        -5.84455775e-05, -2.64352366e-05,  5.48387288e-06,  1.81757878e-06,\n",
              "         1.89051963e-04,  3.04339119e-05, -9.61670685e-06, -1.86745074e-05,\n",
              "        -2.19977846e-06,  7.94193766e-05, -3.15669604e-05, -4.81323332e-05,\n",
              "        -2.96552935e-05,  1.15612238e-05,  4.89760205e-05,  2.21656373e-05,\n",
              "        -4.58848663e-05,  8.29797646e-05, -3.71319475e-05,  2.16915141e-05,\n",
              "         5.86188653e-05,  3.37589445e-05, -4.20612778e-05,  1.01662939e-04,\n",
              "         2.43280756e-05, -2.52827085e-05, -8.46154944e-06,  3.91885806e-05,\n",
              "        -6.19219209e-05, -6.32649899e-05,  3.73946568e-05, -1.33504858e-04,\n",
              "         3.95148800e-06,  2.97488896e-06, -1.76956382e-04,  4.57686619e-05,\n",
              "         3.24674475e-05,  4.87766119e-05,  1.08178338e-05,  8.13934821e-05,\n",
              "        -9.14506963e-05, -2.71391109e-05, -3.94277449e-05, -9.60823854e-07,\n",
              "         8.57950945e-05,  6.71281232e-05,  5.57653366e-05, -1.69108989e-05,\n",
              "        -4.32236811e-06,  4.67795871e-07, -9.85184761e-06,  6.36482437e-05,\n",
              "         5.04546006e-06, -1.88348458e-05, -6.25247994e-05,  8.32846636e-05,\n",
              "        -1.00646692e-04,  5.33503226e-05,  1.31812674e-04, -1.87793976e-05,\n",
              "        -7.44410645e-05, -2.07273006e-05, -7.23217909e-07,  9.74302020e-06,\n",
              "        -6.79585937e-05,  1.44052283e-05,  2.54377883e-05, -2.05807737e-06,\n",
              "        -3.38551581e-05, -1.07071291e-05, -1.53015826e-05, -2.03402396e-06,\n",
              "        -1.49161770e-05,  1.16527290e-05, -1.57622571e-06, -3.73641233e-05,\n",
              "         2.42656115e-05, -1.14326485e-06, -5.95317306e-06,  1.33081057e-05,\n",
              "         2.38980519e-05, -6.57388009e-05,  3.67592293e-05, -3.36664489e-05,\n",
              "        -1.59933493e-02, -1.61103555e-03,  2.50181742e-02, -7.69692194e-03,\n",
              "         4.04481702e-02, -5.15761748e-02,  3.90418340e-03,  1.94963682e-02,\n",
              "         1.62497237e-02,  2.08369223e-03,  1.32624777e-02, -1.73789114e-02,\n",
              "         3.66166420e-02, -1.11220367e-02,  3.23573686e-02,  1.00007281e-04,\n",
              "         1.56849390e-03, -1.38421971e-02,  9.71486513e-03,  2.98675131e-02,\n",
              "         6.73386827e-02,  6.60127029e-02,  2.60849614e-02, -5.80069749e-03,\n",
              "         9.69560118e-04,  2.56147664e-02, -1.43718384e-02,  3.16181630e-02,\n",
              "         1.38539746e-02, -2.86260489e-02,  7.08660763e-03, -7.33601954e-03,\n",
              "         1.89519413e-02,  9.88769904e-03,  2.94870101e-02, -7.88974343e-04,\n",
              "        -3.54792774e-02, -3.56526673e-03, -3.17632891e-02,  4.32581604e-02,\n",
              "         5.50937746e-03, -7.43981265e-03,  4.19031084e-02, -5.25311334e-03,\n",
              "        -4.74367291e-02, -2.28002891e-02,  1.77698322e-02,  6.59974990e-03,\n",
              "        -7.24058151e-02, -4.22043353e-02, -2.95708384e-02, -2.44731619e-03,\n",
              "         1.20811444e-02,  6.11142814e-02, -6.80036284e-03, -2.62630321e-02,\n",
              "         1.12363221e-02,  2.29901262e-02,  1.69443712e-02, -2.71496288e-02,\n",
              "        -1.80025790e-02,  1.09805614e-02, -2.39927657e-02, -1.98102146e-02,\n",
              "         1.02406880e-02,  1.85262486e-02,  3.15710790e-02, -5.77517301e-02,\n",
              "         2.79847104e-02, -1.40900034e-02,  2.79508922e-02, -6.94191176e-03,\n",
              "         1.77531987e-02, -4.13602293e-02,  2.21036933e-02,  4.13525775e-02,\n",
              "         1.34386998e-02,  2.17565000e-02,  6.12337813e-02,  3.91089208e-02,\n",
              "        -4.92180651e-03, -4.44032438e-02, -2.03408320e-02,  2.13535093e-02,\n",
              "        -4.51945253e-02, -1.37833916e-02,  3.70373875e-02,  3.52044813e-02,\n",
              "        -2.35096365e-03,  5.71846738e-02, -1.68075580e-02,  5.24802133e-03,\n",
              "         1.66000873e-02,  7.33579043e-04, -2.09181756e-02,  3.57595533e-02,\n",
              "        -1.10313762e-02,  4.02091593e-02,  4.25134823e-02,  2.34154649e-02,\n",
              "        -3.02813407e-02,  1.86480433e-02,  3.88438255e-02, -3.74344960e-02,\n",
              "         1.64605007e-02,  4.83954977e-03, -1.13554569e-02, -3.18988934e-02,\n",
              "         2.34114602e-02,  2.72870734e-02, -3.32468338e-02, -1.77164301e-02,\n",
              "        -3.31901163e-02,  3.40243280e-02,  4.44103312e-03, -5.38897794e-03,\n",
              "         1.49786267e-02, -3.05632083e-03, -3.68037145e-03, -1.78871918e-02,\n",
              "         1.44335506e-02, -4.75616287e-03,  1.26798805e-02,  4.30878717e-03,\n",
              "         6.47745281e-03, -3.72022130e-02, -1.58329401e-02,  1.35471895e-02,\n",
              "        -7.06634228e-06,  1.70161329e-05, -3.00742049e-05, -2.61230489e-05,\n",
              "         4.63934557e-05,  3.98936936e-05,  2.10214239e-06,  2.09479404e-05,\n",
              "         4.20209290e-05,  2.25250005e-05, -9.77524724e-06, -5.08621015e-05,\n",
              "        -4.29172069e-05,  1.24751787e-05, -3.52103016e-05,  1.84596465e-05,\n",
              "        -1.35877053e-06, -5.28184100e-05,  2.35220978e-06, -2.01795938e-05,\n",
              "        -4.87989273e-05,  3.94567069e-05, -3.47474233e-05,  1.05146164e-05,\n",
              "        -1.68995230e-05,  6.19404163e-05, -2.65931048e-05, -1.75499281e-05,\n",
              "        -2.99854182e-05, -5.47514446e-06,  2.86134618e-05, -1.10337769e-05,\n",
              "         1.66559330e-05,  3.56890596e-05, -4.62137868e-05,  2.30170190e-05,\n",
              "        -6.60031001e-05, -1.49670450e-06, -8.42825175e-05,  2.22415092e-05,\n",
              "         1.52324728e-05,  6.05580863e-05,  5.25910291e-05,  3.56112323e-05,\n",
              "        -4.21061850e-05, -7.68294831e-06,  5.34209994e-06,  7.09305732e-06,\n",
              "         1.66133337e-04,  2.75371240e-05, -3.77729048e-05, -1.66191585e-05,\n",
              "         3.67981556e-07,  6.92189496e-05, -2.93951089e-05, -4.77337162e-05,\n",
              "        -2.62641406e-05,  2.47895478e-05,  4.51711639e-05,  1.95036064e-05,\n",
              "        -3.57703393e-05,  8.09294870e-05, -3.04488385e-05,  1.40011180e-05,\n",
              "         6.68352004e-05,  2.27753808e-05, -1.11833688e-05,  6.62893144e-05,\n",
              "         1.17184263e-05, -9.93715366e-06,  9.77931086e-06,  2.24468822e-05,\n",
              "        -3.71229835e-05, -4.79676237e-05,  2.80496060e-05, -1.14357863e-04,\n",
              "        -7.58050237e-06,  1.24892758e-05, -1.33607857e-04,  2.05004762e-05,\n",
              "         6.73371978e-05,  3.22489941e-05,  2.36875130e-05,  4.94524102e-05,\n",
              "        -8.19789711e-05, -2.35650150e-05, -1.79687377e-05, -7.77136574e-06,\n",
              "         6.24343011e-05,  4.62324606e-05,  4.95160675e-05, -1.05787449e-05,\n",
              "         1.14399108e-05, -3.77939141e-05, -2.96443868e-05,  4.69510815e-05,\n",
              "         6.77159369e-06, -6.57490727e-06, -5.59279724e-05,  9.12392206e-05,\n",
              "        -7.60547409e-05,  3.60535923e-05,  1.40377815e-04, -1.99428941e-05,\n",
              "        -4.28461863e-05,  2.15323416e-06,  6.69494375e-06,  4.12770646e-07,\n",
              "        -2.55560699e-05,  4.27567284e-05,  1.04107412e-05, -1.66177051e-06,\n",
              "        -1.38056475e-05, -9.07811682e-07, -1.74665256e-05,  2.80653694e-06,\n",
              "        -2.61294772e-05,  3.80829078e-06,  7.40101814e-06, -1.94714194e-05,\n",
              "         2.43916893e-05,  1.56566130e-05, -1.00276884e-06,  2.40515692e-05,\n",
              "        -5.50494951e-06, -7.53735367e-05,  2.75377679e-05, -2.54720508e-05],\n",
              "       dtype=float32)>,\n",
              " <tf.Tensor: shape=(128, 10000), dtype=float32, numpy=\n",
              " array([[ 3.7463469e-04,  1.1300792e-03, -1.3788468e-03, ...,\n",
              "          1.4216098e-06,  1.4171967e-06,  1.4193030e-06],\n",
              "        [-3.9643474e-04, -9.4947906e-04, -1.1720069e-03, ...,\n",
              "          1.8078722e-06,  1.8073702e-06,  1.8071730e-06],\n",
              "        [ 1.3011490e-03,  2.2333674e-04,  1.0030129e-03, ...,\n",
              "         -3.2224143e-06, -3.2213579e-06, -3.2219984e-06],\n",
              "        ...,\n",
              "        [ 1.8408938e-04, -2.8091157e-04, -1.9472191e-03, ...,\n",
              "          2.5950121e-06,  2.5930985e-06,  2.5940285e-06],\n",
              "        [ 1.6113016e-04,  9.3555206e-04,  3.3837155e-04, ...,\n",
              "         -1.5453724e-06, -1.5451188e-06, -1.5469685e-06],\n",
              "        [-2.3677773e-04, -7.6462596e-04,  1.5763054e-04, ...,\n",
              "         -7.1886762e-07, -7.1799894e-07, -7.1823695e-07]], dtype=float32)>,\n",
              " <tf.Tensor: shape=(10000,), dtype=float32, numpy=\n",
              " array([-0.797998  , -1.0313315 , -1.0313317 , ...,  0.00199984,\n",
              "         0.00199957,  0.00199975], dtype=float32)>]"
            ]
          },
          "metadata": {
            "tags": []
          },
          "execution_count": 48
        }
      ]
    },
    {
      "cell_type": "markdown",
      "metadata": {
        "id": "9oaHczqL_BHv"
      },
      "source": [
        "<h4> 4.Apply the optimizer to the variables/gradients tuple. </h4>\n"
      ]
    },
    {
      "cell_type": "code",
      "metadata": {
        "id": "OtZbq4qs_BHw"
      },
      "source": [
        "# Create the training TensorFlow Operation through our optimizer\n",
        "train_op = optimizer.apply_gradients(zip(grads, tvars))"
      ],
      "execution_count": 49,
      "outputs": []
    },
    {
      "cell_type": "markdown",
      "metadata": {
        "id": "S1y8MCXu_BHw"
      },
      "source": [
        "<a id=\"ltsm\"></a>\n",
        "\n",
        "<h2>LSTM</h2>\n"
      ]
    },
    {
      "cell_type": "markdown",
      "metadata": {
        "button": false,
        "deletable": true,
        "new_sheet": false,
        "run_control": {
          "read_only": false
        },
        "id": "OuMbNyQa_BHw"
      },
      "source": [
        "We learned how the model is build step by step. Noe, let's then create a Class that represents our model. This class needs a few things:\n",
        "\n",
        "<ul>\n",
        "    <li>We have to create the model in accordance with our defined hyperparameters</li>\n",
        "    <li>We have to create the LSTM cell structure and connect them with our RNN structure</li>\n",
        "    <li>We have to create the word embeddings and point them to the input data</li>\n",
        "    <li>We have to create the input structure for our RNN</li>\n",
        "    <li>We need to create a logistic structure to return the probability of our words</li>\n",
        "    <li>We need to create the loss and cost functions for our optimizer to work, and then create the optimizer</li>\n",
        "    <li>And finally, we need to create a training operation that can be run to actually train our model</li>\n",
        "</ul>\n"
      ]
    },
    {
      "cell_type": "code",
      "metadata": {
        "button": false,
        "deletable": true,
        "new_sheet": false,
        "run_control": {
          "read_only": false
        },
        "tags": [],
        "id": "oGx2g38f_BHx"
      },
      "source": [
        "class PTBModel(object):\n",
        "\n",
        "\n",
        "    def __init__(self):\n",
        "        ######################################\n",
        "        # Setting parameters for ease of use #\n",
        "        ######################################\n",
        "        self.batch_size = batch_size\n",
        "        self.num_steps = num_steps\n",
        "        self.hidden_size_l1 = hidden_size_l1\n",
        "        self.hidden_size_l2 = hidden_size_l2\n",
        "        self.vocab_size = vocab_size\n",
        "        self.embeding_vector_size = embeding_vector_size\n",
        "        # Create a variable for the learning rate\n",
        "        self._lr = 1.0\n",
        "        \n",
        "        ###############################################################################\n",
        "        # Initializing the model using keras Sequential API  #\n",
        "        ###############################################################################\n",
        "        \n",
        "        self._model = tf.keras.models.Sequential()\n",
        "        \n",
        "        ####################################################################\n",
        "        # Creating the word embeddings layer and adding it to the sequence #\n",
        "        ####################################################################\n",
        "        with tf.device(\"/cpu:0\"):\n",
        "            # Create the embeddings for our input data. Size is hidden size.\n",
        "            self._embedding_layer = tf.keras.layers.Embedding(self.vocab_size, self.embeding_vector_size,batch_input_shape=(self.batch_size, self.num_steps),trainable=True,name=\"embedding_vocab\")  #[10000x200]\n",
        "            self._model.add(self._embedding_layer)\n",
        "            \n",
        "\n",
        "        ##########################################################################\n",
        "        # Creating the LSTM cell structure and connect it with the RNN structure #\n",
        "        ##########################################################################\n",
        "        # Create the LSTM Cells. \n",
        "        # This creates only the structure for the LSTM and has to be associated with a RNN unit still.\n",
        "        # The argument  of LSTMCell is size of hidden layer, that is, the number of hidden units of the LSTM (inside A). \n",
        "        # LSTM cell processes one word at a time and computes probabilities of the possible continuations of the sentence.\n",
        "        lstm_cell_l1 = tf.keras.layers.LSTMCell(hidden_size_l1)\n",
        "        lstm_cell_l2 = tf.keras.layers.LSTMCell(hidden_size_l2)\n",
        "        \n",
        "\n",
        "        \n",
        "        # By taking in the LSTM cells as parameters, the StackedRNNCells function junctions the LSTM units to the RNN units.\n",
        "        # RNN cell composed sequentially of stacked simple cells.\n",
        "        stacked_lstm = tf.keras.layers.StackedRNNCells([lstm_cell_l1, lstm_cell_l2])\n",
        "\n",
        "\n",
        "        \n",
        "\n",
        "        ############################################\n",
        "        # Creating the input structure for our RNN #\n",
        "        ############################################\n",
        "        # Input structure is 20x[30x200]\n",
        "        # Considering each word is represended by a 200 dimentional vector, and we have 30 batchs, we create 30 word-vectors of size [30xx2000]\n",
        "        # The input structure is fed from the embeddings, which are filled in by the input data\n",
        "        # Feeding a batch of b sentences to a RNN:\n",
        "        # In step 1,  first word of each of the b sentences (in a batch) is input in parallel.  \n",
        "        # In step 2,  second word of each of the b sentences is input in parallel. \n",
        "        # The parallelism is only for efficiency.  \n",
        "        # Each sentence in a batch is handled in parallel, but the network sees one word of a sentence at a time and does the computations accordingly. \n",
        "        # All the computations involving the words of all sentences in a batch at a given time step are done in parallel. \n",
        "\n",
        "        ########################################################################################################\n",
        "        # Instantiating our RNN model and setting stateful to True to feed forward the state to the next layer #\n",
        "        ########################################################################################################\n",
        "        \n",
        "        self._RNNlayer  =  tf.keras.layers.RNN(stacked_lstm,[batch_size, num_steps],return_state=False,stateful=True,trainable=True)\n",
        "        \n",
        "        # Define the initial state, i.e., the model state for the very first data point\n",
        "        # It initialize the state of the LSTM memory. The memory state of the network is initialized with a vector of zeros and gets updated after reading each word.\n",
        "        self._initial_state = tf.Variable(tf.zeros([batch_size,embeding_vector_size]),trainable=False)\n",
        "        self._RNNlayer.inital_state = self._initial_state\n",
        "    \n",
        "        ############################################\n",
        "        # Adding RNN layer to keras sequential API #\n",
        "        ############################################        \n",
        "        self._model.add(self._RNNlayer)\n",
        "        \n",
        "        #self._model.add(tf.keras.layers.LSTM(hidden_size_l1,return_sequences=True,stateful=True))\n",
        "        #self._model.add(tf.keras.layers.LSTM(hidden_size_l2,return_sequences=True))\n",
        "        \n",
        "        \n",
        "        ####################################################################################################\n",
        "        # Instantiating a Dense layer that connects the output to the vocab_size  and adding layer to model#\n",
        "        ####################################################################################################\n",
        "        self._dense = tf.keras.layers.Dense(self.vocab_size)\n",
        "        self._model.add(self._dense)\n",
        " \n",
        "        \n",
        "        ####################################################################################################\n",
        "        # Adding softmax activation layer and deriving probability to each class and adding layer to model #\n",
        "        ####################################################################################################\n",
        "        self._activation = tf.keras.layers.Activation('softmax')\n",
        "        self._model.add(self._activation)\n",
        "\n",
        "        ##########################################################\n",
        "        # Instantiating the stochastic gradient decent optimizer #\n",
        "        ########################################################## \n",
        "        self._optimizer = tf.keras.optimizers.SGD(lr=self._lr, clipnorm=max_grad_norm)\n",
        "        \n",
        "        \n",
        "        ##############################################################################\n",
        "        # Compiling and summarizing the model stacked using the keras sequential API #\n",
        "        ##############################################################################\n",
        "        self._model.compile(loss=self.crossentropy, optimizer=self._optimizer)\n",
        "        self._model.summary()\n",
        "\n",
        "\n",
        "    def crossentropy(self,y_true, y_pred):\n",
        "        return tf.keras.losses.sparse_categorical_crossentropy(y_true, y_pred)\n",
        "\n",
        "    def train_batch(self,_input_data,_targets):\n",
        "        #################################################\n",
        "        # Creating the Training Operation for our Model #\n",
        "        #################################################\n",
        "        # Create a variable for the learning rate\n",
        "        self._lr = tf.Variable(0.0, trainable=False)\n",
        "        # Get all TensorFlow variables marked as \"trainable\" (i.e. all of them except _lr, which we just created)\n",
        "        tvars = self._model.trainable_variables\n",
        "        # Define the gradient clipping threshold\n",
        "        with tf.GradientTape() as tape:\n",
        "            # Forward pass.\n",
        "            output_words_prob = self._model(_input_data)\n",
        "            # Loss value for this batch.\n",
        "            loss  = self.crossentropy(_targets, output_words_prob)\n",
        "            # average across batch and reduce sum\n",
        "            cost = tf.reduce_sum(loss/ self.batch_size)\n",
        "        # Get gradients of loss wrt the trainable variables.\n",
        "        grad_t_list = tape.gradient(cost, tvars)\n",
        "        # Define the gradient clipping threshold\n",
        "        grads, _ = tf.clip_by_global_norm(grad_t_list, max_grad_norm)\n",
        "        # Create the training TensorFlow Operation through our optimizer\n",
        "        train_op = self._optimizer.apply_gradients(zip(grads, tvars))\n",
        "        return cost\n",
        "        \n",
        "    def test_batch(self,_input_data,_targets):\n",
        "        #################################################\n",
        "        # Creating the Testing Operation for our Model #\n",
        "        #################################################\n",
        "        output_words_prob = self._model(_input_data)\n",
        "        loss  = self.crossentropy(_targets, output_words_prob)\n",
        "        # average across batch and reduce sum\n",
        "        cost = tf.reduce_sum(loss/ self.batch_size)\n",
        "\n",
        "        return cost\n",
        "    @classmethod\n",
        "    def instance(cls) : \n",
        "        return PTBModel()"
      ],
      "execution_count": 50,
      "outputs": []
    },
    {
      "cell_type": "markdown",
      "metadata": {
        "button": false,
        "deletable": true,
        "new_sheet": false,
        "run_control": {
          "read_only": false
        },
        "id": "ZXadufAO_BH3"
      },
      "source": [
        "With that, the actual structure of our Recurrent Neural Network with Long Short-Term Memory is finished. What remains for us to do is to actually create the methods to run through time -- that is, the <code>run_epoch</code> method to be run at each epoch and a <code>main</code> script which ties all of this together.\n",
        "\n",
        "What our <code>run_epoch</code> method should do is take our input data and feed it to the relevant operations. This will return at the very least the current result for the cost function.\n"
      ]
    },
    {
      "cell_type": "code",
      "metadata": {
        "button": false,
        "deletable": true,
        "new_sheet": false,
        "run_control": {
          "read_only": false
        },
        "id": "QGRrroMq_BH4"
      },
      "source": [
        "\n",
        "########################################################################################################################\n",
        "# run_one_epoch takes as parameters  the model instance, the data to be fed, training or testing mode and verbose info #\n",
        "########################################################################################################################\n",
        "def run_one_epoch(m, data,is_training=True,verbose=False):\n",
        "\n",
        "    #Define the epoch size based on the length of the data, batch size and the number of steps\n",
        "    epoch_size = ((len(data) // m.batch_size) - 1) // m.num_steps\n",
        "    start_time = time.time()\n",
        "    costs = 0.\n",
        "    iters = 0\n",
        "    \n",
        "    m._model.reset_states()\n",
        "    \n",
        "    #For each step and data point\n",
        "    for step, (x, y) in enumerate(reader.ptb_iterator(data, m.batch_size, m.num_steps)):\n",
        "        \n",
        "        #Evaluate and return cost, state by running cost, final_state and the function passed as parameter\n",
        "        #y = tf.keras.utils.to_categorical(y, num_classes=vocab_size)\n",
        "        if is_training : \n",
        "            loss=  m.train_batch(x, y)\n",
        "        else :\n",
        "            loss = m.test_batch(x, y)\n",
        "                                   \n",
        "\n",
        "        #Add returned cost to costs (which keeps track of the total costs for this epoch)\n",
        "        costs += loss\n",
        "        \n",
        "        #Add number of steps to iteration counter\n",
        "        iters += m.num_steps\n",
        "\n",
        "        if verbose and step % (epoch_size // 10) == 10:\n",
        "            print(\"Itr %d of %d, perplexity: %.3f speed: %.0f wps\" % (step , epoch_size, np.exp(costs / iters), iters * m.batch_size / (time.time() - start_time)))\n",
        "        \n",
        "\n",
        "\n",
        "    # Returns the Perplexity rating for us to keep track of how the model is evolving\n",
        "    return np.exp(costs / iters)\n"
      ],
      "execution_count": 51,
      "outputs": []
    },
    {
      "cell_type": "markdown",
      "metadata": {
        "button": false,
        "deletable": true,
        "new_sheet": false,
        "run_control": {
          "read_only": false
        },
        "id": "qUribU2V_BH4"
      },
      "source": [
        "Now, we create the <code>main</code> method to tie everything together. The code here reads the data from the directory, using the <code>reader</code> helper module, and then trains and evaluates the model on both a testing and a validating subset of data.\n"
      ]
    },
    {
      "cell_type": "code",
      "metadata": {
        "button": false,
        "deletable": true,
        "new_sheet": false,
        "run_control": {
          "read_only": false
        },
        "tags": [],
        "id": "tMfPblhQ_BH5"
      },
      "source": [
        "# Reads the data and separates it into training data, validation data and testing data\n",
        "raw_data = reader.ptb_raw_data(data_dir)\n",
        "train_data, valid_data, test_data, _, _ = raw_data"
      ],
      "execution_count": 52,
      "outputs": []
    },
    {
      "cell_type": "code",
      "metadata": {
        "tags": [],
        "colab": {
          "base_uri": "https://localhost:8080/"
        },
        "id": "BULY3Mkz_BH5",
        "outputId": "6ad9cdd1-d73b-4367-9153-3260047136e5"
      },
      "source": [
        "# Instantiates the PTBModel class\n",
        "m=PTBModel.instance()   \n",
        "K = tf.keras.backend \n",
        "for i in range(max_epoch):\n",
        "    # Define the decay for this epoch\n",
        "    lr_decay = decay ** max(i - max_epoch_decay_lr, 0.0)\n",
        "    dcr = learning_rate * lr_decay\n",
        "    m._lr = dcr\n",
        "    K.set_value(m._model.optimizer.learning_rate,m._lr)\n",
        "    print(\"Epoch %d : Learning rate: %.3f\" % (i + 1, m._model.optimizer.learning_rate))\n",
        "    # Run the loop for this epoch in the training mode\n",
        "    train_perplexity = run_one_epoch(m, train_data,is_training=True,verbose=True)\n",
        "    print(\"Epoch %d : Train Perplexity: %.3f\" % (i + 1, train_perplexity))\n",
        "        \n",
        "    # Run the loop for this epoch in the validation mode\n",
        "    valid_perplexity = run_one_epoch(m, valid_data,is_training=False,verbose=False)\n",
        "    print(\"Epoch %d : Valid Perplexity: %.3f\" % (i + 1, valid_perplexity))\n",
        "    \n",
        "# Run the loop in the testing mode to see how effective was our training\n",
        "test_perplexity = run_one_epoch(m, test_data,is_training=False,verbose=False)\n",
        "print(\"Test Perplexity: %.3f\" % test_perplexity)\n",
        "\n"
      ],
      "execution_count": 53,
      "outputs": [
        {
          "output_type": "stream",
          "text": [
            "Model: \"sequential_1\"\n",
            "_________________________________________________________________\n",
            "Layer (type)                 Output Shape              Param #   \n",
            "=================================================================\n",
            "embedding_vocab (Embedding)  (30, 20, 200)             2000000   \n",
            "_________________________________________________________________\n",
            "rnn_1 (RNN)                  (30, 20, 128)             671088    \n",
            "_________________________________________________________________\n",
            "dense_1 (Dense)              (30, 20, 10000)           1290000   \n",
            "_________________________________________________________________\n",
            "activation_1 (Activation)    (30, 20, 10000)           0         \n",
            "=================================================================\n",
            "Total params: 3,961,088\n",
            "Trainable params: 3,955,088\n",
            "Non-trainable params: 6,000\n",
            "_________________________________________________________________\n",
            "Epoch 1 : Learning rate: 1.000\n",
            "Itr 10 of 1549, perplexity: 4395.536 speed: 810 wps\n",
            "Itr 164 of 1549, perplexity: 1094.213 speed: 842 wps\n",
            "Itr 318 of 1549, perplexity: 848.926 speed: 838 wps\n",
            "Itr 472 of 1549, perplexity: 700.991 speed: 833 wps\n",
            "Itr 626 of 1549, perplexity: 598.421 speed: 831 wps\n",
            "Itr 780 of 1549, perplexity: 531.056 speed: 827 wps\n",
            "Itr 934 of 1549, perplexity: 478.495 speed: 826 wps\n",
            "Itr 1088 of 1549, perplexity: 438.833 speed: 825 wps\n",
            "Itr 1242 of 1549, perplexity: 408.341 speed: 824 wps\n",
            "Itr 1396 of 1549, perplexity: 380.029 speed: 825 wps\n",
            "Epoch 1 : Train Perplexity: 357.801\n",
            "Epoch 1 : Valid Perplexity: 212.135\n",
            "Epoch 2 : Learning rate: 1.000\n",
            "Itr 10 of 1549, perplexity: 238.471 speed: 786 wps\n",
            "Itr 164 of 1549, perplexity: 209.650 speed: 821 wps\n",
            "Itr 318 of 1549, perplexity: 201.100 speed: 825 wps\n",
            "Itr 472 of 1549, perplexity: 192.734 speed: 823 wps\n",
            "Itr 626 of 1549, perplexity: 183.994 speed: 823 wps\n",
            "Itr 934 of 1549, perplexity: 176.168 speed: 826 wps\n",
            "Itr 1088 of 1549, perplexity: 172.805 speed: 826 wps\n",
            "Itr 1242 of 1549, perplexity: 170.448 speed: 826 wps\n",
            "Itr 1396 of 1549, perplexity: 166.318 speed: 827 wps\n",
            "Epoch 2 : Train Perplexity: 163.482\n",
            "Epoch 2 : Valid Perplexity: 160.427\n",
            "Epoch 3 : Learning rate: 1.000\n",
            "Itr 10 of 1549, perplexity: 161.235 speed: 853 wps\n",
            "Itr 164 of 1549, perplexity: 146.319 speed: 841 wps\n",
            "Itr 318 of 1549, perplexity: 142.729 speed: 849 wps\n",
            "Itr 472 of 1549, perplexity: 138.177 speed: 854 wps\n",
            "Itr 626 of 1549, perplexity: 133.020 speed: 852 wps\n",
            "Itr 780 of 1549, perplexity: 131.858 speed: 853 wps\n",
            "Itr 934 of 1549, perplexity: 130.098 speed: 854 wps\n",
            "Itr 1088 of 1549, perplexity: 128.628 speed: 855 wps\n",
            "Itr 1242 of 1549, perplexity: 127.830 speed: 856 wps\n",
            "Itr 1396 of 1549, perplexity: 125.544 speed: 857 wps\n",
            "Epoch 3 : Train Perplexity: 124.325\n",
            "Epoch 3 : Valid Perplexity: 143.482\n",
            "Epoch 4 : Learning rate: 1.000\n",
            "Itr 10 of 1549, perplexity: 130.390 speed: 860 wps\n",
            "Itr 164 of 1549, perplexity: 119.580 speed: 856 wps\n",
            "Itr 318 of 1549, perplexity: 117.393 speed: 852 wps\n",
            "Itr 472 of 1549, perplexity: 114.043 speed: 853 wps\n",
            "Itr 626 of 1549, perplexity: 110.253 speed: 854 wps\n",
            "Itr 780 of 1549, perplexity: 109.734 speed: 853 wps\n",
            "Itr 934 of 1549, perplexity: 108.610 speed: 854 wps\n",
            "Itr 1088 of 1549, perplexity: 107.724 speed: 854 wps\n",
            "Itr 1242 of 1549, perplexity: 107.366 speed: 853 wps\n",
            "Itr 1396 of 1549, perplexity: 105.674 speed: 853 wps\n",
            "Epoch 4 : Train Perplexity: 104.942\n",
            "Epoch 4 : Valid Perplexity: 136.116\n",
            "Epoch 5 : Learning rate: 1.000\n",
            "Itr 10 of 1549, perplexity: 111.948 speed: 814 wps\n",
            "Itr 164 of 1549, perplexity: 103.999 speed: 845 wps\n",
            "Itr 318 of 1549, perplexity: 102.428 speed: 849 wps\n",
            "Itr 472 of 1549, perplexity: 99.660 speed: 849 wps\n",
            "Itr 626 of 1549, perplexity: 96.479 speed: 850 wps\n",
            "Itr 780 of 1549, perplexity: 96.348 speed: 849 wps\n",
            "Itr 934 of 1549, perplexity: 95.587 speed: 847 wps\n",
            "Itr 1088 of 1549, perplexity: 94.999 speed: 849 wps\n",
            "Itr 1242 of 1549, perplexity: 94.819 speed: 849 wps\n",
            "Itr 1396 of 1549, perplexity: 93.511 speed: 849 wps\n",
            "Epoch 5 : Train Perplexity: 92.993\n",
            "Epoch 5 : Valid Perplexity: 133.715\n",
            "Epoch 6 : Learning rate: 0.500\n",
            "Itr 10 of 1549, perplexity: 98.753 speed: 852 wps\n",
            "Itr 164 of 1549, perplexity: 90.307 speed: 851 wps\n",
            "Itr 318 of 1549, perplexity: 87.796 speed: 852 wps\n",
            "Itr 472 of 1549, perplexity: 84.491 speed: 854 wps\n",
            "Itr 626 of 1549, perplexity: 80.944 speed: 853 wps\n",
            "Itr 780 of 1549, perplexity: 80.252 speed: 853 wps\n",
            "Itr 934 of 1549, perplexity: 78.997 speed: 855 wps\n",
            "Itr 1088 of 1549, perplexity: 77.888 speed: 854 wps\n",
            "Itr 1242 of 1549, perplexity: 77.168 speed: 854 wps\n",
            "Itr 1396 of 1549, perplexity: 75.544 speed: 854 wps\n",
            "Epoch 6 : Train Perplexity: 74.566\n",
            "Epoch 6 : Valid Perplexity: 123.683\n",
            "Epoch 7 : Learning rate: 0.250\n",
            "Itr 10 of 1549, perplexity: 82.926 speed: 865 wps\n",
            "Itr 164 of 1549, perplexity: 77.515 speed: 864 wps\n",
            "Itr 318 of 1549, perplexity: 75.572 speed: 862 wps\n",
            "Itr 472 of 1549, perplexity: 72.797 speed: 860 wps\n",
            "Itr 626 of 1549, perplexity: 69.620 speed: 860 wps\n",
            "Itr 780 of 1549, perplexity: 68.972 speed: 859 wps\n",
            "Itr 934 of 1549, perplexity: 67.824 speed: 858 wps\n",
            "Itr 1088 of 1549, perplexity: 66.729 speed: 858 wps\n",
            "Itr 1242 of 1549, perplexity: 65.961 speed: 858 wps\n",
            "Itr 1396 of 1549, perplexity: 64.396 speed: 858 wps\n",
            "Epoch 7 : Train Perplexity: 63.389\n",
            "Epoch 7 : Valid Perplexity: 121.553\n",
            "Epoch 8 : Learning rate: 0.125\n",
            "Itr 10 of 1549, perplexity: 74.661 speed: 858 wps\n",
            "Itr 164 of 1549, perplexity: 70.362 speed: 856 wps\n",
            "Itr 318 of 1549, perplexity: 68.703 speed: 859 wps\n",
            "Itr 472 of 1549, perplexity: 66.270 speed: 859 wps\n",
            "Itr 626 of 1549, perplexity: 63.366 speed: 859 wps\n",
            "Itr 780 of 1549, perplexity: 62.770 speed: 859 wps\n",
            "Itr 934 of 1549, perplexity: 61.703 speed: 858 wps\n",
            "Itr 1088 of 1549, perplexity: 60.658 speed: 859 wps\n",
            "Itr 1242 of 1549, perplexity: 59.910 speed: 860 wps\n",
            "Itr 1396 of 1549, perplexity: 58.433 speed: 861 wps\n",
            "Epoch 8 : Train Perplexity: 57.460\n",
            "Epoch 8 : Valid Perplexity: 121.222\n",
            "Epoch 9 : Learning rate: 0.062\n",
            "Itr 10 of 1549, perplexity: 70.526 speed: 860 wps\n",
            "Itr 164 of 1549, perplexity: 66.706 speed: 867 wps\n",
            "Itr 318 of 1549, perplexity: 65.169 speed: 864 wps\n",
            "Itr 472 of 1549, perplexity: 62.884 speed: 859 wps\n",
            "Itr 626 of 1549, perplexity: 60.142 speed: 857 wps\n",
            "Itr 780 of 1549, perplexity: 59.579 speed: 855 wps\n",
            "Itr 934 of 1549, perplexity: 58.562 speed: 856 wps\n",
            "Itr 1088 of 1549, perplexity: 57.537 speed: 857 wps\n",
            "Itr 1242 of 1549, perplexity: 56.793 speed: 857 wps\n",
            "Itr 1396 of 1549, perplexity: 55.361 speed: 857 wps\n",
            "Epoch 9 : Train Perplexity: 54.411\n",
            "Epoch 9 : Valid Perplexity: 121.165\n",
            "Epoch 10 : Learning rate: 0.031\n",
            "Itr 10 of 1549, perplexity: 68.463 speed: 872 wps\n",
            "Itr 164 of 1549, perplexity: 64.754 speed: 866 wps\n",
            "Itr 318 of 1549, perplexity: 63.295 speed: 866 wps\n",
            "Itr 472 of 1549, perplexity: 61.086 speed: 867 wps\n",
            "Itr 626 of 1549, perplexity: 58.431 speed: 866 wps\n",
            "Itr 780 of 1549, perplexity: 57.888 speed: 865 wps\n",
            "Itr 934 of 1549, perplexity: 56.898 speed: 866 wps\n",
            "Itr 1088 of 1549, perplexity: 55.889 speed: 865 wps\n",
            "Itr 1242 of 1549, perplexity: 55.142 speed: 865 wps\n",
            "Itr 1396 of 1549, perplexity: 53.734 speed: 865 wps\n",
            "Epoch 10 : Train Perplexity: 52.797\n",
            "Epoch 10 : Valid Perplexity: 121.251\n",
            "Epoch 11 : Learning rate: 0.016\n",
            "Itr 10 of 1549, perplexity: 67.351 speed: 823 wps\n",
            "Itr 164 of 1549, perplexity: 63.676 speed: 864 wps\n",
            "Itr 318 of 1549, perplexity: 62.262 speed: 864 wps\n",
            "Itr 472 of 1549, perplexity: 60.096 speed: 865 wps\n",
            "Itr 626 of 1549, perplexity: 57.488 speed: 866 wps\n",
            "Itr 780 of 1549, perplexity: 56.959 speed: 866 wps\n",
            "Itr 934 of 1549, perplexity: 55.992 speed: 867 wps\n",
            "Itr 1088 of 1549, perplexity: 54.997 speed: 867 wps\n",
            "Itr 1242 of 1549, perplexity: 54.249 speed: 866 wps\n",
            "Itr 1396 of 1549, perplexity: 52.852 speed: 867 wps\n",
            "Epoch 11 : Train Perplexity: 51.920\n",
            "Epoch 11 : Valid Perplexity: 121.245\n",
            "Epoch 12 : Learning rate: 0.008\n",
            "Itr 10 of 1549, perplexity: 66.742 speed: 863 wps\n",
            "Itr 164 of 1549, perplexity: 63.117 speed: 868 wps\n",
            "Itr 318 of 1549, perplexity: 61.722 speed: 867 wps\n",
            "Itr 472 of 1549, perplexity: 59.569 speed: 867 wps\n",
            "Itr 626 of 1549, perplexity: 56.977 speed: 865 wps\n",
            "Itr 780 of 1549, perplexity: 56.451 speed: 866 wps\n",
            "Itr 934 of 1549, perplexity: 55.496 speed: 867 wps\n",
            "Itr 1088 of 1549, perplexity: 54.512 speed: 867 wps\n",
            "Itr 1242 of 1549, perplexity: 53.764 speed: 867 wps\n",
            "Itr 1396 of 1549, perplexity: 52.374 speed: 866 wps\n",
            "Epoch 12 : Train Perplexity: 51.442\n",
            "Epoch 12 : Valid Perplexity: 121.034\n",
            "Epoch 13 : Learning rate: 0.004\n",
            "Itr 10 of 1549, perplexity: 66.343 speed: 871 wps\n",
            "Itr 164 of 1549, perplexity: 62.805 speed: 868 wps\n",
            "Itr 318 of 1549, perplexity: 61.435 speed: 860 wps\n",
            "Itr 472 of 1549, perplexity: 59.294 speed: 863 wps\n",
            "Itr 626 of 1549, perplexity: 56.706 speed: 864 wps\n",
            "Itr 780 of 1549, perplexity: 56.180 speed: 864 wps\n",
            "Itr 934 of 1549, perplexity: 55.230 speed: 864 wps\n",
            "Itr 1088 of 1549, perplexity: 54.250 speed: 865 wps\n",
            "Itr 1242 of 1549, perplexity: 53.503 speed: 864 wps\n",
            "Itr 1396 of 1549, perplexity: 52.117 speed: 864 wps\n",
            "Epoch 13 : Train Perplexity: 51.186\n",
            "Epoch 13 : Valid Perplexity: 120.760\n",
            "Epoch 14 : Learning rate: 0.002\n",
            "Itr 10 of 1549, perplexity: 66.087 speed: 860 wps\n",
            "Itr 164 of 1549, perplexity: 62.612 speed: 861 wps\n",
            "Itr 318 of 1549, perplexity: 61.264 speed: 865 wps\n",
            "Itr 472 of 1549, perplexity: 59.136 speed: 864 wps\n",
            "Itr 626 of 1549, perplexity: 56.555 speed: 864 wps\n",
            "Itr 780 of 1549, perplexity: 56.030 speed: 864 wps\n",
            "Itr 934 of 1549, perplexity: 55.084 speed: 864 wps\n",
            "Itr 1088 of 1549, perplexity: 54.107 speed: 864 wps\n",
            "Itr 1242 of 1549, perplexity: 53.361 speed: 864 wps\n",
            "Itr 1396 of 1549, perplexity: 51.978 speed: 864 wps\n",
            "Epoch 14 : Train Perplexity: 51.049\n",
            "Epoch 14 : Valid Perplexity: 120.564\n",
            "Epoch 15 : Learning rate: 0.001\n",
            "Itr 10 of 1549, perplexity: 65.952 speed: 865 wps\n",
            "Itr 164 of 1549, perplexity: 62.498 speed: 870 wps\n",
            "Itr 318 of 1549, perplexity: 61.161 speed: 865 wps\n",
            "Itr 472 of 1549, perplexity: 59.044 speed: 866 wps\n",
            "Itr 626 of 1549, perplexity: 56.469 speed: 866 wps\n",
            "Itr 780 of 1549, perplexity: 55.947 speed: 865 wps\n",
            "Itr 934 of 1549, perplexity: 55.005 speed: 865 wps\n",
            "Itr 1088 of 1549, perplexity: 54.029 speed: 865 wps\n",
            "Itr 1242 of 1549, perplexity: 53.284 speed: 864 wps\n",
            "Itr 1396 of 1549, perplexity: 51.904 speed: 864 wps\n",
            "Epoch 15 : Train Perplexity: 50.976\n",
            "Epoch 15 : Valid Perplexity: 120.459\n",
            "Test Perplexity: 115.723\n"
          ],
          "name": "stdout"
        }
      ]
    },
    {
      "cell_type": "markdown",
      "metadata": {
        "button": false,
        "deletable": true,
        "new_sheet": false,
        "run_control": {
          "read_only": false
        },
        "id": "kd-l8Jx3_BH6"
      },
      "source": [
        "As you can see, the model's perplexity rating drops very quickly after a few iterations. As was elaborated before, <b>lower Perplexity means that the model is more certain about its prediction</b>. As such, we can be sure that this model is performing well!\n"
      ]
    },
    {
      "cell_type": "markdown",
      "metadata": {
        "button": false,
        "deletable": true,
        "new_sheet": false,
        "run_control": {
          "read_only": false
        },
        "id": "K9Q-KFaL_BH6"
      },
      "source": [
        "* * *\n"
      ]
    },
    {
      "cell_type": "markdown",
      "metadata": {
        "button": false,
        "deletable": true,
        "new_sheet": false,
        "run_control": {
          "read_only": false
        },
        "id": "A3M_YLQ6_BH6"
      },
      "source": [
        "This is the end of the <b>Applying Recurrent Neural Networks to Text Processing</b> notebook. Hopefully you now have a better understanding of Recurrent Neural Networks and how to implement one utilizing TensorFlow. Thank you for reading this notebook, and good luck on your studies.\n"
      ]
    },
    {
      "cell_type": "markdown",
      "metadata": {
        "button": false,
        "deletable": true,
        "new_sheet": false,
        "run_control": {
          "read_only": false
        },
        "id": "65QLNNQf_BH7"
      },
      "source": [
        "## Want to learn more?\n",
        "\n",
        "Running deep learning programs usually needs a high performance platform. **PowerAI** speeds up deep learning and AI. Built on IBM’s Power Systems, **PowerAI** is a scalable software platform that accelerates deep learning and AI with blazing performance for individual users or enterprises. The **PowerAI** platform supports popular machine learning libraries and dependencies including TensorFlow, Caffe, Torch, and Theano. You can use [PowerAI on IMB Cloud](https://cocl.us/ML0120EN_PAI).\n",
        "\n",
        "Also, you can use **Watson Studio** to run these notebooks faster with bigger datasets.**Watson Studio** is IBM’s leading cloud solution for data scientists, built by data scientists. With Jupyter notebooks, RStudio, Apache Spark and popular libraries pre-packaged in the cloud, **Watson Studio** enables data scientists to collaborate on their projects without having to install anything. Join the fast-growing community of **Watson Studio** users today with a free account at [Watson Studio](https://cocl.us/ML0120EN_DSX).This is the end of this lesson. Thank you for reading this notebook, and good luck on your studies.\n"
      ]
    },
    {
      "cell_type": "markdown",
      "metadata": {
        "button": false,
        "deletable": true,
        "new_sheet": false,
        "run_control": {
          "read_only": false
        },
        "id": "zbVXbQ8M_BH7"
      },
      "source": [
        "### Thanks for completing this lesson!\n",
        "\n",
        "Notebook created by <a href=\"https://br.linkedin.com/in/walter-gomes-de-amorim-junior-624726121\">Walter Gomes de Amorim Junior</a>, <a href = \"https://linkedin.com/in/saeedaghabozorgi\"> Saeed Aghabozorgi </a></h4>\n",
        "\n",
        "Updated to TF 2.X by  <a href=\"https://www.linkedin.com/in/samaya-madhavan\"> Samaya Madhavan </a>\n"
      ]
    },
    {
      "cell_type": "markdown",
      "metadata": {
        "button": false,
        "deletable": true,
        "new_sheet": false,
        "run_control": {
          "read_only": false
        },
        "id": "Cmcch__D_BH8"
      },
      "source": [
        "<hr>\n",
        "\n",
        "Copyright © 2018 [Cognitive Class](https://cocl.us/DX0108EN_CC). This notebook and its source code are released under the terms of the [MIT License](https://bigdatauniversity.com/mit-license?cm_mmc=Email_Newsletter-_-Developer_Ed%2BTech-_-WW_WW-_-SkillsNetwork-Courses-IBMDeveloperSkillsNetwork-DL0120EN-SkillsNetwork-20629446&cm_mmca1=000026UJ&cm_mmca2=10006555&cm_mmca3=M12345678&cvosrc=email.Newsletter.M12345678&cvo_campaign=000026UJ&cm_mmc=Email_Newsletter-_-Developer_Ed%2BTech-_-WW_WW-_-SkillsNetwork-Courses-IBMDeveloperSkillsNetwork-DL0120EN-SkillsNetwork-20629446&cm_mmca1=000026UJ&cm_mmca2=10006555&cm_mmca3=M12345678&cvosrc=email.Newsletter.M12345678&cvo_campaign=000026UJ).\n"
      ]
    },
    {
      "cell_type": "code",
      "metadata": {
        "id": "ENTLKprc_Jff"
      },
      "source": [
        ""
      ],
      "execution_count": null,
      "outputs": []
    }
  ]
}