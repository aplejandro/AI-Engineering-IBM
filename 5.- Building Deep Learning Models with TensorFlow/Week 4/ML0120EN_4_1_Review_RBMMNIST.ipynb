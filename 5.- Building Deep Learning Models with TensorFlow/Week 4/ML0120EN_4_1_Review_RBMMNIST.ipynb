{
  "nbformat": 4,
  "nbformat_minor": 0,
  "metadata": {
    "kernelspec": {
      "display_name": "p37-dojo",
      "language": "python",
      "name": "p37-dojo"
    },
    "language_info": {
      "codemirror_mode": {
        "name": "ipython",
        "version": 3
      },
      "file_extension": ".py",
      "mimetype": "text/x-python",
      "name": "python",
      "nbconvert_exporter": "python",
      "pygments_lexer": "ipython3",
      "version": "3.7.7"
    },
    "colab": {
      "name": "ML0120EN-4.1-Review-RBMMNIST.ipynb",
      "provenance": [],
      "collapsed_sections": [
        "sPLc-JOvDcje",
        "ELoF6d10Dcje"
      ]
    }
  },
  "cells": [
    {
      "cell_type": "markdown",
      "metadata": {
        "id": "QxCPGXcMDci-"
      },
      "source": [
        "<a href=\"https://www.skills.network/\"><img src=\"https://cf-courses-data.s3.us.cloud-object-storage.appdomain.cloud/IBM-DL0120ENedX/labs/Template%20for%20Instructional%20Hands-on%20Labs/images/IDSNlogo.png\" width=\"400px\" align=\"center\"></a>\n",
        "\n",
        "<h1 align=\"center\"><font size=\"5\">RESTRICTED BOLTZMANN MACHINES</font></h1>\n"
      ]
    },
    {
      "cell_type": "markdown",
      "metadata": {
        "id": "jSu_3mcADcjB"
      },
      "source": [
        "<h3>Introduction</h3>\n",
        "<b>Restricted Boltzmann Machine (RBM):</b>  RBMs are shallow neural nets that learn to reconstruct data by themselves in an unsupervised fashion.  \n",
        "\n",
        "<h4>Why are RBMs important?</h4>\n",
        "An RBM are a basic form of autoencoder.  It can automatically extract <b>meaningful</b> features from a given input.\n",
        "\n",
        "<h4>How does it work?</h4>\n",
        "RBM is a 2 layer neural network. Simply, RBM takes the inputs and translates those into a set of binary values that represents them in the hidden layer. Then, these numbers can be translated back to reconstruct the inputs. Through several forward and backward passes, the RBM will be trained, and a trained RBM can reveal which features are the most important ones when detecting patterns.   \n",
        "\n",
        "<h4>What are the applications of an RBM?</h4>\n",
        "RBM is useful for <a href='http://www.cs.utoronto.ca/~hinton/absps/netflixICML.pdf'>  Collaborative Filtering</a>, dimensionality reduction, classification, regression, feature learning, topic modeling and even <b>Deep Belief Networks</b>.\n",
        "\n",
        "<h4>Is RBM a generative or Discriminative model?</h4>\n",
        "RBM is a generative model. Let me explain it by first, see what is different between discriminative and generative models: \n",
        "\n",
        "<b>Discriminative:</b> Consider a classification problem where we want to learn to distinguish between Sedan cars (y = 1) and SUV cars (y = 0), based on some features of cars. Given a training set, an algorithm like logistic regression tries to find a straight line, or <i>decision boundary</i>, that separates the suv and sedan.  \n",
        "\n",
        "<b>Generative:</b> looking at cars, we can build a model of what Sedan cars look like. Then, looking at SUVs, we can build a separate model of what SUV cars look like. Finally, to classify a new car, we can match the new car against the Sedan model, and match it against the SUV model, to see whether the new car looks more like the SUV or Sedan. \n",
        "\n",
        "Generative Models specify a probability distribution over a dataset of input vectors. We can carry out both supervised and unsupervised tasks with generative models:\n",
        "\n",
        "<ul>\n",
        "    <li>In an unsupervised task, we try to form a model for $P(x)$, where $P$ is the probability given $x$ as an input vector.</li>\n",
        "    <li>In the supervised task, we first form a model for $P(x|y)$, where $P$ is the probability of $x$ given $y$(the label for $x$). For example, if $y = 0$ indicates that a car is an SUV, and $y = 1$ indicates that a car is a sedan, then $p(x|y = 0)$ models the distribution of SUV features, and $p(x|y = 1)$ models the distribution of sedan features. If we manage to find $P(x|y)$ and $P(y)$, then we can use <b>Bayes rule</b> to estimate $P(y|x)$, because:   \n",
        "        $$p(y|x) = \\frac{p(x|y)p(y)}{p(x)}$$</li>\n",
        "</ul>\n",
        "Now the question is, can we build a generative model, and then use it to create synthetic data by directly sampling from the modeled probability distributions? Lets see. \n"
      ]
    },
    {
      "cell_type": "markdown",
      "metadata": {
        "id": "BHfeyDAdDcjE"
      },
      "source": [
        "<h2>Table of Contents</h2>\n",
        "<ol>\n",
        "    <li><a href=\"#ref1\">Initialization</a></li>\n",
        "    <li><a href=\"#ref2\">RBM layers</a></li>\n",
        "    <li><a href=\"#ref3\">What RBM can do after training?</a></li>\n",
        "    <li><a href=\"#ref4\">How to train the model?</a></li>\n",
        "    <li><a href=\"#ref5\">Learned features</a></li>\n",
        "</ol>\n",
        "<p></p>\n",
        "</div>\n",
        "<br>\n",
        "\n",
        "<hr>\n"
      ]
    },
    {
      "cell_type": "markdown",
      "metadata": {
        "id": "v3XezkX5DcjF"
      },
      "source": [
        "<a id=\"ref1\"></a>\n",
        "\n",
        "<h3>Initialization</h3>\n",
        "\n",
        "First, we have to load the utility file which contains different utility functions that are not connected\n",
        "in any way to the networks presented in the tutorials, but rather help in\n",
        "processing the outputs into a more understandable way.\n"
      ]
    },
    {
      "cell_type": "code",
      "metadata": {
        "id": "GzikWi3zDcjF"
      },
      "source": [
        "import urllib.request\n",
        "with urllib.request.urlopen(\"https://cf-courses-data.s3.us.cloud-object-storage.appdomain.cloud/IBMDeveloperSkillsNetwork-DL0120EN-SkillsNetwork/labs/Week4/data/utils.py\") as url:\n",
        "    response = url.read()\n",
        "target = open('utils.py', 'w')\n",
        "target.write(response.decode('utf-8'))\n",
        "target.close()"
      ],
      "execution_count": 1,
      "outputs": []
    },
    {
      "cell_type": "markdown",
      "metadata": {
        "id": "EAQmFHgDDcjG"
      },
      "source": [
        "<h2>Installing TensorFlow </h2>\n",
        "\n",
        "We will installing TensorFlow version 2.2.0 and its required prerequistes.  Also installing pillow...\n"
      ]
    },
    {
      "cell_type": "code",
      "metadata": {
        "colab": {
          "base_uri": "https://localhost:8080/"
        },
        "id": "GzrIZLz_DcjG",
        "outputId": "6ec19e58-cb1a-47ec-f6ec-443f4da48ba6"
      },
      "source": [
        "!pip install grpcio==1.24.3\n",
        "!pip install tensorflow==2.2.0\n",
        "!pip install pillow"
      ],
      "execution_count": 2,
      "outputs": [
        {
          "output_type": "stream",
          "text": [
            "Collecting grpcio==1.24.3\n",
            "\u001b[?25l  Downloading https://files.pythonhosted.org/packages/b9/ba/254011b066e6675411ba913dafd6e40ce8d3235bebf64fb226a7305f29ac/grpcio-1.24.3-cp37-cp37m-manylinux2010_x86_64.whl (2.2MB)\n",
            "\u001b[K     |████████████████████████████████| 2.2MB 5.8MB/s \n",
            "\u001b[?25hRequirement already satisfied: six>=1.5.2 in /usr/local/lib/python3.7/dist-packages (from grpcio==1.24.3) (1.15.0)\n",
            "\u001b[31mERROR: tensorflow 2.4.1 has requirement grpcio~=1.32.0, but you'll have grpcio 1.24.3 which is incompatible.\u001b[0m\n",
            "Installing collected packages: grpcio\n",
            "  Found existing installation: grpcio 1.32.0\n",
            "    Uninstalling grpcio-1.32.0:\n",
            "      Successfully uninstalled grpcio-1.32.0\n",
            "Successfully installed grpcio-1.24.3\n",
            "Collecting tensorflow==2.2.0\n",
            "\u001b[?25l  Downloading https://files.pythonhosted.org/packages/4c/1a/0d79814736cfecc825ab8094b39648cc9c46af7af1bae839928acb73b4dd/tensorflow-2.2.0-cp37-cp37m-manylinux2010_x86_64.whl (516.2MB)\n",
            "\u001b[K     |████████████████████████████████| 516.2MB 32kB/s \n",
            "\u001b[?25hRequirement already satisfied: wrapt>=1.11.1 in /usr/local/lib/python3.7/dist-packages (from tensorflow==2.2.0) (1.12.1)\n",
            "Requirement already satisfied: astunparse==1.6.3 in /usr/local/lib/python3.7/dist-packages (from tensorflow==2.2.0) (1.6.3)\n",
            "Requirement already satisfied: gast==0.3.3 in /usr/local/lib/python3.7/dist-packages (from tensorflow==2.2.0) (0.3.3)\n",
            "Requirement already satisfied: termcolor>=1.1.0 in /usr/local/lib/python3.7/dist-packages (from tensorflow==2.2.0) (1.1.0)\n",
            "Requirement already satisfied: absl-py>=0.7.0 in /usr/local/lib/python3.7/dist-packages (from tensorflow==2.2.0) (0.12.0)\n",
            "Requirement already satisfied: wheel>=0.26; python_version >= \"3\" in /usr/local/lib/python3.7/dist-packages (from tensorflow==2.2.0) (0.36.2)\n",
            "Requirement already satisfied: numpy<2.0,>=1.16.0 in /usr/local/lib/python3.7/dist-packages (from tensorflow==2.2.0) (1.19.5)\n",
            "Requirement already satisfied: opt-einsum>=2.3.2 in /usr/local/lib/python3.7/dist-packages (from tensorflow==2.2.0) (3.3.0)\n",
            "Requirement already satisfied: six>=1.12.0 in /usr/local/lib/python3.7/dist-packages (from tensorflow==2.2.0) (1.15.0)\n",
            "Requirement already satisfied: scipy==1.4.1; python_version >= \"3\" in /usr/local/lib/python3.7/dist-packages (from tensorflow==2.2.0) (1.4.1)\n",
            "Requirement already satisfied: protobuf>=3.8.0 in /usr/local/lib/python3.7/dist-packages (from tensorflow==2.2.0) (3.12.4)\n",
            "Collecting tensorflow-estimator<2.3.0,>=2.2.0\n",
            "\u001b[?25l  Downloading https://files.pythonhosted.org/packages/a4/f5/926ae53d6a226ec0fda5208e0e581cffed895ccc89e36ba76a8e60895b78/tensorflow_estimator-2.2.0-py2.py3-none-any.whl (454kB)\n",
            "\u001b[K     |████████████████████████████████| 460kB 44.8MB/s \n",
            "\u001b[?25hCollecting tensorboard<2.3.0,>=2.2.0\n",
            "\u001b[?25l  Downloading https://files.pythonhosted.org/packages/1d/74/0a6fcb206dcc72a6da9a62dd81784bfdbff5fedb099982861dc2219014fb/tensorboard-2.2.2-py3-none-any.whl (3.0MB)\n",
            "\u001b[K     |████████████████████████████████| 3.0MB 49.0MB/s \n",
            "\u001b[?25hRequirement already satisfied: h5py<2.11.0,>=2.10.0 in /usr/local/lib/python3.7/dist-packages (from tensorflow==2.2.0) (2.10.0)\n",
            "Requirement already satisfied: keras-preprocessing>=1.1.0 in /usr/local/lib/python3.7/dist-packages (from tensorflow==2.2.0) (1.1.2)\n",
            "Requirement already satisfied: google-pasta>=0.1.8 in /usr/local/lib/python3.7/dist-packages (from tensorflow==2.2.0) (0.2.0)\n",
            "Requirement already satisfied: grpcio>=1.8.6 in /usr/local/lib/python3.7/dist-packages (from tensorflow==2.2.0) (1.24.3)\n",
            "Requirement already satisfied: setuptools in /usr/local/lib/python3.7/dist-packages (from protobuf>=3.8.0->tensorflow==2.2.0) (56.0.0)\n",
            "Requirement already satisfied: markdown>=2.6.8 in /usr/local/lib/python3.7/dist-packages (from tensorboard<2.3.0,>=2.2.0->tensorflow==2.2.0) (3.3.4)\n",
            "Requirement already satisfied: requests<3,>=2.21.0 in /usr/local/lib/python3.7/dist-packages (from tensorboard<2.3.0,>=2.2.0->tensorflow==2.2.0) (2.23.0)\n",
            "Requirement already satisfied: tensorboard-plugin-wit>=1.6.0 in /usr/local/lib/python3.7/dist-packages (from tensorboard<2.3.0,>=2.2.0->tensorflow==2.2.0) (1.8.0)\n",
            "Requirement already satisfied: werkzeug>=0.11.15 in /usr/local/lib/python3.7/dist-packages (from tensorboard<2.3.0,>=2.2.0->tensorflow==2.2.0) (1.0.1)\n",
            "Requirement already satisfied: google-auth<2,>=1.6.3 in /usr/local/lib/python3.7/dist-packages (from tensorboard<2.3.0,>=2.2.0->tensorflow==2.2.0) (1.28.1)\n",
            "Requirement already satisfied: google-auth-oauthlib<0.5,>=0.4.1 in /usr/local/lib/python3.7/dist-packages (from tensorboard<2.3.0,>=2.2.0->tensorflow==2.2.0) (0.4.4)\n",
            "Requirement already satisfied: importlib-metadata; python_version < \"3.8\" in /usr/local/lib/python3.7/dist-packages (from markdown>=2.6.8->tensorboard<2.3.0,>=2.2.0->tensorflow==2.2.0) (3.10.1)\n",
            "Requirement already satisfied: urllib3!=1.25.0,!=1.25.1,<1.26,>=1.21.1 in /usr/local/lib/python3.7/dist-packages (from requests<3,>=2.21.0->tensorboard<2.3.0,>=2.2.0->tensorflow==2.2.0) (1.24.3)\n",
            "Requirement already satisfied: certifi>=2017.4.17 in /usr/local/lib/python3.7/dist-packages (from requests<3,>=2.21.0->tensorboard<2.3.0,>=2.2.0->tensorflow==2.2.0) (2020.12.5)\n",
            "Requirement already satisfied: idna<3,>=2.5 in /usr/local/lib/python3.7/dist-packages (from requests<3,>=2.21.0->tensorboard<2.3.0,>=2.2.0->tensorflow==2.2.0) (2.10)\n",
            "Requirement already satisfied: chardet<4,>=3.0.2 in /usr/local/lib/python3.7/dist-packages (from requests<3,>=2.21.0->tensorboard<2.3.0,>=2.2.0->tensorflow==2.2.0) (3.0.4)\n",
            "Requirement already satisfied: rsa<5,>=3.1.4; python_version >= \"3.6\" in /usr/local/lib/python3.7/dist-packages (from google-auth<2,>=1.6.3->tensorboard<2.3.0,>=2.2.0->tensorflow==2.2.0) (4.7.2)\n",
            "Requirement already satisfied: cachetools<5.0,>=2.0.0 in /usr/local/lib/python3.7/dist-packages (from google-auth<2,>=1.6.3->tensorboard<2.3.0,>=2.2.0->tensorflow==2.2.0) (4.2.1)\n",
            "Requirement already satisfied: pyasn1-modules>=0.2.1 in /usr/local/lib/python3.7/dist-packages (from google-auth<2,>=1.6.3->tensorboard<2.3.0,>=2.2.0->tensorflow==2.2.0) (0.2.8)\n",
            "Requirement already satisfied: requests-oauthlib>=0.7.0 in /usr/local/lib/python3.7/dist-packages (from google-auth-oauthlib<0.5,>=0.4.1->tensorboard<2.3.0,>=2.2.0->tensorflow==2.2.0) (1.3.0)\n",
            "Requirement already satisfied: typing-extensions>=3.6.4; python_version < \"3.8\" in /usr/local/lib/python3.7/dist-packages (from importlib-metadata; python_version < \"3.8\"->markdown>=2.6.8->tensorboard<2.3.0,>=2.2.0->tensorflow==2.2.0) (3.7.4.3)\n",
            "Requirement already satisfied: zipp>=0.5 in /usr/local/lib/python3.7/dist-packages (from importlib-metadata; python_version < \"3.8\"->markdown>=2.6.8->tensorboard<2.3.0,>=2.2.0->tensorflow==2.2.0) (3.4.1)\n",
            "Requirement already satisfied: pyasn1>=0.1.3 in /usr/local/lib/python3.7/dist-packages (from rsa<5,>=3.1.4; python_version >= \"3.6\"->google-auth<2,>=1.6.3->tensorboard<2.3.0,>=2.2.0->tensorflow==2.2.0) (0.4.8)\n",
            "Requirement already satisfied: oauthlib>=3.0.0 in /usr/local/lib/python3.7/dist-packages (from requests-oauthlib>=0.7.0->google-auth-oauthlib<0.5,>=0.4.1->tensorboard<2.3.0,>=2.2.0->tensorflow==2.2.0) (3.1.0)\n",
            "Installing collected packages: tensorflow-estimator, tensorboard, tensorflow\n",
            "  Found existing installation: tensorflow-estimator 2.4.0\n",
            "    Uninstalling tensorflow-estimator-2.4.0:\n",
            "      Successfully uninstalled tensorflow-estimator-2.4.0\n",
            "  Found existing installation: tensorboard 2.4.1\n",
            "    Uninstalling tensorboard-2.4.1:\n",
            "      Successfully uninstalled tensorboard-2.4.1\n",
            "  Found existing installation: tensorflow 2.4.1\n",
            "    Uninstalling tensorflow-2.4.1:\n",
            "      Successfully uninstalled tensorflow-2.4.1\n",
            "Successfully installed tensorboard-2.2.2 tensorflow-2.2.0 tensorflow-estimator-2.2.0\n",
            "Requirement already satisfied: pillow in /usr/local/lib/python3.7/dist-packages (7.1.2)\n"
          ],
          "name": "stdout"
        }
      ]
    },
    {
      "cell_type": "markdown",
      "metadata": {
        "id": "_KDGRlxTDcjH"
      },
      "source": [
        "<b>Notice:</b> This notebook has been created with TensorFlow version 2.2, and might not work with other versions. Therefore we check:\n"
      ]
    },
    {
      "cell_type": "code",
      "metadata": {
        "id": "I8-2znLuDcjH"
      },
      "source": [
        "import tensorflow as tf\n",
        "from IPython.display import Markdown, display\n",
        "\n",
        "def printmd(string):\n",
        "    display(Markdown('# <span style=\"color:red\">'+string+'</span>'))\n",
        "\n",
        "\n",
        "if not tf.__version__ == '2.2.0':\n",
        "    printmd('<<<<<!!!!! ERROR !!!! please upgrade to TensorFlow 2.2.0, or restart your Kernel (Kernel->Restart & Clear Output)>>>>>')"
      ],
      "execution_count": 3,
      "outputs": []
    },
    {
      "cell_type": "markdown",
      "metadata": {
        "id": "iU4g7uwQDcjI"
      },
      "source": [
        "Now, we load in all the packages that we use to create the net including the TensorFlow package:\n"
      ]
    },
    {
      "cell_type": "code",
      "metadata": {
        "id": "uetPMI98DcjJ"
      },
      "source": [
        "import tensorflow as tf\n",
        "import numpy as np\n",
        "\n",
        "from PIL import Image\n",
        "from utils import tile_raster_images\n",
        "import matplotlib.pyplot as plt\n",
        "%matplotlib inline"
      ],
      "execution_count": 4,
      "outputs": []
    },
    {
      "cell_type": "markdown",
      "metadata": {
        "id": "gGGlocLODcjJ"
      },
      "source": [
        "<hr>\n"
      ]
    },
    {
      "cell_type": "markdown",
      "metadata": {
        "id": "PeUV3MQRDcjJ"
      },
      "source": [
        "<a id=\"ref2\"></a>\n",
        "\n",
        "<h3>RBM layers</h3>\n",
        "\n",
        "An RBM has two layers. The first layer of the RBM is called the <b>visible</b> (or input layer). Imagine that our toy example, has only vectors with 7 values, so the visible layer must have $V=7$ input nodes. \n",
        "The second layer is the <b>hidden</b> layer, which has $H$ neurons in our case. Each hidden node takes on values of either 0 or 1 (i.e., $h_i = 1$ or $h_i$ = 0), with a probability that is a logistic function of the inputs it receives from the other $V$ visible units, called for example, $p(h_i = 1)$. For our toy sample, we'll use 2 nodes in the hidden layer, so $H = 2$.\n",
        "\n",
        "<center><img src=\"https://ibm.box.com/shared/static/eu26opvcefgls6vnwuo29uwp0nudmokh.png\" alt=\"RBM Model\" style=\"width: 400px;\"></center>\n"
      ]
    },
    {
      "cell_type": "markdown",
      "metadata": {
        "id": "wfCaXbGMDcjK"
      },
      "source": [
        "Each node in the first layer also has a <b>bias</b>. We will denote the bias as $v_{bias}$, and this single value is shared among the $V$ visible units.\n",
        "\n",
        "The <b>bias</b> of the second is defined similarly as $h_{bias}$, and this single value among the $H$ hidden units.\n"
      ]
    },
    {
      "cell_type": "code",
      "metadata": {
        "id": "2aYSLQQmDcjK"
      },
      "source": [
        "v_bias = tf.Variable(tf.zeros([7]), tf.float32)\n",
        "h_bias = tf.Variable(tf.zeros([2]), tf.float32)"
      ],
      "execution_count": 5,
      "outputs": []
    },
    {
      "cell_type": "markdown",
      "metadata": {
        "id": "NrizovWdDcjL"
      },
      "source": [
        "We have to define weights among the input layer and hidden layer nodes. In the weight matrix, the number of rows are equal to the input nodes, and the number of columns are equal to the output nodes. We define a tensor $\\mathbf{W}$ of shape = (7,2), where the number of visible neurons = 7, and the number of hidden neurons = 2. \n"
      ]
    },
    {
      "cell_type": "code",
      "metadata": {
        "id": "ZoOIcIRkDcjL"
      },
      "source": [
        "W = tf.constant(np.random.normal(loc=0.0, scale=1.0, size=(7, 2)).astype(np.float32))"
      ],
      "execution_count": 6,
      "outputs": []
    },
    {
      "cell_type": "markdown",
      "metadata": {
        "id": "_Hn9jHIWDcjL"
      },
      "source": [
        "<hr>\n"
      ]
    },
    {
      "cell_type": "markdown",
      "metadata": {
        "id": "6sXfShQcDcjM"
      },
      "source": [
        "<a id=\"ref3\"></a>\n",
        "\n",
        "<h3>What RBM can do after training?</h3>\n",
        "Think of RBM as a model that has been trained based on images of a dataset of many SUV and sedan cars. Also, imagine that the RBM network has only two hidden nodes, where one node encodes the weight and, and the other encodes the size.  \n",
        "In a sense, the different configurations represent different cars, where one is an SUV and the other is Sedan.  In a training process, through many forward and backward passes, the RBM adjust its weights to send a stronger signal to either the SUV node (0, 1) or the sedan node (1, 0) in the hidden layer, given the pixels of images. Now, given an SUV in hidden layer, which distribution of pixels should we expect? RBM can give you 2 things. First, it encodes your images in hidden layer. Second, it gives you the probability of observing a case, given some hidden values.\n",
        "\n",
        "<h3>The Inference Process</h3>\n",
        "\n",
        "RBM has two phases:\n",
        "\n",
        "<ul>\n",
        "    <li>Forward Pass</li>  \n",
        "    <li>Backward Pass or Reconstruction</li>\n",
        "</ul>\n",
        "\n",
        "<b>Phase 1) Forward pass:</b>  \n",
        "\n",
        "Input one training sample (one image) $\\mathbf{x}$ through all visible nodes, and pass it to all hidden nodes. Processing happens in each node in the hidden layer. This computation begins by making stochastic decisions about whether to transmit that input or not (i.e. to determine the state of each hidden layer).  First, the probability vector is computed using the input feature vector $\\mathbf{x}$, the weight matrix $\\mathbf{W}$, and the bias term $h_{bias}$, as \n",
        "\n",
        "$p({h_j}|\\mathbf x)= \\sigma(\\sum_{i=1}^V W_{ij} x_i + h_{bias} )$, \n",
        "\n",
        "where $\\sigma(z) = (1+e^{-z})^{-1}$ is the logistic function.\n",
        "\n",
        "So, what does $p({h_j})$ represent? It is the <b>probability distribution</b> of the hidden units. That is, RBM uses inputs $x_i$ to make predictions about hidden node activations. For example, imagine that the hidden node activation values are [0.51 0.84] for the first training item. It tells you that the conditional probability for each hidden neuron for Phase 1 is: \n",
        "\n",
        "$$p(h_{1} = 1|\\mathbf{v}) = 0.51$$\n",
        "$$p(h_{2} = 1|\\mathbf{v}) = 0.84$$\n",
        "\n",
        "As a result, for each row in the training set, vector of probabilities is generated.  In TensorFlow, this is referred to as a `tensor` with a shape of (1,2). \n",
        "\n",
        "We then turn unit $j$ with probability $p(h_{j}|\\mathbf{v})$, and turn it off with probability $1 - p(h_{j}|\\mathbf{v})$ by generating a uniform random number vector $\\mathbf{\\xi}$, and comparing it to the activation probability as \n",
        "\n",
        "<center>If $\\xi_j>p(h_{j}|\\mathbf{v})$, then $h_j=1$, else $h_j=0$.</center>\n",
        "\n",
        "Therefore, the conditional probability of a configuration of $\\mathbf{h}$ given $\\mathbf{v}$ (for a training sample) is:\n",
        "\n",
        "$$p(\\mathbf{h} \\mid \\mathbf{v}) = \\prod_{j=1}^H p(h_j \\mid \\mathbf{v})$$\n",
        "\n",
        "where $H$ is the number of hidden units.\n"
      ]
    },
    {
      "cell_type": "markdown",
      "metadata": {
        "id": "bBJdNMl_DcjN"
      },
      "source": [
        "Before we go further, let's look at a toy example for one case out of all input. Assume that we have a trained RBM, and a very simple input vector, such as [1.0, 0.0, 0.0, 1.0, 0.0, 0.0, 0.0].  \n",
        "Let's see what the output of forward pass would look like:\n"
      ]
    },
    {
      "cell_type": "code",
      "metadata": {
        "colab": {
          "base_uri": "https://localhost:8080/"
        },
        "id": "phqJsw3PDcjO",
        "outputId": "49e68e1b-2913-4eb7-aeaf-0fbd63cb4f3b"
      },
      "source": [
        "X = tf.constant([[1.0, 0.0, 0.0, 1.0, 0.0, 0.0, 0.0]], tf.float32)\n",
        "\n",
        "v_state = X\n",
        "print (\"Input: \", v_state)\n",
        "\n",
        "h_bias = tf.constant([0.1, 0.1])\n",
        "print (\"hb: \", h_bias)\n",
        "print (\"w: \", W)\n",
        "\n",
        "# Calculate the probabilities of turning the hidden units on:\n",
        "h_prob = tf.nn.sigmoid(tf.matmul(v_state, W) + h_bias)  #probabilities of the hidden units\n",
        "print (\"p(h|v): \", h_prob)\n",
        "\n",
        "# Draw samples from the distribution:\n",
        "h_state = tf.nn.relu(tf.sign(h_prob - tf.random.uniform(tf.shape(h_prob)))) #states\n",
        "print (\"h0 states:\", h_state)"
      ],
      "execution_count": 7,
      "outputs": [
        {
          "output_type": "stream",
          "text": [
            "Input:  tf.Tensor([[1. 0. 0. 1. 0. 0. 0.]], shape=(1, 7), dtype=float32)\n",
            "hb:  tf.Tensor([0.1 0.1], shape=(2,), dtype=float32)\n",
            "w:  tf.Tensor(\n",
            "[[-1.8392566  -0.7346896 ]\n",
            " [-0.1768831  -0.03810632]\n",
            " [-1.9036758   0.5883395 ]\n",
            " [ 0.48793724  1.884205  ]\n",
            " [ 0.2880263   1.7729052 ]\n",
            " [-0.62101567 -0.02081893]\n",
            " [-0.15519913 -0.02494687]], shape=(7, 2), dtype=float32)\n",
            "p(h|v):  tf.Tensor([[0.22247182 0.777216  ]], shape=(1, 2), dtype=float32)\n",
            "h0 states: tf.Tensor([[0. 1.]], shape=(1, 2), dtype=float32)\n"
          ],
          "name": "stdout"
        }
      ]
    },
    {
      "cell_type": "markdown",
      "metadata": {
        "id": "BWb0wFHfDcjO"
      },
      "source": [
        "<b>Phase 2) Backward Pass (Reconstruction):</b>\n",
        "The RBM reconstructs data by making several forward and backward passes between the visible and hidden layers.\n",
        "\n",
        "So, in the second phase (i.e. reconstruction phase), the samples from the hidden layer (i.e. $\\mathbf h$) becomes the input in the backward pass. The same weight matrix and visible layer biases are used to passed to the sigmoid function. The reproduced output is a reconstruction which is an approximation of the original input.\n"
      ]
    },
    {
      "cell_type": "code",
      "metadata": {
        "colab": {
          "base_uri": "https://localhost:8080/"
        },
        "id": "NyZ9TCDZDcjP",
        "outputId": "b653ebdd-e042-43fd-962d-09745790c920"
      },
      "source": [
        "vb = tf.constant([0.1, 0.2, 0.1, 0.1, 0.1, 0.2, 0.1])\n",
        "print (\"b: \", vb)\n",
        "v_prob = tf.nn.sigmoid(tf.matmul(h_state, tf.transpose(W)) + vb)\n",
        "print (\"p(vi∣h): \", v_prob)\n",
        "v_state = tf.nn.relu(tf.sign(v_prob - tf.random.uniform(tf.shape(v_prob))))\n",
        "print (\"v probability states: \", v_state)"
      ],
      "execution_count": 8,
      "outputs": [
        {
          "output_type": "stream",
          "text": [
            "b:  tf.Tensor([0.1 0.2 0.1 0.1 0.1 0.2 0.1], shape=(7,), dtype=float32)\n",
            "p(vi∣h):  tf.Tensor(\n",
            "[[0.34644794 0.54038525 0.6655974  0.8791287  0.8667941  0.54467577\n",
            "  0.5187545 ]], shape=(1, 7), dtype=float32)\n",
            "v probability states:  tf.Tensor([[0. 0. 0. 0. 1. 0. 0.]], shape=(1, 7), dtype=float32)\n"
          ],
          "name": "stdout"
        }
      ]
    },
    {
      "cell_type": "markdown",
      "metadata": {
        "id": "tO-Sc_ZpDcjP"
      },
      "source": [
        "RBM learns a probability distribution over the input, and then, after being trained, the RBM can generate new samples from the learned probability distribution. As you know, <b>probability distribution</b>, is a mathematical function that provides the probabilities of occurrence of different possible outcomes in an experiment.\n",
        "\n",
        "The (conditional) probability distribution over the visible units v is given by\n",
        "\n",
        "$p(\\mathbf{v} \\mid \\mathbf{h}) = \\prod_{i=1}^V p(v_i \\mid \\mathbf{h}),$\n",
        "\n",
        "where,\n",
        "\n",
        "$p(v_i \\mid \\mathbf{h}) = \\sigma\\left(\\sum_{j=1}^H W_{ji} h_j + v_{bias} \\right)$\n",
        "\n",
        "so, given current state of hidden units and weights, what is the probability of generating [1. 0. 0. 1. 0. 0. 0.] in reconstruction phase, based on the above <b>probability distribution</b> function?\n"
      ]
    },
    {
      "cell_type": "code",
      "metadata": {
        "colab": {
          "base_uri": "https://localhost:8080/"
        },
        "id": "iV-ngtCMDcjQ",
        "outputId": "9b32dec1-81cf-4e5e-b871-fafd75c57b08"
      },
      "source": [
        "inp = X\n",
        "print(\"input X:\" , inp.numpy())\n",
        "\n",
        "print(\"probablity vector:\" , v_prob[0].numpy())\n",
        "v_probability = 1\n",
        "\n",
        "for elm, p in zip(inp[0],v_prob[0]) :\n",
        "    if elm ==1:\n",
        "        v_probability *= p\n",
        "    else:\n",
        "        v_probability *= (1-p)\n",
        "\n",
        "print(\"probability of generating X: \" , v_probability.numpy())"
      ],
      "execution_count": 9,
      "outputs": [
        {
          "output_type": "stream",
          "text": [
            "input X: [[1. 0. 0. 1. 0. 0. 0.]]\n",
            "probablity vector: [0.34644794 0.54038525 0.6655974  0.8791287  0.8667941  0.54467577\n",
            " 0.5187545 ]\n",
            "probability of generating X:  0.0013663594\n"
          ],
          "name": "stdout"
        }
      ]
    },
    {
      "cell_type": "markdown",
      "metadata": {
        "id": "Qt4pTy1SDcjQ"
      },
      "source": [
        "How similar are vectors $\\mathbf{x}$ and $\\mathbf{v}$? Of course, the reconstructed values most likely will not look anything like the input vector, because our network has not been trained yet. Our objective is to train the model in such a way that the input vector and reconstructed vector to be same. Therefore, based on how different the input values look to the ones that we just reconstructed, the weights are adjusted. \n"
      ]
    },
    {
      "cell_type": "markdown",
      "metadata": {
        "id": "YxlakqvJDcjR"
      },
      "source": [
        "<hr>\n"
      ]
    },
    {
      "cell_type": "markdown",
      "metadata": {
        "id": "Y-APlXBnDcjR"
      },
      "source": [
        "<h2>MNIST</h2>\n"
      ]
    },
    {
      "cell_type": "markdown",
      "metadata": {
        "id": "n8qR21_CDcjR"
      },
      "source": [
        "We will be using the MNIST dataset to practice the usage of RBMs. The following cell loads the MNIST dataset.\n"
      ]
    },
    {
      "cell_type": "code",
      "metadata": {
        "colab": {
          "base_uri": "https://localhost:8080/"
        },
        "id": "he70Kp7iDcjR",
        "outputId": "ac7042a1-9e6f-4ce6-d016-35a1a353d6ab"
      },
      "source": [
        "#loading training and test data\n",
        "mnist = tf.keras.datasets.mnist\n",
        "(trX, trY), (teX, teY) = mnist.load_data()\n",
        "\n",
        "# showing an example of the Flatten class and operation\n",
        "from tensorflow.keras.layers import Flatten\n",
        "flatten = Flatten(dtype='float32')\n",
        "trX = flatten(trX/255.0)\n",
        "trY = flatten(trY/255.0)"
      ],
      "execution_count": 10,
      "outputs": [
        {
          "output_type": "stream",
          "text": [
            "Downloading data from https://storage.googleapis.com/tensorflow/tf-keras-datasets/mnist.npz\n",
            "11493376/11490434 [==============================] - 0s 0us/step\n"
          ],
          "name": "stdout"
        }
      ]
    },
    {
      "cell_type": "markdown",
      "metadata": {
        "id": "Y0biMyhXDcjS"
      },
      "source": [
        "Lets look at the dimension of the images.\n"
      ]
    },
    {
      "cell_type": "markdown",
      "metadata": {
        "id": "4wP1vjJ3DcjS"
      },
      "source": [
        "MNIST images have 784 pixels, so the visible layer must have 784 input nodes.  For our case, we'll use 50 nodes in the hidden layer, so i = 50.\n"
      ]
    },
    {
      "cell_type": "code",
      "metadata": {
        "jupyter": {
          "outputs_hidden": true
        },
        "id": "NqPdsW-sDcjS"
      },
      "source": [
        "vb = tf.Variable(tf.zeros([784]), tf.float32)\n",
        "hb = tf.Variable(tf.zeros([50]), tf.float32)"
      ],
      "execution_count": 11,
      "outputs": []
    },
    {
      "cell_type": "markdown",
      "metadata": {
        "id": "DYDDK70NDcjS"
      },
      "source": [
        "Let $\\mathbf W$ be the Tensor of 784x50 (784 - number of visible neurons, 50 - number of hidden neurons) that represents weights between the neurons. \n"
      ]
    },
    {
      "cell_type": "code",
      "metadata": {
        "jupyter": {
          "outputs_hidden": true
        },
        "id": "a5aDePpnDcjT"
      },
      "source": [
        "W = tf.Variable(tf.zeros([784,50]), tf.float32)"
      ],
      "execution_count": 12,
      "outputs": []
    },
    {
      "cell_type": "markdown",
      "metadata": {
        "id": "prvzFmwCDcjT"
      },
      "source": [
        "Lets define the visible layer:\n"
      ]
    },
    {
      "cell_type": "code",
      "metadata": {
        "colab": {
          "base_uri": "https://localhost:8080/"
        },
        "id": "5aqKAAEWDcjT",
        "outputId": "fc687317-c359-47fe-9a7f-268c168abdd0"
      },
      "source": [
        "v0_state = tf.Variable(tf.zeros([784]), tf.float32)\n",
        "\n",
        "#testing to see if the matrix product works\n",
        "tf.matmul( [v0_state], W)"
      ],
      "execution_count": 13,
      "outputs": [
        {
          "output_type": "execute_result",
          "data": {
            "text/plain": [
              "<tf.Tensor: shape=(1, 50), dtype=float32, numpy=\n",
              "array([[0., 0., 0., 0., 0., 0., 0., 0., 0., 0., 0., 0., 0., 0., 0., 0.,\n",
              "        0., 0., 0., 0., 0., 0., 0., 0., 0., 0., 0., 0., 0., 0., 0., 0.,\n",
              "        0., 0., 0., 0., 0., 0., 0., 0., 0., 0., 0., 0., 0., 0., 0., 0.,\n",
              "        0., 0.]], dtype=float32)>"
            ]
          },
          "metadata": {
            "tags": []
          },
          "execution_count": 13
        }
      ]
    },
    {
      "cell_type": "markdown",
      "metadata": {
        "id": "of7pWFpbDcjT"
      },
      "source": [
        "Now, we can define hidden layer:\n"
      ]
    },
    {
      "cell_type": "code",
      "metadata": {
        "colab": {
          "base_uri": "https://localhost:8080/"
        },
        "id": "M5x3Lo9sDcjU",
        "outputId": "b20630c0-a21b-4f9d-ba2e-a28d86593436"
      },
      "source": [
        "#computing the hidden nodes probability vector and checking shape\n",
        "h0_prob = tf.nn.sigmoid(tf.matmul([v0_state], W) + hb)  #probabilities of the hidden units\n",
        "print(\"h0_state shape: \" , tf.shape(h0_prob))\n",
        "\n",
        "#defining a function to return only the generated hidden states \n",
        "def hidden_layer(v0_state, W, hb):\n",
        "    h0_prob = tf.nn.sigmoid(tf.matmul([v0_state], W) + hb)  #probabilities of the hidden units\n",
        "    h0_state = tf.nn.relu(tf.sign(h0_prob - tf.random.uniform(tf.shape(h0_prob)))) #sample_h_given_X\n",
        "    return h0_state\n",
        "\n",
        "\n",
        "h0_state = hidden_layer(v0_state, W, hb)\n",
        "print(\"first 15 hidden states: \", h0_state[0][0:15])"
      ],
      "execution_count": 14,
      "outputs": [
        {
          "output_type": "stream",
          "text": [
            "h0_state shape:  tf.Tensor([ 1 50], shape=(2,), dtype=int32)\n",
            "first 15 hidden states:  tf.Tensor([1. 1. 1. 0. 1. 0. 1. 1. 0. 0. 1. 1. 1. 1. 1.], shape=(15,), dtype=float32)\n"
          ],
          "name": "stdout"
        }
      ]
    },
    {
      "cell_type": "markdown",
      "metadata": {
        "id": "gUPp5QTADcjU"
      },
      "source": [
        "Now, we define reconstruction part:\n"
      ]
    },
    {
      "cell_type": "code",
      "metadata": {
        "colab": {
          "base_uri": "https://localhost:8080/"
        },
        "id": "ATiE-DCJDcjU",
        "outputId": "567a14fa-5a34-4e39-bb96-6f902d33dc0c"
      },
      "source": [
        "def reconstructed_output(h0_state, W, vb):\n",
        "    v1_prob = tf.nn.sigmoid(tf.matmul(h0_state, tf.transpose(W)) + vb) \n",
        "    v1_state = tf.nn.relu(tf.sign(v1_prob - tf.random.uniform(tf.shape(v1_prob)))) #sample_v_given_h\n",
        "    return v1_state[0]\n",
        "\n",
        "v1_state = reconstructed_output(h0_state, W, vb)\n",
        "print(\"hidden state shape: \", h0_state.shape)\n",
        "print(\"v0 state shape:  \", v0_state.shape)\n",
        "print(\"v1 state shape:  \", v1_state.shape)"
      ],
      "execution_count": 15,
      "outputs": [
        {
          "output_type": "stream",
          "text": [
            "hidden state shape:  (1, 50)\n",
            "v0 state shape:   (784,)\n",
            "v1 state shape:   (784,)\n"
          ],
          "name": "stdout"
        }
      ]
    },
    {
      "cell_type": "markdown",
      "metadata": {
        "id": "i13ekN3sDcjV"
      },
      "source": [
        "<h3>What is the objective function?</h3>\n",
        "\n",
        "<b>Goal</b>: Maximize the likelihood of our data being drawn from that distribution\n",
        "\n",
        "<b>Calculate error:</b>  \n",
        "In each epoch, we compute the \"error\" as a sum of the squared difference between step 1 and step n,\n",
        "e.g the error shows the difference between the data and its reconstruction.\n",
        "\n",
        "<b>Note:</b> tf.reduce_mean computes the mean of elements across dimensions of a tensor.\n"
      ]
    },
    {
      "cell_type": "code",
      "metadata": {
        "colab": {
          "base_uri": "https://localhost:8080/"
        },
        "id": "Qv7Nt0fuDcjV",
        "outputId": "e29a60be-540a-47de-e622-8235678b28e1"
      },
      "source": [
        "def error(v0_state, v1_state):\n",
        "    return tf.reduce_mean(tf.square(v0_state - v1_state))\n",
        "\n",
        "err = tf.reduce_mean(tf.square(v0_state - v1_state))\n",
        "print(\"error\" , err.numpy())"
      ],
      "execution_count": 16,
      "outputs": [
        {
          "output_type": "stream",
          "text": [
            "error 0.4987245\n"
          ],
          "name": "stdout"
        }
      ]
    },
    {
      "cell_type": "markdown",
      "metadata": {
        "id": "tphtJckJDcjV"
      },
      "source": [
        "<a id=\"ref4\"></a>\n",
        "\n",
        "<h3>Training the Model</h3>\n",
        "<b>Warning...</b> The following part is math-heavy, but you can skip it if you just want to run the cells in the next section.\n",
        "\n",
        "As mentioned, we want to give a high probability to the input data we train on. So, in order to train an RBM, we have to maximize the product of probabilities assigned to all rows $\\mathbf{v}$ (images) in the training set $\\mathbf{V}$ (a matrix, where each row of it is treated as a visible vector $\\mathbf{v}$)\n",
        "\n",
        "$$\\arg\\max_W\\prod_{\\mathbf{v}\\in\\mathbf{V}_T}p(\\mathbf{v}),$$\n",
        "\n",
        "which is equivalent to maximizing the expectation of the log probability, given as\n",
        "\n",
        "$$\\arg\\max_W\\left[ \\mathbb{E} \\left(\\prod_{\\mathbf v\\in \\mathbf V}\\text{log} \\left(p(\\mathbf v)\\right) \\right) \\right].$$\n",
        "\n",
        "So, we have to update the weights $W_{ij}$  to increase $p(\\mathbf{v})$ for all $\\mathbf{v}$ in our training data during training. So we have to calculate the derivative:\n",
        "\n",
        "$$\\frac{\\partial \\log p(\\mathbf v)}{\\partial W_{ij}}$$\n",
        "\n",
        "This cannot be easily done by typical <b>gradient descent (SGD)</b>, so we can use another approach, which has 2 steps:\n",
        "\n",
        "<ol>\n",
        "    <li>Gibbs Sampling</li>\n",
        "    <li>Contrastive Divergence</li>\n",
        "</ol>    \n",
        "    \n",
        "<h3>Gibbs Sampling</h3>   \n",
        "\n",
        "<h4>Gibbs Sampling Step 1</h4> \n",
        "Given an input vector $\\mathbf{v}$, we are using $p(\\mathbf{h}|\\mathbf{v})$ to predict the hidden values $\\mathbf{h}$. \n",
        "  $$p({h_j}|\\mathbf v)= \\sigma\\left(\\sum_{i=1}^V W_{ij} v_i + h_{bias} \\right)$$\n",
        "The samples are generated from this distribution by generating the uniform random variate vector $\\mathbf{\\xi} \\sim U[0,1]$ of length $H$ and comparing to the computed probabilities as\n",
        "\n",
        "<center>If $\\xi_j>p(h_{j}|\\mathbf{v})$, then $h_j=1$, else $h_j=0$.</center>\n",
        "\n",
        "<h4>Gibbs Sampling Step 2</h4> \n",
        "Then, knowing the hidden values, we use $p(\\mathbf v| \\mathbf h)$ for reconstructing of new input values v. \n",
        "\n",
        "   $$p({v_i}|\\mathbf h)= \\sigma\\left(\\sum_{j=1}^H W^{T}_{ij} h_j + v_{bias} \\right)$$\n",
        "\n",
        "The samples are generated from this distribution by generating a uniform random variate vector $\\mathbf{\\xi} \\sim U[0,1]$ of length $V$ and comparing to the computed probabilities as\n",
        "\n",
        "<center>If $\\xi_i>p(v_{i}|\\mathbf{h})$, then $v_i=1$, else $v_i=0$.</center>\n",
        "\n",
        "Let vectors $\\mathbf v_k$ and $\\mathbf h_k$ be for the $k$th iteration.  In general, the $kth$ state is generrated as: \n",
        "\n",
        "<b>Iteration</b> $k$: \n",
        "\n",
        "$$\\mathbf v_{k-1} \\Rightarrow p(\\mathbf h_{k-1}|\\mathbf v_{k-1})\\Rightarrow \\mathbf h_{k-1}\\Rightarrow p(\\mathbf v_{k}|\\mathbf h_{k-1})\\Rightarrow \\mathbf v_k$$       \n",
        "\n",
        "<h3>Contrastive Divergence (CD-k)</h3>\n",
        "The update of the weight matrix is done during the Contrastive Divergence step. \n",
        "\n",
        "Vectors v0 and vk are used to calculate the activation probabilities for hidden values h0 and hk. The difference between the outer products of those probabilities with input vectors v0 and vk results in the update matrix:\n",
        "\n",
        "$\\Delta \\mathbf W_k =\\mathbf v_k \\otimes \\mathbf h_k - \\mathbf v_{k-1} \\otimes \\mathbf h_{k-1}$ \n",
        "\n",
        "Contrastive Divergence is actually matrix of values that is computed and used to adjust values of the $\\mathbf W$ matrix. Changing $\\mathbf W$ incrementally leads to training of the  $\\mathbf W$ values. Then, on each step (epoch), $\\mathbf W$ is updated using the following:\n",
        "\n",
        "$\\mathbf W_k = \\mathbf W_{k-1} + \\alpha * \\Delta \\mathbf W_k$ \n",
        "\n",
        "Reconstruction steps:\n",
        "\n",
        "<ul>\n",
        "    <li> Get one data point from data set, like <i>x</i>, and pass it through the following steps:</li>\n",
        "    \n",
        "<b>Iteration</b> $k=1$: \n",
        "    \n",
        "Sampling (starting with input image)\n",
        "    $$\\mathbf x = \\mathbf v_0 \\Rightarrow p(\\mathbf h_0|\\mathbf v_0)\\Rightarrow \\mathbf h_0 \\Rightarrow p(\\mathbf v_1|\\mathbf h_0)\\Rightarrow \\mathbf v_1$$   \n",
        "    followed by the CD-k step\n",
        "$$\\Delta \\mathbf W_1 =\\mathbf v_1 \\otimes \\mathbf h_1 - \\mathbf v_{0} \\otimes \\mathbf h_{0}$$     \n",
        "$$\\mathbf W_1 = \\mathbf W_{0} + \\alpha * \\Delta \\mathbf W_1$$ \n",
        " \n",
        "<li> $\\mathbf v_1$ is the reconstruction of $\\mathbf x$ sent to the next iteration).</li>\n",
        "\n",
        "<b>Iteration</b> $k=2$: \n",
        "\n",
        "Sampling (starting with $\\mathbf v_1$)\n",
        "\n",
        "$$\\mathbf v_1 \\Rightarrow p(\\mathbf h_1|\\mathbf v_1)\\Rightarrow \\mathbf h_1\\Rightarrow p(\\mathbf v_2|\\mathbf h_1)\\Rightarrow \\mathbf v_2$$   \n",
        "\n",
        "followed by the CD-k step\n",
        "$$\\Delta \\mathbf W_2 =\\mathbf v_2 \\otimes \\mathbf h_2 - \\mathbf v_{1} \\otimes \\mathbf h_{1}$$  \n",
        "$$\\mathbf W_2 = \\mathbf W_{1} + \\alpha * \\Delta \\mathbf W_2$$ \n",
        "\n",
        "<li> $\\mathbf v_2$ is the reconstruction of $\\mathbf v_1$ sent to the next iteration).</li>    \n",
        "      \n",
        "<b>Iteration</b> $k=K$:\n",
        "    \n",
        "Sampling (starting with $\\mathbf v_{K-1}$)\n",
        "\n",
        "$$\\mathbf v_{K-1} \\Rightarrow p(\\mathbf h_{K-1}|\\mathbf v_{K-1})\\Rightarrow \\mathbf h_{K-1}\\Rightarrow p(\\mathbf v_K|\\mathbf h_{K-1})\\Rightarrow \\mathbf v_K$$   \n",
        "\n",
        "followed by the CD-k step\n",
        "$$\\Delta \\mathbf W_K =\\mathbf v_K \\otimes \\mathbf h_K - \\mathbf v_{K-1} \\otimes \\mathbf h_{K-1}$$  \n",
        "$$\\mathbf W_K = \\mathbf W_{K-1} + \\alpha * \\Delta \\mathbf W_K$$ \n",
        "\n",
        "<b>What is $\\alpha$?</b>  \n",
        "Here, alpha is some small step size, and is also known as the \"learning rate\".\n"
      ]
    },
    {
      "cell_type": "markdown",
      "metadata": {
        "id": "UtPU6N7EDcjX"
      },
      "source": [
        "$K$ is adjustable, and good performance can be achieved with $K=1$, so that we just take one set of sampling steps per image.\n"
      ]
    },
    {
      "cell_type": "code",
      "metadata": {
        "id": "V5_Sg5nSDcjX"
      },
      "source": [
        "h1_prob = tf.nn.sigmoid(tf.matmul([v1_state], W) + hb)\n",
        "h1_state = tf.nn.relu(tf.sign(h1_prob - tf.random.uniform(tf.shape(h1_prob)))) #sample_h_given_X"
      ],
      "execution_count": 17,
      "outputs": []
    },
    {
      "cell_type": "markdown",
      "metadata": {
        "id": "GB9sjEzGDcjX"
      },
      "source": [
        "Lets look at the error of the first run:\n"
      ]
    },
    {
      "cell_type": "code",
      "metadata": {
        "colab": {
          "base_uri": "https://localhost:8080/"
        },
        "id": "vYN-FwLZDcjY",
        "outputId": "c3bf601e-fc79-43f8-acd0-bb48bf2e3eb3"
      },
      "source": [
        "print(\"error: \", error(v0_state, v1_state))"
      ],
      "execution_count": 18,
      "outputs": [
        {
          "output_type": "stream",
          "text": [
            "error:  tf.Tensor(0.4987245, shape=(), dtype=float32)\n"
          ],
          "name": "stdout"
        }
      ]
    },
    {
      "cell_type": "code",
      "metadata": {
        "colab": {
          "base_uri": "https://localhost:8080/"
        },
        "id": "hSPBoomPDcjY",
        "outputId": "a4b27177-6fb8-4e10-a419-e1968e397e3a"
      },
      "source": [
        "#Parameters\n",
        "alpha = 0.01\n",
        "epochs = 1\n",
        "batchsize = 200\n",
        "weights = []\n",
        "errors = []\n",
        "batch_number = 0\n",
        "K = 1\n",
        "\n",
        "#creating datasets\n",
        "train_ds = \\\n",
        "    tf.data.Dataset.from_tensor_slices((trX, trY)).batch(batchsize)\n",
        "\n",
        "for epoch in range(epochs):\n",
        "    for batch_x, batch_y in train_ds:\n",
        "        batch_number += 1\n",
        "        for i_sample in range(batchsize):           \n",
        "            for k in range(K):\n",
        "                v0_state = batch_x[i_sample]\n",
        "                h0_state = hidden_layer(v0_state, W, hb)\n",
        "                v1_state = reconstructed_output(h0_state, W, vb)\n",
        "                h1_state = hidden_layer(v1_state, W, hb)\n",
        "\n",
        "                delta_W = tf.matmul(tf.transpose([v0_state]), h0_state) - tf.matmul(tf.transpose([v1_state]), h1_state)\n",
        "                W = W + alpha * delta_W\n",
        "\n",
        "                vb = vb + alpha * tf.reduce_mean(v0_state - v1_state, 0)\n",
        "                hb = hb + alpha * tf.reduce_mean(h0_state - h1_state, 0) \n",
        "\n",
        "                v0_state = v1_state\n",
        "\n",
        "            if i_sample == batchsize-1:\n",
        "                err = error(batch_x[i_sample], v1_state)\n",
        "                errors.append(err)\n",
        "                weights.append(W)\n",
        "                print ( 'Epoch: %d' % epoch, \n",
        "                       \"batch #: %i \" % batch_number, \"of %i\" % int(60e3/batchsize), \n",
        "                       \"sample #: %i\" % i_sample,\n",
        "                       'reconstruction error: %f' % err)\n",
        "\n"
      ],
      "execution_count": 19,
      "outputs": [
        {
          "output_type": "stream",
          "text": [
            "Epoch: 0 batch #: 1  of 300 sample #: 199 reconstruction error: 0.164128\n",
            "Epoch: 0 batch #: 2  of 300 sample #: 199 reconstruction error: 0.235842\n",
            "Epoch: 0 batch #: 3  of 300 sample #: 199 reconstruction error: 0.105974\n",
            "Epoch: 0 batch #: 4  of 300 sample #: 199 reconstruction error: 0.135985\n",
            "Epoch: 0 batch #: 5  of 300 sample #: 199 reconstruction error: 0.098222\n",
            "Epoch: 0 batch #: 6  of 300 sample #: 199 reconstruction error: 0.169082\n",
            "Epoch: 0 batch #: 7  of 300 sample #: 199 reconstruction error: 0.094116\n",
            "Epoch: 0 batch #: 8  of 300 sample #: 199 reconstruction error: 0.101522\n",
            "Epoch: 0 batch #: 9  of 300 sample #: 199 reconstruction error: 0.089068\n",
            "Epoch: 0 batch #: 10  of 300 sample #: 199 reconstruction error: 0.173815\n",
            "Epoch: 0 batch #: 11  of 300 sample #: 199 reconstruction error: 0.094192\n",
            "Epoch: 0 batch #: 12  of 300 sample #: 199 reconstruction error: 0.135595\n",
            "Epoch: 0 batch #: 13  of 300 sample #: 199 reconstruction error: 0.060282\n",
            "Epoch: 0 batch #: 14  of 300 sample #: 199 reconstruction error: 0.113902\n",
            "Epoch: 0 batch #: 15  of 300 sample #: 199 reconstruction error: 0.111650\n",
            "Epoch: 0 batch #: 16  of 300 sample #: 199 reconstruction error: 0.095563\n",
            "Epoch: 0 batch #: 17  of 300 sample #: 199 reconstruction error: 0.082961\n",
            "Epoch: 0 batch #: 18  of 300 sample #: 199 reconstruction error: 0.115228\n",
            "Epoch: 0 batch #: 19  of 300 sample #: 199 reconstruction error: 0.133118\n",
            "Epoch: 0 batch #: 20  of 300 sample #: 199 reconstruction error: 0.094533\n",
            "Epoch: 0 batch #: 21  of 300 sample #: 199 reconstruction error: 0.084726\n",
            "Epoch: 0 batch #: 22  of 300 sample #: 199 reconstruction error: 0.080355\n",
            "Epoch: 0 batch #: 23  of 300 sample #: 199 reconstruction error: 0.116357\n",
            "Epoch: 0 batch #: 24  of 300 sample #: 199 reconstruction error: 0.135909\n",
            "Epoch: 0 batch #: 25  of 300 sample #: 199 reconstruction error: 0.109128\n",
            "Epoch: 0 batch #: 26  of 300 sample #: 199 reconstruction error: 0.093394\n",
            "Epoch: 0 batch #: 27  of 300 sample #: 199 reconstruction error: 0.104566\n",
            "Epoch: 0 batch #: 28  of 300 sample #: 199 reconstruction error: 0.075037\n",
            "Epoch: 0 batch #: 29  of 300 sample #: 199 reconstruction error: 0.104842\n",
            "Epoch: 0 batch #: 30  of 300 sample #: 199 reconstruction error: 0.086082\n",
            "Epoch: 0 batch #: 31  of 300 sample #: 199 reconstruction error: 0.099832\n",
            "Epoch: 0 batch #: 32  of 300 sample #: 199 reconstruction error: 0.116403\n",
            "Epoch: 0 batch #: 33  of 300 sample #: 199 reconstruction error: 0.056951\n",
            "Epoch: 0 batch #: 34  of 300 sample #: 199 reconstruction error: 0.072689\n",
            "Epoch: 0 batch #: 35  of 300 sample #: 199 reconstruction error: 0.071774\n",
            "Epoch: 0 batch #: 36  of 300 sample #: 199 reconstruction error: 0.085449\n",
            "Epoch: 0 batch #: 37  of 300 sample #: 199 reconstruction error: 0.063184\n",
            "Epoch: 0 batch #: 38  of 300 sample #: 199 reconstruction error: 0.063170\n",
            "Epoch: 0 batch #: 39  of 300 sample #: 199 reconstruction error: 0.088851\n",
            "Epoch: 0 batch #: 40  of 300 sample #: 199 reconstruction error: 0.125259\n",
            "Epoch: 0 batch #: 41  of 300 sample #: 199 reconstruction error: 0.068039\n",
            "Epoch: 0 batch #: 42  of 300 sample #: 199 reconstruction error: 0.068145\n",
            "Epoch: 0 batch #: 43  of 300 sample #: 199 reconstruction error: 0.119231\n",
            "Epoch: 0 batch #: 44  of 300 sample #: 199 reconstruction error: 0.075602\n",
            "Epoch: 0 batch #: 45  of 300 sample #: 199 reconstruction error: 0.064699\n",
            "Epoch: 0 batch #: 46  of 300 sample #: 199 reconstruction error: 0.037303\n",
            "Epoch: 0 batch #: 47  of 300 sample #: 199 reconstruction error: 0.036319\n",
            "Epoch: 0 batch #: 48  of 300 sample #: 199 reconstruction error: 0.041317\n",
            "Epoch: 0 batch #: 49  of 300 sample #: 199 reconstruction error: 0.123633\n",
            "Epoch: 0 batch #: 50  of 300 sample #: 199 reconstruction error: 0.059191\n",
            "Epoch: 0 batch #: 51  of 300 sample #: 199 reconstruction error: 0.063936\n",
            "Epoch: 0 batch #: 52  of 300 sample #: 199 reconstruction error: 0.030328\n",
            "Epoch: 0 batch #: 53  of 300 sample #: 199 reconstruction error: 0.099079\n",
            "Epoch: 0 batch #: 54  of 300 sample #: 199 reconstruction error: 0.043391\n",
            "Epoch: 0 batch #: 55  of 300 sample #: 199 reconstruction error: 0.101696\n",
            "Epoch: 0 batch #: 56  of 300 sample #: 199 reconstruction error: 0.070111\n",
            "Epoch: 0 batch #: 57  of 300 sample #: 199 reconstruction error: 0.048755\n",
            "Epoch: 0 batch #: 58  of 300 sample #: 199 reconstruction error: 0.065784\n",
            "Epoch: 0 batch #: 59  of 300 sample #: 199 reconstruction error: 0.059862\n",
            "Epoch: 0 batch #: 60  of 300 sample #: 199 reconstruction error: 0.095215\n",
            "Epoch: 0 batch #: 61  of 300 sample #: 199 reconstruction error: 0.081717\n",
            "Epoch: 0 batch #: 62  of 300 sample #: 199 reconstruction error: 0.071280\n",
            "Epoch: 0 batch #: 63  of 300 sample #: 199 reconstruction error: 0.064235\n",
            "Epoch: 0 batch #: 64  of 300 sample #: 199 reconstruction error: 0.078304\n",
            "Epoch: 0 batch #: 65  of 300 sample #: 199 reconstruction error: 0.089816\n",
            "Epoch: 0 batch #: 66  of 300 sample #: 199 reconstruction error: 0.066233\n",
            "Epoch: 0 batch #: 67  of 300 sample #: 199 reconstruction error: 0.046824\n",
            "Epoch: 0 batch #: 68  of 300 sample #: 199 reconstruction error: 0.064699\n",
            "Epoch: 0 batch #: 69  of 300 sample #: 199 reconstruction error: 0.082102\n",
            "Epoch: 0 batch #: 70  of 300 sample #: 199 reconstruction error: 0.080212\n",
            "Epoch: 0 batch #: 71  of 300 sample #: 199 reconstruction error: 0.070278\n",
            "Epoch: 0 batch #: 72  of 300 sample #: 199 reconstruction error: 0.076486\n",
            "Epoch: 0 batch #: 73  of 300 sample #: 199 reconstruction error: 0.088569\n",
            "Epoch: 0 batch #: 74  of 300 sample #: 199 reconstruction error: 0.091363\n",
            "Epoch: 0 batch #: 75  of 300 sample #: 199 reconstruction error: 0.050079\n",
            "Epoch: 0 batch #: 76  of 300 sample #: 199 reconstruction error: 0.062910\n",
            "Epoch: 0 batch #: 77  of 300 sample #: 199 reconstruction error: 0.091215\n",
            "Epoch: 0 batch #: 78  of 300 sample #: 199 reconstruction error: 0.105055\n",
            "Epoch: 0 batch #: 79  of 300 sample #: 199 reconstruction error: 0.107461\n",
            "Epoch: 0 batch #: 80  of 300 sample #: 199 reconstruction error: 0.033011\n",
            "Epoch: 0 batch #: 81  of 300 sample #: 199 reconstruction error: 0.067951\n",
            "Epoch: 0 batch #: 82  of 300 sample #: 199 reconstruction error: 0.062684\n",
            "Epoch: 0 batch #: 83  of 300 sample #: 199 reconstruction error: 0.078116\n",
            "Epoch: 0 batch #: 84  of 300 sample #: 199 reconstruction error: 0.072956\n",
            "Epoch: 0 batch #: 85  of 300 sample #: 199 reconstruction error: 0.036920\n",
            "Epoch: 0 batch #: 86  of 300 sample #: 199 reconstruction error: 0.086809\n",
            "Epoch: 0 batch #: 87  of 300 sample #: 199 reconstruction error: 0.076126\n",
            "Epoch: 0 batch #: 88  of 300 sample #: 199 reconstruction error: 0.033874\n",
            "Epoch: 0 batch #: 89  of 300 sample #: 199 reconstruction error: 0.065471\n",
            "Epoch: 0 batch #: 90  of 300 sample #: 199 reconstruction error: 0.072404\n",
            "Epoch: 0 batch #: 91  of 300 sample #: 199 reconstruction error: 0.062057\n",
            "Epoch: 0 batch #: 92  of 300 sample #: 199 reconstruction error: 0.065168\n",
            "Epoch: 0 batch #: 93  of 300 sample #: 199 reconstruction error: 0.119509\n",
            "Epoch: 0 batch #: 94  of 300 sample #: 199 reconstruction error: 0.104426\n",
            "Epoch: 0 batch #: 95  of 300 sample #: 199 reconstruction error: 0.059918\n",
            "Epoch: 0 batch #: 96  of 300 sample #: 199 reconstruction error: 0.060918\n",
            "Epoch: 0 batch #: 97  of 300 sample #: 199 reconstruction error: 0.099228\n",
            "Epoch: 0 batch #: 98  of 300 sample #: 199 reconstruction error: 0.087328\n",
            "Epoch: 0 batch #: 99  of 300 sample #: 199 reconstruction error: 0.059862\n",
            "Epoch: 0 batch #: 100  of 300 sample #: 199 reconstruction error: 0.103086\n",
            "Epoch: 0 batch #: 101  of 300 sample #: 199 reconstruction error: 0.078684\n",
            "Epoch: 0 batch #: 102  of 300 sample #: 199 reconstruction error: 0.074334\n",
            "Epoch: 0 batch #: 103  of 300 sample #: 199 reconstruction error: 0.078840\n",
            "Epoch: 0 batch #: 104  of 300 sample #: 199 reconstruction error: 0.061459\n",
            "Epoch: 0 batch #: 105  of 300 sample #: 199 reconstruction error: 0.063227\n",
            "Epoch: 0 batch #: 106  of 300 sample #: 199 reconstruction error: 0.111599\n",
            "Epoch: 0 batch #: 107  of 300 sample #: 199 reconstruction error: 0.143760\n",
            "Epoch: 0 batch #: 108  of 300 sample #: 199 reconstruction error: 0.055511\n",
            "Epoch: 0 batch #: 109  of 300 sample #: 199 reconstruction error: 0.123090\n",
            "Epoch: 0 batch #: 110  of 300 sample #: 199 reconstruction error: 0.056886\n",
            "Epoch: 0 batch #: 111  of 300 sample #: 199 reconstruction error: 0.099581\n",
            "Epoch: 0 batch #: 112  of 300 sample #: 199 reconstruction error: 0.052816\n",
            "Epoch: 0 batch #: 113  of 300 sample #: 199 reconstruction error: 0.080982\n",
            "Epoch: 0 batch #: 114  of 300 sample #: 199 reconstruction error: 0.069202\n",
            "Epoch: 0 batch #: 115  of 300 sample #: 199 reconstruction error: 0.047581\n",
            "Epoch: 0 batch #: 116  of 300 sample #: 199 reconstruction error: 0.052066\n",
            "Epoch: 0 batch #: 117  of 300 sample #: 199 reconstruction error: 0.043048\n",
            "Epoch: 0 batch #: 118  of 300 sample #: 199 reconstruction error: 0.065777\n",
            "Epoch: 0 batch #: 119  of 300 sample #: 199 reconstruction error: 0.101864\n",
            "Epoch: 0 batch #: 120  of 300 sample #: 199 reconstruction error: 0.090727\n",
            "Epoch: 0 batch #: 121  of 300 sample #: 199 reconstruction error: 0.038596\n",
            "Epoch: 0 batch #: 122  of 300 sample #: 199 reconstruction error: 0.115258\n",
            "Epoch: 0 batch #: 123  of 300 sample #: 199 reconstruction error: 0.080394\n",
            "Epoch: 0 batch #: 124  of 300 sample #: 199 reconstruction error: 0.071428\n",
            "Epoch: 0 batch #: 125  of 300 sample #: 199 reconstruction error: 0.057566\n",
            "Epoch: 0 batch #: 126  of 300 sample #: 199 reconstruction error: 0.089154\n",
            "Epoch: 0 batch #: 127  of 300 sample #: 199 reconstruction error: 0.080491\n",
            "Epoch: 0 batch #: 128  of 300 sample #: 199 reconstruction error: 0.070403\n",
            "Epoch: 0 batch #: 129  of 300 sample #: 199 reconstruction error: 0.045193\n",
            "Epoch: 0 batch #: 130  of 300 sample #: 199 reconstruction error: 0.083977\n",
            "Epoch: 0 batch #: 131  of 300 sample #: 199 reconstruction error: 0.064318\n",
            "Epoch: 0 batch #: 132  of 300 sample #: 199 reconstruction error: 0.037927\n",
            "Epoch: 0 batch #: 133  of 300 sample #: 199 reconstruction error: 0.060972\n",
            "Epoch: 0 batch #: 134  of 300 sample #: 199 reconstruction error: 0.093011\n",
            "Epoch: 0 batch #: 135  of 300 sample #: 199 reconstruction error: 0.094018\n",
            "Epoch: 0 batch #: 136  of 300 sample #: 199 reconstruction error: 0.096532\n",
            "Epoch: 0 batch #: 137  of 300 sample #: 199 reconstruction error: 0.064569\n",
            "Epoch: 0 batch #: 138  of 300 sample #: 199 reconstruction error: 0.081761\n",
            "Epoch: 0 batch #: 139  of 300 sample #: 199 reconstruction error: 0.113251\n",
            "Epoch: 0 batch #: 140  of 300 sample #: 199 reconstruction error: 0.091742\n",
            "Epoch: 0 batch #: 141  of 300 sample #: 199 reconstruction error: 0.075642\n",
            "Epoch: 0 batch #: 142  of 300 sample #: 199 reconstruction error: 0.075567\n",
            "Epoch: 0 batch #: 143  of 300 sample #: 199 reconstruction error: 0.049093\n",
            "Epoch: 0 batch #: 144  of 300 sample #: 199 reconstruction error: 0.061235\n",
            "Epoch: 0 batch #: 145  of 300 sample #: 199 reconstruction error: 0.099929\n",
            "Epoch: 0 batch #: 146  of 300 sample #: 199 reconstruction error: 0.102374\n",
            "Epoch: 0 batch #: 147  of 300 sample #: 199 reconstruction error: 0.073402\n",
            "Epoch: 0 batch #: 148  of 300 sample #: 199 reconstruction error: 0.091401\n",
            "Epoch: 0 batch #: 149  of 300 sample #: 199 reconstruction error: 0.052110\n",
            "Epoch: 0 batch #: 150  of 300 sample #: 199 reconstruction error: 0.045530\n",
            "Epoch: 0 batch #: 151  of 300 sample #: 199 reconstruction error: 0.114835\n",
            "Epoch: 0 batch #: 152  of 300 sample #: 199 reconstruction error: 0.095794\n",
            "Epoch: 0 batch #: 153  of 300 sample #: 199 reconstruction error: 0.055375\n",
            "Epoch: 0 batch #: 154  of 300 sample #: 199 reconstruction error: 0.070356\n",
            "Epoch: 0 batch #: 155  of 300 sample #: 199 reconstruction error: 0.077984\n",
            "Epoch: 0 batch #: 156  of 300 sample #: 199 reconstruction error: 0.078953\n",
            "Epoch: 0 batch #: 157  of 300 sample #: 199 reconstruction error: 0.091373\n",
            "Epoch: 0 batch #: 158  of 300 sample #: 199 reconstruction error: 0.055594\n",
            "Epoch: 0 batch #: 159  of 300 sample #: 199 reconstruction error: 0.052133\n",
            "Epoch: 0 batch #: 160  of 300 sample #: 199 reconstruction error: 0.062480\n",
            "Epoch: 0 batch #: 161  of 300 sample #: 199 reconstruction error: 0.080974\n",
            "Epoch: 0 batch #: 162  of 300 sample #: 199 reconstruction error: 0.099163\n",
            "Epoch: 0 batch #: 163  of 300 sample #: 199 reconstruction error: 0.036841\n",
            "Epoch: 0 batch #: 164  of 300 sample #: 199 reconstruction error: 0.063509\n",
            "Epoch: 0 batch #: 165  of 300 sample #: 199 reconstruction error: 0.087738\n",
            "Epoch: 0 batch #: 166  of 300 sample #: 199 reconstruction error: 0.043304\n",
            "Epoch: 0 batch #: 167  of 300 sample #: 199 reconstruction error: 0.086494\n",
            "Epoch: 0 batch #: 168  of 300 sample #: 199 reconstruction error: 0.049096\n",
            "Epoch: 0 batch #: 169  of 300 sample #: 199 reconstruction error: 0.035370\n",
            "Epoch: 0 batch #: 170  of 300 sample #: 199 reconstruction error: 0.054217\n",
            "Epoch: 0 batch #: 171  of 300 sample #: 199 reconstruction error: 0.029795\n",
            "Epoch: 0 batch #: 172  of 300 sample #: 199 reconstruction error: 0.048166\n",
            "Epoch: 0 batch #: 173  of 300 sample #: 199 reconstruction error: 0.074800\n",
            "Epoch: 0 batch #: 174  of 300 sample #: 199 reconstruction error: 0.100995\n",
            "Epoch: 0 batch #: 175  of 300 sample #: 199 reconstruction error: 0.066621\n",
            "Epoch: 0 batch #: 176  of 300 sample #: 199 reconstruction error: 0.044581\n",
            "Epoch: 0 batch #: 177  of 300 sample #: 199 reconstruction error: 0.034952\n",
            "Epoch: 0 batch #: 178  of 300 sample #: 199 reconstruction error: 0.108301\n",
            "Epoch: 0 batch #: 179  of 300 sample #: 199 reconstruction error: 0.085228\n",
            "Epoch: 0 batch #: 180  of 300 sample #: 199 reconstruction error: 0.082251\n",
            "Epoch: 0 batch #: 181  of 300 sample #: 199 reconstruction error: 0.093812\n",
            "Epoch: 0 batch #: 182  of 300 sample #: 199 reconstruction error: 0.059004\n",
            "Epoch: 0 batch #: 183  of 300 sample #: 199 reconstruction error: 0.128247\n",
            "Epoch: 0 batch #: 184  of 300 sample #: 199 reconstruction error: 0.058326\n",
            "Epoch: 0 batch #: 185  of 300 sample #: 199 reconstruction error: 0.068231\n",
            "Epoch: 0 batch #: 186  of 300 sample #: 199 reconstruction error: 0.098222\n",
            "Epoch: 0 batch #: 187  of 300 sample #: 199 reconstruction error: 0.062100\n",
            "Epoch: 0 batch #: 188  of 300 sample #: 199 reconstruction error: 0.113156\n",
            "Epoch: 0 batch #: 189  of 300 sample #: 199 reconstruction error: 0.073390\n",
            "Epoch: 0 batch #: 190  of 300 sample #: 199 reconstruction error: 0.074222\n",
            "Epoch: 0 batch #: 191  of 300 sample #: 199 reconstruction error: 0.091027\n",
            "Epoch: 0 batch #: 192  of 300 sample #: 199 reconstruction error: 0.129023\n",
            "Epoch: 0 batch #: 193  of 300 sample #: 199 reconstruction error: 0.085297\n",
            "Epoch: 0 batch #: 194  of 300 sample #: 199 reconstruction error: 0.081915\n",
            "Epoch: 0 batch #: 195  of 300 sample #: 199 reconstruction error: 0.044353\n",
            "Epoch: 0 batch #: 196  of 300 sample #: 199 reconstruction error: 0.058137\n",
            "Epoch: 0 batch #: 197  of 300 sample #: 199 reconstruction error: 0.066780\n",
            "Epoch: 0 batch #: 198  of 300 sample #: 199 reconstruction error: 0.093180\n",
            "Epoch: 0 batch #: 199  of 300 sample #: 199 reconstruction error: 0.076743\n",
            "Epoch: 0 batch #: 200  of 300 sample #: 199 reconstruction error: 0.114181\n",
            "Epoch: 0 batch #: 201  of 300 sample #: 199 reconstruction error: 0.085320\n",
            "Epoch: 0 batch #: 202  of 300 sample #: 199 reconstruction error: 0.028963\n",
            "Epoch: 0 batch #: 203  of 300 sample #: 199 reconstruction error: 0.092237\n",
            "Epoch: 0 batch #: 204  of 300 sample #: 199 reconstruction error: 0.044912\n",
            "Epoch: 0 batch #: 205  of 300 sample #: 199 reconstruction error: 0.026343\n",
            "Epoch: 0 batch #: 206  of 300 sample #: 199 reconstruction error: 0.052383\n",
            "Epoch: 0 batch #: 207  of 300 sample #: 199 reconstruction error: 0.075670\n",
            "Epoch: 0 batch #: 208  of 300 sample #: 199 reconstruction error: 0.056456\n",
            "Epoch: 0 batch #: 209  of 300 sample #: 199 reconstruction error: 0.029360\n",
            "Epoch: 0 batch #: 210  of 300 sample #: 199 reconstruction error: 0.108871\n",
            "Epoch: 0 batch #: 211  of 300 sample #: 199 reconstruction error: 0.093670\n",
            "Epoch: 0 batch #: 212  of 300 sample #: 199 reconstruction error: 0.087763\n",
            "Epoch: 0 batch #: 213  of 300 sample #: 199 reconstruction error: 0.109126\n",
            "Epoch: 0 batch #: 214  of 300 sample #: 199 reconstruction error: 0.083751\n",
            "Epoch: 0 batch #: 215  of 300 sample #: 199 reconstruction error: 0.024640\n",
            "Epoch: 0 batch #: 216  of 300 sample #: 199 reconstruction error: 0.083125\n",
            "Epoch: 0 batch #: 217  of 300 sample #: 199 reconstruction error: 0.083192\n",
            "Epoch: 0 batch #: 218  of 300 sample #: 199 reconstruction error: 0.060969\n",
            "Epoch: 0 batch #: 219  of 300 sample #: 199 reconstruction error: 0.060222\n",
            "Epoch: 0 batch #: 220  of 300 sample #: 199 reconstruction error: 0.058760\n",
            "Epoch: 0 batch #: 221  of 300 sample #: 199 reconstruction error: 0.085722\n",
            "Epoch: 0 batch #: 222  of 300 sample #: 199 reconstruction error: 0.091428\n",
            "Epoch: 0 batch #: 223  of 300 sample #: 199 reconstruction error: 0.058977\n",
            "Epoch: 0 batch #: 224  of 300 sample #: 199 reconstruction error: 0.058909\n",
            "Epoch: 0 batch #: 225  of 300 sample #: 199 reconstruction error: 0.075410\n",
            "Epoch: 0 batch #: 226  of 300 sample #: 199 reconstruction error: 0.118353\n",
            "Epoch: 0 batch #: 227  of 300 sample #: 199 reconstruction error: 0.078972\n",
            "Epoch: 0 batch #: 228  of 300 sample #: 199 reconstruction error: 0.064390\n",
            "Epoch: 0 batch #: 229  of 300 sample #: 199 reconstruction error: 0.071688\n",
            "Epoch: 0 batch #: 230  of 300 sample #: 199 reconstruction error: 0.031832\n",
            "Epoch: 0 batch #: 231  of 300 sample #: 199 reconstruction error: 0.025049\n",
            "Epoch: 0 batch #: 232  of 300 sample #: 199 reconstruction error: 0.080123\n",
            "Epoch: 0 batch #: 233  of 300 sample #: 199 reconstruction error: 0.089328\n",
            "Epoch: 0 batch #: 234  of 300 sample #: 199 reconstruction error: 0.057604\n",
            "Epoch: 0 batch #: 235  of 300 sample #: 199 reconstruction error: 0.069805\n",
            "Epoch: 0 batch #: 236  of 300 sample #: 199 reconstruction error: 0.097160\n",
            "Epoch: 0 batch #: 237  of 300 sample #: 199 reconstruction error: 0.071917\n",
            "Epoch: 0 batch #: 238  of 300 sample #: 199 reconstruction error: 0.112665\n",
            "Epoch: 0 batch #: 239  of 300 sample #: 199 reconstruction error: 0.022458\n",
            "Epoch: 0 batch #: 240  of 300 sample #: 199 reconstruction error: 0.088738\n",
            "Epoch: 0 batch #: 241  of 300 sample #: 199 reconstruction error: 0.094580\n",
            "Epoch: 0 batch #: 242  of 300 sample #: 199 reconstruction error: 0.079464\n",
            "Epoch: 0 batch #: 243  of 300 sample #: 199 reconstruction error: 0.077328\n",
            "Epoch: 0 batch #: 244  of 300 sample #: 199 reconstruction error: 0.075991\n",
            "Epoch: 0 batch #: 245  of 300 sample #: 199 reconstruction error: 0.058992\n",
            "Epoch: 0 batch #: 246  of 300 sample #: 199 reconstruction error: 0.085129\n",
            "Epoch: 0 batch #: 247  of 300 sample #: 199 reconstruction error: 0.048506\n",
            "Epoch: 0 batch #: 248  of 300 sample #: 199 reconstruction error: 0.075875\n",
            "Epoch: 0 batch #: 249  of 300 sample #: 199 reconstruction error: 0.048822\n",
            "Epoch: 0 batch #: 250  of 300 sample #: 199 reconstruction error: 0.084950\n",
            "Epoch: 0 batch #: 251  of 300 sample #: 199 reconstruction error: 0.048966\n",
            "Epoch: 0 batch #: 252  of 300 sample #: 199 reconstruction error: 0.077985\n",
            "Epoch: 0 batch #: 253  of 300 sample #: 199 reconstruction error: 0.065879\n",
            "Epoch: 0 batch #: 254  of 300 sample #: 199 reconstruction error: 0.033319\n",
            "Epoch: 0 batch #: 255  of 300 sample #: 199 reconstruction error: 0.054472\n",
            "Epoch: 0 batch #: 256  of 300 sample #: 199 reconstruction error: 0.081947\n",
            "Epoch: 0 batch #: 257  of 300 sample #: 199 reconstruction error: 0.069425\n",
            "Epoch: 0 batch #: 258  of 300 sample #: 199 reconstruction error: 0.093200\n",
            "Epoch: 0 batch #: 259  of 300 sample #: 199 reconstruction error: 0.066220\n",
            "Epoch: 0 batch #: 260  of 300 sample #: 199 reconstruction error: 0.077870\n",
            "Epoch: 0 batch #: 261  of 300 sample #: 199 reconstruction error: 0.035387\n",
            "Epoch: 0 batch #: 262  of 300 sample #: 199 reconstruction error: 0.052343\n",
            "Epoch: 0 batch #: 263  of 300 sample #: 199 reconstruction error: 0.070979\n",
            "Epoch: 0 batch #: 264  of 300 sample #: 199 reconstruction error: 0.077536\n",
            "Epoch: 0 batch #: 265  of 300 sample #: 199 reconstruction error: 0.056048\n",
            "Epoch: 0 batch #: 266  of 300 sample #: 199 reconstruction error: 0.029096\n",
            "Epoch: 0 batch #: 267  of 300 sample #: 199 reconstruction error: 0.060893\n",
            "Epoch: 0 batch #: 268  of 300 sample #: 199 reconstruction error: 0.027161\n",
            "Epoch: 0 batch #: 269  of 300 sample #: 199 reconstruction error: 0.071146\n",
            "Epoch: 0 batch #: 270  of 300 sample #: 199 reconstruction error: 0.084422\n",
            "Epoch: 0 batch #: 271  of 300 sample #: 199 reconstruction error: 0.045423\n",
            "Epoch: 0 batch #: 272  of 300 sample #: 199 reconstruction error: 0.053863\n",
            "Epoch: 0 batch #: 273  of 300 sample #: 199 reconstruction error: 0.041177\n",
            "Epoch: 0 batch #: 274  of 300 sample #: 199 reconstruction error: 0.048384\n",
            "Epoch: 0 batch #: 275  of 300 sample #: 199 reconstruction error: 0.087196\n",
            "Epoch: 0 batch #: 276  of 300 sample #: 199 reconstruction error: 0.080184\n",
            "Epoch: 0 batch #: 277  of 300 sample #: 199 reconstruction error: 0.071939\n",
            "Epoch: 0 batch #: 278  of 300 sample #: 199 reconstruction error: 0.059530\n",
            "Epoch: 0 batch #: 279  of 300 sample #: 199 reconstruction error: 0.042322\n",
            "Epoch: 0 batch #: 280  of 300 sample #: 199 reconstruction error: 0.070556\n",
            "Epoch: 0 batch #: 281  of 300 sample #: 199 reconstruction error: 0.064955\n",
            "Epoch: 0 batch #: 282  of 300 sample #: 199 reconstruction error: 0.095697\n",
            "Epoch: 0 batch #: 283  of 300 sample #: 199 reconstruction error: 0.051268\n",
            "Epoch: 0 batch #: 284  of 300 sample #: 199 reconstruction error: 0.051888\n",
            "Epoch: 0 batch #: 285  of 300 sample #: 199 reconstruction error: 0.053061\n",
            "Epoch: 0 batch #: 286  of 300 sample #: 199 reconstruction error: 0.086920\n",
            "Epoch: 0 batch #: 287  of 300 sample #: 199 reconstruction error: 0.071385\n",
            "Epoch: 0 batch #: 288  of 300 sample #: 199 reconstruction error: 0.028087\n",
            "Epoch: 0 batch #: 289  of 300 sample #: 199 reconstruction error: 0.080520\n",
            "Epoch: 0 batch #: 290  of 300 sample #: 199 reconstruction error: 0.093127\n",
            "Epoch: 0 batch #: 291  of 300 sample #: 199 reconstruction error: 0.100380\n",
            "Epoch: 0 batch #: 292  of 300 sample #: 199 reconstruction error: 0.070392\n",
            "Epoch: 0 batch #: 293  of 300 sample #: 199 reconstruction error: 0.055900\n",
            "Epoch: 0 batch #: 294  of 300 sample #: 199 reconstruction error: 0.110952\n",
            "Epoch: 0 batch #: 295  of 300 sample #: 199 reconstruction error: 0.061857\n",
            "Epoch: 0 batch #: 296  of 300 sample #: 199 reconstruction error: 0.028419\n",
            "Epoch: 0 batch #: 297  of 300 sample #: 199 reconstruction error: 0.114706\n",
            "Epoch: 0 batch #: 298  of 300 sample #: 199 reconstruction error: 0.046625\n",
            "Epoch: 0 batch #: 299  of 300 sample #: 199 reconstruction error: 0.052211\n",
            "Epoch: 0 batch #: 300  of 300 sample #: 199 reconstruction error: 0.076387\n"
          ],
          "name": "stdout"
        }
      ]
    },
    {
      "cell_type": "markdown",
      "metadata": {
        "id": "jqgjo8iiDcjY"
      },
      "source": [
        "Let's take a look at the errors at the end of each batch:\n"
      ]
    },
    {
      "cell_type": "code",
      "metadata": {
        "colab": {
          "base_uri": "https://localhost:8080/",
          "height": 279
        },
        "id": "wenEcKnyDcjZ",
        "outputId": "8ab93e6a-115c-491c-df10-727f9c34c471"
      },
      "source": [
        "plt.plot(errors)\n",
        "plt.xlabel(\"Batch Number\")\n",
        "plt.ylabel(\"Error\")\n",
        "plt.show()"
      ],
      "execution_count": 20,
      "outputs": [
        {
          "output_type": "display_data",
          "data": {
            "image/png": "[encoded data removed]",
            "text/plain": [
              "<Figure size 432x288 with 1 Axes>"
            ]
          },
          "metadata": {
            "tags": [],
            "needs_background": "light"
          }
        }
      ]
    },
    {
      "cell_type": "markdown",
      "metadata": {
        "id": "ZH692qNgDcjZ"
      },
      "source": [
        "What is the final weight matrix $W$ after training?\n"
      ]
    },
    {
      "cell_type": "code",
      "metadata": {
        "colab": {
          "base_uri": "https://localhost:8080/"
        },
        "id": "txrt0t2aDcjZ",
        "outputId": "696e7383-acfe-40d5-fad8-ec145b188d3f"
      },
      "source": [
        "print(W.numpy()) # a weight matrix of shape (50,784)"
      ],
      "execution_count": 21,
      "outputs": [
        {
          "output_type": "stream",
          "text": [
            "[[-0.20000002 -0.4799998  -0.41999987 ... -0.36999992 -0.57999974\n",
            "  -0.25000003]\n",
            " [-0.23000003 -0.4999998  -0.40999988 ... -0.30999997 -0.4899998\n",
            "  -0.29999998]\n",
            " [-0.19000001 -0.4899998  -0.56999975 ... -0.29999998 -0.6099997\n",
            "  -0.36999992]\n",
            " ...\n",
            " [-0.18       -0.45999983 -0.45999983 ... -0.33999994 -0.4899998\n",
            "  -0.29      ]\n",
            " [-0.19000001 -0.57999974 -0.4799998  ... -0.29999998 -0.46999982\n",
            "  -0.22000003]\n",
            " [-0.25000003 -0.35999992 -0.44999984 ... -0.32999995 -0.5299998\n",
            "  -0.30999997]]\n"
          ],
          "name": "stdout"
        }
      ]
    },
    {
      "cell_type": "markdown",
      "metadata": {
        "id": "BxGCeFwyDcjZ"
      },
      "source": [
        "<a id=\"ref5\"></a>\n",
        "\n",
        "<h3>Learned features</h3> \n"
      ]
    },
    {
      "cell_type": "markdown",
      "metadata": {
        "id": "G_Lhry5dDcja"
      },
      "source": [
        "We can take each hidden unit and visualize the connections between that hidden unit and each element in the input vector. In our case, we have 50 hidden units. Lets visualize those.\n"
      ]
    },
    {
      "cell_type": "markdown",
      "metadata": {
        "id": "glSrXjUPDcja"
      },
      "source": [
        "Let's plot the current weights:\n",
        "<b>tile_raster_images</b> helps in generating an easy to grasp image from a set of samples or weights. It transforms the <b>uw</b> (with one flattened image per row of size 784), into an array (of size $28\\times28$) in which images are reshaped and laid out like tiles on a floor.\n"
      ]
    },
    {
      "cell_type": "code",
      "metadata": {
        "colab": {
          "base_uri": "https://localhost:8080/",
          "height": 551
        },
        "id": "Pg0h_MvADcja",
        "outputId": "7df0ad1b-3bf9-46ba-e072-d70324dc18ee"
      },
      "source": [
        "tile_raster_images(X=W.numpy().T, img_shape=(28, 28), tile_shape=(5, 10), tile_spacing=(1, 1))\n",
        "import matplotlib.pyplot as plt\n",
        "from PIL import Image\n",
        "%matplotlib inline\n",
        "image = Image.fromarray(tile_raster_images(X=W.numpy().T, img_shape=(28, 28) ,tile_shape=(5, 10), tile_spacing=(1, 1)))\n",
        "### Plot image\n",
        "plt.rcParams['figure.figsize'] = (18.0, 18.0)\n",
        "imgplot = plt.imshow(image)\n",
        "imgplot.set_cmap('gray')  "
      ],
      "execution_count": 22,
      "outputs": [
        {
          "output_type": "display_data",
          "data": {
            "image/png": "[encoded data removed]",
            "text/plain": [
              "<Figure size 1296x1296 with 1 Axes>"
            ]
          },
          "metadata": {
            "tags": [],
            "needs_background": "light"
          }
        }
      ]
    },
    {
      "cell_type": "markdown",
      "metadata": {
        "id": "gIYFgtbwDcja"
      },
      "source": [
        "Each tile in the above visualization corresponds to a vector of connections between a hidden unit and visible layer's units. \n"
      ]
    },
    {
      "cell_type": "markdown",
      "metadata": {
        "id": "HdALRfaODcjb"
      },
      "source": [
        "Let's look at one of the learned weights corresponding to one of hidden units for example. In this particular square, the gray color represents weight = 0, and the whiter it is, the more positive the weights are (closer to 1). Conversely, the darker pixels are, the more negative the weights. The positive pixels will increase the probability of activation in hidden units (after multiplying by input/visible pixels), and negative pixels will decrease the probability of a unit hidden to be 1 (activated). So, why is this important?  So we can see that this specific square (hidden unit) can detect a feature (e.g. a \"/\" shape) and if it exists in the input.\n"
      ]
    },
    {
      "cell_type": "code",
      "metadata": {
        "colab": {
          "base_uri": "https://localhost:8080/",
          "height": 265
        },
        "id": "Ipo-lpM6Dcjb",
        "outputId": "f28dbbf6-b9c9-4f5b-b798-47fa9ed0eaa3"
      },
      "source": [
        "from PIL import Image\n",
        "image = Image.fromarray(tile_raster_images(X =W.numpy().T[10:11], img_shape=(28, 28),tile_shape=(1, 1), tile_spacing=(1, 1)))\n",
        "### Plot image\n",
        "plt.rcParams['figure.figsize'] = (4.0, 4.0)\n",
        "imgplot = plt.imshow(image)\n",
        "imgplot.set_cmap('gray')  "
      ],
      "execution_count": 23,
      "outputs": [
        {
          "output_type": "display_data",
          "data": {
            "image/png": "[encoded data removed]",
            "text/plain": [
              "<Figure size 288x288 with 1 Axes>"
            ]
          },
          "metadata": {
            "tags": [],
            "needs_background": "light"
          }
        }
      ]
    },
    {
      "cell_type": "markdown",
      "metadata": {
        "id": "GinzcKEADcjb"
      },
      "source": [
        "Let's look at the reconstruction of an image now. Imagine that we have a destructed image of figure 3. Lets see if our trained network can fix it:\n",
        "\n",
        "First we plot the image:\n"
      ]
    },
    {
      "cell_type": "code",
      "metadata": {
        "colab": {
          "base_uri": "https://localhost:8080/",
          "height": 638
        },
        "id": "Uc8pVs0iDcjb",
        "outputId": "57e8b616-1836-4f7c-e291-9cdbdea6c4aa"
      },
      "source": [
        "!wget -O destructed3.jpg  https://ibm.box.com/shared/static/vvm1b63uvuxq88vbw9znpwu5ol380mco.jpg\n",
        "img = Image.open('destructed3.jpg')\n",
        "img"
      ],
      "execution_count": 24,
      "outputs": [
        {
          "output_type": "stream",
          "text": [
            "--2021-04-24 18:08:21--  https://ibm.box.com/shared/static/vvm1b63uvuxq88vbw9znpwu5ol380mco.jpg\n",
            "Resolving ibm.box.com (ibm.box.com)... 107.152.26.197\n",
            "Connecting to ibm.box.com (ibm.box.com)|107.152.26.197|:443... connected.\n",
            "HTTP request sent, awaiting response... 301 Moved Permanently\n",
            "Location: /public/static/vvm1b63uvuxq88vbw9znpwu5ol380mco.jpg [following]\n",
            "--2021-04-24 18:08:21--  https://ibm.box.com/public/static/vvm1b63uvuxq88vbw9znpwu5ol380mco.jpg\n",
            "Reusing existing connection to ibm.box.com:443.\n",
            "HTTP request sent, awaiting response... 301 Moved Permanently\n",
            "Location: https://ibm.ent.box.com/public/static/vvm1b63uvuxq88vbw9znpwu5ol380mco.jpg [following]\n",
            "--2021-04-24 18:08:22--  https://ibm.ent.box.com/public/static/vvm1b63uvuxq88vbw9znpwu5ol380mco.jpg\n",
            "Resolving ibm.ent.box.com (ibm.ent.box.com)... 107.152.26.201\n",
            "Connecting to ibm.ent.box.com (ibm.ent.box.com)|107.152.26.201|:443... connected.\n",
            "HTTP request sent, awaiting response... 302 Found\n",
            "Location: https://public.boxcloud.com/d/1/b1!-w3LvUrJEs0EleOzyoHu1S_XL9Ssy0RjWAKocXct1-vMsbKPsM2LBO8pPhQf0Ik7r_Ee9pB30dxlxW2ziHzTK-IWxrHWUecCICLmuY5xLE_F0GJPWAkJVwd4tjqhRdmXcn2Iv53yNV1WNU8Cq4iboVrjcM4kLCNGYDWxhrXhFKh8LcE47HpIz2TlXIRo-AHWbpZYjnGzeqr4gXDLuOK4ZdaJ4Q-w3RwjoaELeZbOItfRjCvhZUa7r4d73bxKCvQn_Ou5PXDULZk2D-BBn5xxXX_DNuzJi8CqlkzwwIJeO-9Aem31Jk-XkTwrSxe1yw_SvrQPgHWm3OOZWmrA1VSsHbCZpfR0bfnlPkQl3wCFmY7hNOBWF80wU_quVKC4LRI53WGKJZOQPTXrQTtsAyUuv_gWZCFskNwLowW-3K93KI82PZmVTsZ-YNuIoF_M4VzVQjXs7dHNsGdrO0HwclI0zYACKdEUjcJrRrH5WgQASYzuM2U3Y-6KEkT_R_al-yqhHNR5pWfyzc0cmUk2EzCio1dbSsm8aPCPF8p-RZE_7BV-tcfN7INNMNh4heTUwf_Jad2OeUkatoFjhWQKy0BtaSE9Tot0d0SJ7aw3NWJ0IBBQ4077kUilB7QB01yLF8WfPiywMzpoTglVe2Bkf_SdsIS5olutN4vOz9PhEfMueDb8YYjUc16UzRScTc67KlMm8d4KZPABB5leI7sbhLdefhTj6kG8CM2GJC8Y0951fU1XzjUnqQ5yK4TrdGhkqwycTGHLEsg4VzrOObOVGWxJEzs5vuGrEvqqVAhS7cUtvrqJBahcYpPj0UR2DBC9WKETA-Mb7868SzMBsAOfLQxOLih45AA9oXgndGPfOTdiURm5ZjV2fGIJ59agk-PSFPpL6w7l39dFNZMAYfEU9gsbh6XMkLFLGYsbcbVle74VHkgpbZ4N4TryJcmWcOoZn4ItI1BcrS3jUaRlH_3gHKoOqTFojF9r0me9C6dqiTGYmEFVW8Aswl1eRao_15k0N1jAbqVpXG0cB5xpy4SceLB970IEq5cnzdgnuMOd6JWfF8AqpD4ppWPUhCQ5I9Nf2N-4f-h8wibv8I20hoWbNZqfFB5SZ7mIQaZ_W8K_L94pEyFdj9WNupFiHLN-7-hRgHQLXH-hSbmciCKW9J0HYCGXSTFkLaM75RmfVMttmJebs5j3iyyEHy3Im_onosm9GG14qfjafw53AVbBigTOjJnevl31W6uRWv8DTmnDmEbq7Svu_ZdbC7LgpsLPunh1wvvsq9ML68x1vMYOLe-rq0PQdyUjI-yjkeG0l19p4Fb-E-1fA122MvbCHFfNz5ysdbvv8eXier-iibDN3YJi3yMA-UGagnmU6J-AulvqUfMW2LhoP2yQ7s4suoSnQXw0iv8d8jwiUesWa2d4coZ1uYJwMSxlo3s./download [following]\n",
            "--2021-04-24 18:08:23--  https://public.boxcloud.com/d/1/b1!-w3LvUrJEs0EleOzyoHu1S_XL9Ssy0RjWAKocXct1-vMsbKPsM2LBO8pPhQf0Ik7r_Ee9pB30dxlxW2ziHzTK-IWxrHWUecCICLmuY5xLE_F0GJPWAkJVwd4tjqhRdmXcn2Iv53yNV1WNU8Cq4iboVrjcM4kLCNGYDWxhrXhFKh8LcE47HpIz2TlXIRo-AHWbpZYjnGzeqr4gXDLuOK4ZdaJ4Q-w3RwjoaELeZbOItfRjCvhZUa7r4d73bxKCvQn_Ou5PXDULZk2D-BBn5xxXX_DNuzJi8CqlkzwwIJeO-9Aem31Jk-XkTwrSxe1yw_SvrQPgHWm3OOZWmrA1VSsHbCZpfR0bfnlPkQl3wCFmY7hNOBWF80wU_quVKC4LRI53WGKJZOQPTXrQTtsAyUuv_gWZCFskNwLowW-3K93KI82PZmVTsZ-YNuIoF_M4VzVQjXs7dHNsGdrO0HwclI0zYACKdEUjcJrRrH5WgQASYzuM2U3Y-6KEkT_R_al-yqhHNR5pWfyzc0cmUk2EzCio1dbSsm8aPCPF8p-RZE_7BV-tcfN7INNMNh4heTUwf_Jad2OeUkatoFjhWQKy0BtaSE9Tot0d0SJ7aw3NWJ0IBBQ4077kUilB7QB01yLF8WfPiywMzpoTglVe2Bkf_SdsIS5olutN4vOz9PhEfMueDb8YYjUc16UzRScTc67KlMm8d4KZPABB5leI7sbhLdefhTj6kG8CM2GJC8Y0951fU1XzjUnqQ5yK4TrdGhkqwycTGHLEsg4VzrOObOVGWxJEzs5vuGrEvqqVAhS7cUtvrqJBahcYpPj0UR2DBC9WKETA-Mb7868SzMBsAOfLQxOLih45AA9oXgndGPfOTdiURm5ZjV2fGIJ59agk-PSFPpL6w7l39dFNZMAYfEU9gsbh6XMkLFLGYsbcbVle74VHkgpbZ4N4TryJcmWcOoZn4ItI1BcrS3jUaRlH_3gHKoOqTFojF9r0me9C6dqiTGYmEFVW8Aswl1eRao_15k0N1jAbqVpXG0cB5xpy4SceLB970IEq5cnzdgnuMOd6JWfF8AqpD4ppWPUhCQ5I9Nf2N-4f-h8wibv8I20hoWbNZqfFB5SZ7mIQaZ_W8K_L94pEyFdj9WNupFiHLN-7-hRgHQLXH-hSbmciCKW9J0HYCGXSTFkLaM75RmfVMttmJebs5j3iyyEHy3Im_onosm9GG14qfjafw53AVbBigTOjJnevl31W6uRWv8DTmnDmEbq7Svu_ZdbC7LgpsLPunh1wvvsq9ML68x1vMYOLe-rq0PQdyUjI-yjkeG0l19p4Fb-E-1fA122MvbCHFfNz5ysdbvv8eXier-iibDN3YJi3yMA-UGagnmU6J-AulvqUfMW2LhoP2yQ7s4suoSnQXw0iv8d8jwiUesWa2d4coZ1uYJwMSxlo3s./download\n",
            "Resolving public.boxcloud.com (public.boxcloud.com)... 107.152.26.200\n",
            "Connecting to public.boxcloud.com (public.boxcloud.com)|107.152.26.200|:443... connected.\n",
            "HTTP request sent, awaiting response... 200 OK\n",
            "Length: 24383 (24K) [image/jpeg]\n",
            "Saving to: ‘destructed3.jpg’\n",
            "\n",
            "destructed3.jpg     100%[===================>]  23.81K  --.-KB/s    in 0.07s   \n",
            "\n",
            "2021-04-24 18:08:23 (323 KB/s) - ‘destructed3.jpg’ saved [24383/24383]\n",
            "\n"
          ],
          "name": "stdout"
        },
        {
          "output_type": "execute_result",
          "data": {
            "image/png": "[encoded data removed]",
            "text/plain": [
              "<PIL.JpegImagePlugin.JpegImageFile image mode=RGB size=181x181 at 0x7F97E2741790>"
            ]
          },
          "metadata": {
            "tags": []
          },
          "execution_count": 24
        }
      ]
    },
    {
      "cell_type": "markdown",
      "metadata": {
        "id": "mCfTmDA6Dcjc"
      },
      "source": [
        "Now let's pass this image through the neural net:\n"
      ]
    },
    {
      "cell_type": "code",
      "metadata": {
        "id": "vCk4t80yDcjc"
      },
      "source": [
        "# convert the image to a 1d numpy array\n",
        "sample_case = np.array(img.convert('I').resize((28,28))).ravel().reshape((1, -1))/255.0\n",
        "\n",
        "sample_case = tf.cast(sample_case, dtype=tf.float32)"
      ],
      "execution_count": 25,
      "outputs": []
    },
    {
      "cell_type": "markdown",
      "metadata": {
        "id": "Mf6jQliBDcjc"
      },
      "source": [
        "Feed the sample case into the network and reconstruct the output:\n"
      ]
    },
    {
      "cell_type": "code",
      "metadata": {
        "colab": {
          "base_uri": "https://localhost:8080/"
        },
        "id": "53m2tq5NDcjc",
        "outputId": "151842a4-6025-4e44-c7c6-e95da75fc10a"
      },
      "source": [
        "hh0_p = tf.nn.sigmoid(tf.matmul(sample_case, W) + hb)\n",
        "hh0_s = tf.round(hh0_p)\n",
        "\n",
        "print(\"Probability nodes in hidden layer:\" ,hh0_p)\n",
        "print(\"activated nodes in hidden layer:\" ,hh0_s)\n",
        "\n",
        "# reconstruct\n",
        "vv1_p = tf.nn.sigmoid(tf.matmul(hh0_s, tf.transpose(W)) + vb)\n",
        "\n",
        "print(vv1_p)\n",
        "#rec_prob = sess.run(vv1_p, feed_dict={ hh0_s: hh0_s_val, W: prv_w, vb: prv_vb})"
      ],
      "execution_count": 26,
      "outputs": [
        {
          "output_type": "stream",
          "text": [
            "Probability nodes in hidden layer: tf.Tensor(\n",
            "[[5.8295463e-08 1.0000000e+00 9.6287797e-05 2.5453656e-12 8.0138111e-01\n",
            "  9.9999976e-01 9.5449889e-01 9.8888570e-01 9.5477889e-11 1.0851033e-10\n",
            "  3.4646430e-10 7.7379564e-06 4.5033044e-09 8.0256414e-15 1.3622568e-12\n",
            "  9.8533762e-01 2.4380091e-01 9.9942338e-01 9.9864984e-01 4.2511128e-13\n",
            "  9.9999386e-01 3.0551180e-06 9.9973583e-01 1.7701358e-02 9.9976856e-01\n",
            "  9.8707616e-01 1.2090491e-12 1.6395161e-09 2.3326576e-03 2.3966730e-03\n",
            "  4.6108248e-10 4.6078563e-03 1.5527101e-05 1.0000000e+00 9.4584680e-01\n",
            "  7.6403320e-03 5.6187916e-01 9.3189502e-01 9.9999905e-01 1.6395534e-13\n",
            "  9.0673840e-01 9.9995744e-01 8.9595622e-01 4.3670503e-13 5.5561417e-01\n",
            "  9.0547365e-17 1.0000000e+00 7.8553289e-02 3.7777832e-01 1.9606140e-19]], shape=(1, 50), dtype=float32)\n",
            "activated nodes in hidden layer: tf.Tensor(\n",
            "[[0. 1. 0. 0. 1. 1. 1. 1. 0. 0. 0. 0. 0. 0. 0. 1. 0. 1. 1. 0. 1. 0. 1. 0.\n",
            "  1. 1. 0. 0. 0. 0. 0. 0. 0. 1. 1. 0. 1. 1. 1. 0. 1. 1. 1. 0. 1. 0. 1. 0.\n",
            "  0. 0.]], shape=(1, 50), dtype=float32)\n",
            "tf.Tensor(\n",
            "[[1.21283039e-04 1.00296063e-04 9.83100254e-05 1.13083486e-04\n",
            "  6.58993304e-05 1.26212835e-04 9.63634011e-05 7.21052929e-05\n",
            "  7.50478212e-05 6.33153250e-05 6.52435410e-05 7.81106501e-05\n",
            "  1.08050415e-04 1.10388821e-04 1.08241322e-04 1.00615274e-04\n",
            "  1.22501864e-04 9.07516805e-05 9.44553249e-05 9.25850327e-05\n",
            "  8.80695879e-05 1.10844230e-04 6.85886625e-05 1.05438376e-04\n",
            "  8.71932571e-05 8.04895317e-05 7.35618814e-05 1.28805637e-04\n",
            "  9.07516805e-05 1.26212835e-04 8.71931770e-05 9.63634011e-05\n",
            "  7.24227211e-05 1.02716236e-04 1.21697594e-04 1.19728269e-04\n",
            "  5.47166201e-05 1.82121992e-04 1.27196312e-04 1.97738409e-04\n",
            "  2.38001347e-04 1.41471624e-04 1.10246372e-04 1.87456608e-04\n",
            "  2.60710716e-04 2.64793634e-04 3.67790461e-04 1.55270100e-04\n",
            "  2.28315592e-04 1.12402558e-04 5.10754835e-05 9.59222889e-05\n",
            "  1.09741391e-04 9.54046409e-05 1.26212835e-04 6.20615683e-05\n",
            "  8.12984799e-05 1.30087137e-04 8.98556900e-05 6.27812697e-05\n",
            "  7.57754824e-05 1.65581703e-04 8.43777307e-05 1.20104625e-04\n",
            "  8.34009043e-05 2.77922281e-05 2.69465290e-05 4.23218662e-05\n",
            "  1.99828955e-05 3.38180580e-05 4.40060576e-05 1.61200762e-04\n",
            "  6.15434328e-05 5.34528335e-05 3.41123377e-05 2.65188719e-05\n",
            "  6.00529165e-05 1.55061483e-04 3.41206789e-04 1.26451254e-04\n",
            "  1.83194876e-04 9.25523636e-05 9.44553249e-05 1.01304176e-04\n",
            "  1.06498068e-04 6.45943437e-05 8.45102841e-05 1.07071828e-04\n",
            "  1.05641288e-04 8.22574293e-05 2.00808048e-04 8.61534354e-05\n",
            "  4.11760666e-05 1.89102793e-05 2.05455781e-05 7.41768818e-05\n",
            "  4.67515092e-05 4.57289134e-05 1.09425047e-04 2.59488821e-04\n",
            "  3.14891338e-04 2.33173370e-04 1.35570765e-04 7.68294340e-05\n",
            "  4.67236532e-05 8.75564874e-05 2.71469355e-04 2.11983919e-04\n",
            "  1.28090382e-04 1.35272741e-04 1.35451555e-04 7.58020833e-05\n",
            "  1.06498068e-04 1.26659870e-04 1.27494335e-04 1.41292810e-04\n",
            "  9.41262115e-05 2.86549330e-04 1.19115772e-04 1.12823342e-04\n",
            "  7.64453580e-05 1.45971775e-04 2.25484371e-04 2.52276659e-04\n",
            "  6.08175993e-04 2.60207057e-03 1.00825727e-02 5.74365258e-02\n",
            "  7.41031170e-02 3.84460092e-02 1.37214363e-02 3.07255983e-03\n",
            "  4.61757183e-04 6.27100468e-04 5.35249710e-04 1.30540133e-03\n",
            "  5.59687614e-04 4.68075275e-04 1.82479620e-04 1.07602173e-04\n",
            "  1.03350503e-04 6.72304886e-05 8.11137797e-05 1.61707401e-04\n",
            "  3.58074903e-04 3.22490931e-04 3.17811966e-04 3.40819359e-04\n",
            "  7.81148672e-04 2.89666653e-03 1.11320615e-02 2.38645673e-02\n",
            "  1.85399979e-01 4.15012985e-01 5.61613619e-01 8.12278032e-01\n",
            "  8.76658082e-01 9.01683807e-01 5.32093704e-01 1.42978072e-01\n",
            "  2.01726854e-02 5.80310822e-03 2.06863880e-03 1.35430694e-03\n",
            "  1.41638517e-03 1.34041905e-03 3.56078148e-04 1.36256218e-04\n",
            "  6.72304886e-05 7.11753819e-05 1.20633136e-04 3.99380922e-04\n",
            "  9.18596983e-04 1.07476115e-03 4.88966703e-04 4.57763672e-04\n",
            "  1.98110938e-03 9.31981206e-03 4.76000309e-02 3.42235029e-01\n",
            "  6.94063663e-01 7.37336874e-01 9.28101182e-01 9.39063549e-01\n",
            "  9.35582638e-01 9.63201284e-01 8.53983223e-01 7.71906495e-01\n",
            "  3.31174672e-01 3.72031927e-02 1.00261569e-02 1.02165639e-02\n",
            "  1.91855431e-03 1.54745579e-03 8.03947449e-04 6.53767056e-05\n",
            "  8.43280941e-05 1.17892625e-04 1.59561634e-04 9.60797071e-04\n",
            "  2.45454907e-03 2.19842792e-03 1.13227963e-03 1.98194385e-03\n",
            "  4.13122773e-03 4.96053696e-02 2.76842952e-01 6.64749622e-01\n",
            "  6.64989591e-01 8.17998290e-01 9.25191402e-01 8.75129819e-01\n",
            "  8.96566927e-01 8.60036135e-01 8.20722044e-01 8.33950281e-01\n",
            "  6.36749804e-01 2.31339991e-01 3.89918685e-02 2.14231908e-02\n",
            "  2.61870027e-03 5.77211380e-04 7.48932362e-04 1.03699909e-04\n",
            "  8.53127713e-05 1.24692917e-04 2.51114368e-04 7.24256039e-04\n",
            "  2.45517492e-03 1.80676579e-03 1.75860524e-03 3.99726629e-03\n",
            "  1.11005604e-02 8.89690220e-02 3.44224632e-01 6.09635532e-01\n",
            "  5.64393640e-01 6.40911341e-01 3.83055776e-01 1.89418703e-01\n",
            "  3.93848002e-01 3.66533756e-01 5.88074565e-01 8.42601776e-01\n",
            "  8.05513501e-01 3.91253114e-01 4.36532795e-02 9.89192724e-03\n",
            "  2.51284242e-03 3.82900238e-04 4.96357679e-04 2.24083662e-04\n",
            "  1.15376999e-04 1.05782121e-04 2.19494104e-04 1.06510520e-03\n",
            "  2.13795900e-03 9.65416431e-04 1.41537189e-03 3.92755866e-03\n",
            "  1.71646774e-02 6.50480390e-02 1.59497231e-01 3.44040066e-01\n",
            "  1.93429917e-01 5.96523285e-02 2.42772102e-02 4.80224788e-02\n",
            "  7.67952204e-02 1.36681020e-01 4.86452252e-01 6.99074149e-01\n",
            "  6.40472770e-01 1.92560911e-01 6.15629256e-02 5.45236468e-03\n",
            "  8.79794359e-04 2.47389078e-04 3.35872173e-04 8.95147678e-05\n",
            "  1.07712032e-04 1.99645758e-04 6.35653734e-04 8.71896744e-04\n",
            "  2.38290429e-03 2.02798843e-03 1.01223588e-03 2.08234787e-03\n",
            "  2.44134665e-03 1.17233694e-02 5.50341010e-02 4.40664887e-02\n",
            "  2.40619779e-02 2.09183097e-02 4.20412719e-02 6.46850765e-02\n",
            "  1.85327381e-01 3.26993108e-01 8.05320859e-01 7.71874666e-01\n",
            "  6.48383737e-01 1.72923774e-01 2.18976736e-02 8.58873129e-04\n",
            "  2.41428614e-04 3.16262245e-04 4.67896461e-04 1.20955345e-04\n",
            "  9.28432128e-05 1.43855810e-04 8.65131617e-04 1.65921450e-03\n",
            "  1.21518970e-03 2.52404809e-03 6.70552254e-04 7.48932362e-04\n",
            "  3.02612782e-04 1.77025795e-03 3.71009111e-03 7.76478648e-03\n",
            "  3.30805480e-02 9.24325883e-02 4.36480999e-01 4.91667390e-01\n",
            "  6.32184982e-01 8.31392527e-01 8.75232697e-01 8.15699697e-01\n",
            "  4.39003974e-01 7.73705542e-02 1.93694234e-03 2.76714563e-04\n",
            "  1.45345926e-04 4.26858664e-04 2.36093998e-04 1.03350605e-04\n",
            "  8.08184268e-05 1.34527683e-04 5.89907169e-04 1.08078122e-03\n",
            "  1.73678994e-03 8.25434923e-04 5.37574291e-04 3.18795443e-04\n",
            "  1.87456608e-04 3.03179026e-04 3.05759907e-03 2.04653144e-02\n",
            "  2.77878642e-01 5.95284522e-01 9.30171132e-01 8.89241040e-01\n",
            "  8.80134344e-01 8.97502482e-01 7.97725260e-01 5.69751620e-01\n",
            "  1.14374429e-01 3.05491686e-03 7.03364611e-04 6.77453136e-05\n",
            "  4.09316781e-05 1.33395195e-04 1.62929296e-04 8.86413036e-05\n",
            "  1.08385517e-04 1.06218627e-04 1.54823065e-04 5.25087118e-04\n",
            "  7.91430473e-04 9.30994749e-04 2.32338905e-04 5.97195540e-05\n",
            "  3.73184681e-04 9.91940498e-04 8.61796737e-03 9.71027911e-02\n",
            "  6.76439881e-01 9.36113834e-01 9.80027556e-01 9.78823721e-01\n",
            "  9.72426176e-01 9.34350729e-01 7.37989306e-01 3.29716414e-01\n",
            "  1.82267725e-02 1.83194876e-03 2.35795975e-04 4.99864764e-05\n",
            "  1.22513602e-05 1.17242882e-04 2.85923481e-04 1.00174278e-04\n",
            "  1.42484903e-04 7.86454621e-05 1.61886215e-04 4.83810902e-04\n",
            "  7.80761242e-04 4.76390123e-04 7.68474565e-05 9.30472597e-05\n",
            "  5.44964387e-05 1.56128407e-03 8.80315900e-03 1.51151389e-01\n",
            "  7.20739245e-01 9.59620953e-01 9.78770494e-01 9.63526607e-01\n",
            "  9.19168949e-01 9.20930028e-01 6.01255178e-01 1.77559435e-01\n",
            "  4.80690598e-03 5.13315201e-04 5.80888845e-05 1.97293230e-05\n",
            "  1.38980959e-05 7.87939643e-05 1.37716532e-04 1.11603382e-04\n",
            "  7.18935335e-05 1.07109510e-04 1.84804201e-04 5.84393740e-04\n",
            "  4.61757183e-04 3.02076340e-04 8.73921381e-05 1.02369951e-04\n",
            "  3.03357840e-04 3.45963240e-03 4.79575992e-03 6.58292472e-02\n",
            "  4.07821774e-01 6.86472416e-01 5.91252327e-01 4.51116681e-01\n",
            "  6.61085606e-01 7.19106376e-01 6.38580322e-01 4.88181710e-02\n",
            "  3.05691361e-03 2.89201736e-04 4.14183160e-05 2.13384046e-05\n",
            "  8.53340498e-06 2.86646609e-05 9.34497511e-05 8.57756604e-05\n",
            "  1.29014254e-04 1.55985355e-04 2.86072493e-04 1.16011500e-03\n",
            "  1.64666772e-03 5.58465719e-04 9.26345587e-04 4.96566296e-04\n",
            "  1.33761764e-03 6.09207153e-03 3.12492847e-02 6.41883314e-02\n",
            "  2.20720619e-01 1.56528443e-01 7.43957758e-02 9.55134034e-02\n",
            "  2.75794506e-01 5.52637815e-01 3.60558391e-01 3.80464792e-02\n",
            "  2.92491913e-03 1.73419714e-04 2.73406131e-05 1.33495660e-05\n",
            "  1.94001586e-05 5.11679682e-05 1.64180994e-04 1.34646893e-04\n",
            "  1.18881420e-04 7.40685864e-05 4.44233418e-04 2.09751725e-03\n",
            "  4.40540910e-03 4.99778986e-03 3.05560231e-03 2.92459130e-03\n",
            "  4.32303548e-03 1.71801150e-02 2.40862072e-02 4.37409282e-02\n",
            "  4.64594662e-02 3.74602973e-02 2.93866694e-02 1.10621631e-01\n",
            "  2.53454804e-01 5.52234590e-01 3.08519185e-01 3.83750200e-02\n",
            "  3.72999907e-03 3.00437212e-04 3.46994930e-05 3.55080083e-05\n",
            "  3.49046386e-05 1.43527985e-04 1.57743692e-04 1.04459032e-04\n",
            "  8.49655771e-05 1.24245882e-04 1.17462873e-03 4.60723042e-03\n",
            "  1.37698352e-02 1.73344612e-02 1.25557482e-02 6.85161352e-03\n",
            "  1.20104551e-02 3.24102640e-02 2.16039419e-02 4.41492796e-02\n",
            "  2.27454603e-02 1.84856355e-02 6.62432611e-02 1.24588877e-01\n",
            "  2.92581499e-01 3.49480450e-01 2.32412577e-01 4.39398587e-02\n",
            "  3.22458148e-03 7.98851252e-04 1.03636834e-04 5.00378446e-05\n",
            "  5.91379539e-05 2.65181065e-04 1.84208155e-04 6.74339171e-05\n",
            "  1.07315638e-04 8.87631177e-05 1.04710460e-03 1.63956583e-02\n",
            "  7.17625320e-02 7.14436173e-02 4.38082516e-02 2.72210836e-02\n",
            "  3.96326482e-02 8.07250738e-02 4.09437716e-02 2.53729224e-02\n",
            "  1.30883455e-02 1.90249383e-02 3.79191935e-02 1.90465063e-01\n",
            "  2.82756150e-01 4.58536625e-01 2.86009848e-01 2.23425925e-02\n",
            "  3.18321586e-03 5.12152910e-04 2.08616257e-04 1.36196613e-04\n",
            "  2.30163336e-04 2.11328268e-04 1.64419413e-04 1.87993050e-04\n",
            "  9.16637728e-05 1.29491091e-04 4.26954031e-03 1.20521486e-01\n",
            "  2.27928609e-01 2.28944451e-01 2.99757183e-01 2.21383989e-01\n",
            "  1.90924346e-01 1.22446567e-01 6.22602105e-02 1.92630291e-02\n",
            "  2.80208290e-02 2.98093557e-02 4.99713719e-02 1.01169646e-01\n",
            "  4.89148200e-01 3.15072179e-01 1.17747724e-01 1.26292109e-02\n",
            "  2.44790316e-03 4.30047512e-04 2.06083059e-04 2.98440456e-04\n",
            "  3.48538160e-04 4.19020653e-04 4.33593988e-04 1.03306062e-04\n",
            "  8.43050148e-05 1.25497580e-04 2.61187553e-03 1.02482855e-01\n",
            "  2.60105968e-01 5.11150777e-01 6.28410161e-01 4.59115624e-01\n",
            "  4.88742560e-01 2.19117016e-01 7.76871443e-02 4.16003466e-02\n",
            "  3.26206982e-02 5.85558712e-02 1.90363079e-01 4.20269758e-01\n",
            "  2.99301594e-01 2.77565092e-01 3.48355472e-02 7.23809004e-03\n",
            "  1.21885538e-03 3.74436378e-04 2.93642282e-04 4.06891108e-04\n",
            "  3.82184982e-04 6.28858805e-04 1.12623384e-04 9.40119207e-05\n",
            "  1.16039526e-04 9.41336621e-05 1.00252032e-03 5.35027385e-02\n",
            "  3.30256760e-01 4.96696264e-01 8.05574894e-01 8.96348238e-01\n",
            "  8.11932802e-01 5.19987047e-01 3.01647067e-01 1.86733872e-01\n",
            "  1.30029172e-01 3.70469987e-01 5.19422472e-01 2.41314530e-01\n",
            "  1.53358489e-01 2.00124979e-02 4.99263406e-03 7.77375698e-03\n",
            "  1.91098452e-03 1.08775496e-03 6.54280186e-04 1.03262067e-03\n",
            "  8.84681940e-04 4.62353230e-04 1.38342381e-04 9.24217384e-05\n",
            "  7.73334905e-05 1.00296063e-04 4.58329916e-04 5.80680370e-03\n",
            "  1.71851277e-01 4.59784150e-01 7.14100361e-01 8.35708022e-01\n",
            "  9.04407263e-01 8.80481482e-01 9.11318183e-01 8.76271367e-01\n",
            "  6.98694646e-01 6.46320760e-01 3.59529972e-01 5.56568503e-02\n",
            "  3.52697074e-02 1.11790001e-02 4.01848555e-03 2.02479959e-03\n",
            "  1.77657604e-03 5.55783510e-04 9.06974077e-04 8.05944204e-04\n",
            "  3.75539064e-04 1.29729509e-04 9.33726042e-05 7.96886306e-05\n",
            "  8.29407800e-05 6.52434828e-05 1.16527466e-04 8.10891390e-04\n",
            "  1.91992223e-02 1.40135050e-01 5.51822841e-01 5.65650403e-01\n",
            "  8.45586777e-01 8.99635434e-01 8.44681144e-01 7.09941149e-01\n",
            "  8.00710201e-01 3.96827579e-01 6.01868033e-02 9.18692350e-03\n",
            "  4.15259600e-03 3.08629870e-03 3.07297707e-03 5.31673431e-04\n",
            "  5.43653965e-04 1.87605619e-04 7.23421574e-04 2.18003988e-04\n",
            "  2.15470791e-04 1.30534172e-04 1.30593777e-04 8.89547227e-05\n",
            "  6.26853071e-05 1.03350503e-04 1.28954649e-04 9.82254933e-05\n",
            "  2.87920237e-04 2.89878249e-03 8.48779082e-03 2.23681033e-02\n",
            "  3.24848890e-02 2.80708373e-02 1.30451918e-02 3.05083394e-02\n",
            "  1.83647275e-02 3.41477990e-03 1.07282400e-03 5.12331724e-04\n",
            "  3.82632017e-04 1.12062693e-03 1.36849284e-03 6.86109066e-04\n",
            "  2.66551971e-04 2.77042389e-04 4.03791666e-04 1.93178654e-04\n",
            "  1.98155642e-04 7.38335948e-05 1.08491935e-04 1.38133764e-04\n",
            "  6.85886625e-05 7.88956968e-05 1.13083486e-04 4.75590277e-05\n",
            "  1.42484903e-04 4.96536493e-04 1.16842985e-03 8.62240791e-04\n",
            "  7.40498304e-04 1.04093552e-03 2.16150284e-03 9.13977623e-04\n",
            "  4.58210707e-04 2.11179256e-04 9.86058003e-05 1.38133764e-04\n",
            "  1.64955854e-04 3.42458487e-04 3.93718481e-04 4.05400991e-04\n",
            "  2.13980675e-04 1.04434526e-04 9.08230286e-05 1.19287768e-04\n",
            "  5.94809426e-05 7.33976267e-05 8.98486687e-05 7.65639998e-05\n",
            "  1.23798847e-04 1.20076227e-04 6.45943437e-05 6.02273867e-05\n",
            "  9.74694558e-05 1.07218963e-04 9.47596563e-05 2.12460756e-04\n",
            "  3.24845314e-04 6.15596771e-04 5.75333834e-04 5.41567802e-04\n",
            "  2.94864178e-04 6.15328550e-04 1.59651041e-04 1.24871731e-04\n",
            "  2.87055969e-04 3.02165747e-04 3.04222107e-04 1.12283742e-04\n",
            "  1.73717737e-04 8.88152790e-05 8.01304777e-05 6.30699797e-05\n",
            "  6.08326372e-05 1.25050545e-04 7.28299128e-05 9.83101199e-05]], shape=(1, 784), dtype=float32)\n"
          ],
          "name": "stdout"
        }
      ]
    },
    {
      "cell_type": "markdown",
      "metadata": {
        "id": "5hL1srqADcjd"
      },
      "source": [
        "Here we plot the reconstructed image:\n"
      ]
    },
    {
      "cell_type": "code",
      "metadata": {
        "colab": {
          "base_uri": "https://localhost:8080/",
          "height": 265
        },
        "id": "VoOU8kFVDcjd",
        "outputId": "d7f35a86-e944-4e76-8de1-84e966496dbc"
      },
      "source": [
        "img = Image.fromarray(tile_raster_images(X=vv1_p.numpy(), img_shape=(28, 28),tile_shape=(1, 1), tile_spacing=(1, 1)))\n",
        "plt.rcParams['figure.figsize'] = (4.0, 4.0)\n",
        "imgplot = plt.imshow(img)\n",
        "imgplot.set_cmap('gray') "
      ],
      "execution_count": 27,
      "outputs": [
        {
          "output_type": "display_data",
          "data": {
            "image/png": "[encoded data removed]",
            "text/plain": [
              "<Figure size 288x288 with 1 Axes>"
            ]
          },
          "metadata": {
            "tags": [],
            "needs_background": "light"
          }
        }
      ]
    },
    {
      "cell_type": "markdown",
      "metadata": {
        "id": "jN49pYIzDcjd"
      },
      "source": [
        "<hr>\n",
        "\n",
        "## Want to learn more?\n",
        "\n",
        "Running deep learning programs usually needs a high performance platform. **PowerAI** speeds up deep learning and AI. Built on IBM’s Power Systems, **PowerAI** is a scalable software platform that accelerates deep learning and AI with blazing performance for individual users or enterprises. The **PowerAI** platform supports popular machine learning libraries and dependencies including TensorFlow, Caffe, Torch, and Theano. You can use [PowerAI on IMB Cloud](https://cocl.us/ML0120EN_PAI).\n",
        "\n",
        "Also, you can use **Watson Studio** to run these notebooks faster with bigger datasets.**Watson Studio** is IBM’s leading cloud solution for data scientists, built by data scientists. With Jupyter notebooks, RStudio, Apache Spark and popular libraries pre-packaged in the cloud, **Watson Studio** enables data scientists to collaborate on their projects without having to install anything. Join the fast-growing community of **Watson Studio** users today with a free account at [Watson Studio](https://cocl.us/ML0120EN_DSX).This is the end of this lesson. Thank you for reading this notebook, and good luck on your studies.\n"
      ]
    },
    {
      "cell_type": "markdown",
      "metadata": {
        "id": "sPLc-JOvDcje"
      },
      "source": [
        "### Thanks for completing this lesson!\n",
        "\n",
        "Notebook created by: <a href = \"https://ca.linkedin.com/in/saeedaghabozorgi\">Saeed Aghabozorgi</a>\n",
        "\n",
        "Updated to TF 2.X by  <a href=\"https://ca.linkedin.com/in/nilmeier\"> Jerome Nilmeier</a><br />\n"
      ]
    },
    {
      "cell_type": "markdown",
      "metadata": {
        "id": "ELoF6d10Dcje"
      },
      "source": [
        "### References:\n",
        "\n",
        "[https://en.wikipedia.org/wiki/Restricted_Boltzmann_machine](https://en.wikipedia.org/wiki/Restricted_Boltzmann_machine?cm_mmc=Email_Newsletter-_-Developer_Ed%2BTech-_-WW_WW-_-SkillsNetwork-Courses-IBMDeveloperSkillsNetwork-DL0120EN-SkillsNetwork-20629446&cm_mmca1=000026UJ&cm_mmca2=10006555&cm_mmca3=M12345678&cvosrc=email.Newsletter.M12345678&cvo_campaign=000026UJ)  \n",
        "[http://deeplearning.net/tutorial/rbm.html](http://deeplearning.net/tutorial/rbm.html?cm_mmc=Email_Newsletter-_-Developer_Ed%2BTech-_-WW_WW-_-SkillsNetwork-Courses-IBMDeveloperSkillsNetwork-DL0120EN-SkillsNetwork-20629446&cm_mmca1=000026UJ&cm_mmca2=10006555&cm_mmca3=M12345678&cvosrc=email.Newsletter.M12345678&cvo_campaign=000026UJ&cm_mmc=Email_Newsletter-_-Developer_Ed%2BTech-_-WW_WW-_-SkillsNetwork-Courses-IBMDeveloperSkillsNetwork-DL0120EN-SkillsNetwork-20629446&cm_mmca1=000026UJ&cm_mmca2=10006555&cm_mmca3=M12345678&cvosrc=email.Newsletter.M12345678&cvo_campaign=000026UJ)  \n",
        "[http://www.cs.utoronto.ca/~hinton/absps/netflixICML.pdf](http://www.cs.utoronto.ca/~hinton/absps/netflixICML.pdf?cm_mmc=Email_Newsletter-_-Developer_Ed%2BTech-_-WW_WW-_-SkillsNetwork-Courses-IBMDeveloperSkillsNetwork-DL0120EN-SkillsNetwork-20629446&cm_mmca1=000026UJ&cm_mmca2=10006555&cm_mmca3=M12345678&cvosrc=email.Newsletter.M12345678&cvo_campaign=000026UJ&cm_mmc=Email_Newsletter-_-Developer_Ed%2BTech-_-WW_WW-_-SkillsNetwork-Courses-IBMDeveloperSkillsNetwork-DL0120EN-SkillsNetwork-20629446&cm_mmca1=000026UJ&cm_mmca2=10006555&cm_mmca3=M12345678&cvosrc=email.Newsletter.M12345678&cvo_campaign=000026UJ)<br>\n",
        "<http://imonad.com/rbm/restricted-boltzmann-machine/>  \n"
      ]
    },
    {
      "cell_type": "markdown",
      "metadata": {
        "id": "wequRk1sDcjf"
      },
      "source": [
        "<hr>\n",
        "\n",
        "Copyright © 2018 [Cognitive Class](https://cocl.us/DX0108EN_CC). This notebook and its source code are released under the terms of the [MIT License](https://bigdatauniversity.com/mit-license?cm_mmc=Email_Newsletter-_-Developer_Ed%2BTech-_-WW_WW-_-SkillsNetwork-Courses-IBMDeveloperSkillsNetwork-DL0120EN-SkillsNetwork-20629446&cm_mmca1=000026UJ&cm_mmca2=10006555&cm_mmca3=M12345678&cvosrc=email.Newsletter.M12345678&cvo_campaign=000026UJ&cm_mmc=Email_Newsletter-_-Developer_Ed%2BTech-_-WW_WW-_-SkillsNetwork-Courses-IBMDeveloperSkillsNetwork-DL0120EN-SkillsNetwork-20629446&cm_mmca1=000026UJ&cm_mmca2=10006555&cm_mmca3=M12345678&cvosrc=email.Newsletter.M12345678&cvo_campaign=000026UJ).\n"
      ]
    }
  ]
}