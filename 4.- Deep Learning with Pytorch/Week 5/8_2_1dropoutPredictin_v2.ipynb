{
  "nbformat": 4,
  "nbformat_minor": 0,
  "metadata": {
    "kernelspec": {
      "display_name": "Python 3",
      "language": "python",
      "name": "python3"
    },
    "language_info": {
      "codemirror_mode": {
        "name": "ipython",
        "version": 3
      },
      "file_extension": ".py",
      "mimetype": "text/x-python",
      "name": "python",
      "nbconvert_exporter": "python",
      "pygments_lexer": "ipython3",
      "version": "3.7.6"
    },
    "colab": {
      "name": "8.2.1dropoutPredictin_v2.ipynb",
      "provenance": [],
      "collapsed_sections": []
    }
  },
  "cells": [
    {
      "cell_type": "markdown",
      "metadata": {
        "id": "BCIY6U2NsL4S"
      },
      "source": [
        "<center>\n",
        "    <img src=\"https://cf-courses-data.s3.us.cloud-object-storage.appdomain.cloud/IBMDeveloperSkillsNetwork-DL0110EN-SkillsNetwork/Template/module%201/images/IDSNlogo.png\" width=\"300\" alt=\"cognitiveclass.ai logo\"  />\n",
        "</center>\n"
      ]
    },
    {
      "cell_type": "markdown",
      "metadata": {
        "id": "PIEsrCVbsL4i"
      },
      "source": [
        "<h1>Using Dropout for Classification </h1>\n"
      ]
    },
    {
      "cell_type": "markdown",
      "metadata": {
        "id": "dbqZnQfYsL4j"
      },
      "source": [
        "<h3>Objective for this Notebook<h3>    \n",
        "<h5> 1. Create the Model and Cost Function the PyTorch way.</h5>\n",
        "<h5> 2. Batch Gradient Descent </h5>    \n"
      ]
    },
    {
      "cell_type": "markdown",
      "metadata": {
        "id": "-oYMXbEesL4k"
      },
      "source": [
        "<h2>Table of Contents</h2>\n",
        "<p>In this lab, you will see how adding dropout to your model will decrease overfitting.</p>\n",
        "\n",
        "<ul>\n",
        "<li><a href=\"#Makeup_Data\">Make Some Data</a></li>\n",
        "<li><a href=\"#Model_Cost\">Create the Model and Cost Function the PyTorch way</a></li>\n",
        "<li><a href=\"#BGD\">Batch Gradient Descent</a></li>\n",
        "</ul>\n",
        "<p>Estimated Time Needed: <strong>20 min</strong></p>\n",
        "\n",
        "<hr>\n"
      ]
    },
    {
      "cell_type": "markdown",
      "metadata": {
        "id": "srQeScexsL4k"
      },
      "source": [
        "<h2>Preparation</h2>\n"
      ]
    },
    {
      "cell_type": "markdown",
      "metadata": {
        "id": "b-rtWMZIsL4l"
      },
      "source": [
        "We'll need the following libraries\n"
      ]
    },
    {
      "cell_type": "code",
      "metadata": {
        "id": "xmV3OizisL4m"
      },
      "source": [
        "# Import the libraries we need for this lab\n",
        "\n",
        "import torch\n",
        "import matplotlib.pyplot as plt\n",
        "import torch.nn as nn\n",
        "import torch.nn.functional as F\n",
        "import numpy as np\n",
        "from matplotlib.colors import ListedColormap\n",
        "from torch.utils.data import Dataset, DataLoader"
      ],
      "execution_count": 1,
      "outputs": []
    },
    {
      "cell_type": "markdown",
      "metadata": {
        "id": "RxGsrBoqsL4m"
      },
      "source": [
        "Use this function only for plotting:\n"
      ]
    },
    {
      "cell_type": "code",
      "metadata": {
        "id": "m6Yc1IDMsL4n"
      },
      "source": [
        "# The function for plotting the diagram\n",
        "\n",
        "def plot_decision_regions_3class(data_set, model=None):\n",
        "    cmap_light = ListedColormap([ '#0000FF','#FF0000'])\n",
        "    cmap_bold = ListedColormap(['#FF0000', '#00FF00', '#00AAFF'])\n",
        "    X = data_set.x.numpy()\n",
        "    y = data_set.y.numpy()\n",
        "    h = .02\n",
        "    x_min, x_max = X[:, 0].min() - 0.1, X[:, 0].max() + 0.1 \n",
        "    y_min, y_max = X[:, 1].min() - 0.1, X[:, 1].max() + 0.1 \n",
        "    xx, yy = np.meshgrid(np.arange(x_min, x_max, h), np.arange(y_min, y_max, h))\n",
        "    newdata = np.c_[xx.ravel(), yy.ravel()]\n",
        "    \n",
        "    Z = data_set.multi_dim_poly(newdata).flatten()\n",
        "    f = np.zeros(Z.shape)\n",
        "    f[Z > 0] = 1\n",
        "    f = f.reshape(xx.shape)\n",
        "    if model != None:\n",
        "        model.eval()\n",
        "        XX = torch.Tensor(newdata)\n",
        "        _, yhat = torch.max(model(XX), 1)\n",
        "        yhat = yhat.numpy().reshape(xx.shape)\n",
        "        plt.pcolormesh(xx, yy, yhat, cmap=cmap_light)\n",
        "        plt.contour(xx, yy, f, cmap=plt.cm.Paired)\n",
        "    else:\n",
        "        plt.contour(xx, yy, f, cmap=plt.cm.Paired)\n",
        "        plt.pcolormesh(xx, yy, f, cmap=cmap_light) \n",
        "\n",
        "    plt.title(\"decision region vs True decision boundary\")"
      ],
      "execution_count": 2,
      "outputs": []
    },
    {
      "cell_type": "markdown",
      "metadata": {
        "id": "vCuxr9r_sL4o"
      },
      "source": [
        "Use this function to calculate accuracy: \n"
      ]
    },
    {
      "cell_type": "code",
      "metadata": {
        "id": "bRjzjaRssL4p"
      },
      "source": [
        "# The function for calculating accuracy\n",
        "\n",
        "def accuracy(model, data_set):\n",
        "    _, yhat = torch.max(model(data_set.x), 1)\n",
        "    return (yhat == data_set.y).numpy().mean()"
      ],
      "execution_count": 3,
      "outputs": []
    },
    {
      "cell_type": "markdown",
      "metadata": {
        "id": "1BvSuXq7sL4q"
      },
      "source": [
        "<!--Empty Space for separating topics-->\n"
      ]
    },
    {
      "cell_type": "markdown",
      "metadata": {
        "id": "dp9_E04asL4q"
      },
      "source": [
        "<h2 id=\"Makeup_Data\">Make Some Data</h2>\n"
      ]
    },
    {
      "cell_type": "markdown",
      "metadata": {
        "id": "3akV2RB2sL4r"
      },
      "source": [
        "Create a nonlinearly separable dataset:    \n"
      ]
    },
    {
      "cell_type": "code",
      "metadata": {
        "id": "cYcc25DAsL4r"
      },
      "source": [
        "# Create data class for creating dataset object\n",
        "\n",
        "class Data(Dataset):\n",
        "    \n",
        "    # Constructor\n",
        "    def __init__(self, N_SAMPLES=1000, noise_std=0.15, train=True):\n",
        "        a = np.matrix([-1, 1, 2, 1, 1, -3, 1]).T\n",
        "        self.x = np.matrix(np.random.rand(N_SAMPLES, 2))\n",
        "        self.f = np.array(a[0] + (self.x) * a[1:3] + np.multiply(self.x[:, 0], self.x[:, 1]) * a[4] + np.multiply(self.x, self.x) * a[5:7]).flatten()\n",
        "        self.a = a\n",
        "       \n",
        "        self.y = np.zeros(N_SAMPLES)\n",
        "        self.y[self.f > 0] = 1\n",
        "        self.y = torch.from_numpy(self.y).type(torch.LongTensor)\n",
        "        self.x = torch.from_numpy(self.x).type(torch.FloatTensor)\n",
        "        self.x = self.x + noise_std * torch.randn(self.x.size())\n",
        "        self.f = torch.from_numpy(self.f)\n",
        "        self.a = a\n",
        "        if train == True:\n",
        "            torch.manual_seed(1)\n",
        "            self.x = self.x + noise_std * torch.randn(self.x.size())\n",
        "            torch.manual_seed(0)\n",
        "        \n",
        "    # Getter        \n",
        "    def __getitem__(self, index):    \n",
        "        return self.x[index], self.y[index]\n",
        "    \n",
        "    # Get Length\n",
        "    def __len__(self):\n",
        "        return self.len\n",
        "    \n",
        "    # Plot the diagram\n",
        "    def plot(self):\n",
        "        X = data_set.x.numpy()\n",
        "        y = data_set.y.numpy()\n",
        "        h = .02\n",
        "        x_min, x_max = X[:, 0].min(), X[:, 0].max()\n",
        "        y_min, y_max = X[:, 1].min(), X[:, 1].max() \n",
        "        xx, yy = np.meshgrid(np.arange(x_min, x_max, h), np.arange(y_min, y_max, h))\n",
        "        Z = data_set.multi_dim_poly(np.c_[xx.ravel(), yy.ravel()]).flatten()\n",
        "        f = np.zeros(Z.shape)\n",
        "        f[Z > 0] = 1\n",
        "        f = f.reshape(xx.shape)\n",
        "        \n",
        "        plt.title('True decision boundary  and sample points with noise ')\n",
        "        plt.plot(self.x[self.y == 0, 0].numpy(), self.x[self.y == 0,1].numpy(), 'bo', label='y=0') \n",
        "        plt.plot(self.x[self.y == 1, 0].numpy(), self.x[self.y == 1,1].numpy(), 'ro', label='y=1')\n",
        "        plt.contour(xx, yy, f,cmap=plt.cm.Paired)\n",
        "        plt.xlim(0,1)\n",
        "        plt.ylim(0,1)\n",
        "        plt.legend()\n",
        "    \n",
        "    # Make a multidimension ploynomial function\n",
        "    def multi_dim_poly(self, x):\n",
        "        x = np.matrix(x)\n",
        "        out = np.array(self.a[0] + (x) * self.a[1:3] + np.multiply(x[:, 0], x[:, 1]) * self.a[4] + np.multiply(x, x) * self.a[5:7])\n",
        "        out = np.array(out)\n",
        "        return out"
      ],
      "execution_count": 4,
      "outputs": []
    },
    {
      "cell_type": "markdown",
      "metadata": {
        "id": "M1lFwMlYsL4v"
      },
      "source": [
        "Create a dataset object:\n"
      ]
    },
    {
      "cell_type": "code",
      "metadata": {
        "colab": {
          "base_uri": "https://localhost:8080/",
          "height": 281
        },
        "id": "qhZAQgOFsL4w",
        "outputId": "0e5a6ae9-31e4-4757-aff4-512f0a260bb8"
      },
      "source": [
        "# Create a dataset object\n",
        "\n",
        "data_set = Data(noise_std=0.2)\n",
        "data_set.plot()"
      ],
      "execution_count": 5,
      "outputs": [
        {
          "output_type": "display_data",
          "data": {
            "image/png": "[encoded data removed]",
            "text/plain": [
              "<Figure size 432x288 with 1 Axes>"
            ]
          },
          "metadata": {
            "tags": [],
            "needs_background": "light"
          }
        }
      ]
    },
    {
      "cell_type": "markdown",
      "metadata": {
        "id": "bGxnh1TBsL4y"
      },
      "source": [
        "Validation data: \n"
      ]
    },
    {
      "cell_type": "code",
      "metadata": {
        "id": "gjflbIocsL4z"
      },
      "source": [
        "# Get some validation data\n",
        "\n",
        "torch.manual_seed(0) \n",
        "validation_set = Data(train=False)"
      ],
      "execution_count": 6,
      "outputs": []
    },
    {
      "cell_type": "markdown",
      "metadata": {
        "id": "GCJLPe6bsL4z"
      },
      "source": [
        "<!--Empty Space for separating topics-->\n"
      ]
    },
    {
      "cell_type": "markdown",
      "metadata": {
        "id": "IpBGXiF4sL4z"
      },
      "source": [
        "<h2 id=\"Model_Cost\">Create the Model, Optimizer, and Total Loss Function (Cost)</h2>\n"
      ]
    },
    {
      "cell_type": "markdown",
      "metadata": {
        "id": "SiwmRSLpsL40"
      },
      "source": [
        "Create a custom module with three layers. <code>in_size</code> is the size of the input features, <code>n_hidden</code> is the size of the layers, and <code>out_size</code> is the size. <code>p</code> is the dropout probability. The default is 0, that is, no dropout.\n"
      ]
    },
    {
      "cell_type": "code",
      "metadata": {
        "id": "ZqG29WonsL40"
      },
      "source": [
        "# Create Net Class\n",
        "\n",
        "class Net(nn.Module):\n",
        "    \n",
        "    # Constructor\n",
        "    def __init__(self, in_size, n_hidden, out_size, p=0):\n",
        "        super(Net, self).__init__()\n",
        "        self.drop = nn.Dropout(p=p)\n",
        "        self.linear1 = nn.Linear(in_size, n_hidden)\n",
        "        self.linear2 = nn.Linear(n_hidden, n_hidden)\n",
        "        self.linear3 = nn.Linear(n_hidden, out_size)\n",
        "    \n",
        "    # Prediction function\n",
        "    def forward(self, x):\n",
        "        x = F.relu(self.drop(self.linear1(x)))\n",
        "        x = F.relu(self.drop(self.linear2(x)))\n",
        "        x = self.linear3(x)\n",
        "        return x"
      ],
      "execution_count": 7,
      "outputs": []
    },
    {
      "cell_type": "markdown",
      "metadata": {
        "id": "os_cQTtpsL40"
      },
      "source": [
        "Create two model objects: <code>model</code> had no dropout and <code>model_drop</code> has a dropout probability of 0.5:\n"
      ]
    },
    {
      "cell_type": "code",
      "metadata": {
        "id": "rU-_Fh0HsL41"
      },
      "source": [
        "# Create two model objects: model without dropout and model with dropout\n",
        "\n",
        "model = Net(2, 300, 2)\n",
        "model_drop = Net(2, 300, 2, p=0.5)"
      ],
      "execution_count": 8,
      "outputs": []
    },
    {
      "cell_type": "markdown",
      "metadata": {
        "id": "oyx2wxjIsL41"
      },
      "source": [
        "<!--Empty Space for separating topics-->\n"
      ]
    },
    {
      "cell_type": "markdown",
      "metadata": {
        "id": "dC-1XzOFsL42"
      },
      "source": [
        "<h2 id=\"BGD\">Train the Model via Mini-Batch Gradient Descent</h2>\n"
      ]
    },
    {
      "cell_type": "markdown",
      "metadata": {
        "id": "K93bNSaNsL42"
      },
      "source": [
        "Set the model using dropout to training mode; this is the default mode, but it's  good practice to write this in your code : \n"
      ]
    },
    {
      "cell_type": "code",
      "metadata": {
        "colab": {
          "base_uri": "https://localhost:8080/"
        },
        "id": "pjj5ReK8sL42",
        "outputId": "90ecb379-ab46-4819-b221-4a5b725e7151"
      },
      "source": [
        "# Set the model to training mode\n",
        "\n",
        "model_drop.train()"
      ],
      "execution_count": 9,
      "outputs": [
        {
          "output_type": "execute_result",
          "data": {
            "text/plain": [
              "Net(\n",
              "  (drop): Dropout(p=0.5, inplace=False)\n",
              "  (linear1): Linear(in_features=2, out_features=300, bias=True)\n",
              "  (linear2): Linear(in_features=300, out_features=300, bias=True)\n",
              "  (linear3): Linear(in_features=300, out_features=2, bias=True)\n",
              ")"
            ]
          },
          "metadata": {
            "tags": []
          },
          "execution_count": 9
        }
      ]
    },
    {
      "cell_type": "markdown",
      "metadata": {
        "id": "fYf49Kq9sL43"
      },
      "source": [
        "Train the model by using the Adam optimizer. See the unit on other optimizers. Use the Cross Entropy Loss:\n"
      ]
    },
    {
      "cell_type": "code",
      "metadata": {
        "id": "CX1eGY7_sL43"
      },
      "source": [
        "# Set optimizer functions and criterion functions\n",
        "\n",
        "optimizer_ofit = torch.optim.Adam(model.parameters(), lr=0.01)\n",
        "optimizer_drop = torch.optim.Adam(model_drop.parameters(), lr=0.01)\n",
        "criterion = torch.nn.CrossEntropyLoss()"
      ],
      "execution_count": 10,
      "outputs": []
    },
    {
      "cell_type": "markdown",
      "metadata": {
        "id": "InMPIVgjsL43"
      },
      "source": [
        "Initialize a dictionary that stores the training and validation loss for each model:\n"
      ]
    },
    {
      "cell_type": "code",
      "metadata": {
        "id": "VOLoZdy-sL43"
      },
      "source": [
        "# Initialize the LOSS dictionary to store the loss\n",
        "\n",
        "LOSS = {}\n",
        "LOSS['training data no dropout'] = []\n",
        "LOSS['validation data no dropout'] = []\n",
        "LOSS['training data dropout'] = []\n",
        "LOSS['validation data dropout'] = []"
      ],
      "execution_count": 11,
      "outputs": []
    },
    {
      "cell_type": "markdown",
      "metadata": {
        "id": "OqvMWdY_sL44"
      },
      "source": [
        "Run 500 iterations of batch gradient gradient descent: \n"
      ]
    },
    {
      "cell_type": "code",
      "metadata": {
        "id": "5-zS5EpPsL44"
      },
      "source": [
        "# Train the model\n",
        "\n",
        "epochs = 500\n",
        "\n",
        "def train_model(epochs):\n",
        "    \n",
        "    for epoch in range(epochs):\n",
        "        #all the samples are used for training \n",
        "        yhat = model(data_set.x)\n",
        "        yhat_drop = model_drop(data_set.x)\n",
        "        loss = criterion(yhat, data_set.y)\n",
        "        loss_drop = criterion(yhat_drop, data_set.y)\n",
        "\n",
        "        #store the loss for both the training and validation data for both models \n",
        "        LOSS['training data no dropout'].append(loss.item())\n",
        "        LOSS['validation data no dropout'].append(criterion(model(validation_set.x), validation_set.y).item())\n",
        "        LOSS['training data dropout'].append(loss_drop.item())\n",
        "        model_drop.eval()\n",
        "        LOSS['validation data dropout'].append(criterion(model_drop(validation_set.x), validation_set.y).item())\n",
        "        model_drop.train()\n",
        "\n",
        "        optimizer_ofit.zero_grad()\n",
        "        optimizer_drop.zero_grad()\n",
        "        loss.backward()\n",
        "        loss_drop.backward()\n",
        "        optimizer_ofit.step()\n",
        "        optimizer_drop.step()\n",
        "        \n",
        "train_model(epochs)"
      ],
      "execution_count": 12,
      "outputs": []
    },
    {
      "cell_type": "markdown",
      "metadata": {
        "id": "u-w0xodUsL45"
      },
      "source": [
        "Set the model with dropout to evaluation mode: \n"
      ]
    },
    {
      "cell_type": "code",
      "metadata": {
        "colab": {
          "base_uri": "https://localhost:8080/"
        },
        "id": "Ci6hro0LsL45",
        "outputId": "8945ba67-674b-4ffc-a024-253c4a0365e0"
      },
      "source": [
        "# Set the model to evaluation model\n",
        "\n",
        "model_drop.eval()"
      ],
      "execution_count": 13,
      "outputs": [
        {
          "output_type": "execute_result",
          "data": {
            "text/plain": [
              "Net(\n",
              "  (drop): Dropout(p=0.5, inplace=False)\n",
              "  (linear1): Linear(in_features=2, out_features=300, bias=True)\n",
              "  (linear2): Linear(in_features=300, out_features=300, bias=True)\n",
              "  (linear3): Linear(in_features=300, out_features=2, bias=True)\n",
              ")"
            ]
          },
          "metadata": {
            "tags": []
          },
          "execution_count": 13
        }
      ]
    },
    {
      "cell_type": "markdown",
      "metadata": {
        "id": "mSF-k3hUsL45"
      },
      "source": [
        "Test the model without dropout on the validation data: \n"
      ]
    },
    {
      "cell_type": "code",
      "metadata": {
        "colab": {
          "base_uri": "https://localhost:8080/"
        },
        "id": "RwESd6GZsL46",
        "outputId": "5cd0a069-c083-4dba-a112-7d36d6557f51"
      },
      "source": [
        "# Print out the accuracy of the model without dropout\n",
        "\n",
        "print(\"The accuracy of the model without dropout: \", accuracy(model, validation_set))"
      ],
      "execution_count": 14,
      "outputs": [
        {
          "output_type": "stream",
          "text": [
            "The accuracy of the model without dropout:  0.837\n"
          ],
          "name": "stdout"
        }
      ]
    },
    {
      "cell_type": "markdown",
      "metadata": {
        "id": "lNVvt13CsL46"
      },
      "source": [
        "Test the model with dropout on the validation data: \n"
      ]
    },
    {
      "cell_type": "code",
      "metadata": {
        "colab": {
          "base_uri": "https://localhost:8080/"
        },
        "id": "DBfXYoGLsL46",
        "outputId": "bc966329-b29c-4b36-baf9-a71cfb6cff7e"
      },
      "source": [
        "# Print out the accuracy of the model with dropout\n",
        "\n",
        "print(\"The accuracy of the model with dropout: \", accuracy(model_drop, validation_set))"
      ],
      "execution_count": 15,
      "outputs": [
        {
          "output_type": "stream",
          "text": [
            "The accuracy of the model with dropout:  0.846\n"
          ],
          "name": "stdout"
        }
      ]
    },
    {
      "cell_type": "markdown",
      "metadata": {
        "id": "2YUwI4elsL47"
      },
      "source": [
        "You see that the model with dropout performs better on the validation data.\n"
      ]
    },
    {
      "cell_type": "markdown",
      "metadata": {
        "id": "eof0MY9PsL48"
      },
      "source": [
        "<h3>True Function</h3>\n"
      ]
    },
    {
      "cell_type": "markdown",
      "metadata": {
        "id": "Ew-BZlZEsL48"
      },
      "source": [
        "Plot the decision boundary and the prediction of the networks in different colors.\n"
      ]
    },
    {
      "cell_type": "code",
      "metadata": {
        "colab": {
          "base_uri": "https://localhost:8080/",
          "height": 281
        },
        "id": "teyk39E1sL4_",
        "outputId": "bf357c6d-0bc7-496d-e8da-f2591f1abd36"
      },
      "source": [
        "# Plot the decision boundary and the prediction\n",
        "\n",
        "plot_decision_regions_3class(data_set)"
      ],
      "execution_count": 16,
      "outputs": [
        {
          "output_type": "display_data",
          "data": {
            "image/png": "[encoded data removed]",
            "text/plain": [
              "<Figure size 432x288 with 1 Axes>"
            ]
          },
          "metadata": {
            "tags": [],
            "needs_background": "light"
          }
        }
      ]
    },
    {
      "cell_type": "markdown",
      "metadata": {
        "id": "1tbnbOFksL5A"
      },
      "source": [
        "Model without Dropout:\n"
      ]
    },
    {
      "cell_type": "code",
      "metadata": {
        "colab": {
          "base_uri": "https://localhost:8080/",
          "height": 281
        },
        "id": "GBXHxQ4csL5A",
        "outputId": "ed8874b5-8a13-4c63-da09-5a3530aa337c"
      },
      "source": [
        "# The model without dropout\n",
        "\n",
        "plot_decision_regions_3class(data_set, model)"
      ],
      "execution_count": 17,
      "outputs": [
        {
          "output_type": "display_data",
          "data": {
            "image/png": "[encoded data removed]",
            "text/plain": [
              "<Figure size 432x288 with 1 Axes>"
            ]
          },
          "metadata": {
            "tags": [],
            "needs_background": "light"
          }
        }
      ]
    },
    {
      "cell_type": "markdown",
      "metadata": {
        "id": "PW_5vSZDsL5A"
      },
      "source": [
        "Model with Dropout:\n"
      ]
    },
    {
      "cell_type": "code",
      "metadata": {
        "colab": {
          "base_uri": "https://localhost:8080/",
          "height": 281
        },
        "id": "-a9KeVr5sL5B",
        "outputId": "ada8b039-ccd8-42c3-a7b3-1ccae0c9a141"
      },
      "source": [
        "# The model with dropout\n",
        "\n",
        "plot_decision_regions_3class(data_set, model_drop)"
      ],
      "execution_count": 18,
      "outputs": [
        {
          "output_type": "display_data",
          "data": {
            "image/png": "[encoded data removed]",
            "text/plain": [
              "<Figure size 432x288 with 1 Axes>"
            ]
          },
          "metadata": {
            "tags": [],
            "needs_background": "light"
          }
        }
      ]
    },
    {
      "cell_type": "markdown",
      "metadata": {
        "id": "qg0xrq9ysL5B"
      },
      "source": [
        "You can see that the model using dropout does better at tracking the function that generated the data. \n"
      ]
    },
    {
      "cell_type": "markdown",
      "metadata": {
        "id": "aTiTYiGDsL5B"
      },
      "source": [
        "Plot out the loss for the training and validation data on both models, we use the log to make the difference more apparent\n"
      ]
    },
    {
      "cell_type": "code",
      "metadata": {
        "colab": {
          "base_uri": "https://localhost:8080/",
          "height": 606
        },
        "id": "sbm8Hng7sL5C",
        "outputId": "aa7a71c3-7b1c-4d13-d8f9-e532c31fc9a1"
      },
      "source": [
        "# Plot the LOSS\n",
        "\n",
        "plt.figure(figsize=(6.1, 10))\n",
        "def plot_LOSS():\n",
        "    for key, value in LOSS.items():\n",
        "        plt.plot(np.log(np.array(value)), label=key)\n",
        "        plt.legend()\n",
        "        plt.xlabel(\"iterations\")\n",
        "        plt.ylabel(\"Log of cost or total loss\")\n",
        "\n",
        "plot_LOSS()"
      ],
      "execution_count": 19,
      "outputs": [
        {
          "output_type": "display_data",
          "data": {
            "image/png": "[encoded data removed]",
            "text/plain": [
              "<Figure size 439.2x720 with 1 Axes>"
            ]
          },
          "metadata": {
            "tags": [],
            "needs_background": "light"
          }
        }
      ]
    },
    {
      "cell_type": "markdown",
      "metadata": {
        "id": "7V1MLkDysL5C"
      },
      "source": [
        "You see that the model without dropout performs better on the training data, but it performs worse on the validation data. This suggests overfitting.  However, the model using dropout performed better on the validation data, but worse on the training data. \n"
      ]
    },
    {
      "cell_type": "markdown",
      "metadata": {
        "id": "InZc-8hDsL5C"
      },
      "source": [
        "<a href=\"https://dataplatform.cloud.ibm.com/registration/stepone?context=cpdaas&apps=data_science_experience,watson_machine_learning\"><img src=\"https://cf-courses-data.s3.us.cloud-object-storage.appdomain.cloud/IBMDeveloperSkillsNetwork-DL0110EN-SkillsNetwork/Template/module%201/images/Watson_Studio.png\"/></a>\n"
      ]
    },
    {
      "cell_type": "markdown",
      "metadata": {
        "id": "odG3pTA-sL5D"
      },
      "source": [
        "<!--Empty Space for separating topics-->\n"
      ]
    },
    {
      "cell_type": "markdown",
      "metadata": {
        "id": "e_PahQ4ssL5D"
      },
      "source": [
        "<h2>About the Authors:</h2> \n",
        "\n",
        "<a href=\"https://www.linkedin.com/in/joseph-s-50398b136/\">Joseph Santarcangelo</a> has a PhD in Electrical Engineering, his research focused on using machine learning, signal processing, and computer vision to determine how videos impact human cognition. Joseph has been working for IBM since he completed his PhD. \n"
      ]
    },
    {
      "cell_type": "markdown",
      "metadata": {
        "id": "ho5jk0rrsL5D"
      },
      "source": [
        "Other contributors: <a href=\"https://www.linkedin.com/in/michelleccarey/\">Michelle Carey</a>, <a href=\"www.linkedin.com/in/jiahui-mavis-zhou-a4537814a\">Mavis Zhou</a>\n"
      ]
    },
    {
      "cell_type": "markdown",
      "metadata": {
        "id": "D1BpV--msL5D"
      },
      "source": [
        "## Change Log\n",
        "\n",
        "| Date (YYYY-MM-DD) | Version | Changed By | Change Description                                          |\n",
        "| ----------------- | ------- | ---------- | ----------------------------------------------------------- |\n",
        "| 2020-09-23        | 2.0     | Srishti    | Migrated Lab to Markdown and added to course repo in GitLab |\n",
        "\n",
        "<hr>\n",
        "\n",
        "## <h3 align=\"center\"> © IBM Corporation 2020. All rights reserved. <h3/>\n"
      ]
    }
  ]
}