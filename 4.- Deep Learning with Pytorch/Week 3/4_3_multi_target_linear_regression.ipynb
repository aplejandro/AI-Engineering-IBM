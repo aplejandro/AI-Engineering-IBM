{
  "nbformat": 4,
  "nbformat_minor": 0,
  "metadata": {
    "kernelspec": {
      "display_name": "Python 3",
      "language": "python",
      "name": "python3"
    },
    "language_info": {
      "codemirror_mode": {
        "name": "ipython",
        "version": 3
      },
      "file_extension": ".py",
      "mimetype": "text/x-python",
      "name": "python",
      "nbconvert_exporter": "python",
      "pygments_lexer": "ipython3",
      "version": "3.7.6"
    },
    "colab": {
      "name": "4.3.multi-target_linear_regression.ipynb",
      "provenance": [],
      "collapsed_sections": []
    }
  },
  "cells": [
    {
      "cell_type": "markdown",
      "metadata": {
        "id": "DNvR7I_oqE_p"
      },
      "source": [
        "<center>\n",
        "    <img src=\"https://cf-courses-data.s3.us.cloud-object-storage.appdomain.cloud/IBMDeveloperSkillsNetwork-DL0110EN-SkillsNetwork/Template/module%201/images/IDSNlogo.png\" width=\"300\" alt=\"cognitiveclass.ai logo\"  />\n",
        "</center>\n"
      ]
    },
    {
      "cell_type": "markdown",
      "metadata": {
        "id": "3U9IrX8NqE_z"
      },
      "source": [
        "<h2>Objective</h2><ul><li> How to make a prediction using multiple samples.</li></ul> \n"
      ]
    },
    {
      "cell_type": "markdown",
      "metadata": {
        "id": "pJ8SkNf_qE_0"
      },
      "source": [
        "# Table of Contents\n",
        "\n",
        "In this lab, we will  review how to make a prediction for Linear Regression with Multiple Output. \n",
        "\n",
        "<div class=\"alert alert-block alert-info\" style=\"margin-top: 20px\">\n",
        "\n",
        "<li><a href=\"#ref2\">Build Custom Modules </a></li>\n",
        "\n",
        "<br>\n",
        "<p></p>\n",
        "Estimated Time Needed: <strong>15 min</strong>\n",
        "</div>\n",
        "\n",
        "<hr>\n"
      ]
    },
    {
      "cell_type": "markdown",
      "metadata": {
        "id": "AlZkK9tnqE_1"
      },
      "source": [
        "<a id=\"ref1\"></a>\n",
        "\n",
        "<h2 align=center>Class Linear  </h2>\n"
      ]
    },
    {
      "cell_type": "code",
      "metadata": {
        "id": "22OZlTFtqE_2"
      },
      "source": [
        "from torch import nn\n",
        "import torch"
      ],
      "execution_count": 1,
      "outputs": []
    },
    {
      "cell_type": "markdown",
      "metadata": {
        "id": "FWal5_6SqE_3"
      },
      "source": [
        "Set the random seed:\n"
      ]
    },
    {
      "cell_type": "code",
      "metadata": {
        "colab": {
          "base_uri": "https://localhost:8080/"
        },
        "id": "6xLlGv8lqE_4",
        "outputId": "0594685a-e806-470f-9e12-f09b845c3721"
      },
      "source": [
        "torch.manual_seed(1)"
      ],
      "execution_count": 2,
      "outputs": [
        {
          "output_type": "execute_result",
          "data": {
            "text/plain": [
              "<torch._C.Generator at 0x7fe079de9930>"
            ]
          },
          "metadata": {
            "tags": []
          },
          "execution_count": 2
        }
      ]
    },
    {
      "cell_type": "markdown",
      "metadata": {
        "id": "f_U-gQc3qE_5"
      },
      "source": [
        "Set the random seed:\n"
      ]
    },
    {
      "cell_type": "code",
      "metadata": {
        "id": "Ch1NPcsmqE_5"
      },
      "source": [
        "class linear_regression(nn.Module):\n",
        "    def __init__(self,input_size,output_size):\n",
        "        super(linear_regression,self).__init__()\n",
        "        self.linear=nn.Linear(input_size,output_size)\n",
        "    def forward(self,x):\n",
        "        yhat=self.linear(x)\n",
        "        return yhat"
      ],
      "execution_count": 3,
      "outputs": []
    },
    {
      "cell_type": "markdown",
      "metadata": {
        "id": "Mqw96VuhqE_6"
      },
      "source": [
        "create a linear regression  object, as our input and output will be two we set the parameters accordingly \n"
      ]
    },
    {
      "cell_type": "code",
      "metadata": {
        "colab": {
          "base_uri": "https://localhost:8080/"
        },
        "id": "GDWAWIvSqE_6",
        "outputId": "999ec097-6aa8-4f58-f4ff-324ce4cda92d"
      },
      "source": [
        "model=linear_regression(1,10)\n",
        "model(torch.tensor([1.0]))"
      ],
      "execution_count": 4,
      "outputs": [
        {
          "output_type": "execute_result",
          "data": {
            "text/plain": [
              "tensor([ 0.7926, -0.3920,  0.1714,  0.0797, -1.0143,  0.5097, -0.0608,  0.5047,\n",
              "         1.0132,  0.1887], grad_fn=<AddBackward0>)"
            ]
          },
          "metadata": {
            "tags": []
          },
          "execution_count": 4
        }
      ]
    },
    {
      "cell_type": "markdown",
      "metadata": {
        "id": "Z7GQZnizqE_6"
      },
      "source": [
        "we can use the diagram to represent the model or object \n"
      ]
    },
    {
      "cell_type": "markdown",
      "metadata": {
        "id": "elSY-DMhqE_7"
      },
      "source": [
        "<img src = \"https://ibm.box.com/shared/static/icmwnxru7nytlhnq5x486rffea9ncpk7.png\" width = 600, align = \"center\">\n"
      ]
    },
    {
      "cell_type": "markdown",
      "metadata": {
        "id": "AavcQyD5qE_7"
      },
      "source": [
        "we can see the parameters \n"
      ]
    },
    {
      "cell_type": "code",
      "metadata": {
        "colab": {
          "base_uri": "https://localhost:8080/"
        },
        "id": "dJ5Qf1fZqE_7",
        "outputId": "51647c53-a4d2-4ebb-cbc0-d21560e28619"
      },
      "source": [
        "list(model.parameters())"
      ],
      "execution_count": 5,
      "outputs": [
        {
          "output_type": "execute_result",
          "data": {
            "text/plain": [
              "[Parameter containing:\n",
              " tensor([[ 0.5153],\n",
              "         [-0.4414],\n",
              "         [-0.1939],\n",
              "         [ 0.4694],\n",
              "         [-0.9414],\n",
              "         [ 0.5997],\n",
              "         [-0.2057],\n",
              "         [ 0.5087],\n",
              "         [ 0.1390],\n",
              "         [-0.1224]], requires_grad=True), Parameter containing:\n",
              " tensor([ 0.2774,  0.0493,  0.3652, -0.3897, -0.0729, -0.0900,  0.1449, -0.0040,\n",
              "          0.8742,  0.3112], requires_grad=True)]"
            ]
          },
          "metadata": {
            "tags": []
          },
          "execution_count": 5
        }
      ]
    },
    {
      "cell_type": "markdown",
      "metadata": {
        "id": "_ZxDfmB4qE_8"
      },
      "source": [
        "we can create a tensor with two rows representing one sample of data\n"
      ]
    },
    {
      "cell_type": "code",
      "metadata": {
        "id": "z_Cby9wNqE_8"
      },
      "source": [
        "x=torch.tensor([[1.0]])"
      ],
      "execution_count": 6,
      "outputs": []
    },
    {
      "cell_type": "markdown",
      "metadata": {
        "id": "0CuiOyY3qE_8"
      },
      "source": [
        "we can make a prediction \n"
      ]
    },
    {
      "cell_type": "code",
      "metadata": {
        "colab": {
          "base_uri": "https://localhost:8080/"
        },
        "id": "_iSjvSOCqE_8",
        "outputId": "42f5448b-5f6b-423a-94a3-69b0710024af"
      },
      "source": [
        "yhat=model(x)\n",
        "yhat"
      ],
      "execution_count": 7,
      "outputs": [
        {
          "output_type": "execute_result",
          "data": {
            "text/plain": [
              "tensor([[ 0.7926, -0.3920,  0.1714,  0.0797, -1.0143,  0.5097, -0.0608,  0.5047,\n",
              "          1.0132,  0.1887]], grad_fn=<AddmmBackward>)"
            ]
          },
          "metadata": {
            "tags": []
          },
          "execution_count": 7
        }
      ]
    },
    {
      "cell_type": "markdown",
      "metadata": {
        "id": "H_faGaN6qE_9"
      },
      "source": [
        "each row in the following tensor represents a different sample \n"
      ]
    },
    {
      "cell_type": "code",
      "metadata": {
        "id": "nUn34yJuqE_9"
      },
      "source": [
        "X=torch.tensor([[1.0],[1.0],[3.0]])"
      ],
      "execution_count": 8,
      "outputs": []
    },
    {
      "cell_type": "markdown",
      "metadata": {
        "id": "ojfV0L9mqE_9"
      },
      "source": [
        "we can make a prediction using multiple samples \n"
      ]
    },
    {
      "cell_type": "code",
      "metadata": {
        "colab": {
          "base_uri": "https://localhost:8080/"
        },
        "id": "jPNGxV-eqE_-",
        "outputId": "43a83bdd-567a-4bc9-d122-0bb29692f531"
      },
      "source": [
        "Yhat=model(X)\n",
        "Yhat"
      ],
      "execution_count": 9,
      "outputs": [
        {
          "output_type": "execute_result",
          "data": {
            "text/plain": [
              "tensor([[ 0.7926, -0.3920,  0.1714,  0.0797, -1.0143,  0.5097, -0.0608,  0.5047,\n",
              "          1.0132,  0.1887],\n",
              "        [ 0.7926, -0.3920,  0.1714,  0.0797, -1.0143,  0.5097, -0.0608,  0.5047,\n",
              "          1.0132,  0.1887],\n",
              "        [ 1.8232, -1.2748, -0.2164,  1.0184, -2.8972,  1.7091, -0.4722,  1.5222,\n",
              "          1.2912, -0.0561]], grad_fn=<AddmmBackward>)"
            ]
          },
          "metadata": {
            "tags": []
          },
          "execution_count": 9
        }
      ]
    },
    {
      "cell_type": "markdown",
      "metadata": {
        "id": "_eGM5TXNqE_-"
      },
      "source": [
        "the following figure represents the operation, where the red and blue  represents the different parameters, and the different shades of green represent  different samples.\n"
      ]
    },
    {
      "cell_type": "markdown",
      "metadata": {
        "id": "Uf4bqKueqE_-"
      },
      "source": [
        " <img src = \"https://ibm.box.com/shared/static/768cul6pj8hc93uh9ujpajihnp8xdukx.png\" width = 600, align = \"center\">\n"
      ]
    },
    {
      "cell_type": "markdown",
      "metadata": {
        "id": "cM-oendiqE__"
      },
      "source": [
        "<a href=\"https://dataplatform.cloud.ibm.com/registration/stepone?context=cpdaas&apps=data_science_experience,watson_machine_learning\"><img src=\"https://cf-courses-data.s3.us.cloud-object-storage.appdomain.cloud/IBMDeveloperSkillsNetwork-DL0110EN-SkillsNetwork/Template/module%201/images/Watson_Studio.png\"/></a>\n"
      ]
    },
    {
      "cell_type": "markdown",
      "metadata": {
        "id": "2uKlkrVpqE__"
      },
      "source": [
        "# About the Authors:\n",
        "\n",
        " [Joseph Santarcangelo](https://www.linkedin.com/in/joseph-s-50398b136?cm_mmc=Email_Newsletter-_-Developer_Ed%2BTech-_-WW_WW-_-SkillsNetwork-Courses-IBMDeveloperSkillsNetwork-DL0110EN-SkillsNetwork-20647811&cm_mmca1=000026UJ&cm_mmca2=10006555&cm_mmca3=M12345678&cvosrc=email.Newsletter.M12345678&cvo_campaign=000026UJ&cm_mmc=Email_Newsletter-_-Developer_Ed%2BTech-_-WW_WW-_-SkillsNetwork-Courses-IBMDeveloperSkillsNetwork-DL0110EN-SkillsNetwork-20647811&cm_mmca1=000026UJ&cm_mmca2=10006555&cm_mmca3=M12345678&cvosrc=email.Newsletter.M12345678&cvo_campaign=000026UJ) has a PhD in Electrical Engineering, his research focused on using machine learning, signal processing, and computer vision to determine how videos impact human cognition. Joseph has been working for IBM since he completed his PhD.\n",
        "\n",
        "Other contributors: [Michelle Carey](https://www.linkedin.com/in/michelleccarey?cm_mmc=Email_Newsletter-_-Developer_Ed%2BTech-_-WW_WW-_-SkillsNetwork-Courses-IBMDeveloperSkillsNetwork-DL0110EN-SkillsNetwork-20647811&cm_mmca1=000026UJ&cm_mmca2=10006555&cm_mmca3=M12345678&cvosrc=email.Newsletter.M12345678&cvo_campaign=000026UJ) \n"
      ]
    },
    {
      "cell_type": "markdown",
      "metadata": {
        "id": "zYxYzWLIqFAA"
      },
      "source": [
        "## Change Log\n",
        "\n",
        "| Date (YYYY-MM-DD) | Version | Changed By | Change Description                                          |\n",
        "| ----------------- | ------- | ---------- | ----------------------------------------------------------- |\n",
        "| 2020-09-23        | 2.0     | Shubham    | Migrated Lab to Markdown and added to course repo in GitLab |\n"
      ]
    },
    {
      "cell_type": "markdown",
      "metadata": {
        "id": "Dp8-WyJBqFAA"
      },
      "source": [
        "## <h3 align=\"center\"> © IBM Corporation 2020. All rights reserved. <h3/>\n"
      ]
    }
  ]
}