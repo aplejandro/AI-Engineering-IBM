{
  "nbformat": 4,
  "nbformat_minor": 0,
  "metadata": {
    "kernelspec": {
      "display_name": "Python 3",
      "language": "python",
      "name": "python3"
    },
    "language_info": {
      "codemirror_mode": {
        "name": "ipython",
        "version": 3
      },
      "file_extension": ".py",
      "mimetype": "text/x-python",
      "name": "python",
      "nbconvert_exporter": "python",
      "pygments_lexer": "ipython3",
      "version": "3.7.6"
    },
    "colab": {
      "name": "3.6_training_and_validation_v3.ipynb",
      "provenance": [],
      "collapsed_sections": []
    }
  },
  "cells": [
    {
      "cell_type": "markdown",
      "metadata": {
        "id": "hxRL0iV5fvnW"
      },
      "source": [
        "<center>\n",
        "    <img src=\"https://cf-courses-data.s3.us.cloud-object-storage.appdomain.cloud/IBMDeveloperSkillsNetwork-DL0110EN-SkillsNetwork/Template/module%201/images/IDSNlogo.png\" width=\"300\" alt=\"cognitiveclass.ai logo\"  />\n",
        "</center>\n"
      ]
    },
    {
      "cell_type": "markdown",
      "metadata": {
        "id": "AM5LnZSVfvnf"
      },
      "source": [
        "<h1>Linear regression: Training and Validation Data</h1> \n"
      ]
    },
    {
      "cell_type": "markdown",
      "metadata": {
        "id": "Y9yILi_afvng"
      },
      "source": [
        "<h2>Objective</h2><ul><li> How to use learning rate hyperparameter to improve your model result.  .</li></ul> \n"
      ]
    },
    {
      "cell_type": "markdown",
      "metadata": {
        "id": "LWAl2KJQfvng"
      },
      "source": [
        "<h2>Table of Contents</h2>\n",
        "<p>In this lab, you will learn to select the best learning rate by using validation data.</p>\n",
        "\n",
        "<ul>\n",
        "    <li><a href=\"#Makeup_Data\">Make Some Data</a></li>\n",
        "    <li><a href=\"#LR_Loader_Cost\">Create a Linear Regression Object, Data Loader and Criterion Function</a></li>\n",
        "    <li><a href=\"#LR_Hyper\">Different learning rates and Data Structures to Store results for Different Hyperparameters</a></li>\n",
        "    <li><a href=\"#Model\">Train different modules for different Hyperparameters</a></li>\n",
        "    <li><a href=\"#Result\">View Results</a></li>\n",
        "</ul>\n",
        "\n",
        "<p>Estimated Time Needed: <strong>30 min</strong></p>\n",
        "\n",
        "<hr>\n"
      ]
    },
    {
      "cell_type": "markdown",
      "metadata": {
        "id": "pI8Z73DDfvnh"
      },
      "source": [
        "<h2>Preparation</h2>\n"
      ]
    },
    {
      "cell_type": "markdown",
      "metadata": {
        "id": "gAkgKY8xfvnh"
      },
      "source": [
        "We'll need the following libraries and set the random seed.\n"
      ]
    },
    {
      "cell_type": "code",
      "metadata": {
        "id": "FaIa2PwXfvni"
      },
      "source": [
        "# Import libraries we need for this lab, and set the random seed\n",
        "\n",
        "from torch import nn\n",
        "import torch\n",
        "import numpy as np\n",
        "import matplotlib.pyplot as plt\n",
        "from torch import nn,optim"
      ],
      "execution_count": 1,
      "outputs": []
    },
    {
      "cell_type": "markdown",
      "metadata": {
        "id": "kSc7xMSwfvni"
      },
      "source": [
        "<!--Empty Space for separating topics-->\n"
      ]
    },
    {
      "cell_type": "markdown",
      "metadata": {
        "id": "-ZvkFTWCfvnj"
      },
      "source": [
        "<h2 id=\"Makeup_Data\">Make Some Data</h2>\n"
      ]
    },
    {
      "cell_type": "markdown",
      "metadata": {
        "id": "p89nOQSFfvnk"
      },
      "source": [
        "First, we'll create some artificial data in a dataset class. The class will include the option to produce training data or validation data. The training data will include outliers.\n"
      ]
    },
    {
      "cell_type": "code",
      "metadata": {
        "id": "TEg01VdLfvnk"
      },
      "source": [
        "# Create Data class\n",
        "\n",
        "from torch.utils.data import Dataset, DataLoader\n",
        "\n",
        "class Data(Dataset):\n",
        "    \n",
        "    # Constructor\n",
        "    def __init__(self, train = True):\n",
        "            self.x = torch.arange(-3, 3, 0.1).view(-1, 1)\n",
        "            self.f = -3 * self.x + 1\n",
        "            self.y = self.f + 0.1 * torch.randn(self.x.size())\n",
        "            self.len = self.x.shape[0]\n",
        "            \n",
        "            #outliers \n",
        "            if train == True:\n",
        "                self.y[0] = 0\n",
        "                self.y[50:55] = 20\n",
        "            else:\n",
        "                pass\n",
        "      \n",
        "    # Getter\n",
        "    def __getitem__(self, index):    \n",
        "        return self.x[index], self.y[index]\n",
        "    \n",
        "    # Get Length\n",
        "    def __len__(self):\n",
        "        return self.len"
      ],
      "execution_count": 2,
      "outputs": []
    },
    {
      "cell_type": "markdown",
      "metadata": {
        "id": "iUtzPdkmfvnl"
      },
      "source": [
        "Create two objects: one that contains training data and a second that contains validation data. Assume that the training data has the outliers. \n"
      ]
    },
    {
      "cell_type": "code",
      "metadata": {
        "id": "FqZYTFOzfvnm"
      },
      "source": [
        "# Create training dataset and validation dataset\n",
        "\n",
        "train_data = Data()\n",
        "val_data = Data(train = False)"
      ],
      "execution_count": 3,
      "outputs": []
    },
    {
      "cell_type": "markdown",
      "metadata": {
        "id": "5vdug_8Rfvnm"
      },
      "source": [
        "Overlay the training points in red over the function that generated the data. Notice the outliers at x=-3 and around x=2:\n"
      ]
    },
    {
      "cell_type": "code",
      "metadata": {
        "colab": {
          "base_uri": "https://localhost:8080/",
          "height": 279
        },
        "id": "wAiJjhgcfvnm",
        "outputId": "48ca3fd0-613b-4571-8e12-6a8cb20f6c87"
      },
      "source": [
        "# Plot out training points\n",
        "\n",
        "plt.plot(train_data.x.numpy(), train_data.y.numpy(), 'xr',label=\"training data \")\n",
        "plt.plot(train_data.x.numpy(), train_data.f.numpy(),label=\"true function  \")\n",
        "plt.xlabel('x')\n",
        "plt.ylabel('y')\n",
        "plt.legend()\n",
        "plt.show()"
      ],
      "execution_count": 4,
      "outputs": [
        {
          "output_type": "display_data",
          "data": {
            "image/png": "[encoded data removed]",
            "text/plain": [
              "<Figure size 432x288 with 1 Axes>"
            ]
          },
          "metadata": {
            "tags": [],
            "needs_background": "light"
          }
        }
      ]
    },
    {
      "cell_type": "markdown",
      "metadata": {
        "id": "TD-QgBQgfvnn"
      },
      "source": [
        "<!--Empty Space for separating topics-->\n"
      ]
    },
    {
      "cell_type": "markdown",
      "metadata": {
        "id": "2t4GBDgofvnn"
      },
      "source": [
        "<h2 id=\"LR_Loader_Cost\">Create a Linear Regression Object,  Data Loader, and Criterion Function</h2>\n"
      ]
    },
    {
      "cell_type": "code",
      "metadata": {
        "id": "Di9z4RSFfvnn"
      },
      "source": [
        "# Create Linear Regression Class\n",
        "\n",
        "from torch import nn\n",
        "\n",
        "class linear_regression(nn.Module):\n",
        "    \n",
        "    # Constructor\n",
        "    def __init__(self, input_size, output_size):\n",
        "        super(linear_regression, self).__init__()\n",
        "        self.linear = nn.Linear(input_size, output_size)\n",
        "    \n",
        "    # Prediction function\n",
        "    def forward(self, x):\n",
        "        yhat = self.linear(x)\n",
        "        return yhat"
      ],
      "execution_count": 5,
      "outputs": []
    },
    {
      "cell_type": "markdown",
      "metadata": {
        "id": "YvWHbMWZfvno"
      },
      "source": [
        "Create the criterion function and a <code>DataLoader</code> object: \n"
      ]
    },
    {
      "cell_type": "code",
      "metadata": {
        "id": "U7gKEeVUfvno"
      },
      "source": [
        "# Create MSELoss function and DataLoader\n",
        "\n",
        "criterion = nn.MSELoss()\n",
        "trainloader = DataLoader(dataset = train_data, batch_size = 1)"
      ],
      "execution_count": 6,
      "outputs": []
    },
    {
      "cell_type": "markdown",
      "metadata": {
        "id": "IFYcrmgxfvno"
      },
      "source": [
        "<!--Empty Space for separating topics-->\n"
      ]
    },
    {
      "cell_type": "markdown",
      "metadata": {
        "id": "qThdmPoyfvnp"
      },
      "source": [
        "<h2 id=\"LR_Hyper\">Different learning rates and Data Structures to Store results for different Hyperparameters</h2>\n"
      ]
    },
    {
      "cell_type": "markdown",
      "metadata": {
        "id": "qIJOIYaHfvnp"
      },
      "source": [
        "Create a list with different learning rates and a tensor (can be a list) for the training and validating cost/total loss. Include the list MODELS, which stores the training model for every value of the learning rate. \n"
      ]
    },
    {
      "cell_type": "code",
      "metadata": {
        "id": "wWgY7KiTfvnp"
      },
      "source": [
        "# Create Learning Rate list, the error lists and the MODELS list\n",
        "\n",
        "learning_rates=[0.0001, 0.001, 0.01, 0.1]\n",
        "\n",
        "train_error=torch.zeros(len(learning_rates))\n",
        "validation_error=torch.zeros(len(learning_rates))\n",
        "\n",
        "MODELS=[]"
      ],
      "execution_count": 7,
      "outputs": []
    },
    {
      "cell_type": "markdown",
      "metadata": {
        "id": "M0pR1hhIfvnp"
      },
      "source": [
        "<!--Empty Space for separating topics-->\n"
      ]
    },
    {
      "cell_type": "markdown",
      "metadata": {
        "id": "f4KPbbHsfvnq"
      },
      "source": [
        "<h2 id=\"Model\">Train different models  for different Hyperparameters</h2>\n"
      ]
    },
    {
      "cell_type": "markdown",
      "metadata": {
        "id": "La1i6rByfvnq"
      },
      "source": [
        "Try different values of learning rates, perform stochastic gradient descent, and save the results on the training data and validation data. Finally, save each model in a list.\n"
      ]
    },
    {
      "cell_type": "code",
      "metadata": {
        "id": "GWrOgjShfvnr"
      },
      "source": [
        "# Define the train model function and train the model\n",
        "\n",
        "def train_model_with_lr (iter, lr_list):\n",
        "    \n",
        "    # iterate through different learning rates \n",
        "    for i, lr in enumerate(lr_list):\n",
        "        model = linear_regression(1, 1)\n",
        "        optimizer = optim.SGD(model.parameters(), lr = lr)\n",
        "        for epoch in range(iter):\n",
        "            for x, y in trainloader:\n",
        "                yhat = model(x)\n",
        "                loss = criterion(yhat, y)\n",
        "                optimizer.zero_grad()\n",
        "                loss.backward()\n",
        "                optimizer.step()\n",
        "                \n",
        "        # train data\n",
        "        Yhat = model(train_data.x)\n",
        "        train_loss = criterion(Yhat, train_data.y)\n",
        "        train_error[i] = train_loss.item()\n",
        "    \n",
        "        # validation data\n",
        "        Yhat = model(val_data.x)\n",
        "        val_loss = criterion(Yhat, val_data.y)\n",
        "        validation_error[i] = val_loss.item()\n",
        "        MODELS.append(model)\n",
        "\n",
        "train_model_with_lr(10, learning_rates)"
      ],
      "execution_count": 8,
      "outputs": []
    },
    {
      "cell_type": "markdown",
      "metadata": {
        "id": "tRzuVQ8Hfvnr"
      },
      "source": [
        "<!--Empty Space for separating topics-->\n"
      ]
    },
    {
      "cell_type": "markdown",
      "metadata": {
        "id": "DYqtbGwefvns"
      },
      "source": [
        "<h2 id=\"Result\">View the Results</h2>\n"
      ]
    },
    {
      "cell_type": "markdown",
      "metadata": {
        "id": "rcSoQloWfvns"
      },
      "source": [
        "Plot the training loss and validation loss for each learning rate:  \n"
      ]
    },
    {
      "cell_type": "code",
      "metadata": {
        "colab": {
          "base_uri": "https://localhost:8080/",
          "height": 283
        },
        "id": "7EXJaOKcfvns",
        "outputId": "18f1caf8-fc10-459e-aa5b-6a4ed9a581da"
      },
      "source": [
        "# Plot the training loss and validation loss\n",
        "\n",
        "plt.semilogx(np.array(learning_rates), train_error.numpy(), label = 'training loss/total Loss')\n",
        "plt.semilogx(np.array(learning_rates), validation_error.numpy(), label = 'validation cost/total Loss')\n",
        "plt.ylabel('Cost\\ Total Loss')\n",
        "plt.xlabel('learning rate')\n",
        "plt.legend()\n",
        "plt.show()"
      ],
      "execution_count": 9,
      "outputs": [
        {
          "output_type": "display_data",
          "data": {
            "image/png": "[encoded data removed]",
            "text/plain": [
              "<Figure size 432x288 with 1 Axes>"
            ]
          },
          "metadata": {
            "tags": [],
            "needs_background": "light"
          }
        }
      ]
    },
    {
      "cell_type": "markdown",
      "metadata": {
        "id": "DwDf-2vhfvnt"
      },
      "source": [
        "Produce a prediction by using the validation data for each model:  \n"
      ]
    },
    {
      "cell_type": "code",
      "metadata": {
        "colab": {
          "base_uri": "https://localhost:8080/",
          "height": 481
        },
        "id": "ds4uSPcEfvnt",
        "outputId": "119c044f-4c76-4b89-a063-db47ee5f676a"
      },
      "source": [
        "# Plot the predictions\n",
        "\n",
        "i = 0\n",
        "for model, learning_rate in zip(MODELS, learning_rates):\n",
        "    yhat = model(val_data.x)\n",
        "    plt.plot(val_data.x.numpy(), yhat.detach().numpy(), label = 'lr:' + str(learning_rate))\n",
        "    print('i', yhat.detach().numpy()[0:3])\n",
        "plt.plot(val_data.x.numpy(), val_data.f.numpy(), 'or', label = 'validation data')\n",
        "plt.xlabel('x')\n",
        "plt.ylabel('y')\n",
        "plt.legend()\n",
        "plt.show()"
      ],
      "execution_count": 10,
      "outputs": [
        {
          "output_type": "stream",
          "text": [
            "i [[-0.6405859 ]\n",
            " [-0.62963617]\n",
            " [-0.6186863 ]]\n",
            "i [[5.5493965]\n",
            " [5.4317503]\n",
            " [5.314103 ]]\n",
            "i [[6.5889025]\n",
            " [6.4549975]\n",
            " [6.321092 ]]\n",
            "i [[14.669908]\n",
            " [14.228522]\n",
            " [13.787137]]\n"
          ],
          "name": "stdout"
        },
        {
          "output_type": "display_data",
          "data": {
            "image/png": "[encoded data removed]",
            "text/plain": [
              "<Figure size 432x288 with 1 Axes>"
            ]
          },
          "metadata": {
            "tags": [],
            "needs_background": "light"
          }
        }
      ]
    },
    {
      "cell_type": "markdown",
      "metadata": {
        "id": "q2GZHKMZfvnt"
      },
      "source": [
        "<!--Empty Space for separating topics-->\n"
      ]
    },
    {
      "cell_type": "markdown",
      "metadata": {
        "id": "8zkd7i4Nfvnt"
      },
      "source": [
        "<h3>Practice</h3>\n"
      ]
    },
    {
      "cell_type": "markdown",
      "metadata": {
        "id": "oFu6qhF0fvnu"
      },
      "source": [
        "The object <code>good_model</code> is the best performing model. Use the train loader to get the data samples x and y. Produce an estimate for <code>yhat</code> and print it out for every sample in a for a loop. Compare it to the actual prediction <code>y</code>.\n"
      ]
    },
    {
      "cell_type": "code",
      "metadata": {
        "colab": {
          "base_uri": "https://localhost:8080/"
        },
        "id": "q-L1eXOngXvO",
        "outputId": "e545c55b-b6d3-4f1b-daec-ec3fa848a225"
      },
      "source": [
        "good_model = MODELS[3]\n",
        "for x, y in trainloader:\n",
        "    print(\"yhat= \", good_model(x),\"y\", y)"
      ],
      "execution_count": 11,
      "outputs": [
        {
          "output_type": "stream",
          "text": [
            "yhat=  tensor([[14.6699]], grad_fn=<AddmmBackward>) y tensor([[0.]])\n",
            "yhat=  tensor([[14.2285]], grad_fn=<AddmmBackward>) y tensor([[9.7928]])\n",
            "yhat=  tensor([[13.7871]], grad_fn=<AddmmBackward>) y tensor([[9.3749]])\n",
            "yhat=  tensor([[13.3458]], grad_fn=<AddmmBackward>) y tensor([[9.1287]])\n",
            "yhat=  tensor([[12.9044]], grad_fn=<AddmmBackward>) y tensor([[8.9625]])\n",
            "yhat=  tensor([[12.4630]], grad_fn=<AddmmBackward>) y tensor([[8.3430]])\n",
            "yhat=  tensor([[12.0216]], grad_fn=<AddmmBackward>) y tensor([[8.1593]])\n",
            "yhat=  tensor([[11.5802]], grad_fn=<AddmmBackward>) y tensor([[7.8313]])\n",
            "yhat=  tensor([[11.1388]], grad_fn=<AddmmBackward>) y tensor([[7.7482]])\n",
            "yhat=  tensor([[10.6974]], grad_fn=<AddmmBackward>) y tensor([[7.2750]])\n",
            "yhat=  tensor([[10.2561]], grad_fn=<AddmmBackward>) y tensor([[6.8494]])\n",
            "yhat=  tensor([[9.8147]], grad_fn=<AddmmBackward>) y tensor([[6.7189]])\n",
            "yhat=  tensor([[9.3733]], grad_fn=<AddmmBackward>) y tensor([[6.5268]])\n",
            "yhat=  tensor([[8.9319]], grad_fn=<AddmmBackward>) y tensor([[5.9927]])\n",
            "yhat=  tensor([[8.4905]], grad_fn=<AddmmBackward>) y tensor([[5.5195]])\n",
            "yhat=  tensor([[8.0491]], grad_fn=<AddmmBackward>) y tensor([[5.6784]])\n",
            "yhat=  tensor([[7.6078]], grad_fn=<AddmmBackward>) y tensor([[5.0924]])\n",
            "yhat=  tensor([[7.1664]], grad_fn=<AddmmBackward>) y tensor([[4.7383]])\n",
            "yhat=  tensor([[6.7250]], grad_fn=<AddmmBackward>) y tensor([[4.6737]])\n",
            "yhat=  tensor([[6.2836]], grad_fn=<AddmmBackward>) y tensor([[4.3129]])\n",
            "yhat=  tensor([[5.8422]], grad_fn=<AddmmBackward>) y tensor([[4.0062]])\n",
            "yhat=  tensor([[5.4008]], grad_fn=<AddmmBackward>) y tensor([[3.7427]])\n",
            "yhat=  tensor([[4.9594]], grad_fn=<AddmmBackward>) y tensor([[3.3947]])\n",
            "yhat=  tensor([[4.5181]], grad_fn=<AddmmBackward>) y tensor([[3.0325]])\n",
            "yhat=  tensor([[4.0767]], grad_fn=<AddmmBackward>) y tensor([[2.7377]])\n",
            "yhat=  tensor([[3.6353]], grad_fn=<AddmmBackward>) y tensor([[2.5470]])\n",
            "yhat=  tensor([[3.1939]], grad_fn=<AddmmBackward>) y tensor([[2.1357]])\n",
            "yhat=  tensor([[2.7525]], grad_fn=<AddmmBackward>) y tensor([[1.9021]])\n",
            "yhat=  tensor([[2.3111]], grad_fn=<AddmmBackward>) y tensor([[1.5317]])\n",
            "yhat=  tensor([[1.8698]], grad_fn=<AddmmBackward>) y tensor([[1.4210]])\n",
            "yhat=  tensor([[1.4284]], grad_fn=<AddmmBackward>) y tensor([[1.0594]])\n",
            "yhat=  tensor([[0.9870]], grad_fn=<AddmmBackward>) y tensor([[0.8173]])\n",
            "yhat=  tensor([[0.5456]], grad_fn=<AddmmBackward>) y tensor([[0.4557]])\n",
            "yhat=  tensor([[0.1042]], grad_fn=<AddmmBackward>) y tensor([[0.0822]])\n",
            "yhat=  tensor([[-0.3372]], grad_fn=<AddmmBackward>) y tensor([[-0.3034]])\n",
            "yhat=  tensor([[-0.7786]], grad_fn=<AddmmBackward>) y tensor([[-0.3140]])\n",
            "yhat=  tensor([[-1.2199]], grad_fn=<AddmmBackward>) y tensor([[-0.9278]])\n",
            "yhat=  tensor([[-1.6613]], grad_fn=<AddmmBackward>) y tensor([[-0.9572]])\n",
            "yhat=  tensor([[-2.1027]], grad_fn=<AddmmBackward>) y tensor([[-1.2446]])\n",
            "yhat=  tensor([[-2.5441]], grad_fn=<AddmmBackward>) y tensor([[-1.6959]])\n",
            "yhat=  tensor([[-2.9855]], grad_fn=<AddmmBackward>) y tensor([[-2.0407]])\n",
            "yhat=  tensor([[-3.4269]], grad_fn=<AddmmBackward>) y tensor([[-2.2810]])\n",
            "yhat=  tensor([[-3.8683]], grad_fn=<AddmmBackward>) y tensor([[-2.6030]])\n",
            "yhat=  tensor([[-4.3096]], grad_fn=<AddmmBackward>) y tensor([[-2.9710]])\n",
            "yhat=  tensor([[-4.7510]], grad_fn=<AddmmBackward>) y tensor([[-2.9557]])\n",
            "yhat=  tensor([[-5.1924]], grad_fn=<AddmmBackward>) y tensor([[-3.4567]])\n",
            "yhat=  tensor([[-5.6338]], grad_fn=<AddmmBackward>) y tensor([[-3.7326]])\n",
            "yhat=  tensor([[-6.0752]], grad_fn=<AddmmBackward>) y tensor([[-4.0993]])\n",
            "yhat=  tensor([[-6.5166]], grad_fn=<AddmmBackward>) y tensor([[-4.2476]])\n",
            "yhat=  tensor([[-6.9579]], grad_fn=<AddmmBackward>) y tensor([[-4.6229]])\n",
            "yhat=  tensor([[-7.3993]], grad_fn=<AddmmBackward>) y tensor([[20.]])\n",
            "yhat=  tensor([[-7.8407]], grad_fn=<AddmmBackward>) y tensor([[20.]])\n",
            "yhat=  tensor([[-8.2821]], grad_fn=<AddmmBackward>) y tensor([[20.]])\n",
            "yhat=  tensor([[-8.7235]], grad_fn=<AddmmBackward>) y tensor([[20.]])\n",
            "yhat=  tensor([[-9.1649]], grad_fn=<AddmmBackward>) y tensor([[20.]])\n",
            "yhat=  tensor([[-9.6063]], grad_fn=<AddmmBackward>) y tensor([[-6.6456]])\n",
            "yhat=  tensor([[-10.0476]], grad_fn=<AddmmBackward>) y tensor([[-6.8841]])\n",
            "yhat=  tensor([[-10.4890]], grad_fn=<AddmmBackward>) y tensor([[-7.2408]])\n",
            "yhat=  tensor([[-10.9304]], grad_fn=<AddmmBackward>) y tensor([[-7.2562]])\n",
            "yhat=  tensor([[-11.3718]], grad_fn=<AddmmBackward>) y tensor([[-7.6420]])\n"
          ],
          "name": "stdout"
        }
      ]
    },
    {
      "cell_type": "markdown",
      "metadata": {
        "id": "yZXqN5oofvnu"
      },
      "source": [
        "Double-click <b>here</b> for the solution.\n",
        "\n",
        "<!-- \n",
        "for x, y in trainloader:\n",
        "    print(\"yhat= \", good_model(x),\"y\", y)\n",
        "-->\n"
      ]
    },
    {
      "cell_type": "markdown",
      "metadata": {
        "id": "3alWeFuUfvnu"
      },
      "source": [
        "<a href=\"https://dataplatform.cloud.ibm.com/registration/stepone?context=cpdaas&apps=data_science_experience,watson_machine_learning\"><img src=\"https://cf-courses-data.s3.us.cloud-object-storage.appdomain.cloud/IBMDeveloperSkillsNetwork-DL0110EN-SkillsNetwork/Template/module%201/images/Watson_Studio.png\"/></a>\n"
      ]
    },
    {
      "cell_type": "markdown",
      "metadata": {
        "id": "1sZctiv4fvnu"
      },
      "source": [
        "<!--Empty Space for separating topics-->\n"
      ]
    },
    {
      "cell_type": "markdown",
      "metadata": {
        "id": "KY9VnYGtfvnu"
      },
      "source": [
        "<h2>About the Authors:</h2> \n",
        "\n",
        "<a href=\"https://www.linkedin.com/in/joseph-s-50398b136/\">Joseph Santarcangelo</a> has a PhD in Electrical Engineering, his research focused on using machine learning, signal processing, and computer vision to determine how videos impact human cognition. Joseph has been working for IBM since he completed his PhD. \n"
      ]
    },
    {
      "cell_type": "markdown",
      "metadata": {
        "id": "dAk4RQiRfvnv"
      },
      "source": [
        "Other contributors: <a href=\"https://www.linkedin.com/in/michelleccarey/\">Michelle Carey</a>, <a href=\"www.linkedin.com/in/jiahui-mavis-zhou-a4537814a\">Mavis Zhou</a>\n"
      ]
    },
    {
      "cell_type": "markdown",
      "metadata": {
        "id": "WLNj9Lfhfvnv"
      },
      "source": [
        "## Change Log\n",
        "\n",
        "| Date (YYYY-MM-DD) | Version | Changed By | Change Description                                          |\n",
        "| ----------------- | ------- | ---------- | ----------------------------------------------------------- |\n",
        "| 2020-09-23        | 2.0     | Shubham    | Migrated Lab to Markdown and added to course repo in GitLab |\n"
      ]
    },
    {
      "cell_type": "markdown",
      "metadata": {
        "id": "dr-O2MRPfvnv"
      },
      "source": [
        "<hr>\n"
      ]
    },
    {
      "cell_type": "markdown",
      "metadata": {
        "id": "f1Z-Kwa_fvnw"
      },
      "source": [
        "## <h3 align=\"center\"> © IBM Corporation 2020. All rights reserved. <h3/>\n"
      ]
    }
  ]
}