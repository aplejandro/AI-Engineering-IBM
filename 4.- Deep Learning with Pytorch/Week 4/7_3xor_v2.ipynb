{
  "nbformat": 4,
  "nbformat_minor": 0,
  "metadata": {
    "kernelspec": {
      "display_name": "Python 3",
      "language": "python",
      "name": "python3"
    },
    "language_info": {
      "codemirror_mode": {
        "name": "ipython",
        "version": 3
      },
      "file_extension": ".py",
      "mimetype": "text/x-python",
      "name": "python",
      "nbconvert_exporter": "python",
      "pygments_lexer": "ipython3",
      "version": "3.7.6"
    },
    "colab": {
      "name": "7.3xor_v2.ipynb",
      "provenance": [],
      "collapsed_sections": []
    }
  },
  "cells": [
    {
      "cell_type": "markdown",
      "metadata": {
        "id": "MkerFRpYSuG1"
      },
      "source": [
        "<center>\n",
        "    <img src=\"https://cf-courses-data.s3.us.cloud-object-storage.appdomain.cloud/IBMDeveloperSkillsNetwork-DL0110EN-SkillsNetwork/Template/module%201/images/IDSNlogo.png\" width=\"300\" alt=\"cognitiveclass.ai logo\"  />\n",
        "</center>\n"
      ]
    },
    {
      "cell_type": "markdown",
      "metadata": {
        "id": "1qn5rH4MSuG_"
      },
      "source": [
        "<h1>Practice: Neural Networks with One Hidden Layer: Noisy XOR</h1>\n"
      ]
    },
    {
      "cell_type": "markdown",
      "metadata": {
        "id": "O-BH_jhJSuHA"
      },
      "source": [
        "<h2>Objective</h2><ul><li> How to create a neural network model with multiple neurons.</li></ul> \n"
      ]
    },
    {
      "cell_type": "markdown",
      "metadata": {
        "id": "Y1b_BMIzSuHA"
      },
      "source": [
        "<h2>Table of Contents</h2>\n",
        "<p>In this lab, you will see how many neurons it takes to classify noisy XOR data with one hidden layer neural network.</p>\n",
        "\n",
        "<ul>\n",
        "    <li><a href=\"#Model\">Neural Network Module and Training Function</a></li>\n",
        "    <li><a href=\"#Makeup_Data\">Make Some Data</a></li>\n",
        "    <li><a href=\"#One\">One Neuron</a></li>\n",
        "    <li><a href=\"#Two\">Two Neurons</a></li>\n",
        "    <li><a href=\"#Three\">Three Neurons</a></li>\n",
        "</ul>\n",
        "<p>Estimated Time Needed: <strong>25 min</strong></p>\n",
        "<hr>\n"
      ]
    },
    {
      "cell_type": "markdown",
      "metadata": {
        "id": "h4RKn850SuHB"
      },
      "source": [
        "<h2>Preparation</h2>\n"
      ]
    },
    {
      "cell_type": "markdown",
      "metadata": {
        "id": "kaHmnDv6SuHB"
      },
      "source": [
        "We'll need the following libraries\n"
      ]
    },
    {
      "cell_type": "code",
      "metadata": {
        "id": "L-tIQ3tYSuHC"
      },
      "source": [
        "# Import the libraries we need for this lab\n",
        "\n",
        "\n",
        "\n",
        "import numpy as np\n",
        "import torch\n",
        "import torch.nn as nn\n",
        "import torch.nn.functional as F\n",
        "import matplotlib.pyplot as plt \n",
        "from matplotlib.colors import ListedColormap\n",
        "from torch.utils.data import Dataset, DataLoader"
      ],
      "execution_count": 1,
      "outputs": []
    },
    {
      "cell_type": "markdown",
      "metadata": {
        "id": "Z0dcPI9RSuHD"
      },
      "source": [
        "Use the following function to plot the data: \n"
      ]
    },
    {
      "cell_type": "code",
      "metadata": {
        "id": "M0SjP_vySuHD"
      },
      "source": [
        "# Plot the data\n",
        "\n",
        "def plot_decision_regions_2class(model,data_set):\n",
        "    cmap_light = ListedColormap(['#FFAAAA', '#AAFFAA', '#00AAFF'])\n",
        "    cmap_bold = ListedColormap(['#FF0000', '#00FF00', '#00AAFF'])\n",
        "    X = data_set.x.numpy()\n",
        "    y = data_set.y.numpy()\n",
        "    h = .02\n",
        "    x_min, x_max = X[:, 0].min() - 0.1 , X[:, 0].max() + 0.1 \n",
        "    y_min, y_max = X[:, 1].min() - 0.1 , X[:, 1].max() + 0.1 \n",
        "    xx, yy = np.meshgrid(np.arange(x_min, x_max, h),np.arange(y_min, y_max, h))\n",
        "    XX = torch.Tensor(np.c_[xx.ravel(), yy.ravel()])\n",
        "\n",
        "    yhat = np.logical_not((model(XX)[:, 0] > 0.5).numpy()).reshape(xx.shape)\n",
        "    plt.pcolormesh(xx, yy, yhat, cmap=cmap_light)\n",
        "    plt.plot(X[y[:, 0] == 0, 0], X[y[:, 0] == 0, 1], 'o', label='y=0')\n",
        "    plt.plot(X[y[:, 0] == 1, 0], X[y[:, 0] == 1, 1], 'ro', label='y=1')\n",
        "    plt.title(\"decision region\")\n",
        "    plt.legend()"
      ],
      "execution_count": 4,
      "outputs": []
    },
    {
      "cell_type": "markdown",
      "metadata": {
        "id": "OPXg-D7YSuHE"
      },
      "source": [
        "Use the following function to calculate accuracy: \n"
      ]
    },
    {
      "cell_type": "code",
      "metadata": {
        "id": "uOQWWwr9SuHE"
      },
      "source": [
        "# Calculate the accuracy\n",
        "\n",
        "def accuracy(model, data_set):\n",
        "    return np.mean(data_set.y.view(-1).numpy() == (model(data_set.x)[:, 0] > 0.5).numpy())"
      ],
      "execution_count": 5,
      "outputs": []
    },
    {
      "cell_type": "markdown",
      "metadata": {
        "id": "4GIFriioSuHE"
      },
      "source": [
        "<!--Empty Space for separating topics-->\n"
      ]
    },
    {
      "cell_type": "markdown",
      "metadata": {
        "id": "fTz3W90uSuHF"
      },
      "source": [
        "<h2 id=\"Model\">Neural Network Module and Training Function</h2> \n"
      ]
    },
    {
      "cell_type": "markdown",
      "metadata": {
        "id": "NwUNlY0DSuHF"
      },
      "source": [
        "Define the neural network module or class: \n"
      ]
    },
    {
      "cell_type": "code",
      "metadata": {
        "id": "-OAKjBmzSuHF"
      },
      "source": [
        "# Define the class Net with one hidden layer \n",
        "\n",
        "class Net(nn.Module):\n",
        "    \n",
        "    # Constructor\n",
        "    def __init__(self, D_in, H, D_out):\n",
        "        super(Net, self).__init__()\n",
        "        #hidden layer \n",
        "        self.linear1 = nn.Linear(D_in, H)\n",
        "        #output layer \n",
        "        self.linear2 = nn.Linear(H, D_out)\n",
        "\n",
        "    # Prediction    \n",
        "    def forward(self, x):\n",
        "        x = torch.sigmoid(self.linear1(x))  \n",
        "        x = torch.sigmoid(self.linear2(x))\n",
        "        return x"
      ],
      "execution_count": 6,
      "outputs": []
    },
    {
      "cell_type": "markdown",
      "metadata": {
        "id": "S9oXKhGjSuHG"
      },
      "source": [
        "Define a function to train the model: \n"
      ]
    },
    {
      "cell_type": "code",
      "metadata": {
        "id": "Gk4HRxmLSuHG"
      },
      "source": [
        "# Define the train model\n",
        "\n",
        "def train(data_set, model, criterion, train_loader, optimizer, epochs=5):\n",
        "    COST = []\n",
        "    ACC = []\n",
        "    for epoch in range(epochs):\n",
        "        total=0\n",
        "        for x, y in train_loader:\n",
        "            optimizer.zero_grad()\n",
        "            yhat = model(x)\n",
        "            loss = criterion(yhat, y)\n",
        "            optimizer.zero_grad()\n",
        "            loss.backward()\n",
        "            optimizer.step()\n",
        "            #cumulative loss \n",
        "            total+=loss.item()\n",
        "        ACC.append(accuracy(model, data_set))\n",
        "        COST.append(total)\n",
        "        \n",
        "    fig, ax1 = plt.subplots()\n",
        "    color = 'tab:red'\n",
        "    ax1.plot(COST, color=color)\n",
        "    ax1.set_xlabel('epoch', color=color)\n",
        "    ax1.set_ylabel('total loss', color=color)\n",
        "    ax1.tick_params(axis='y', color=color)\n",
        "    \n",
        "    ax2 = ax1.twinx()  \n",
        "    color = 'tab:blue'\n",
        "    ax2.set_ylabel('accuracy', color=color)  # we already handled the x-label with ax1\n",
        "    ax2.plot(ACC, color=color)\n",
        "    ax2.tick_params(axis='y', color=color)\n",
        "    fig.tight_layout()  # otherwise the right y-label is slightly clipped\n",
        "    \n",
        "    plt.show()\n",
        "\n",
        "    return COST"
      ],
      "execution_count": 7,
      "outputs": []
    },
    {
      "cell_type": "markdown",
      "metadata": {
        "id": "DZqMG5LYSuHH"
      },
      "source": [
        "<!--Empty Space for separating topics-->\n"
      ]
    },
    {
      "cell_type": "markdown",
      "metadata": {
        "id": "RHPOOgbHSuHH"
      },
      "source": [
        "<h2 id=\"Makeup_Data\">Make Some Data</h2> \n"
      ]
    },
    {
      "cell_type": "markdown",
      "metadata": {
        "id": "l5vmeDOoSuHI"
      },
      "source": [
        "Dataset class:\n"
      ]
    },
    {
      "cell_type": "code",
      "metadata": {
        "id": "ozwaKRyzSuHI"
      },
      "source": [
        "# Define the class XOR_Data\n",
        "\n",
        "class XOR_Data(Dataset):\n",
        "    \n",
        "    # Constructor\n",
        "    def __init__(self, N_s=100):\n",
        "        self.x = torch.zeros((N_s, 2))\n",
        "        self.y = torch.zeros((N_s, 1))\n",
        "        for i in range(N_s // 4):\n",
        "            self.x[i, :] = torch.Tensor([0.0, 0.0]) \n",
        "            self.y[i, 0] = torch.Tensor([0.0])\n",
        "\n",
        "            self.x[i + N_s // 4, :] = torch.Tensor([0.0, 1.0])\n",
        "            self.y[i + N_s // 4, 0] = torch.Tensor([1.0])\n",
        "    \n",
        "            self.x[i + N_s // 2, :] = torch.Tensor([1.0, 0.0])\n",
        "            self.y[i + N_s // 2, 0] = torch.Tensor([1.0])\n",
        "    \n",
        "            self.x[i + 3 * N_s // 4, :] = torch.Tensor([1.0, 1.0])\n",
        "            self.y[i + 3 * N_s // 4, 0] = torch.Tensor([0.0])\n",
        "\n",
        "            self.x = self.x + 0.01 * torch.randn((N_s, 2))\n",
        "        self.len = N_s\n",
        "\n",
        "    # Getter\n",
        "    def __getitem__(self, index):    \n",
        "        return self.x[index],self.y[index]\n",
        "    \n",
        "    # Get Length\n",
        "    def __len__(self):\n",
        "        return self.len\n",
        "    \n",
        "    # Plot the data\n",
        "    def plot_stuff(self):\n",
        "        plt.plot(self.x[self.y[:, 0] == 0, 0].numpy(), self.x[self.y[:, 0] == 0, 1].numpy(), 'o', label=\"y=0\")\n",
        "        plt.plot(self.x[self.y[:, 0] == 1, 0].numpy(), self.x[self.y[:, 0] == 1, 1].numpy(), 'ro', label=\"y=1\")\n",
        "        plt.legend()"
      ],
      "execution_count": 8,
      "outputs": []
    },
    {
      "cell_type": "markdown",
      "metadata": {
        "id": "6pqnqyp-SuHJ"
      },
      "source": [
        "Dataset object:\n"
      ]
    },
    {
      "cell_type": "code",
      "metadata": {
        "colab": {
          "base_uri": "https://localhost:8080/",
          "height": 265
        },
        "id": "-SQo8k_wSuHK",
        "outputId": "8da155d0-6a55-469c-bf0b-f7ab25169876"
      },
      "source": [
        "# Create dataset object\n",
        "\n",
        "data_set = XOR_Data()\n",
        "data_set.plot_stuff()"
      ],
      "execution_count": 9,
      "outputs": [
        {
          "output_type": "display_data",
          "data": {
            "image/png": "[encoded data removed]",
            "text/plain": [
              "<Figure size 432x288 with 1 Axes>"
            ]
          },
          "metadata": {
            "tags": [],
            "needs_background": "light"
          }
        }
      ]
    },
    {
      "cell_type": "markdown",
      "metadata": {
        "id": "aFt1iCADSuHK"
      },
      "source": [
        "<!--Empty Space for separating topics-->\n"
      ]
    },
    {
      "cell_type": "markdown",
      "metadata": {
        "id": "cIE2I-_3SuHK"
      },
      "source": [
        "<h2 id=\"One\">One Neuron</h2> \n"
      ]
    },
    {
      "cell_type": "markdown",
      "metadata": {
        "id": "hNdKkoPxSuHL"
      },
      "source": [
        "<h3>Try</h3>\n"
      ]
    },
    {
      "cell_type": "markdown",
      "metadata": {
        "id": "EUGB5ftjSuHL"
      },
      "source": [
        "Create a neural network <code>model</code> with one neuron. Then, use the following code to train it:\n"
      ]
    },
    {
      "cell_type": "code",
      "metadata": {
        "id": "PbpwcKR6SuHL"
      },
      "source": [
        "# Practice: create a model with one neuron\n",
        "\n",
        "# Type your code here\n",
        "model = Net(2, 1, 1)"
      ],
      "execution_count": 10,
      "outputs": []
    },
    {
      "cell_type": "markdown",
      "metadata": {
        "id": "Vwsb_LktSuHM"
      },
      "source": [
        "Double-click <b>here</b> for the solution.\n",
        "\n",
        "<!-- \n",
        "model = Net(2, 1, 1)\n",
        "-->\n"
      ]
    },
    {
      "cell_type": "code",
      "metadata": {
        "colab": {
          "base_uri": "https://localhost:8080/",
          "height": 561
        },
        "id": "IyxcUbYJSuHM",
        "outputId": "76b82312-a256-4b8f-92dc-6c9db5894acb"
      },
      "source": [
        "# Train the model\n",
        "\n",
        "learning_rate = 0.001\n",
        "criterion = nn.BCELoss()\n",
        "optimizer = torch.optim.SGD(model.parameters(), lr=learning_rate)\n",
        "train_loader = DataLoader(dataset=data_set, batch_size=1)\n",
        "LOSS12 = train(data_set, model, criterion, train_loader, optimizer, epochs=500)\n",
        "plot_decision_regions_2class(model, data_set)"
      ],
      "execution_count": 11,
      "outputs": [
        {
          "output_type": "display_data",
          "data": {
            "image/png": "[encoded data removed]",
            "text/plain": [
              "<Figure size 432x288 with 2 Axes>"
            ]
          },
          "metadata": {
            "tags": [],
            "needs_background": "light"
          }
        },
        {
          "output_type": "display_data",
          "data": {
            "image/png": "[encoded data removed]",
            "text/plain": [
              "<Figure size 432x288 with 1 Axes>"
            ]
          },
          "metadata": {
            "tags": [],
            "needs_background": "light"
          }
        }
      ]
    },
    {
      "cell_type": "markdown",
      "metadata": {
        "id": "VpX15VQbSuHM"
      },
      "source": [
        "<!--Empty Space for separating topics-->\n"
      ]
    },
    {
      "cell_type": "markdown",
      "metadata": {
        "id": "FJEhVIRmSuHM"
      },
      "source": [
        "<h2 id=\"Two\">Two Neurons</h2> \n"
      ]
    },
    {
      "cell_type": "markdown",
      "metadata": {
        "id": "rLMIbDKBSuHN"
      },
      "source": [
        "<h3>Try</h3>\n"
      ]
    },
    {
      "cell_type": "markdown",
      "metadata": {
        "id": "Xp_jGvozSuHO"
      },
      "source": [
        "Create a neural network <code>model</code> with two neurons. Then, use the following code to train it:\n"
      ]
    },
    {
      "cell_type": "code",
      "metadata": {
        "id": "FWu-GEsiSuHO"
      },
      "source": [
        "# Practice: create a model with two neuron\n",
        "\n",
        "# Type your code here\n",
        "model = Net(2, 2, 1)"
      ],
      "execution_count": 12,
      "outputs": []
    },
    {
      "cell_type": "markdown",
      "metadata": {
        "id": "udMLUDT_SuHP"
      },
      "source": [
        "Double-click <b>here</b> for the solution.\n",
        "\n",
        "<!-- \n",
        "model = Net(2, 2, 1)\n",
        "-->\n"
      ]
    },
    {
      "cell_type": "code",
      "metadata": {
        "colab": {
          "base_uri": "https://localhost:8080/",
          "height": 561
        },
        "id": "ssccxmCSSuHP",
        "outputId": "a9aef55a-5940-4c2c-94c3-8872b32585a4"
      },
      "source": [
        "# Train the model\n",
        "\n",
        "learning_rate = 0.1\n",
        "criterion = nn.BCELoss()\n",
        "optimizer = torch.optim.SGD(model.parameters(), lr=learning_rate)\n",
        "train_loader = DataLoader(dataset=data_set, batch_size=1)\n",
        "LOSS12 = train(data_set, model, criterion, train_loader, optimizer, epochs=500)\n",
        "plot_decision_regions_2class(model, data_set)"
      ],
      "execution_count": 13,
      "outputs": [
        {
          "output_type": "display_data",
          "data": {
            "image/png": "[encoded data removed]",
            "text/plain": [
              "<Figure size 432x288 with 2 Axes>"
            ]
          },
          "metadata": {
            "tags": [],
            "needs_background": "light"
          }
        },
        {
          "output_type": "display_data",
          "data": {
            "image/png": "[encoded data removed]",
            "text/plain": [
              "<Figure size 432x288 with 1 Axes>"
            ]
          },
          "metadata": {
            "tags": [],
            "needs_background": "light"
          }
        }
      ]
    },
    {
      "cell_type": "markdown",
      "metadata": {
        "id": "WqBAWe8tSuHQ"
      },
      "source": [
        "<!--Empty Space for separating topics-->\n"
      ]
    },
    {
      "cell_type": "markdown",
      "metadata": {
        "id": "Zsla85K7SuHQ"
      },
      "source": [
        "<h2 id=\"Three\">Three Neurons</h2> \n"
      ]
    },
    {
      "cell_type": "markdown",
      "metadata": {
        "id": "mAU5N8FjSuHQ"
      },
      "source": [
        "<h3>Try</h3>\n"
      ]
    },
    {
      "cell_type": "markdown",
      "metadata": {
        "id": "13NOt2BPSuHQ"
      },
      "source": [
        "Create a neural network <code>model</code> with three neurons. Then, use the following code to train it:\n"
      ]
    },
    {
      "cell_type": "code",
      "metadata": {
        "id": "FTCrYKGgSuHR"
      },
      "source": [
        "# Practice: create a model with four neuron\n",
        "model = Net(2, 3, 1)\n",
        "# Type your code here"
      ],
      "execution_count": 14,
      "outputs": []
    },
    {
      "cell_type": "markdown",
      "metadata": {
        "id": "CO-J31ztSuHS"
      },
      "source": [
        "Double-click <b>here</b> for the solution.\n",
        "\n",
        "<!-- \n",
        "model = Net(2, 4, 1)\n",
        "-->\n"
      ]
    },
    {
      "cell_type": "code",
      "metadata": {
        "colab": {
          "base_uri": "https://localhost:8080/",
          "height": 561
        },
        "id": "R_QNacI-SuHS",
        "outputId": "2d06c60c-ccde-4ebd-cecd-98e6fc2e025a"
      },
      "source": [
        "# Train the model\n",
        "\n",
        "learning_rate = 0.1\n",
        "criterion = nn.BCELoss()\n",
        "optimizer = torch.optim.SGD(model.parameters(), lr=learning_rate)\n",
        "train_loader = DataLoader(dataset=data_set, batch_size=1)\n",
        "LOSS12 = train(data_set, model, criterion, train_loader, optimizer, epochs=500)\n",
        "plot_decision_regions_2class(model, data_set)\n"
      ],
      "execution_count": 15,
      "outputs": [
        {
          "output_type": "display_data",
          "data": {
            "image/png": "[encoded data removed]",
            "text/plain": [
              "<Figure size 432x288 with 2 Axes>"
            ]
          },
          "metadata": {
            "tags": [],
            "needs_background": "light"
          }
        },
        {
          "output_type": "display_data",
          "data": {
            "image/png": "[encoded data removed]",
            "text/plain": [
              "<Figure size 432x288 with 1 Axes>"
            ]
          },
          "metadata": {
            "tags": [],
            "needs_background": "light"
          }
        }
      ]
    },
    {
      "cell_type": "code",
      "metadata": {
        "id": "iBFvKkzyUiYD"
      },
      "source": [
        "# Practice: create a model with four neuron\n",
        "model = Net(2, 4, 1)\n",
        "# Type your code here"
      ],
      "execution_count": 16,
      "outputs": []
    },
    {
      "cell_type": "code",
      "metadata": {
        "colab": {
          "base_uri": "https://localhost:8080/",
          "height": 561
        },
        "id": "3OMfDbQGUp_S",
        "outputId": "15975479-de59-46fe-fe4f-d1b330e39360"
      },
      "source": [
        "# Train the model\n",
        "\n",
        "learning_rate = 0.1\n",
        "criterion = nn.BCELoss()\n",
        "optimizer = torch.optim.SGD(model.parameters(), lr=learning_rate)\n",
        "train_loader = DataLoader(dataset=data_set, batch_size=1)\n",
        "LOSS12 = train(data_set, model, criterion, train_loader, optimizer, epochs=500)\n",
        "plot_decision_regions_2class(model, data_set)\n"
      ],
      "execution_count": 17,
      "outputs": [
        {
          "output_type": "display_data",
          "data": {
            "image/png": "[encoded data removed]",
            "text/plain": [
              "<Figure size 432x288 with 2 Axes>"
            ]
          },
          "metadata": {
            "tags": [],
            "needs_background": "light"
          }
        },
        {
          "output_type": "display_data",
          "data": {
            "image/png": "[encoded data removed]",
            "text/plain": [
              "<Figure size 432x288 with 1 Axes>"
            ]
          },
          "metadata": {
            "tags": [],
            "needs_background": "light"
          }
        }
      ]
    },
    {
      "cell_type": "markdown",
      "metadata": {
        "id": "-vGTmh_WSuHS"
      },
      "source": [
        "<a href=\"https://dataplatform.cloud.ibm.com/registration/stepone?context=cpdaas&apps=data_science_experience,watson_machine_learning\"><img src=\"https://cf-courses-data.s3.us.cloud-object-storage.appdomain.cloud/IBMDeveloperSkillsNetwork-DL0110EN-SkillsNetwork/Template/module%201/images/Watson_Studio.png\"/></a>\n"
      ]
    },
    {
      "cell_type": "markdown",
      "metadata": {
        "id": "xa8bUoT0SuHT"
      },
      "source": [
        "<!--Empty Space for separating topics-->\n"
      ]
    },
    {
      "cell_type": "markdown",
      "metadata": {
        "id": "102bsVp6SuHT"
      },
      "source": [
        "<h2>About the Authors:</h2> \n",
        "\n",
        "<a href=\"https://www.linkedin.com/in/joseph-s-50398b136/\">Joseph Santarcangelo</a> has a PhD in Electrical Engineering, his research focused on using machine learning, signal processing, and computer vision to determine how videos impact human cognition. Joseph has been working for IBM since he completed his PhD. \n"
      ]
    },
    {
      "cell_type": "markdown",
      "metadata": {
        "id": "tdgTqLbNSuHT"
      },
      "source": [
        "Other contributors: <a href=\"https://www.linkedin.com/in/michelleccarey/\">Michelle Carey</a>, <a href=\"www.linkedin.com/in/jiahui-mavis-zhou-a4537814a\">Mavis Zhou</a>\n"
      ]
    },
    {
      "cell_type": "markdown",
      "metadata": {
        "id": "2xOnZ3yWSuHT"
      },
      "source": [
        "## Change Log\n",
        "\n",
        "| Date (YYYY-MM-DD) | Version | Changed By | Change Description                                          |\n",
        "| ----------------- | ------- | ---------- | ----------------------------------------------------------- |\n",
        "| 2020-09-23        | 2.0     | Shubham    | Migrated Lab to Markdown and added to course repo in GitLab |\n"
      ]
    },
    {
      "cell_type": "markdown",
      "metadata": {
        "id": "jObc36f4SuHU"
      },
      "source": [
        "<hr>\n"
      ]
    },
    {
      "cell_type": "markdown",
      "metadata": {
        "id": "LxCempGKSuHU"
      },
      "source": [
        "## <h3 align=\"center\"> © IBM Corporation 2020. All rights reserved. <h3/>\n"
      ]
    }
  ]
}