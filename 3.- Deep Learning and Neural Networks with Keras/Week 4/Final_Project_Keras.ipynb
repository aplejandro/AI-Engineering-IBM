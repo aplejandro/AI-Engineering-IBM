{
  "nbformat": 4,
  "nbformat_minor": 0,
  "metadata": {
    "colab": {
      "name": "Final Project Keras.ipynb",
      "provenance": [],
      "collapsed_sections": []
    },
    "kernelspec": {
      "name": "python3",
      "display_name": "Python 3"
    },
    "language_info": {
      "name": "python"
    }
  },
  "cells": [
    {
      "cell_type": "markdown",
      "metadata": {
        "id": "D8lSF09uTxx7"
      },
      "source": [
        "#Part A. Build a baseline model"
      ]
    },
    {
      "cell_type": "code",
      "metadata": {
        "id": "aL260FBiXHfc"
      },
      "source": [
        "import pandas as pd\n",
        "import numpy as np\n",
        "import keras"
      ],
      "execution_count": 31,
      "outputs": []
    },
    {
      "cell_type": "code",
      "metadata": {
        "id": "0CTHKMDYRC0W"
      },
      "source": [
        "df = pd.read_csv(\"https://cocl.us/concrete_data\")"
      ],
      "execution_count": 32,
      "outputs": []
    },
    {
      "cell_type": "code",
      "metadata": {
        "colab": {
          "base_uri": "https://localhost:8080/",
          "height": 195
        },
        "id": "v7UTgh50UZb8",
        "outputId": "2cc43edf-b6e5-4fd3-a1b9-d7d955a31736"
      },
      "source": [
        "df.head()"
      ],
      "execution_count": 33,
      "outputs": [
        {
          "output_type": "execute_result",
          "data": {
            "text/html": [
              "<div>\n",
              "<style scoped>\n",
              "    .dataframe tbody tr th:only-of-type {\n",
              "        vertical-align: middle;\n",
              "    }\n",
              "\n",
              "    .dataframe tbody tr th {\n",
              "        vertical-align: top;\n",
              "    }\n",
              "\n",
              "    .dataframe thead th {\n",
              "        text-align: right;\n",
              "    }\n",
              "</style>\n",
              "<table border=\"1\" class=\"dataframe\">\n",
              "  <thead>\n",
              "    <tr style=\"text-align: right;\">\n",
              "      <th></th>\n",
              "      <th>Cement</th>\n",
              "      <th>Blast Furnace Slag</th>\n",
              "      <th>Fly Ash</th>\n",
              "      <th>Water</th>\n",
              "      <th>Superplasticizer</th>\n",
              "      <th>Coarse Aggregate</th>\n",
              "      <th>Fine Aggregate</th>\n",
              "      <th>Age</th>\n",
              "      <th>Strength</th>\n",
              "    </tr>\n",
              "  </thead>\n",
              "  <tbody>\n",
              "    <tr>\n",
              "      <th>0</th>\n",
              "      <td>540.0</td>\n",
              "      <td>0.0</td>\n",
              "      <td>0.0</td>\n",
              "      <td>162.0</td>\n",
              "      <td>2.5</td>\n",
              "      <td>1040.0</td>\n",
              "      <td>676.0</td>\n",
              "      <td>28</td>\n",
              "      <td>79.99</td>\n",
              "    </tr>\n",
              "    <tr>\n",
              "      <th>1</th>\n",
              "      <td>540.0</td>\n",
              "      <td>0.0</td>\n",
              "      <td>0.0</td>\n",
              "      <td>162.0</td>\n",
              "      <td>2.5</td>\n",
              "      <td>1055.0</td>\n",
              "      <td>676.0</td>\n",
              "      <td>28</td>\n",
              "      <td>61.89</td>\n",
              "    </tr>\n",
              "    <tr>\n",
              "      <th>2</th>\n",
              "      <td>332.5</td>\n",
              "      <td>142.5</td>\n",
              "      <td>0.0</td>\n",
              "      <td>228.0</td>\n",
              "      <td>0.0</td>\n",
              "      <td>932.0</td>\n",
              "      <td>594.0</td>\n",
              "      <td>270</td>\n",
              "      <td>40.27</td>\n",
              "    </tr>\n",
              "    <tr>\n",
              "      <th>3</th>\n",
              "      <td>332.5</td>\n",
              "      <td>142.5</td>\n",
              "      <td>0.0</td>\n",
              "      <td>228.0</td>\n",
              "      <td>0.0</td>\n",
              "      <td>932.0</td>\n",
              "      <td>594.0</td>\n",
              "      <td>365</td>\n",
              "      <td>41.05</td>\n",
              "    </tr>\n",
              "    <tr>\n",
              "      <th>4</th>\n",
              "      <td>198.6</td>\n",
              "      <td>132.4</td>\n",
              "      <td>0.0</td>\n",
              "      <td>192.0</td>\n",
              "      <td>0.0</td>\n",
              "      <td>978.4</td>\n",
              "      <td>825.5</td>\n",
              "      <td>360</td>\n",
              "      <td>44.30</td>\n",
              "    </tr>\n",
              "  </tbody>\n",
              "</table>\n",
              "</div>"
            ],
            "text/plain": [
              "   Cement  Blast Furnace Slag  Fly Ash  ...  Fine Aggregate  Age  Strength\n",
              "0   540.0                 0.0      0.0  ...           676.0   28     79.99\n",
              "1   540.0                 0.0      0.0  ...           676.0   28     61.89\n",
              "2   332.5               142.5      0.0  ...           594.0  270     40.27\n",
              "3   332.5               142.5      0.0  ...           594.0  365     41.05\n",
              "4   198.6               132.4      0.0  ...           825.5  360     44.30\n",
              "\n",
              "[5 rows x 9 columns]"
            ]
          },
          "metadata": {
            "tags": []
          },
          "execution_count": 33
        }
      ]
    },
    {
      "cell_type": "markdown",
      "metadata": {
        "id": "yNJ2T3K1UqIx"
      },
      "source": [
        "Checking for NA Values"
      ]
    },
    {
      "cell_type": "code",
      "metadata": {
        "colab": {
          "base_uri": "https://localhost:8080/"
        },
        "id": "eyCLeoR9UbFW",
        "outputId": "84e5f5d8-94ab-4301-d991-a6bf3d5536b1"
      },
      "source": [
        "df.isna().sum()"
      ],
      "execution_count": 34,
      "outputs": [
        {
          "output_type": "execute_result",
          "data": {
            "text/plain": [
              "Cement                0\n",
              "Blast Furnace Slag    0\n",
              "Fly Ash               0\n",
              "Water                 0\n",
              "Superplasticizer      0\n",
              "Coarse Aggregate      0\n",
              "Fine Aggregate        0\n",
              "Age                   0\n",
              "Strength              0\n",
              "dtype: int64"
            ]
          },
          "metadata": {
            "tags": []
          },
          "execution_count": 34
        }
      ]
    },
    {
      "cell_type": "markdown",
      "metadata": {
        "id": "-qD1AM1JU3cA"
      },
      "source": [
        "Defining the Features and the target"
      ]
    },
    {
      "cell_type": "code",
      "metadata": {
        "colab": {
          "base_uri": "https://localhost:8080/"
        },
        "id": "4RGG5GwQUohg",
        "outputId": "25874e3e-1a6f-4141-b68b-295eefa49461"
      },
      "source": [
        "X = df.drop(\"Strength\", axis=1)\n",
        "y = df.loc[:, \"Strength\"]\n",
        "\n",
        "X.shape, y.shape"
      ],
      "execution_count": 35,
      "outputs": [
        {
          "output_type": "execute_result",
          "data": {
            "text/plain": [
              "((1030, 8), (1030,))"
            ]
          },
          "metadata": {
            "tags": []
          },
          "execution_count": 35
        }
      ]
    },
    {
      "cell_type": "markdown",
      "metadata": {
        "id": "upaR3J0dU8n-"
      },
      "source": [
        "Train/Test split"
      ]
    },
    {
      "cell_type": "code",
      "metadata": {
        "colab": {
          "base_uri": "https://localhost:8080/"
        },
        "id": "Y3kKDddjUwPn",
        "outputId": "bf91cf93-3ac8-434f-ac7a-000293c45c91"
      },
      "source": [
        "from sklearn.model_selection import train_test_split\n",
        "X_train, X_test, y_train, y_test = train_test_split(X, y, test_size=0.3)\n",
        "\n",
        "X_train.shape, X_test.shape, y_train.shape, y_test.shape"
      ],
      "execution_count": 36,
      "outputs": [
        {
          "output_type": "execute_result",
          "data": {
            "text/plain": [
              "((721, 8), (309, 8), (721,), (309,))"
            ]
          },
          "metadata": {
            "tags": []
          },
          "execution_count": 36
        }
      ]
    },
    {
      "cell_type": "markdown",
      "metadata": {
        "id": "roT6GTXhVmIe"
      },
      "source": [
        "Creating the model"
      ]
    },
    {
      "cell_type": "code",
      "metadata": {
        "id": "q-1yERJbVrze"
      },
      "source": [
        "def build_model():\n",
        "    model = keras.models.Sequential()\n",
        "    model.add(keras.layers.Dense(10, activation=\"relu\", input_shape=(X.shape[1],)))\n",
        "    model.add(keras.layers.Dense(1))\n",
        "    \n",
        "    model.compile(optimizer=\"adam\", loss=\"mean_squared_error\")\n",
        "    return model"
      ],
      "execution_count": 37,
      "outputs": []
    },
    {
      "cell_type": "markdown",
      "metadata": {
        "id": "RkNFQV5tV_ug"
      },
      "source": [
        "Training the model on 50 epochs"
      ]
    },
    {
      "cell_type": "code",
      "metadata": {
        "colab": {
          "base_uri": "https://localhost:8080/"
        },
        "id": "zAieSDaNVzQu",
        "outputId": "97de9fd5-837b-486e-a664-419b7221943c"
      },
      "source": [
        "model = build_model()\n",
        "\n",
        "model.fit(X_train, y_train, epochs=50, verbose=1)"
      ],
      "execution_count": 38,
      "outputs": [
        {
          "output_type": "stream",
          "text": [
            "Epoch 1/50\n",
            "23/23 [==============================] - 0s 1ms/step - loss: 130594.3411\n",
            "Epoch 2/50\n",
            "23/23 [==============================] - 0s 1ms/step - loss: 59068.6527\n",
            "Epoch 3/50\n",
            "23/23 [==============================] - 0s 1ms/step - loss: 22795.5809\n",
            "Epoch 4/50\n",
            "23/23 [==============================] - 0s 1ms/step - loss: 8380.2862\n",
            "Epoch 5/50\n",
            "23/23 [==============================] - 0s 1ms/step - loss: 3483.7843\n",
            "Epoch 6/50\n",
            "23/23 [==============================] - 0s 1ms/step - loss: 2376.5243\n",
            "Epoch 7/50\n",
            "23/23 [==============================] - 0s 1ms/step - loss: 2061.6251\n",
            "Epoch 8/50\n",
            "23/23 [==============================] - 0s 1ms/step - loss: 1920.7847\n",
            "Epoch 9/50\n",
            "23/23 [==============================] - 0s 1ms/step - loss: 1888.3338\n",
            "Epoch 10/50\n",
            "23/23 [==============================] - 0s 1ms/step - loss: 1767.6255\n",
            "Epoch 11/50\n",
            "23/23 [==============================] - 0s 1ms/step - loss: 1728.3119\n",
            "Epoch 12/50\n",
            "23/23 [==============================] - 0s 1ms/step - loss: 1650.2128\n",
            "Epoch 13/50\n",
            "23/23 [==============================] - 0s 1ms/step - loss: 1621.7865\n",
            "Epoch 14/50\n",
            "23/23 [==============================] - 0s 1ms/step - loss: 1576.8635\n",
            "Epoch 15/50\n",
            "23/23 [==============================] - 0s 1ms/step - loss: 1540.5024\n",
            "Epoch 16/50\n",
            "23/23 [==============================] - 0s 1ms/step - loss: 1433.6830\n",
            "Epoch 17/50\n",
            "23/23 [==============================] - 0s 1ms/step - loss: 1494.8641\n",
            "Epoch 18/50\n",
            "23/23 [==============================] - 0s 2ms/step - loss: 1442.3645\n",
            "Epoch 19/50\n",
            "23/23 [==============================] - 0s 1ms/step - loss: 1463.5739\n",
            "Epoch 20/50\n",
            "23/23 [==============================] - 0s 1ms/step - loss: 1398.7096\n",
            "Epoch 21/50\n",
            "23/23 [==============================] - 0s 1ms/step - loss: 1240.4190\n",
            "Epoch 22/50\n",
            "23/23 [==============================] - 0s 1ms/step - loss: 1232.2140\n",
            "Epoch 23/50\n",
            "23/23 [==============================] - 0s 1ms/step - loss: 1133.4326\n",
            "Epoch 24/50\n",
            "23/23 [==============================] - 0s 1ms/step - loss: 1160.5809\n",
            "Epoch 25/50\n",
            "23/23 [==============================] - 0s 1ms/step - loss: 1081.5222\n",
            "Epoch 26/50\n",
            "23/23 [==============================] - 0s 1ms/step - loss: 999.7911\n",
            "Epoch 27/50\n",
            "23/23 [==============================] - 0s 1ms/step - loss: 1062.6787\n",
            "Epoch 28/50\n",
            "23/23 [==============================] - 0s 1ms/step - loss: 973.1633\n",
            "Epoch 29/50\n",
            "23/23 [==============================] - 0s 1ms/step - loss: 1009.2834\n",
            "Epoch 30/50\n",
            "23/23 [==============================] - 0s 1ms/step - loss: 959.3384\n",
            "Epoch 31/50\n",
            "23/23 [==============================] - 0s 1ms/step - loss: 935.1119\n",
            "Epoch 32/50\n",
            "23/23 [==============================] - 0s 1ms/step - loss: 814.1118\n",
            "Epoch 33/50\n",
            "23/23 [==============================] - 0s 1ms/step - loss: 889.1676\n",
            "Epoch 34/50\n",
            "23/23 [==============================] - 0s 1ms/step - loss: 835.3883\n",
            "Epoch 35/50\n",
            "23/23 [==============================] - 0s 1ms/step - loss: 801.2080\n",
            "Epoch 36/50\n",
            "23/23 [==============================] - 0s 1ms/step - loss: 751.0537\n",
            "Epoch 37/50\n",
            "23/23 [==============================] - 0s 1ms/step - loss: 763.2817\n",
            "Epoch 38/50\n",
            "23/23 [==============================] - 0s 2ms/step - loss: 702.1206\n",
            "Epoch 39/50\n",
            "23/23 [==============================] - 0s 1ms/step - loss: 726.1892\n",
            "Epoch 40/50\n",
            "23/23 [==============================] - 0s 1ms/step - loss: 776.7051\n",
            "Epoch 41/50\n",
            "23/23 [==============================] - 0s 1ms/step - loss: 664.8107\n",
            "Epoch 42/50\n",
            "23/23 [==============================] - 0s 1ms/step - loss: 687.3231\n",
            "Epoch 43/50\n",
            "23/23 [==============================] - 0s 1ms/step - loss: 619.4445\n",
            "Epoch 44/50\n",
            "23/23 [==============================] - 0s 1ms/step - loss: 640.8924\n",
            "Epoch 45/50\n",
            "23/23 [==============================] - 0s 1ms/step - loss: 570.3234\n",
            "Epoch 46/50\n",
            "23/23 [==============================] - 0s 1ms/step - loss: 605.5654\n",
            "Epoch 47/50\n",
            "23/23 [==============================] - 0s 2ms/step - loss: 559.6243\n",
            "Epoch 48/50\n",
            "23/23 [==============================] - 0s 1ms/step - loss: 574.1340\n",
            "Epoch 49/50\n",
            "23/23 [==============================] - 0s 2ms/step - loss: 542.3095\n",
            "Epoch 50/50\n",
            "23/23 [==============================] - 0s 1ms/step - loss: 523.3987\n"
          ],
          "name": "stdout"
        },
        {
          "output_type": "execute_result",
          "data": {
            "text/plain": [
              "<tensorflow.python.keras.callbacks.History at 0x7ff5d4741490>"
            ]
          },
          "metadata": {
            "tags": []
          },
          "execution_count": 38
        }
      ]
    },
    {
      "cell_type": "markdown",
      "metadata": {
        "id": "T6wiCtEcWMB_"
      },
      "source": [
        "Mean Squared Error"
      ]
    },
    {
      "cell_type": "code",
      "metadata": {
        "colab": {
          "base_uri": "https://localhost:8080/"
        },
        "id": "0lRZQFMpV15v",
        "outputId": "83edc0b2-e762-4931-b276-32d65701a362"
      },
      "source": [
        "from sklearn.metrics import mean_squared_error\n",
        "\n",
        "predicted_y = model.predict(X_test)\n",
        "mse = mean_squared_error(y_test, predicted_y)\n",
        "print(f\"Test MSE: {mse}\")"
      ],
      "execution_count": 39,
      "outputs": [
        {
          "output_type": "stream",
          "text": [
            "Test MSE: 621.8523874489485\n"
          ],
          "name": "stdout"
        }
      ]
    },
    {
      "cell_type": "markdown",
      "metadata": {
        "id": "sG4gakcZWdwu"
      },
      "source": [
        "Repeat 50 times"
      ]
    },
    {
      "cell_type": "code",
      "metadata": {
        "id": "adJmy1L3Wha7"
      },
      "source": [
        "def repeatloop(n=50):\n",
        "    mse_list = []\n",
        "    for index in range(n):\n",
        "        # split data\n",
        "        X_train, X_test, y_train, y_test = train_test_split(X, y, test_size=0.3)\n",
        "        \n",
        "        # build model\n",
        "        model = build_model()\n",
        "        \n",
        "        # train model\n",
        "        model.fit(X_train, y_train, epochs=50, verbose=0)\n",
        "        \n",
        "        # predict test set\n",
        "        predicted_y = model.predict(X_test)\n",
        "        \n",
        "        # get MSE for the model\n",
        "        mse = mean_squared_error(y_test, predicted_y)\n",
        "        print(f\"MSE {index}: {mse}\")\n",
        "        \n",
        "        # append to list\n",
        "        mse_list.append(mse)\n",
        "    return mse_list"
      ],
      "execution_count": 40,
      "outputs": []
    },
    {
      "cell_type": "code",
      "metadata": {
        "colab": {
          "base_uri": "https://localhost:8080/"
        },
        "id": "FnaUoDKKWohj",
        "outputId": "05ac3d28-2f6b-4b50-fb8e-9ceaab778592"
      },
      "source": [
        "mse_list = repeatloop(50)"
      ],
      "execution_count": 41,
      "outputs": [
        {
          "output_type": "stream",
          "text": [
            "MSE 0: 438.30752620456167\n",
            "MSE 1: 217.1373786715714\n",
            "MSE 2: 85.19351914937732\n",
            "MSE 3: 640.2332115948162\n",
            "MSE 4: 863.9836815232904\n",
            "MSE 5: 353.065334230571\n",
            "MSE 6: 138.38020321114837\n",
            "MSE 7: 554.4938605056055\n",
            "MSE 8: 445.2757378115334\n",
            "MSE 9: 126.19939321244361\n",
            "MSE 10: 115.6661395751708\n",
            "MSE 11: 146.4708025266771\n",
            "MSE 12: 191.62678015447847\n",
            "MSE 13: 221.54335634465\n",
            "MSE 14: 107.38557618203794\n",
            "MSE 15: 263.90577498871806\n",
            "MSE 16: 122.50239782548893\n",
            "MSE 17: 266.5686675963377\n",
            "MSE 18: 131.639351642053\n",
            "MSE 19: 126.40224772776817\n",
            "MSE 20: 214.97232754409734\n",
            "MSE 21: 147.41796510976414\n",
            "MSE 22: 127.34776864395357\n",
            "MSE 23: 292.61483733731615\n",
            "MSE 24: 446.6847664679071\n",
            "MSE 25: 238.53616957017945\n",
            "MSE 26: 136.94603195161176\n",
            "MSE 27: 150.70192632557118\n",
            "MSE 28: 113.82732748935385\n",
            "MSE 29: 692.0777014849717\n",
            "MSE 30: 104.69628591014245\n",
            "MSE 31: 82.61823140413053\n",
            "MSE 32: 111.1664911213494\n",
            "MSE 33: 114.92144824353372\n",
            "MSE 34: 151.8544090807832\n",
            "MSE 35: 188.93989822084495\n",
            "MSE 36: 379.3300297900004\n",
            "MSE 37: 306.98816333768883\n",
            "MSE 38: 237.2024064772292\n",
            "MSE 39: 106.5096609066782\n",
            "MSE 40: 126.20183349850348\n",
            "MSE 41: 1503.93372886055\n",
            "MSE 42: 404.8657016194284\n",
            "MSE 43: 212.6488836322815\n",
            "MSE 44: 172.05415335066724\n",
            "MSE 45: 124.03686332511468\n",
            "MSE 46: 959.5050079782153\n",
            "MSE 47: 814.0745443590189\n",
            "MSE 48: 293.2753518291543\n",
            "MSE 49: 190.33210556034737\n"
          ],
          "name": "stdout"
        }
      ]
    },
    {
      "cell_type": "markdown",
      "metadata": {
        "id": "KUpLQluzW5ID"
      },
      "source": [
        "Mean & Standar Deviation of MSEs"
      ]
    },
    {
      "cell_type": "code",
      "metadata": {
        "colab": {
          "base_uri": "https://localhost:8080/"
        },
        "id": "LfZfnR_QWsNJ",
        "outputId": "416b702a-eb99-4303-eed8-813acc35cbfd"
      },
      "source": [
        "print(f\"Average of MSEs: {np.mean(mse_list)}\")\n",
        "print(f\"Standard Deviation MSEs: {np.std(mse_list)}\")"
      ],
      "execution_count": 42,
      "outputs": [
        {
          "output_type": "stream",
          "text": [
            "Average of MSEs: 294.0452592221738\n",
            "Standard Deviation MSEs: 270.97360004337185\n"
          ],
          "name": "stdout"
        }
      ]
    },
    {
      "cell_type": "code",
      "metadata": {
        "colab": {
          "base_uri": "https://localhost:8080/",
          "height": 279
        },
        "id": "Eox1FX6xXDpS",
        "outputId": "94235257-49f5-4cbc-f325-3c29635114e2"
      },
      "source": [
        "import matplotlib.pyplot as plt\n",
        "\n",
        "plt.figure(figsize=(8, 4))\n",
        "plt.plot(mse_list)\n",
        "plt.xlabel(\"Try\")\n",
        "plt.ylabel(\"MSE\")\n",
        "\n",
        "plt.show()"
      ],
      "execution_count": 43,
      "outputs": [
        {
          "output_type": "display_data",
          "data": {
            "image/png": "[encoded data removed]",
            "text/plain": [
              "<Figure size 576x288 with 1 Axes>"
            ]
          },
          "metadata": {
            "tags": [],
            "needs_background": "light"
          }
        }
      ]
    },
    {
      "cell_type": "markdown",
      "metadata": {
        "id": "eK_DyTCxXmvf"
      },
      "source": [
        "#Part B. Normalize the data"
      ]
    },
    {
      "cell_type": "markdown",
      "metadata": {
        "id": "OjFJ2BvfX3uO"
      },
      "source": [
        ""
      ]
    },
    {
      "cell_type": "code",
      "metadata": {
        "colab": {
          "base_uri": "https://localhost:8080/",
          "height": 195
        },
        "id": "cBAI63ZLXWpe",
        "outputId": "a16fa711-c9c4-4f57-f873-d91bd376d150"
      },
      "source": [
        "X_norm = (X - X.mean()) / X.std()\n",
        "X_norm.head()"
      ],
      "execution_count": 44,
      "outputs": [
        {
          "output_type": "execute_result",
          "data": {
            "text/html": [
              "<div>\n",
              "<style scoped>\n",
              "    .dataframe tbody tr th:only-of-type {\n",
              "        vertical-align: middle;\n",
              "    }\n",
              "\n",
              "    .dataframe tbody tr th {\n",
              "        vertical-align: top;\n",
              "    }\n",
              "\n",
              "    .dataframe thead th {\n",
              "        text-align: right;\n",
              "    }\n",
              "</style>\n",
              "<table border=\"1\" class=\"dataframe\">\n",
              "  <thead>\n",
              "    <tr style=\"text-align: right;\">\n",
              "      <th></th>\n",
              "      <th>Cement</th>\n",
              "      <th>Blast Furnace Slag</th>\n",
              "      <th>Fly Ash</th>\n",
              "      <th>Water</th>\n",
              "      <th>Superplasticizer</th>\n",
              "      <th>Coarse Aggregate</th>\n",
              "      <th>Fine Aggregate</th>\n",
              "      <th>Age</th>\n",
              "    </tr>\n",
              "  </thead>\n",
              "  <tbody>\n",
              "    <tr>\n",
              "      <th>0</th>\n",
              "      <td>2.476712</td>\n",
              "      <td>-0.856472</td>\n",
              "      <td>-0.846733</td>\n",
              "      <td>-0.916319</td>\n",
              "      <td>-0.620147</td>\n",
              "      <td>0.862735</td>\n",
              "      <td>-1.217079</td>\n",
              "      <td>-0.279597</td>\n",
              "    </tr>\n",
              "    <tr>\n",
              "      <th>1</th>\n",
              "      <td>2.476712</td>\n",
              "      <td>-0.856472</td>\n",
              "      <td>-0.846733</td>\n",
              "      <td>-0.916319</td>\n",
              "      <td>-0.620147</td>\n",
              "      <td>1.055651</td>\n",
              "      <td>-1.217079</td>\n",
              "      <td>-0.279597</td>\n",
              "    </tr>\n",
              "    <tr>\n",
              "      <th>2</th>\n",
              "      <td>0.491187</td>\n",
              "      <td>0.795140</td>\n",
              "      <td>-0.846733</td>\n",
              "      <td>2.174405</td>\n",
              "      <td>-1.038638</td>\n",
              "      <td>-0.526262</td>\n",
              "      <td>-2.239829</td>\n",
              "      <td>3.551340</td>\n",
              "    </tr>\n",
              "    <tr>\n",
              "      <th>3</th>\n",
              "      <td>0.491187</td>\n",
              "      <td>0.795140</td>\n",
              "      <td>-0.846733</td>\n",
              "      <td>2.174405</td>\n",
              "      <td>-1.038638</td>\n",
              "      <td>-0.526262</td>\n",
              "      <td>-2.239829</td>\n",
              "      <td>5.055221</td>\n",
              "    </tr>\n",
              "    <tr>\n",
              "      <th>4</th>\n",
              "      <td>-0.790075</td>\n",
              "      <td>0.678079</td>\n",
              "      <td>-0.846733</td>\n",
              "      <td>0.488555</td>\n",
              "      <td>-1.038638</td>\n",
              "      <td>0.070492</td>\n",
              "      <td>0.647569</td>\n",
              "      <td>4.976069</td>\n",
              "    </tr>\n",
              "  </tbody>\n",
              "</table>\n",
              "</div>"
            ],
            "text/plain": [
              "     Cement  Blast Furnace Slag  ...  Fine Aggregate       Age\n",
              "0  2.476712           -0.856472  ...       -1.217079 -0.279597\n",
              "1  2.476712           -0.856472  ...       -1.217079 -0.279597\n",
              "2  0.491187            0.795140  ...       -2.239829  3.551340\n",
              "3  0.491187            0.795140  ...       -2.239829  5.055221\n",
              "4 -0.790075            0.678079  ...        0.647569  4.976069\n",
              "\n",
              "[5 rows x 8 columns]"
            ]
          },
          "metadata": {
            "tags": []
          },
          "execution_count": 44
        }
      ]
    },
    {
      "cell_type": "markdown",
      "metadata": {
        "id": "AXtcqKsbafOX"
      },
      "source": [
        "Repeat Part A but use a normalized version of the data"
      ]
    },
    {
      "cell_type": "code",
      "metadata": {
        "colab": {
          "base_uri": "https://localhost:8080/"
        },
        "id": "Xzhxiz5mX2eK",
        "outputId": "184f8ad2-5fea-42cb-c70e-08fcecc569be"
      },
      "source": [
        "X_train_norm, X_test_norm, y_train_norm, y_test_norm = train_test_split(X_norm, y, test_size=0.3)\n",
        "\n",
        "X_train_norm.shape, X_test_norm.shape, y_train_norm.shape, y_test_norm.shape"
      ],
      "execution_count": 45,
      "outputs": [
        {
          "output_type": "execute_result",
          "data": {
            "text/plain": [
              "((721, 8), (309, 8), (721,), (309,))"
            ]
          },
          "metadata": {
            "tags": []
          },
          "execution_count": 45
        }
      ]
    },
    {
      "cell_type": "code",
      "metadata": {
        "colab": {
          "base_uri": "https://localhost:8080/"
        },
        "id": "G8J1JxQeaj7I",
        "outputId": "888ef4d2-bee3-40cc-a386-e110ab4d3e3d"
      },
      "source": [
        "model_norm = build_model()\n",
        "\n",
        "model_norm.fit(X_train_norm, y_train_norm, epochs=50, verbose=1)"
      ],
      "execution_count": 46,
      "outputs": [
        {
          "output_type": "stream",
          "text": [
            "Epoch 1/50\n",
            "23/23 [==============================] - 0s 1ms/step - loss: 1530.3457\n",
            "Epoch 2/50\n",
            "23/23 [==============================] - 0s 1ms/step - loss: 1517.7343\n",
            "Epoch 3/50\n",
            "23/23 [==============================] - 0s 1ms/step - loss: 1477.5798\n",
            "Epoch 4/50\n",
            "23/23 [==============================] - 0s 1ms/step - loss: 1405.8898\n",
            "Epoch 5/50\n",
            "23/23 [==============================] - 0s 1ms/step - loss: 1479.0033\n",
            "Epoch 6/50\n",
            "23/23 [==============================] - 0s 1ms/step - loss: 1427.2481\n",
            "Epoch 7/50\n",
            "23/23 [==============================] - 0s 1ms/step - loss: 1442.4101\n",
            "Epoch 8/50\n",
            "23/23 [==============================] - 0s 2ms/step - loss: 1399.9533\n",
            "Epoch 9/50\n",
            "23/23 [==============================] - 0s 1ms/step - loss: 1348.7691\n",
            "Epoch 10/50\n",
            "23/23 [==============================] - 0s 985us/step - loss: 1349.3518\n",
            "Epoch 11/50\n",
            "23/23 [==============================] - 0s 1ms/step - loss: 1234.4963\n",
            "Epoch 12/50\n",
            "23/23 [==============================] - 0s 1ms/step - loss: 1335.5751\n",
            "Epoch 13/50\n",
            "23/23 [==============================] - 0s 1ms/step - loss: 1236.1325\n",
            "Epoch 14/50\n",
            "23/23 [==============================] - 0s 1ms/step - loss: 1228.1586\n",
            "Epoch 15/50\n",
            "23/23 [==============================] - 0s 1ms/step - loss: 1228.6923\n",
            "Epoch 16/50\n",
            "23/23 [==============================] - 0s 1ms/step - loss: 1165.8921\n",
            "Epoch 17/50\n",
            "23/23 [==============================] - 0s 1ms/step - loss: 1086.0568\n",
            "Epoch 18/50\n",
            "23/23 [==============================] - 0s 1ms/step - loss: 1146.6655\n",
            "Epoch 19/50\n",
            "23/23 [==============================] - 0s 1ms/step - loss: 1042.8215\n",
            "Epoch 20/50\n",
            "23/23 [==============================] - 0s 1ms/step - loss: 1022.6637\n",
            "Epoch 21/50\n",
            "23/23 [==============================] - 0s 1ms/step - loss: 955.5630\n",
            "Epoch 22/50\n",
            "23/23 [==============================] - 0s 1ms/step - loss: 939.4436\n",
            "Epoch 23/50\n",
            "23/23 [==============================] - 0s 1ms/step - loss: 970.7861\n",
            "Epoch 24/50\n",
            "23/23 [==============================] - 0s 1ms/step - loss: 925.2613\n",
            "Epoch 25/50\n",
            "23/23 [==============================] - 0s 1ms/step - loss: 853.2637\n",
            "Epoch 26/50\n",
            "23/23 [==============================] - 0s 2ms/step - loss: 784.6152\n",
            "Epoch 27/50\n",
            "23/23 [==============================] - 0s 1ms/step - loss: 784.3430\n",
            "Epoch 28/50\n",
            "23/23 [==============================] - 0s 1ms/step - loss: 786.8103\n",
            "Epoch 29/50\n",
            "23/23 [==============================] - 0s 1ms/step - loss: 724.1728\n",
            "Epoch 30/50\n",
            "23/23 [==============================] - 0s 1ms/step - loss: 701.5624\n",
            "Epoch 31/50\n",
            "23/23 [==============================] - 0s 1ms/step - loss: 689.4778\n",
            "Epoch 32/50\n",
            "23/23 [==============================] - 0s 1ms/step - loss: 632.1347\n",
            "Epoch 33/50\n",
            "23/23 [==============================] - 0s 3ms/step - loss: 599.8945\n",
            "Epoch 34/50\n",
            "23/23 [==============================] - 0s 1ms/step - loss: 596.1585\n",
            "Epoch 35/50\n",
            "23/23 [==============================] - 0s 1ms/step - loss: 528.7043\n",
            "Epoch 36/50\n",
            "23/23 [==============================] - 0s 1ms/step - loss: 543.7975\n",
            "Epoch 37/50\n",
            "23/23 [==============================] - 0s 1ms/step - loss: 447.3977\n",
            "Epoch 38/50\n",
            "23/23 [==============================] - 0s 1ms/step - loss: 469.6527\n",
            "Epoch 39/50\n",
            "23/23 [==============================] - 0s 1ms/step - loss: 458.0645\n",
            "Epoch 40/50\n",
            "23/23 [==============================] - 0s 1ms/step - loss: 412.5389\n",
            "Epoch 41/50\n",
            "23/23 [==============================] - 0s 2ms/step - loss: 374.4663\n",
            "Epoch 42/50\n",
            "23/23 [==============================] - 0s 1ms/step - loss: 391.8972\n",
            "Epoch 43/50\n",
            "23/23 [==============================] - 0s 1ms/step - loss: 365.8133\n",
            "Epoch 44/50\n",
            "23/23 [==============================] - 0s 1ms/step - loss: 347.5495\n",
            "Epoch 45/50\n",
            "23/23 [==============================] - 0s 1ms/step - loss: 328.7980\n",
            "Epoch 46/50\n",
            "23/23 [==============================] - 0s 1ms/step - loss: 323.1251\n",
            "Epoch 47/50\n",
            "23/23 [==============================] - 0s 1ms/step - loss: 335.3938\n",
            "Epoch 48/50\n",
            "23/23 [==============================] - 0s 1ms/step - loss: 287.1804\n",
            "Epoch 49/50\n",
            "23/23 [==============================] - 0s 1ms/step - loss: 257.7868\n",
            "Epoch 50/50\n",
            "23/23 [==============================] - 0s 1ms/step - loss: 266.8096\n"
          ],
          "name": "stdout"
        },
        {
          "output_type": "execute_result",
          "data": {
            "text/plain": [
              "<tensorflow.python.keras.callbacks.History at 0x7ff5cf877790>"
            ]
          },
          "metadata": {
            "tags": []
          },
          "execution_count": 46
        }
      ]
    },
    {
      "cell_type": "code",
      "metadata": {
        "colab": {
          "base_uri": "https://localhost:8080/"
        },
        "id": "qLBSug8QaoUl",
        "outputId": "102ecfd1-1e43-4fc0-e8cb-409fa9fa1040"
      },
      "source": [
        "predicted_y_norm = model_norm.predict(X_test_norm)\n",
        "mse_norm = mean_squared_error(y_test_norm, predicted_y_norm)\n",
        "print(f\"Test MSE: {mse_norm}\")"
      ],
      "execution_count": 47,
      "outputs": [
        {
          "output_type": "stream",
          "text": [
            "Test MSE: 282.34166692703553\n"
          ],
          "name": "stdout"
        }
      ]
    },
    {
      "cell_type": "code",
      "metadata": {
        "colab": {
          "base_uri": "https://localhost:8080/"
        },
        "id": "9ZzXvCO9arTw",
        "outputId": "e81d6aef-a715-43fd-b372-b2a61312a24a"
      },
      "source": [
        "mse_list_norm = repeatloop(50)"
      ],
      "execution_count": 48,
      "outputs": [
        {
          "output_type": "stream",
          "text": [
            "MSE 0: 244.82082182666574\n",
            "MSE 1: 553.9742468606968\n",
            "MSE 2: 286.5631473883446\n",
            "MSE 3: 135.40699754228297\n",
            "MSE 4: 434.23058125457476\n",
            "MSE 5: 98.50791107538154\n",
            "MSE 6: 245.07666684191477\n",
            "MSE 7: 1100.117277453484\n",
            "MSE 8: 143.77239591660773\n",
            "MSE 9: 117.47124822589916\n",
            "MSE 10: 218.14835351804072\n",
            "MSE 11: 101.85391782945197\n",
            "MSE 12: 147.40564167169615\n",
            "MSE 13: 153.07023725669552\n",
            "MSE 14: 122.01085209995557\n",
            "MSE 15: 292.7281236783941\n",
            "MSE 16: 130.68446051034908\n",
            "MSE 17: 594.2771938280134\n",
            "MSE 18: 122.28541645365006\n",
            "MSE 19: 120.82763096632777\n",
            "MSE 20: 305.83038979999924\n",
            "MSE 21: 583.4063951756576\n",
            "MSE 22: 123.74441637379333\n",
            "MSE 23: 155.4116191749566\n",
            "MSE 24: 151.7770174991729\n",
            "MSE 25: 310.05495758601535\n",
            "MSE 26: 371.8419335398381\n",
            "MSE 27: 133.63829261990034\n",
            "MSE 28: 221.6387999545467\n",
            "MSE 29: 844.228308687577\n",
            "MSE 30: 118.27876721238218\n",
            "MSE 31: 514.1987008779382\n",
            "MSE 32: 96.43860371027024\n",
            "MSE 33: 125.12232133722756\n",
            "MSE 34: 244.73877031744533\n",
            "MSE 35: 220.47217086135984\n",
            "MSE 36: 156.17397196072187\n",
            "MSE 37: 122.51660442352765\n",
            "MSE 38: 299.29226833943045\n",
            "MSE 39: 339.45328920278115\n",
            "MSE 40: 772.0736946172467\n",
            "MSE 41: 214.06061522921107\n",
            "MSE 42: 214.42523249499445\n",
            "MSE 43: 729.3137771982242\n",
            "MSE 44: 144.57483950556454\n",
            "MSE 45: 120.88741070937856\n",
            "MSE 46: 120.97593772849456\n",
            "MSE 47: 101.54424591471279\n",
            "MSE 48: 420.7350623543191\n",
            "MSE 49: 353.17720448095827\n"
          ],
          "name": "stdout"
        }
      ]
    },
    {
      "cell_type": "code",
      "metadata": {
        "colab": {
          "base_uri": "https://localhost:8080/"
        },
        "id": "XiyiaE8-avgx",
        "outputId": "5e844797-f15a-4de3-8160-0af071c7e5d8"
      },
      "source": [
        "print(f\"Average of MSEs: {np.mean(mse_list_norm)}\")\n",
        "print(f\"Standard Deviation MSEs: {np.std(mse_list_norm)}\")"
      ],
      "execution_count": 49,
      "outputs": [
        {
          "output_type": "stream",
          "text": [
            "Average of MSEs: 279.86517482172144\n",
            "Standard Deviation MSEs: 219.3703204296142\n"
          ],
          "name": "stdout"
        }
      ]
    },
    {
      "cell_type": "code",
      "metadata": {
        "colab": {
          "base_uri": "https://localhost:8080/",
          "height": 279
        },
        "id": "A9sc75H_a5Op",
        "outputId": "1bb67361-6efa-401d-bcf3-c21a76a6c2b0"
      },
      "source": [
        "plt.figure(figsize=(8, 4))\n",
        "plt.plot(mse_list_norm)\n",
        "plt.xlabel(\"Try\")\n",
        "plt.ylabel(\"MSE\")\n",
        "\n",
        "plt.show()"
      ],
      "execution_count": 50,
      "outputs": [
        {
          "output_type": "display_data",
          "data": {
            "image/png": "[encoded data removed]",
            "text/plain": [
              "<Figure size 576x288 with 1 Axes>"
            ]
          },
          "metadata": {
            "tags": [],
            "needs_background": "light"
          }
        }
      ]
    },
    {
      "cell_type": "markdown",
      "metadata": {
        "id": "MCnRHo-Pa6Qo"
      },
      "source": [
        "Comparing A vs B"
      ]
    },
    {
      "cell_type": "code",
      "metadata": {
        "colab": {
          "base_uri": "https://localhost:8080/"
        },
        "id": "XZOiBbRVbE-W",
        "outputId": "9e4f3b03-6d0d-4597-b71d-c3028aa54fef"
      },
      "source": [
        "print(\"Without Normalization:\")\n",
        "print(f\"Average of MSEs: {np.mean(mse_list)}\")\n",
        "print(f\"Standard Deviation MSEs: {np.std(mse_list)}\")\n",
        "print(\"With Normalization:\")\n",
        "print(f\"Average of MSEs: {np.mean(mse_list_norm)}\")\n",
        "print(f\"Standard Deviation MSEs: {np.std(mse_list_norm)}\")"
      ],
      "execution_count": 51,
      "outputs": [
        {
          "output_type": "stream",
          "text": [
            "Without Normalization:\n",
            "Average of MSEs: 294.0452592221738\n",
            "Standard Deviation MSEs: 270.97360004337185\n",
            "With Normalization:\n",
            "Average of MSEs: 279.86517482172144\n",
            "Standard Deviation MSEs: 219.3703204296142\n"
          ],
          "name": "stdout"
        }
      ]
    },
    {
      "cell_type": "markdown",
      "metadata": {
        "id": "TpbMfYGFcJ5p"
      },
      "source": [
        "#Part C. Reeat B but train for 100 epochs"
      ]
    },
    {
      "cell_type": "code",
      "metadata": {
        "colab": {
          "base_uri": "https://localhost:8080/"
        },
        "id": "iSmGmQMocQUb",
        "outputId": "51191706-0a7d-410b-eedd-1d4d8b6efbae"
      },
      "source": [
        "model_norm_100 = build_model()\n",
        "\n",
        "model_norm_100.fit(X_train_norm, y_train_norm, epochs=100, verbose=1)"
      ],
      "execution_count": 52,
      "outputs": [
        {
          "output_type": "stream",
          "text": [
            "Epoch 1/100\n",
            "23/23 [==============================] - 0s 1ms/step - loss: 1499.3125\n",
            "Epoch 2/100\n",
            "23/23 [==============================] - 0s 1ms/step - loss: 1493.6007\n",
            "Epoch 3/100\n",
            "23/23 [==============================] - 0s 1ms/step - loss: 1546.2928\n",
            "Epoch 4/100\n",
            "23/23 [==============================] - 0s 1ms/step - loss: 1522.4710\n",
            "Epoch 5/100\n",
            "23/23 [==============================] - 0s 2ms/step - loss: 1447.8505\n",
            "Epoch 6/100\n",
            "23/23 [==============================] - 0s 1ms/step - loss: 1496.8553\n",
            "Epoch 7/100\n",
            "23/23 [==============================] - 0s 1ms/step - loss: 1451.6035\n",
            "Epoch 8/100\n",
            "23/23 [==============================] - 0s 1ms/step - loss: 1399.9815\n",
            "Epoch 9/100\n",
            "23/23 [==============================] - 0s 1ms/step - loss: 1366.0538\n",
            "Epoch 10/100\n",
            "23/23 [==============================] - 0s 1ms/step - loss: 1391.2381\n",
            "Epoch 11/100\n",
            "23/23 [==============================] - 0s 1ms/step - loss: 1320.7808\n",
            "Epoch 12/100\n",
            "23/23 [==============================] - 0s 1ms/step - loss: 1365.7947\n",
            "Epoch 13/100\n",
            "23/23 [==============================] - 0s 1ms/step - loss: 1298.2109\n",
            "Epoch 14/100\n",
            "23/23 [==============================] - 0s 1ms/step - loss: 1297.7476\n",
            "Epoch 15/100\n",
            "23/23 [==============================] - 0s 1ms/step - loss: 1342.6884\n",
            "Epoch 16/100\n",
            "23/23 [==============================] - 0s 1ms/step - loss: 1238.8075\n",
            "Epoch 17/100\n",
            "23/23 [==============================] - 0s 1ms/step - loss: 1334.0571\n",
            "Epoch 18/100\n",
            "23/23 [==============================] - 0s 1ms/step - loss: 1291.7645\n",
            "Epoch 19/100\n",
            "23/23 [==============================] - 0s 1ms/step - loss: 1239.9331\n",
            "Epoch 20/100\n",
            "23/23 [==============================] - 0s 2ms/step - loss: 1200.6498\n",
            "Epoch 21/100\n",
            "23/23 [==============================] - 0s 1ms/step - loss: 1156.6199\n",
            "Epoch 22/100\n",
            "23/23 [==============================] - 0s 1ms/step - loss: 1123.7943\n",
            "Epoch 23/100\n",
            "23/23 [==============================] - 0s 1ms/step - loss: 1096.5583\n",
            "Epoch 24/100\n",
            "23/23 [==============================] - 0s 1ms/step - loss: 1099.0698\n",
            "Epoch 25/100\n",
            "23/23 [==============================] - 0s 1ms/step - loss: 1007.5448\n",
            "Epoch 26/100\n",
            "23/23 [==============================] - 0s 1ms/step - loss: 1024.7346\n",
            "Epoch 27/100\n",
            "23/23 [==============================] - 0s 1ms/step - loss: 1067.6655\n",
            "Epoch 28/100\n",
            "23/23 [==============================] - 0s 1ms/step - loss: 956.0424\n",
            "Epoch 29/100\n",
            "23/23 [==============================] - 0s 1ms/step - loss: 998.9032\n",
            "Epoch 30/100\n",
            "23/23 [==============================] - 0s 1ms/step - loss: 932.0593\n",
            "Epoch 31/100\n",
            "23/23 [==============================] - 0s 1ms/step - loss: 920.7728\n",
            "Epoch 32/100\n",
            "23/23 [==============================] - 0s 1ms/step - loss: 901.6022\n",
            "Epoch 33/100\n",
            "23/23 [==============================] - 0s 1ms/step - loss: 827.7641\n",
            "Epoch 34/100\n",
            "23/23 [==============================] - 0s 1ms/step - loss: 820.5009\n",
            "Epoch 35/100\n",
            "23/23 [==============================] - 0s 1ms/step - loss: 795.4213\n",
            "Epoch 36/100\n",
            "23/23 [==============================] - 0s 1ms/step - loss: 754.5620\n",
            "Epoch 37/100\n",
            "23/23 [==============================] - 0s 1ms/step - loss: 703.1970\n",
            "Epoch 38/100\n",
            "23/23 [==============================] - 0s 1ms/step - loss: 732.1159\n",
            "Epoch 39/100\n",
            "23/23 [==============================] - 0s 1ms/step - loss: 648.5976\n",
            "Epoch 40/100\n",
            "23/23 [==============================] - 0s 1ms/step - loss: 699.4201\n",
            "Epoch 41/100\n",
            "23/23 [==============================] - 0s 1ms/step - loss: 642.8506\n",
            "Epoch 42/100\n",
            "23/23 [==============================] - 0s 1ms/step - loss: 639.2013\n",
            "Epoch 43/100\n",
            "23/23 [==============================] - 0s 1ms/step - loss: 569.4436\n",
            "Epoch 44/100\n",
            "23/23 [==============================] - 0s 1ms/step - loss: 598.1907\n",
            "Epoch 45/100\n",
            "23/23 [==============================] - 0s 1ms/step - loss: 582.5892\n",
            "Epoch 46/100\n",
            "23/23 [==============================] - 0s 1ms/step - loss: 541.3491\n",
            "Epoch 47/100\n",
            "23/23 [==============================] - 0s 1ms/step - loss: 489.0673\n",
            "Epoch 48/100\n",
            "23/23 [==============================] - 0s 1ms/step - loss: 455.7522\n",
            "Epoch 49/100\n",
            "23/23 [==============================] - 0s 1ms/step - loss: 517.3892\n",
            "Epoch 50/100\n",
            "23/23 [==============================] - 0s 1ms/step - loss: 470.9986\n",
            "Epoch 51/100\n",
            "23/23 [==============================] - 0s 1ms/step - loss: 419.4232\n",
            "Epoch 52/100\n",
            "23/23 [==============================] - 0s 1ms/step - loss: 419.0875\n",
            "Epoch 53/100\n",
            "23/23 [==============================] - 0s 2ms/step - loss: 406.7333\n",
            "Epoch 54/100\n",
            "23/23 [==============================] - 0s 1ms/step - loss: 385.3909\n",
            "Epoch 55/100\n",
            "23/23 [==============================] - 0s 1ms/step - loss: 361.2538\n",
            "Epoch 56/100\n",
            "23/23 [==============================] - 0s 1ms/step - loss: 370.9447\n",
            "Epoch 57/100\n",
            "23/23 [==============================] - 0s 1ms/step - loss: 354.0347\n",
            "Epoch 58/100\n",
            "23/23 [==============================] - 0s 1ms/step - loss: 348.1998\n",
            "Epoch 59/100\n",
            "23/23 [==============================] - 0s 1ms/step - loss: 325.6717\n",
            "Epoch 60/100\n",
            "23/23 [==============================] - 0s 1ms/step - loss: 314.0848\n",
            "Epoch 61/100\n",
            "23/23 [==============================] - 0s 1ms/step - loss: 330.7643\n",
            "Epoch 62/100\n",
            "23/23 [==============================] - 0s 1ms/step - loss: 327.3224\n",
            "Epoch 63/100\n",
            "23/23 [==============================] - 0s 1ms/step - loss: 295.8782\n",
            "Epoch 64/100\n",
            "23/23 [==============================] - 0s 1ms/step - loss: 288.4844\n",
            "Epoch 65/100\n",
            "23/23 [==============================] - 0s 1ms/step - loss: 303.3977\n",
            "Epoch 66/100\n",
            "23/23 [==============================] - 0s 1ms/step - loss: 293.6164\n",
            "Epoch 67/100\n",
            "23/23 [==============================] - 0s 1ms/step - loss: 269.0426\n",
            "Epoch 68/100\n",
            "23/23 [==============================] - 0s 1ms/step - loss: 280.1639\n",
            "Epoch 69/100\n",
            "23/23 [==============================] - 0s 1ms/step - loss: 269.5970\n",
            "Epoch 70/100\n",
            "23/23 [==============================] - 0s 1ms/step - loss: 255.3030\n",
            "Epoch 71/100\n",
            "23/23 [==============================] - 0s 1ms/step - loss: 257.2387\n",
            "Epoch 72/100\n",
            "23/23 [==============================] - 0s 1ms/step - loss: 249.7015\n",
            "Epoch 73/100\n",
            "23/23 [==============================] - 0s 1ms/step - loss: 251.8681\n",
            "Epoch 74/100\n",
            "23/23 [==============================] - 0s 1ms/step - loss: 235.9726\n",
            "Epoch 75/100\n",
            "23/23 [==============================] - 0s 1ms/step - loss: 252.2681\n",
            "Epoch 76/100\n",
            "23/23 [==============================] - 0s 1ms/step - loss: 234.0348\n",
            "Epoch 77/100\n",
            "23/23 [==============================] - 0s 1ms/step - loss: 246.4108\n",
            "Epoch 78/100\n",
            "23/23 [==============================] - 0s 1ms/step - loss: 226.0868\n",
            "Epoch 79/100\n",
            "23/23 [==============================] - 0s 1ms/step - loss: 227.2915\n",
            "Epoch 80/100\n",
            "23/23 [==============================] - 0s 2ms/step - loss: 214.4971\n",
            "Epoch 81/100\n",
            "23/23 [==============================] - 0s 1ms/step - loss: 224.0873\n",
            "Epoch 82/100\n",
            "23/23 [==============================] - 0s 1ms/step - loss: 221.9838\n",
            "Epoch 83/100\n",
            "23/23 [==============================] - 0s 1ms/step - loss: 235.0683\n",
            "Epoch 84/100\n",
            "23/23 [==============================] - 0s 1ms/step - loss: 219.2550\n",
            "Epoch 85/100\n",
            "23/23 [==============================] - 0s 1ms/step - loss: 199.1333\n",
            "Epoch 86/100\n",
            "23/23 [==============================] - 0s 1ms/step - loss: 208.7504\n",
            "Epoch 87/100\n",
            "23/23 [==============================] - 0s 1ms/step - loss: 217.2487\n",
            "Epoch 88/100\n",
            "23/23 [==============================] - 0s 1ms/step - loss: 198.4698\n",
            "Epoch 89/100\n",
            "23/23 [==============================] - 0s 1ms/step - loss: 213.7098\n",
            "Epoch 90/100\n",
            "23/23 [==============================] - 0s 1ms/step - loss: 194.1554\n",
            "Epoch 91/100\n",
            "23/23 [==============================] - 0s 2ms/step - loss: 193.0000\n",
            "Epoch 92/100\n",
            "23/23 [==============================] - 0s 1ms/step - loss: 191.9202\n",
            "Epoch 93/100\n",
            "23/23 [==============================] - 0s 1ms/step - loss: 195.2448\n",
            "Epoch 94/100\n",
            "23/23 [==============================] - 0s 1ms/step - loss: 200.0840\n",
            "Epoch 95/100\n",
            "23/23 [==============================] - 0s 1ms/step - loss: 194.1077\n",
            "Epoch 96/100\n",
            "23/23 [==============================] - 0s 1ms/step - loss: 192.0969\n",
            "Epoch 97/100\n",
            "23/23 [==============================] - 0s 2ms/step - loss: 194.3078\n",
            "Epoch 98/100\n",
            "23/23 [==============================] - 0s 1ms/step - loss: 196.5140\n",
            "Epoch 99/100\n",
            "23/23 [==============================] - 0s 1ms/step - loss: 184.4743\n",
            "Epoch 100/100\n",
            "23/23 [==============================] - 0s 1ms/step - loss: 185.3841\n"
          ],
          "name": "stdout"
        },
        {
          "output_type": "execute_result",
          "data": {
            "text/plain": [
              "<tensorflow.python.keras.callbacks.History at 0x7ff5cfa08090>"
            ]
          },
          "metadata": {
            "tags": []
          },
          "execution_count": 52
        }
      ]
    },
    {
      "cell_type": "code",
      "metadata": {
        "colab": {
          "base_uri": "https://localhost:8080/"
        },
        "id": "UazY02f4cjZX",
        "outputId": "15019c10-c5a1-49e2-f5c6-c24bd4d705f1"
      },
      "source": [
        "predicted_y_norm_100 = model_norm_100.predict(X_test_norm)\n",
        "mse_norm_100 = mean_squared_error(y_test_norm, predicted_y_norm)\n",
        "print(f\"Test MSE: {mse_norm_100}\")"
      ],
      "execution_count": 53,
      "outputs": [
        {
          "output_type": "stream",
          "text": [
            "Test MSE: 282.34166692703553\n"
          ],
          "name": "stdout"
        }
      ]
    },
    {
      "cell_type": "code",
      "metadata": {
        "colab": {
          "base_uri": "https://localhost:8080/"
        },
        "id": "YO0g6R8Wcqqv",
        "outputId": "d2e60603-49ff-432a-c497-699e394de094"
      },
      "source": [
        "mse_list_norm_100 = repeatloop(50)"
      ],
      "execution_count": 54,
      "outputs": [
        {
          "output_type": "stream",
          "text": [
            "MSE 0: 118.38362020503543\n",
            "MSE 1: 177.66147688108717\n",
            "MSE 2: 828.408197255728\n",
            "MSE 3: 168.8355705976423\n",
            "MSE 4: 117.22125574944114\n",
            "MSE 5: 133.1857174261364\n",
            "MSE 6: 360.8172481494078\n",
            "MSE 7: 116.22249393199387\n",
            "MSE 8: 424.6859059445385\n",
            "MSE 9: 254.5065157960355\n",
            "MSE 10: 354.4818827362106\n",
            "MSE 11: 194.59896316771997\n",
            "MSE 12: 290.92358587847855\n",
            "MSE 13: 112.3933180717095\n",
            "MSE 14: 122.79202814562261\n",
            "MSE 15: 112.8112907566232\n",
            "MSE 16: 122.01765445127418\n",
            "MSE 17: 237.56993488069378\n",
            "MSE 18: 100.22138632871061\n",
            "MSE 19: 114.75878727329241\n",
            "MSE 20: 341.06843444005887\n",
            "MSE 21: 355.5536411235866\n",
            "MSE 22: 120.29342496327546\n",
            "MSE 23: 218.007740743264\n",
            "MSE 24: 610.5394697858399\n",
            "MSE 25: 1466.404592990037\n",
            "MSE 26: 249.68918744377504\n",
            "MSE 27: 107.04006889446913\n",
            "MSE 28: 131.8885882126016\n",
            "MSE 29: 159.2339579382548\n",
            "MSE 30: 264.546116347814\n",
            "MSE 31: 251.63361686438506\n",
            "MSE 32: 1413.211460723172\n",
            "MSE 33: 643.013412160003\n",
            "MSE 34: 779.4775028788595\n",
            "MSE 35: 214.56528230821775\n",
            "MSE 36: 103.85962665502092\n",
            "MSE 37: 77.23248653905132\n",
            "MSE 38: 108.72304892831798\n",
            "MSE 39: 131.19165181708954\n",
            "MSE 40: 116.19356296749619\n",
            "MSE 41: 125.22901282493328\n",
            "MSE 42: 143.17347490981163\n",
            "MSE 43: 135.54296731785973\n",
            "MSE 44: 100.71443782621085\n",
            "MSE 45: 122.76945636844763\n",
            "MSE 46: 111.42681908571569\n",
            "MSE 47: 125.2497304521542\n",
            "MSE 48: 594.8618709155324\n",
            "MSE 49: 111.26682085781583\n"
          ],
          "name": "stdout"
        }
      ]
    },
    {
      "cell_type": "code",
      "metadata": {
        "colab": {
          "base_uri": "https://localhost:8080/"
        },
        "id": "44NU1ywWct1Y",
        "outputId": "197bf4d3-7a54-4cc5-c013-31cb3f68a383"
      },
      "source": [
        "print(f\"Average of MSEs: {np.mean(mse_list_norm_100)}\")\n",
        "print(f\"Standard Deviation MSEs: {np.std(mse_list_norm_100)}\")"
      ],
      "execution_count": 55,
      "outputs": [
        {
          "output_type": "stream",
          "text": [
            "Average of MSEs: 277.9219659782091\n",
            "Standard Deviation MSEs: 295.8755363455592\n"
          ],
          "name": "stdout"
        }
      ]
    },
    {
      "cell_type": "code",
      "metadata": {
        "colab": {
          "base_uri": "https://localhost:8080/",
          "height": 279
        },
        "id": "NCz9fkRFc54p",
        "outputId": "d6180ce0-87bb-4303-8fd6-ea45809f40a4"
      },
      "source": [
        "plt.figure(figsize=(8, 4))\n",
        "plt.plot(mse_list_norm_100)\n",
        "plt.xlabel(\"Try\")\n",
        "plt.ylabel(\"MSE\")\n",
        "\n",
        "plt.show()"
      ],
      "execution_count": 56,
      "outputs": [
        {
          "output_type": "display_data",
          "data": {
            "image/png": "[encoded data removed]",
            "text/plain": [
              "<Figure size 576x288 with 1 Axes>"
            ]
          },
          "metadata": {
            "tags": [],
            "needs_background": "light"
          }
        }
      ]
    },
    {
      "cell_type": "markdown",
      "metadata": {
        "id": "4SeB_zVxcxND"
      },
      "source": [
        "Compare B vs C"
      ]
    },
    {
      "cell_type": "code",
      "metadata": {
        "colab": {
          "base_uri": "https://localhost:8080/"
        },
        "id": "pmM3Z1vnczJX",
        "outputId": "98df3e80-27da-4aee-e348-62d685450892"
      },
      "source": [
        "print(\"50 Epochs:\")\n",
        "print(f\"Average of MSEs: {np.mean(mse_list_norm)}\")\n",
        "print(f\"Standard Deviation MSEs: {np.std(mse_list_norm)}\")\n",
        "print(\"100 Epochs:\")\n",
        "print(f\"Average of MSEs: {np.mean(mse_list_norm_100)}\")\n",
        "print(f\"Standard Deviation MSEs: {np.std(mse_list_norm_100)}\")"
      ],
      "execution_count": 57,
      "outputs": [
        {
          "output_type": "stream",
          "text": [
            "50 Epochs:\n",
            "Average of MSEs: 279.86517482172144\n",
            "Standard Deviation MSEs: 219.3703204296142\n",
            "100 Epochs:\n",
            "Average of MSEs: 277.9219659782091\n",
            "Standard Deviation MSEs: 295.8755363455592\n"
          ],
          "name": "stdout"
        }
      ]
    },
    {
      "cell_type": "markdown",
      "metadata": {
        "id": "u5Now2J3kDjI"
      },
      "source": [
        "#Part D. repeat part B but use three hidden layers, each of 10 nodes and ReLU activation function.\n"
      ]
    },
    {
      "cell_type": "code",
      "metadata": {
        "id": "iQa8l1F8kWRb"
      },
      "source": [
        "def build_new_model():\n",
        "    model = keras.models.Sequential()\n",
        "    model.add(keras.layers.Dense(10, activation=\"relu\", input_shape=(X_norm.shape[1],)))\n",
        "    model.add(keras.layers.Dense(10, activation=\"relu\"))\n",
        "    model.add(keras.layers.Dense(10, activation=\"relu\"))\n",
        "    model.add(keras.layers.Dense(1))\n",
        "    \n",
        "    model.compile(optimizer=\"adam\", loss=\"mean_squared_error\")\n",
        "    return model"
      ],
      "execution_count": 58,
      "outputs": []
    },
    {
      "cell_type": "code",
      "metadata": {
        "colab": {
          "base_uri": "https://localhost:8080/"
        },
        "id": "1auo__Sak4gZ",
        "outputId": "2041380c-5c26-4410-ecd8-ec1488567eb1"
      },
      "source": [
        "model_new = build_new_model()\n",
        "\n",
        "model_new.fit(X_train_norm, y_train_norm, epochs=50, verbose=1)"
      ],
      "execution_count": 59,
      "outputs": [
        {
          "output_type": "stream",
          "text": [
            "Epoch 1/50\n",
            "23/23 [==============================] - 0s 1ms/step - loss: 1656.4764\n",
            "Epoch 2/50\n",
            "23/23 [==============================] - 0s 1ms/step - loss: 1584.8919\n",
            "Epoch 3/50\n",
            "23/23 [==============================] - 0s 1ms/step - loss: 1452.3872\n",
            "Epoch 4/50\n",
            "23/23 [==============================] - 0s 2ms/step - loss: 1373.0190\n",
            "Epoch 5/50\n",
            "23/23 [==============================] - 0s 1ms/step - loss: 1394.9224\n",
            "Epoch 6/50\n",
            "23/23 [==============================] - 0s 2ms/step - loss: 1283.6592\n",
            "Epoch 7/50\n",
            "23/23 [==============================] - 0s 2ms/step - loss: 1097.5301\n",
            "Epoch 8/50\n",
            "23/23 [==============================] - 0s 1ms/step - loss: 863.9108\n",
            "Epoch 9/50\n",
            "23/23 [==============================] - 0s 1ms/step - loss: 646.3602\n",
            "Epoch 10/50\n",
            "23/23 [==============================] - 0s 1ms/step - loss: 370.5670\n",
            "Epoch 11/50\n",
            "23/23 [==============================] - 0s 1ms/step - loss: 277.3216\n",
            "Epoch 12/50\n",
            "23/23 [==============================] - 0s 2ms/step - loss: 252.4322\n",
            "Epoch 13/50\n",
            "23/23 [==============================] - 0s 1ms/step - loss: 199.6267\n",
            "Epoch 14/50\n",
            "23/23 [==============================] - 0s 1ms/step - loss: 198.3485\n",
            "Epoch 15/50\n",
            "23/23 [==============================] - 0s 1ms/step - loss: 202.2693\n",
            "Epoch 16/50\n",
            "23/23 [==============================] - 0s 2ms/step - loss: 194.9526\n",
            "Epoch 17/50\n",
            "23/23 [==============================] - 0s 2ms/step - loss: 178.9430\n",
            "Epoch 18/50\n",
            "23/23 [==============================] - 0s 1ms/step - loss: 182.6062\n",
            "Epoch 19/50\n",
            "23/23 [==============================] - 0s 2ms/step - loss: 174.9042\n",
            "Epoch 20/50\n",
            "23/23 [==============================] - 0s 2ms/step - loss: 185.0894\n",
            "Epoch 21/50\n",
            "23/23 [==============================] - 0s 1ms/step - loss: 173.6689\n",
            "Epoch 22/50\n",
            "23/23 [==============================] - 0s 1ms/step - loss: 160.2980\n",
            "Epoch 23/50\n",
            "23/23 [==============================] - 0s 1ms/step - loss: 162.9569\n",
            "Epoch 24/50\n",
            "23/23 [==============================] - 0s 1ms/step - loss: 159.4626\n",
            "Epoch 25/50\n",
            "23/23 [==============================] - 0s 1ms/step - loss: 169.6184\n",
            "Epoch 26/50\n",
            "23/23 [==============================] - 0s 1ms/step - loss: 158.5342\n",
            "Epoch 27/50\n",
            "23/23 [==============================] - 0s 1ms/step - loss: 150.0910\n",
            "Epoch 28/50\n",
            "23/23 [==============================] - 0s 2ms/step - loss: 151.2399\n",
            "Epoch 29/50\n",
            "23/23 [==============================] - 0s 1ms/step - loss: 145.8922\n",
            "Epoch 30/50\n",
            "23/23 [==============================] - 0s 2ms/step - loss: 144.2570\n",
            "Epoch 31/50\n",
            "23/23 [==============================] - 0s 2ms/step - loss: 142.4994\n",
            "Epoch 32/50\n",
            "23/23 [==============================] - 0s 1ms/step - loss: 146.1126\n",
            "Epoch 33/50\n",
            "23/23 [==============================] - 0s 2ms/step - loss: 138.5770\n",
            "Epoch 34/50\n",
            "23/23 [==============================] - 0s 2ms/step - loss: 138.9657\n",
            "Epoch 35/50\n",
            "23/23 [==============================] - 0s 2ms/step - loss: 134.1835\n",
            "Epoch 36/50\n",
            "23/23 [==============================] - 0s 1ms/step - loss: 143.3510\n",
            "Epoch 37/50\n",
            "23/23 [==============================] - 0s 1ms/step - loss: 132.4867\n",
            "Epoch 38/50\n",
            "23/23 [==============================] - 0s 1ms/step - loss: 127.7720\n",
            "Epoch 39/50\n",
            "23/23 [==============================] - 0s 2ms/step - loss: 131.9776\n",
            "Epoch 40/50\n",
            "23/23 [==============================] - 0s 2ms/step - loss: 129.5342\n",
            "Epoch 41/50\n",
            "23/23 [==============================] - 0s 2ms/step - loss: 127.1887\n",
            "Epoch 42/50\n",
            "23/23 [==============================] - 0s 1ms/step - loss: 139.0911\n",
            "Epoch 43/50\n",
            "23/23 [==============================] - 0s 1ms/step - loss: 114.4673\n",
            "Epoch 44/50\n",
            "23/23 [==============================] - 0s 1ms/step - loss: 125.1041\n",
            "Epoch 45/50\n",
            "23/23 [==============================] - 0s 1ms/step - loss: 124.6369\n",
            "Epoch 46/50\n",
            "23/23 [==============================] - 0s 1ms/step - loss: 120.2894\n",
            "Epoch 47/50\n",
            "23/23 [==============================] - 0s 1ms/step - loss: 116.6513\n",
            "Epoch 48/50\n",
            "23/23 [==============================] - 0s 2ms/step - loss: 105.8921\n",
            "Epoch 49/50\n",
            "23/23 [==============================] - 0s 1ms/step - loss: 114.5270\n",
            "Epoch 50/50\n",
            "23/23 [==============================] - 0s 2ms/step - loss: 112.5547\n"
          ],
          "name": "stdout"
        },
        {
          "output_type": "execute_result",
          "data": {
            "text/plain": [
              "<tensorflow.python.keras.callbacks.History at 0x7ff5d0f46c90>"
            ]
          },
          "metadata": {
            "tags": []
          },
          "execution_count": 59
        }
      ]
    },
    {
      "cell_type": "code",
      "metadata": {
        "colab": {
          "base_uri": "https://localhost:8080/"
        },
        "id": "49AZy8lNlOc3",
        "outputId": "bd9594d9-ea7e-4a6c-eb85-e0454d742948"
      },
      "source": [
        "predicted_y_new = model_new.predict(X_test_norm)\n",
        "mse_new = mean_squared_error(y_test_norm, predicted_y_norm)\n",
        "print(f\"Test MSE: {mse_new}\")"
      ],
      "execution_count": 60,
      "outputs": [
        {
          "output_type": "stream",
          "text": [
            "Test MSE: 282.34166692703553\n"
          ],
          "name": "stdout"
        }
      ]
    },
    {
      "cell_type": "code",
      "metadata": {
        "colab": {
          "base_uri": "https://localhost:8080/"
        },
        "id": "BdQRUfldlhCY",
        "outputId": "bc91839b-a606-428d-bcec-9ef4aaf7eb9f"
      },
      "source": [
        "mse_list_new = repeatloop(50)"
      ],
      "execution_count": 61,
      "outputs": [
        {
          "output_type": "stream",
          "text": [
            "MSE 0: 125.19441031216705\n",
            "MSE 1: 260.76239895586775\n",
            "MSE 2: 144.2249394712246\n",
            "MSE 3: 387.3464675254296\n",
            "MSE 4: 119.10552859057347\n",
            "MSE 5: 242.97347805500826\n",
            "MSE 6: 1133.819275815818\n",
            "MSE 7: 122.56521599603299\n",
            "MSE 8: 1851.0726626939875\n",
            "MSE 9: 160.3184381042704\n",
            "MSE 10: 180.96864954684682\n",
            "MSE 11: 425.90236371692043\n",
            "MSE 12: 132.82863837792033\n",
            "MSE 13: 105.28825729183676\n",
            "MSE 14: 277.2453740948742\n",
            "MSE 15: 125.22024008825892\n",
            "MSE 16: 619.1538226662383\n",
            "MSE 17: 1710.394221002522\n",
            "MSE 18: 2119.0960557786593\n",
            "MSE 19: 131.10502332583073\n",
            "MSE 20: 157.3538278111004\n",
            "MSE 21: 223.60942720523911\n",
            "MSE 22: 343.37974083976457\n",
            "MSE 23: 379.5625692648664\n",
            "MSE 24: 121.5747197737961\n",
            "MSE 25: 141.94835555605528\n",
            "MSE 26: 671.0556323101582\n",
            "MSE 27: 397.5867910522535\n",
            "MSE 28: 126.35917097307183\n",
            "MSE 29: 89.69661323610377\n",
            "MSE 30: 303.5066902594547\n",
            "MSE 31: 153.2204502592325\n",
            "MSE 32: 109.82620892496911\n",
            "MSE 33: 129.22847179123178\n",
            "MSE 34: 123.38123121642124\n",
            "MSE 35: 291.19818854272575\n",
            "MSE 36: 183.56143522062186\n",
            "MSE 37: 1196.769239766987\n",
            "MSE 38: 320.36188505634163\n",
            "MSE 39: 562.4899462967784\n",
            "MSE 40: 721.1016827990179\n",
            "MSE 41: 152.5788136356873\n",
            "MSE 42: 142.46763729813\n",
            "MSE 43: 178.2870695904299\n",
            "MSE 44: 449.1279570971959\n",
            "MSE 45: 219.40260097808013\n",
            "MSE 46: 233.59708597882215\n",
            "MSE 47: 200.5396178926607\n",
            "MSE 48: 153.59790133261856\n",
            "MSE 49: 346.81431536198403\n"
          ],
          "name": "stdout"
        }
      ]
    },
    {
      "cell_type": "code",
      "metadata": {
        "colab": {
          "base_uri": "https://localhost:8080/"
        },
        "id": "0OeNrkRzlph6",
        "outputId": "ee6bbebf-f2d0-4cd2-d219-c1f94b73973b"
      },
      "source": [
        "print(f\"Average of MSEs: {np.mean(mse_list_new)}\")\n",
        "print(f\"Standard Deviation MSEs: {np.std(mse_list_new)}\")"
      ],
      "execution_count": 62,
      "outputs": [
        {
          "output_type": "stream",
          "text": [
            "Average of MSEs: 383.95541477464167\n",
            "Standard Deviation MSEs: 448.96861762311073\n"
          ],
          "name": "stdout"
        }
      ]
    },
    {
      "cell_type": "code",
      "metadata": {
        "colab": {
          "base_uri": "https://localhost:8080/",
          "height": 279
        },
        "id": "4Z3z95HpluCQ",
        "outputId": "e6c21530-0abf-4210-9f04-73e6dc3c7950"
      },
      "source": [
        "plt.figure(figsize=(8, 4))\n",
        "plt.plot(mse_list_new)\n",
        "plt.xlabel(\"Try\")\n",
        "plt.ylabel(\"MSE\")\n",
        "\n",
        "plt.show()"
      ],
      "execution_count": 63,
      "outputs": [
        {
          "output_type": "display_data",
          "data": {
            "image/png": "[encoded data removed]",
            "text/plain": [
              "<Figure size 576x288 with 1 Axes>"
            ]
          },
          "metadata": {
            "tags": [],
            "needs_background": "light"
          }
        }
      ]
    },
    {
      "cell_type": "markdown",
      "metadata": {
        "id": "djo7wdi1lwFs"
      },
      "source": [
        "Compare D vs B"
      ]
    },
    {
      "cell_type": "code",
      "metadata": {
        "colab": {
          "base_uri": "https://localhost:8080/"
        },
        "id": "IRFOdmD8lzr4",
        "outputId": "d8cdb113-3186-4359-cd08-b82c8220f8c2"
      },
      "source": [
        "print(\"1 Hidden Layer:\")\n",
        "print(f\"Average of MSEs: {np.mean(mse_list_norm)}\")\n",
        "print(f\"Standard Deviation MSEs: {np.std(mse_list_norm)}\")\n",
        "print(\"3 Hidden Layers:\")\n",
        "print(f\"Average of MSEs: {np.mean(mse_list_new)}\")\n",
        "print(f\"Standard Deviation MSEs: {np.std(mse_list_new)}\")"
      ],
      "execution_count": 64,
      "outputs": [
        {
          "output_type": "stream",
          "text": [
            "1 Hidden Layer:\n",
            "Average of MSEs: 279.86517482172144\n",
            "Standard Deviation MSEs: 219.3703204296142\n",
            "3 Hidden Layers:\n",
            "Average of MSEs: 383.95541477464167\n",
            "Standard Deviation MSEs: 448.96861762311073\n"
          ],
          "name": "stdout"
        }
      ]
    },
    {
      "cell_type": "code",
      "metadata": {
        "id": "GL7lnnC5mE54"
      },
      "source": [
        ""
      ],
      "execution_count": 64,
      "outputs": []
    }
  ]
}