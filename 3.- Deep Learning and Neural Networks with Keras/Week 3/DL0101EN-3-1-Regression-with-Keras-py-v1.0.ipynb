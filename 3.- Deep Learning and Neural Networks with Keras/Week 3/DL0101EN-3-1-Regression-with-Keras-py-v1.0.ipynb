{
 "cells": [
  {
   "cell_type": "markdown",
   "metadata": {
    "button": false,
    "deletable": true,
    "new_sheet": false,
    "run_control": {
     "read_only": false
    }
   },
   "source": [
    "<a href=\"https://cognitiveclass.ai\"><img src = \"https://s3-api.us-geo.objectstorage.softlayer.net/cf-courses-data/CognitiveClass/Logos/organization_logo/organization_logo.png\" width = 400> </a>\n",
    "\n",
    "<h1 align=center><font size = 5>Regression Models with Keras</font></h1>\n"
   ]
  },
  {
   "cell_type": "markdown",
   "metadata": {
    "button": false,
    "deletable": true,
    "new_sheet": false,
    "run_control": {
     "read_only": false
    }
   },
   "source": [
    "## Introduction\n"
   ]
  },
  {
   "cell_type": "markdown",
   "metadata": {
    "button": false,
    "deletable": true,
    "new_sheet": false,
    "run_control": {
     "read_only": false
    }
   },
   "source": [
    "As we discussed in the videos, despite the popularity of more powerful libraries such as PyToch and TensorFlow, they are not easy to use and have a steep learning curve. So, for people who are just starting to learn deep learning, there is no better library to use other than the Keras library. \n",
    "\n",
    "Keras is a high-level API for building deep learning models. It has gained favor for its ease of use and syntactic simplicity facilitating fast development. As you will see in this lab and the other labs in this course, building a very complex deep learning network can be achieved with Keras with only few lines of code. You will appreciate Keras even more, once you learn how to build deep models using PyTorch and TensorFlow in the other courses.\n",
    "\n",
    "So, in this lab, you will learn how to use the Keras library to build a regression model.\n"
   ]
  },
  {
   "cell_type": "markdown",
   "metadata": {},
   "source": [
    "<h2>Regression Models with Keras</h2>\n",
    "\n",
    "<h3>Objective for this Notebook<h3>    \n",
    "<h5> 1. How to use the Keras library to build a regression model.</h5>\n",
    "<h5> 2. Download and Clean dataset </h5>\n",
    "<h5> 3. Build a Neural Network </h5>\n",
    "<h5> 4. Train and Test the Network. </h5>     \n"
   ]
  },
  {
   "cell_type": "markdown",
   "metadata": {
    "button": false,
    "deletable": true,
    "new_sheet": false,
    "run_control": {
     "read_only": false
    }
   },
   "source": [
    "## Table of Contents\n",
    "\n",
    "<div class=\"alert alert-block alert-info\" style=\"margin-top: 20px\">\n",
    "\n",
    "<font size = 3>\n",
    "    \n",
    "1. <a href=\"#item31\">Download and Clean Dataset</a>  \n",
    "2. <a href=\"#item32\">Import Keras</a>  \n",
    "3. <a href=\"#item33\">Build a Neural Network</a>  \n",
    "4. <a href=\"#item34\">Train and Test the Network</a>  \n",
    "\n",
    "</font>\n",
    "</div>\n"
   ]
  },
  {
   "cell_type": "markdown",
   "metadata": {
    "button": false,
    "deletable": true,
    "new_sheet": false,
    "run_control": {
     "read_only": false
    }
   },
   "source": [
    "<a id=\"item31\"></a>\n"
   ]
  },
  {
   "cell_type": "markdown",
   "metadata": {
    "button": false,
    "deletable": true,
    "new_sheet": false,
    "run_control": {
     "read_only": false
    }
   },
   "source": [
    "## Download and Clean Dataset\n"
   ]
  },
  {
   "cell_type": "markdown",
   "metadata": {
    "button": false,
    "deletable": true,
    "new_sheet": false,
    "run_control": {
     "read_only": false
    }
   },
   "source": [
    "Let's start by importing the <em>pandas</em> and the Numpy libraries.\n"
   ]
  },
  {
   "cell_type": "code",
   "execution_count": 1,
   "metadata": {
    "button": false,
    "deletable": true,
    "new_sheet": false,
    "run_control": {
     "read_only": false
    }
   },
   "outputs": [],
   "source": [
    "import pandas as pd\n",
    "import numpy as np"
   ]
  },
  {
   "cell_type": "markdown",
   "metadata": {
    "button": false,
    "deletable": true,
    "new_sheet": false,
    "run_control": {
     "read_only": false
    }
   },
   "source": [
    "We will be playing around with the same dataset that we used in the videos.\n",
    "\n",
    "<strong>The dataset is about the compressive strength of different samples of concrete based on the volumes of the different ingredients that were used to make them. Ingredients include:</strong>\n",
    "\n",
    "<strong>1. Cement</strong>\n",
    "\n",
    "<strong>2. Blast Furnace Slag</strong>\n",
    "\n",
    "<strong>3. Fly Ash</strong>\n",
    "\n",
    "<strong>4. Water</strong>\n",
    "\n",
    "<strong>5. Superplasticizer</strong>\n",
    "\n",
    "<strong>6. Coarse Aggregate</strong>\n",
    "\n",
    "<strong>7. Fine Aggregate</strong>\n"
   ]
  },
  {
   "cell_type": "markdown",
   "metadata": {
    "button": false,
    "deletable": true,
    "new_sheet": false,
    "run_control": {
     "read_only": false
    }
   },
   "source": [
    "Let's download the data and read it into a <em>pandas</em> dataframe.\n"
   ]
  },
  {
   "cell_type": "code",
   "execution_count": 2,
   "metadata": {
    "button": false,
    "deletable": true,
    "new_sheet": false,
    "run_control": {
     "read_only": false
    }
   },
   "outputs": [
    {
     "data": {
      "text/html": [
       "<div>\n",
       "<style scoped>\n",
       "    .dataframe tbody tr th:only-of-type {\n",
       "        vertical-align: middle;\n",
       "    }\n",
       "\n",
       "    .dataframe tbody tr th {\n",
       "        vertical-align: top;\n",
       "    }\n",
       "\n",
       "    .dataframe thead th {\n",
       "        text-align: right;\n",
       "    }\n",
       "</style>\n",
       "<table border=\"1\" class=\"dataframe\">\n",
       "  <thead>\n",
       "    <tr style=\"text-align: right;\">\n",
       "      <th></th>\n",
       "      <th>Cement</th>\n",
       "      <th>Blast Furnace Slag</th>\n",
       "      <th>Fly Ash</th>\n",
       "      <th>Water</th>\n",
       "      <th>Superplasticizer</th>\n",
       "      <th>Coarse Aggregate</th>\n",
       "      <th>Fine Aggregate</th>\n",
       "      <th>Age</th>\n",
       "      <th>Strength</th>\n",
       "    </tr>\n",
       "  </thead>\n",
       "  <tbody>\n",
       "    <tr>\n",
       "      <th>0</th>\n",
       "      <td>540.0</td>\n",
       "      <td>0.0</td>\n",
       "      <td>0.0</td>\n",
       "      <td>162.0</td>\n",
       "      <td>2.5</td>\n",
       "      <td>1040.0</td>\n",
       "      <td>676.0</td>\n",
       "      <td>28</td>\n",
       "      <td>79.99</td>\n",
       "    </tr>\n",
       "    <tr>\n",
       "      <th>1</th>\n",
       "      <td>540.0</td>\n",
       "      <td>0.0</td>\n",
       "      <td>0.0</td>\n",
       "      <td>162.0</td>\n",
       "      <td>2.5</td>\n",
       "      <td>1055.0</td>\n",
       "      <td>676.0</td>\n",
       "      <td>28</td>\n",
       "      <td>61.89</td>\n",
       "    </tr>\n",
       "    <tr>\n",
       "      <th>2</th>\n",
       "      <td>332.5</td>\n",
       "      <td>142.5</td>\n",
       "      <td>0.0</td>\n",
       "      <td>228.0</td>\n",
       "      <td>0.0</td>\n",
       "      <td>932.0</td>\n",
       "      <td>594.0</td>\n",
       "      <td>270</td>\n",
       "      <td>40.27</td>\n",
       "    </tr>\n",
       "    <tr>\n",
       "      <th>3</th>\n",
       "      <td>332.5</td>\n",
       "      <td>142.5</td>\n",
       "      <td>0.0</td>\n",
       "      <td>228.0</td>\n",
       "      <td>0.0</td>\n",
       "      <td>932.0</td>\n",
       "      <td>594.0</td>\n",
       "      <td>365</td>\n",
       "      <td>41.05</td>\n",
       "    </tr>\n",
       "    <tr>\n",
       "      <th>4</th>\n",
       "      <td>198.6</td>\n",
       "      <td>132.4</td>\n",
       "      <td>0.0</td>\n",
       "      <td>192.0</td>\n",
       "      <td>0.0</td>\n",
       "      <td>978.4</td>\n",
       "      <td>825.5</td>\n",
       "      <td>360</td>\n",
       "      <td>44.30</td>\n",
       "    </tr>\n",
       "  </tbody>\n",
       "</table>\n",
       "</div>"
      ],
      "text/plain": [
       "   Cement  Blast Furnace Slag  Fly Ash  Water  Superplasticizer  \\\n",
       "0   540.0                 0.0      0.0  162.0               2.5   \n",
       "1   540.0                 0.0      0.0  162.0               2.5   \n",
       "2   332.5               142.5      0.0  228.0               0.0   \n",
       "3   332.5               142.5      0.0  228.0               0.0   \n",
       "4   198.6               132.4      0.0  192.0               0.0   \n",
       "\n",
       "   Coarse Aggregate  Fine Aggregate  Age  Strength  \n",
       "0            1040.0           676.0   28     79.99  \n",
       "1            1055.0           676.0   28     61.89  \n",
       "2             932.0           594.0  270     40.27  \n",
       "3             932.0           594.0  365     41.05  \n",
       "4             978.4           825.5  360     44.30  "
      ]
     },
     "execution_count": 2,
     "metadata": {},
     "output_type": "execute_result"
    }
   ],
   "source": [
    "concrete_data = pd.read_csv('https://s3-api.us-geo.objectstorage.softlayer.net/cf-courses-data/CognitiveClass/DL0101EN/labs/data/concrete_data.csv')\n",
    "concrete_data.head()"
   ]
  },
  {
   "cell_type": "markdown",
   "metadata": {
    "button": false,
    "deletable": true,
    "new_sheet": false,
    "run_control": {
     "read_only": false
    }
   },
   "source": [
    "So the first concrete sample has 540 cubic meter of cement, 0 cubic meter of blast furnace slag, 0 cubic meter of fly ash, 162 cubic meter of water, 2.5 cubic meter of superplaticizer, 1040 cubic meter of coarse aggregate, 676 cubic meter of fine aggregate. Such a concrete mix which is 28 days old, has a compressive strength of 79.99 MPa. \n"
   ]
  },
  {
   "cell_type": "markdown",
   "metadata": {
    "button": false,
    "deletable": true,
    "new_sheet": false,
    "run_control": {
     "read_only": false
    }
   },
   "source": [
    "#### Let's check how many data points we have.\n"
   ]
  },
  {
   "cell_type": "code",
   "execution_count": 3,
   "metadata": {
    "button": false,
    "deletable": true,
    "new_sheet": false,
    "run_control": {
     "read_only": false
    }
   },
   "outputs": [
    {
     "data": {
      "text/plain": [
       "(1030, 9)"
      ]
     },
     "execution_count": 3,
     "metadata": {},
     "output_type": "execute_result"
    }
   ],
   "source": [
    "concrete_data.shape"
   ]
  },
  {
   "cell_type": "markdown",
   "metadata": {
    "button": false,
    "deletable": true,
    "new_sheet": false,
    "run_control": {
     "read_only": false
    }
   },
   "source": [
    "So, there are approximately 1000 samples to train our model on. Because of the few samples, we have to be careful not to overfit the training data.\n"
   ]
  },
  {
   "cell_type": "markdown",
   "metadata": {
    "button": false,
    "deletable": true,
    "new_sheet": false,
    "run_control": {
     "read_only": false
    }
   },
   "source": [
    "Let's check the dataset for any missing values.\n"
   ]
  },
  {
   "cell_type": "code",
   "execution_count": 4,
   "metadata": {
    "button": false,
    "deletable": true,
    "new_sheet": false,
    "run_control": {
     "read_only": false
    }
   },
   "outputs": [
    {
     "data": {
      "text/html": [
       "<div>\n",
       "<style scoped>\n",
       "    .dataframe tbody tr th:only-of-type {\n",
       "        vertical-align: middle;\n",
       "    }\n",
       "\n",
       "    .dataframe tbody tr th {\n",
       "        vertical-align: top;\n",
       "    }\n",
       "\n",
       "    .dataframe thead th {\n",
       "        text-align: right;\n",
       "    }\n",
       "</style>\n",
       "<table border=\"1\" class=\"dataframe\">\n",
       "  <thead>\n",
       "    <tr style=\"text-align: right;\">\n",
       "      <th></th>\n",
       "      <th>Cement</th>\n",
       "      <th>Blast Furnace Slag</th>\n",
       "      <th>Fly Ash</th>\n",
       "      <th>Water</th>\n",
       "      <th>Superplasticizer</th>\n",
       "      <th>Coarse Aggregate</th>\n",
       "      <th>Fine Aggregate</th>\n",
       "      <th>Age</th>\n",
       "      <th>Strength</th>\n",
       "    </tr>\n",
       "  </thead>\n",
       "  <tbody>\n",
       "    <tr>\n",
       "      <th>count</th>\n",
       "      <td>1030.000000</td>\n",
       "      <td>1030.000000</td>\n",
       "      <td>1030.000000</td>\n",
       "      <td>1030.000000</td>\n",
       "      <td>1030.000000</td>\n",
       "      <td>1030.000000</td>\n",
       "      <td>1030.000000</td>\n",
       "      <td>1030.000000</td>\n",
       "      <td>1030.000000</td>\n",
       "    </tr>\n",
       "    <tr>\n",
       "      <th>mean</th>\n",
       "      <td>281.167864</td>\n",
       "      <td>73.895825</td>\n",
       "      <td>54.188350</td>\n",
       "      <td>181.567282</td>\n",
       "      <td>6.204660</td>\n",
       "      <td>972.918932</td>\n",
       "      <td>773.580485</td>\n",
       "      <td>45.662136</td>\n",
       "      <td>35.817961</td>\n",
       "    </tr>\n",
       "    <tr>\n",
       "      <th>std</th>\n",
       "      <td>104.506364</td>\n",
       "      <td>86.279342</td>\n",
       "      <td>63.997004</td>\n",
       "      <td>21.354219</td>\n",
       "      <td>5.973841</td>\n",
       "      <td>77.753954</td>\n",
       "      <td>80.175980</td>\n",
       "      <td>63.169912</td>\n",
       "      <td>16.705742</td>\n",
       "    </tr>\n",
       "    <tr>\n",
       "      <th>min</th>\n",
       "      <td>102.000000</td>\n",
       "      <td>0.000000</td>\n",
       "      <td>0.000000</td>\n",
       "      <td>121.800000</td>\n",
       "      <td>0.000000</td>\n",
       "      <td>801.000000</td>\n",
       "      <td>594.000000</td>\n",
       "      <td>1.000000</td>\n",
       "      <td>2.330000</td>\n",
       "    </tr>\n",
       "    <tr>\n",
       "      <th>25%</th>\n",
       "      <td>192.375000</td>\n",
       "      <td>0.000000</td>\n",
       "      <td>0.000000</td>\n",
       "      <td>164.900000</td>\n",
       "      <td>0.000000</td>\n",
       "      <td>932.000000</td>\n",
       "      <td>730.950000</td>\n",
       "      <td>7.000000</td>\n",
       "      <td>23.710000</td>\n",
       "    </tr>\n",
       "    <tr>\n",
       "      <th>50%</th>\n",
       "      <td>272.900000</td>\n",
       "      <td>22.000000</td>\n",
       "      <td>0.000000</td>\n",
       "      <td>185.000000</td>\n",
       "      <td>6.400000</td>\n",
       "      <td>968.000000</td>\n",
       "      <td>779.500000</td>\n",
       "      <td>28.000000</td>\n",
       "      <td>34.445000</td>\n",
       "    </tr>\n",
       "    <tr>\n",
       "      <th>75%</th>\n",
       "      <td>350.000000</td>\n",
       "      <td>142.950000</td>\n",
       "      <td>118.300000</td>\n",
       "      <td>192.000000</td>\n",
       "      <td>10.200000</td>\n",
       "      <td>1029.400000</td>\n",
       "      <td>824.000000</td>\n",
       "      <td>56.000000</td>\n",
       "      <td>46.135000</td>\n",
       "    </tr>\n",
       "    <tr>\n",
       "      <th>max</th>\n",
       "      <td>540.000000</td>\n",
       "      <td>359.400000</td>\n",
       "      <td>200.100000</td>\n",
       "      <td>247.000000</td>\n",
       "      <td>32.200000</td>\n",
       "      <td>1145.000000</td>\n",
       "      <td>992.600000</td>\n",
       "      <td>365.000000</td>\n",
       "      <td>82.600000</td>\n",
       "    </tr>\n",
       "  </tbody>\n",
       "</table>\n",
       "</div>"
      ],
      "text/plain": [
       "            Cement  Blast Furnace Slag      Fly Ash        Water  \\\n",
       "count  1030.000000         1030.000000  1030.000000  1030.000000   \n",
       "mean    281.167864           73.895825    54.188350   181.567282   \n",
       "std     104.506364           86.279342    63.997004    21.354219   \n",
       "min     102.000000            0.000000     0.000000   121.800000   \n",
       "25%     192.375000            0.000000     0.000000   164.900000   \n",
       "50%     272.900000           22.000000     0.000000   185.000000   \n",
       "75%     350.000000          142.950000   118.300000   192.000000   \n",
       "max     540.000000          359.400000   200.100000   247.000000   \n",
       "\n",
       "       Superplasticizer  Coarse Aggregate  Fine Aggregate          Age  \\\n",
       "count       1030.000000       1030.000000     1030.000000  1030.000000   \n",
       "mean           6.204660        972.918932      773.580485    45.662136   \n",
       "std            5.973841         77.753954       80.175980    63.169912   \n",
       "min            0.000000        801.000000      594.000000     1.000000   \n",
       "25%            0.000000        932.000000      730.950000     7.000000   \n",
       "50%            6.400000        968.000000      779.500000    28.000000   \n",
       "75%           10.200000       1029.400000      824.000000    56.000000   \n",
       "max           32.200000       1145.000000      992.600000   365.000000   \n",
       "\n",
       "          Strength  \n",
       "count  1030.000000  \n",
       "mean     35.817961  \n",
       "std      16.705742  \n",
       "min       2.330000  \n",
       "25%      23.710000  \n",
       "50%      34.445000  \n",
       "75%      46.135000  \n",
       "max      82.600000  "
      ]
     },
     "execution_count": 4,
     "metadata": {},
     "output_type": "execute_result"
    }
   ],
   "source": [
    "concrete_data.describe()"
   ]
  },
  {
   "cell_type": "code",
   "execution_count": 5,
   "metadata": {
    "button": false,
    "deletable": true,
    "new_sheet": false,
    "run_control": {
     "read_only": false
    }
   },
   "outputs": [
    {
     "data": {
      "text/plain": [
       "Cement                0\n",
       "Blast Furnace Slag    0\n",
       "Fly Ash               0\n",
       "Water                 0\n",
       "Superplasticizer      0\n",
       "Coarse Aggregate      0\n",
       "Fine Aggregate        0\n",
       "Age                   0\n",
       "Strength              0\n",
       "dtype: int64"
      ]
     },
     "execution_count": 5,
     "metadata": {},
     "output_type": "execute_result"
    }
   ],
   "source": [
    "concrete_data.isnull().sum()"
   ]
  },
  {
   "cell_type": "markdown",
   "metadata": {
    "button": false,
    "deletable": true,
    "new_sheet": false,
    "run_control": {
     "read_only": false
    }
   },
   "source": [
    "The data looks very clean and is ready to be used to build our model.\n"
   ]
  },
  {
   "cell_type": "markdown",
   "metadata": {
    "button": false,
    "deletable": true,
    "new_sheet": false,
    "run_control": {
     "read_only": false
    }
   },
   "source": [
    "#### Split data into predictors and target\n"
   ]
  },
  {
   "cell_type": "markdown",
   "metadata": {},
   "source": [
    "The target variable in this problem is the concrete sample strength. Therefore, our predictors will be all the other columns.\n"
   ]
  },
  {
   "cell_type": "code",
   "execution_count": 6,
   "metadata": {
    "button": false,
    "deletable": true,
    "new_sheet": false,
    "run_control": {
     "read_only": false
    }
   },
   "outputs": [],
   "source": [
    "concrete_data_columns = concrete_data.columns\n",
    "\n",
    "predictors = concrete_data[concrete_data_columns[concrete_data_columns != 'Strength']] # all columns except Strength\n",
    "target = concrete_data['Strength'] # Strength column"
   ]
  },
  {
   "cell_type": "markdown",
   "metadata": {
    "button": false,
    "deletable": true,
    "new_sheet": false,
    "run_control": {
     "read_only": false
    }
   },
   "source": [
    "<a id=\"item2\"></a>\n"
   ]
  },
  {
   "cell_type": "markdown",
   "metadata": {
    "button": false,
    "deletable": true,
    "new_sheet": false,
    "run_control": {
     "read_only": false
    }
   },
   "source": [
    "Let's do a quick sanity check of the predictors and the target dataframes.\n"
   ]
  },
  {
   "cell_type": "code",
   "execution_count": 7,
   "metadata": {
    "button": false,
    "deletable": true,
    "new_sheet": false,
    "run_control": {
     "read_only": false
    }
   },
   "outputs": [
    {
     "data": {
      "text/html": [
       "<div>\n",
       "<style scoped>\n",
       "    .dataframe tbody tr th:only-of-type {\n",
       "        vertical-align: middle;\n",
       "    }\n",
       "\n",
       "    .dataframe tbody tr th {\n",
       "        vertical-align: top;\n",
       "    }\n",
       "\n",
       "    .dataframe thead th {\n",
       "        text-align: right;\n",
       "    }\n",
       "</style>\n",
       "<table border=\"1\" class=\"dataframe\">\n",
       "  <thead>\n",
       "    <tr style=\"text-align: right;\">\n",
       "      <th></th>\n",
       "      <th>Cement</th>\n",
       "      <th>Blast Furnace Slag</th>\n",
       "      <th>Fly Ash</th>\n",
       "      <th>Water</th>\n",
       "      <th>Superplasticizer</th>\n",
       "      <th>Coarse Aggregate</th>\n",
       "      <th>Fine Aggregate</th>\n",
       "      <th>Age</th>\n",
       "    </tr>\n",
       "  </thead>\n",
       "  <tbody>\n",
       "    <tr>\n",
       "      <th>0</th>\n",
       "      <td>540.0</td>\n",
       "      <td>0.0</td>\n",
       "      <td>0.0</td>\n",
       "      <td>162.0</td>\n",
       "      <td>2.5</td>\n",
       "      <td>1040.0</td>\n",
       "      <td>676.0</td>\n",
       "      <td>28</td>\n",
       "    </tr>\n",
       "    <tr>\n",
       "      <th>1</th>\n",
       "      <td>540.0</td>\n",
       "      <td>0.0</td>\n",
       "      <td>0.0</td>\n",
       "      <td>162.0</td>\n",
       "      <td>2.5</td>\n",
       "      <td>1055.0</td>\n",
       "      <td>676.0</td>\n",
       "      <td>28</td>\n",
       "    </tr>\n",
       "    <tr>\n",
       "      <th>2</th>\n",
       "      <td>332.5</td>\n",
       "      <td>142.5</td>\n",
       "      <td>0.0</td>\n",
       "      <td>228.0</td>\n",
       "      <td>0.0</td>\n",
       "      <td>932.0</td>\n",
       "      <td>594.0</td>\n",
       "      <td>270</td>\n",
       "    </tr>\n",
       "    <tr>\n",
       "      <th>3</th>\n",
       "      <td>332.5</td>\n",
       "      <td>142.5</td>\n",
       "      <td>0.0</td>\n",
       "      <td>228.0</td>\n",
       "      <td>0.0</td>\n",
       "      <td>932.0</td>\n",
       "      <td>594.0</td>\n",
       "      <td>365</td>\n",
       "    </tr>\n",
       "    <tr>\n",
       "      <th>4</th>\n",
       "      <td>198.6</td>\n",
       "      <td>132.4</td>\n",
       "      <td>0.0</td>\n",
       "      <td>192.0</td>\n",
       "      <td>0.0</td>\n",
       "      <td>978.4</td>\n",
       "      <td>825.5</td>\n",
       "      <td>360</td>\n",
       "    </tr>\n",
       "  </tbody>\n",
       "</table>\n",
       "</div>"
      ],
      "text/plain": [
       "   Cement  Blast Furnace Slag  Fly Ash  Water  Superplasticizer  \\\n",
       "0   540.0                 0.0      0.0  162.0               2.5   \n",
       "1   540.0                 0.0      0.0  162.0               2.5   \n",
       "2   332.5               142.5      0.0  228.0               0.0   \n",
       "3   332.5               142.5      0.0  228.0               0.0   \n",
       "4   198.6               132.4      0.0  192.0               0.0   \n",
       "\n",
       "   Coarse Aggregate  Fine Aggregate  Age  \n",
       "0            1040.0           676.0   28  \n",
       "1            1055.0           676.0   28  \n",
       "2             932.0           594.0  270  \n",
       "3             932.0           594.0  365  \n",
       "4             978.4           825.5  360  "
      ]
     },
     "execution_count": 7,
     "metadata": {},
     "output_type": "execute_result"
    }
   ],
   "source": [
    "predictors.head()"
   ]
  },
  {
   "cell_type": "code",
   "execution_count": 8,
   "metadata": {
    "button": false,
    "deletable": true,
    "new_sheet": false,
    "run_control": {
     "read_only": false
    }
   },
   "outputs": [
    {
     "data": {
      "text/plain": [
       "0    79.99\n",
       "1    61.89\n",
       "2    40.27\n",
       "3    41.05\n",
       "4    44.30\n",
       "Name: Strength, dtype: float64"
      ]
     },
     "execution_count": 8,
     "metadata": {},
     "output_type": "execute_result"
    }
   ],
   "source": [
    "target.head()"
   ]
  },
  {
   "cell_type": "markdown",
   "metadata": {
    "button": false,
    "deletable": true,
    "new_sheet": false,
    "run_control": {
     "read_only": false
    }
   },
   "source": [
    "Finally, the last step is to normalize the data by substracting the mean and dividing by the standard deviation.\n"
   ]
  },
  {
   "cell_type": "code",
   "execution_count": 9,
   "metadata": {
    "button": false,
    "deletable": true,
    "new_sheet": false,
    "run_control": {
     "read_only": false
    }
   },
   "outputs": [
    {
     "data": {
      "text/html": [
       "<div>\n",
       "<style scoped>\n",
       "    .dataframe tbody tr th:only-of-type {\n",
       "        vertical-align: middle;\n",
       "    }\n",
       "\n",
       "    .dataframe tbody tr th {\n",
       "        vertical-align: top;\n",
       "    }\n",
       "\n",
       "    .dataframe thead th {\n",
       "        text-align: right;\n",
       "    }\n",
       "</style>\n",
       "<table border=\"1\" class=\"dataframe\">\n",
       "  <thead>\n",
       "    <tr style=\"text-align: right;\">\n",
       "      <th></th>\n",
       "      <th>Cement</th>\n",
       "      <th>Blast Furnace Slag</th>\n",
       "      <th>Fly Ash</th>\n",
       "      <th>Water</th>\n",
       "      <th>Superplasticizer</th>\n",
       "      <th>Coarse Aggregate</th>\n",
       "      <th>Fine Aggregate</th>\n",
       "      <th>Age</th>\n",
       "    </tr>\n",
       "  </thead>\n",
       "  <tbody>\n",
       "    <tr>\n",
       "      <th>0</th>\n",
       "      <td>2.476712</td>\n",
       "      <td>-0.856472</td>\n",
       "      <td>-0.846733</td>\n",
       "      <td>-0.916319</td>\n",
       "      <td>-0.620147</td>\n",
       "      <td>0.862735</td>\n",
       "      <td>-1.217079</td>\n",
       "      <td>-0.279597</td>\n",
       "    </tr>\n",
       "    <tr>\n",
       "      <th>1</th>\n",
       "      <td>2.476712</td>\n",
       "      <td>-0.856472</td>\n",
       "      <td>-0.846733</td>\n",
       "      <td>-0.916319</td>\n",
       "      <td>-0.620147</td>\n",
       "      <td>1.055651</td>\n",
       "      <td>-1.217079</td>\n",
       "      <td>-0.279597</td>\n",
       "    </tr>\n",
       "    <tr>\n",
       "      <th>2</th>\n",
       "      <td>0.491187</td>\n",
       "      <td>0.795140</td>\n",
       "      <td>-0.846733</td>\n",
       "      <td>2.174405</td>\n",
       "      <td>-1.038638</td>\n",
       "      <td>-0.526262</td>\n",
       "      <td>-2.239829</td>\n",
       "      <td>3.551340</td>\n",
       "    </tr>\n",
       "    <tr>\n",
       "      <th>3</th>\n",
       "      <td>0.491187</td>\n",
       "      <td>0.795140</td>\n",
       "      <td>-0.846733</td>\n",
       "      <td>2.174405</td>\n",
       "      <td>-1.038638</td>\n",
       "      <td>-0.526262</td>\n",
       "      <td>-2.239829</td>\n",
       "      <td>5.055221</td>\n",
       "    </tr>\n",
       "    <tr>\n",
       "      <th>4</th>\n",
       "      <td>-0.790075</td>\n",
       "      <td>0.678079</td>\n",
       "      <td>-0.846733</td>\n",
       "      <td>0.488555</td>\n",
       "      <td>-1.038638</td>\n",
       "      <td>0.070492</td>\n",
       "      <td>0.647569</td>\n",
       "      <td>4.976069</td>\n",
       "    </tr>\n",
       "  </tbody>\n",
       "</table>\n",
       "</div>"
      ],
      "text/plain": [
       "     Cement  Blast Furnace Slag   Fly Ash     Water  Superplasticizer  \\\n",
       "0  2.476712           -0.856472 -0.846733 -0.916319         -0.620147   \n",
       "1  2.476712           -0.856472 -0.846733 -0.916319         -0.620147   \n",
       "2  0.491187            0.795140 -0.846733  2.174405         -1.038638   \n",
       "3  0.491187            0.795140 -0.846733  2.174405         -1.038638   \n",
       "4 -0.790075            0.678079 -0.846733  0.488555         -1.038638   \n",
       "\n",
       "   Coarse Aggregate  Fine Aggregate       Age  \n",
       "0          0.862735       -1.217079 -0.279597  \n",
       "1          1.055651       -1.217079 -0.279597  \n",
       "2         -0.526262       -2.239829  3.551340  \n",
       "3         -0.526262       -2.239829  5.055221  \n",
       "4          0.070492        0.647569  4.976069  "
      ]
     },
     "execution_count": 9,
     "metadata": {},
     "output_type": "execute_result"
    }
   ],
   "source": [
    "predictors_norm = (predictors - predictors.mean()) / predictors.std()\n",
    "predictors_norm.head()"
   ]
  },
  {
   "cell_type": "markdown",
   "metadata": {},
   "source": [
    "Let's save the number of predictors to _n_cols_ since we will need this number when building our network.\n"
   ]
  },
  {
   "cell_type": "code",
   "execution_count": 10,
   "metadata": {
    "button": false,
    "deletable": true,
    "new_sheet": false,
    "run_control": {
     "read_only": false
    }
   },
   "outputs": [],
   "source": [
    "n_cols = predictors_norm.shape[1] # number of predictors"
   ]
  },
  {
   "cell_type": "markdown",
   "metadata": {
    "button": false,
    "deletable": true,
    "new_sheet": false,
    "run_control": {
     "read_only": false
    }
   },
   "source": [
    "<a id=\"item1\"></a>\n"
   ]
  },
  {
   "cell_type": "markdown",
   "metadata": {},
   "source": [
    "<a id='item32'></a>\n"
   ]
  },
  {
   "cell_type": "markdown",
   "metadata": {
    "button": false,
    "deletable": true,
    "new_sheet": false,
    "run_control": {
     "read_only": false
    }
   },
   "source": [
    "## Import Keras\n"
   ]
  },
  {
   "cell_type": "markdown",
   "metadata": {
    "button": false,
    "deletable": true,
    "new_sheet": false,
    "run_control": {
     "read_only": false
    }
   },
   "source": [
    "Recall from the videos that Keras normally runs on top of a low-level library such as TensorFlow. This means that to be able to use the Keras library, you will have to install TensorFlow first and when you import the Keras library, it will be explicitly displayed what backend was used to install the Keras library. In CC Labs, we used TensorFlow as the backend to install Keras, so it should clearly print that when we import Keras.\n"
   ]
  },
  {
   "cell_type": "markdown",
   "metadata": {
    "button": false,
    "deletable": true,
    "new_sheet": false,
    "run_control": {
     "read_only": false
    }
   },
   "source": [
    "#### Let's go ahead and import the Keras library\n"
   ]
  },
  {
   "cell_type": "code",
   "execution_count": 11,
   "metadata": {
    "button": false,
    "deletable": true,
    "new_sheet": false,
    "run_control": {
     "read_only": false
    }
   },
   "outputs": [
    {
     "name": "stderr",
     "output_type": "stream",
     "text": [
      "Using TensorFlow backend.\n",
      "/home/jupyterlab/conda/envs/python/lib/python3.6/site-packages/tensorflow/python/framework/dtypes.py:519: FutureWarning: Passing (type, 1) or '1type' as a synonym of type is deprecated; in a future version of numpy, it will be understood as (type, (1,)) / '(1,)type'.\n",
      "  _np_qint8 = np.dtype([(\"qint8\", np.int8, 1)])\n",
      "/home/jupyterlab/conda/envs/python/lib/python3.6/site-packages/tensorflow/python/framework/dtypes.py:520: FutureWarning: Passing (type, 1) or '1type' as a synonym of type is deprecated; in a future version of numpy, it will be understood as (type, (1,)) / '(1,)type'.\n",
      "  _np_quint8 = np.dtype([(\"quint8\", np.uint8, 1)])\n",
      "/home/jupyterlab/conda/envs/python/lib/python3.6/site-packages/tensorflow/python/framework/dtypes.py:521: FutureWarning: Passing (type, 1) or '1type' as a synonym of type is deprecated; in a future version of numpy, it will be understood as (type, (1,)) / '(1,)type'.\n",
      "  _np_qint16 = np.dtype([(\"qint16\", np.int16, 1)])\n",
      "/home/jupyterlab/conda/envs/python/lib/python3.6/site-packages/tensorflow/python/framework/dtypes.py:522: FutureWarning: Passing (type, 1) or '1type' as a synonym of type is deprecated; in a future version of numpy, it will be understood as (type, (1,)) / '(1,)type'.\n",
      "  _np_quint16 = np.dtype([(\"quint16\", np.uint16, 1)])\n",
      "/home/jupyterlab/conda/envs/python/lib/python3.6/site-packages/tensorflow/python/framework/dtypes.py:523: FutureWarning: Passing (type, 1) or '1type' as a synonym of type is deprecated; in a future version of numpy, it will be understood as (type, (1,)) / '(1,)type'.\n",
      "  _np_qint32 = np.dtype([(\"qint32\", np.int32, 1)])\n",
      "/home/jupyterlab/conda/envs/python/lib/python3.6/site-packages/tensorflow/python/framework/dtypes.py:528: FutureWarning: Passing (type, 1) or '1type' as a synonym of type is deprecated; in a future version of numpy, it will be understood as (type, (1,)) / '(1,)type'.\n",
      "  np_resource = np.dtype([(\"resource\", np.ubyte, 1)])\n"
     ]
    }
   ],
   "source": [
    "import keras"
   ]
  },
  {
   "cell_type": "markdown",
   "metadata": {
    "button": false,
    "deletable": true,
    "new_sheet": false,
    "run_control": {
     "read_only": false
    }
   },
   "source": [
    "As you can see, the TensorFlow backend was used to install the Keras library.\n"
   ]
  },
  {
   "cell_type": "markdown",
   "metadata": {
    "button": false,
    "deletable": true,
    "new_sheet": false,
    "run_control": {
     "read_only": false
    }
   },
   "source": [
    "Let's import the rest of the packages from the Keras library that we will need to build our regressoin model.\n"
   ]
  },
  {
   "cell_type": "code",
   "execution_count": 12,
   "metadata": {
    "button": false,
    "deletable": true,
    "new_sheet": false,
    "run_control": {
     "read_only": false
    }
   },
   "outputs": [],
   "source": [
    "from keras.models import Sequential\n",
    "from keras.layers import Dense"
   ]
  },
  {
   "cell_type": "markdown",
   "metadata": {},
   "source": [
    "<a id='item33'></a>\n"
   ]
  },
  {
   "cell_type": "markdown",
   "metadata": {
    "button": false,
    "deletable": true,
    "new_sheet": false,
    "run_control": {
     "read_only": false
    }
   },
   "source": [
    "## Build a Neural Network\n"
   ]
  },
  {
   "cell_type": "markdown",
   "metadata": {
    "button": false,
    "deletable": true,
    "new_sheet": false,
    "run_control": {
     "read_only": false
    }
   },
   "source": [
    "Let's define a function that defines our regression model for us so that we can conveniently call it to create our model.\n"
   ]
  },
  {
   "cell_type": "code",
   "execution_count": 13,
   "metadata": {
    "button": false,
    "deletable": true,
    "new_sheet": false,
    "run_control": {
     "read_only": false
    }
   },
   "outputs": [],
   "source": [
    "# define regression model\n",
    "def regression_model():\n",
    "    # create model\n",
    "    model = Sequential()\n",
    "    model.add(Dense(50, activation='relu', input_shape=(n_cols,)))\n",
    "    model.add(Dense(50, activation='relu'))\n",
    "    model.add(Dense(1))\n",
    "    \n",
    "    # compile model\n",
    "    model.compile(optimizer='adam', loss='mean_squared_error')\n",
    "    return model"
   ]
  },
  {
   "cell_type": "markdown",
   "metadata": {},
   "source": [
    "The above function create a model that has two hidden layers, each of 50 hidden units.\n"
   ]
  },
  {
   "cell_type": "markdown",
   "metadata": {
    "button": false,
    "deletable": true,
    "new_sheet": false,
    "run_control": {
     "read_only": false
    }
   },
   "source": [
    "<a id=\"item4\"></a>\n"
   ]
  },
  {
   "cell_type": "markdown",
   "metadata": {},
   "source": [
    "<a id='item34'></a>\n"
   ]
  },
  {
   "cell_type": "markdown",
   "metadata": {
    "button": false,
    "deletable": true,
    "new_sheet": false,
    "run_control": {
     "read_only": false
    }
   },
   "source": [
    "## Train and Test the Network\n"
   ]
  },
  {
   "cell_type": "markdown",
   "metadata": {},
   "source": [
    "Let's call the function now to create our model.\n"
   ]
  },
  {
   "cell_type": "code",
   "execution_count": 14,
   "metadata": {
    "button": false,
    "deletable": true,
    "new_sheet": false,
    "run_control": {
     "read_only": false
    }
   },
   "outputs": [],
   "source": [
    "# build the model\n",
    "model = regression_model()"
   ]
  },
  {
   "cell_type": "markdown",
   "metadata": {},
   "source": [
    "Next, we will train and test the model at the same time using the _fit_ method. We will leave out 30% of the data for validation and we will train the model for 100 epochs.\n"
   ]
  },
  {
   "cell_type": "code",
   "execution_count": 15,
   "metadata": {},
   "outputs": [
    {
     "name": "stdout",
     "output_type": "stream",
     "text": [
      "Train on 721 samples, validate on 309 samples\n",
      "Epoch 1/100\n",
      " - 1s - loss: 1626.8804 - val_loss: 1110.4146\n",
      "Epoch 2/100\n",
      " - 0s - loss: 1472.0147 - val_loss: 964.7012\n",
      "Epoch 3/100\n",
      " - 0s - loss: 1237.7995 - val_loss: 751.6347\n",
      "Epoch 4/100\n",
      " - 0s - loss: 908.7461 - val_loss: 497.1684\n",
      "Epoch 5/100\n",
      " - 0s - loss: 563.4634 - val_loss: 282.5412\n",
      "Epoch 6/100\n",
      " - 0s - loss: 333.6320 - val_loss: 186.6911\n",
      "Epoch 7/100\n",
      " - 0s - loss: 254.9808 - val_loss: 161.2794\n",
      "Epoch 8/100\n",
      " - 0s - loss: 229.5138 - val_loss: 161.2768\n",
      "Epoch 9/100\n",
      " - 0s - loss: 215.0626 - val_loss: 158.3150\n",
      "Epoch 10/100\n",
      " - 0s - loss: 204.2986 - val_loss: 156.8207\n",
      "Epoch 11/100\n",
      " - 0s - loss: 196.9550 - val_loss: 153.1867\n",
      "Epoch 12/100\n",
      " - 0s - loss: 189.5221 - val_loss: 153.2617\n",
      "Epoch 13/100\n",
      " - 0s - loss: 184.0655 - val_loss: 152.5442\n",
      "Epoch 14/100\n",
      " - 0s - loss: 180.5160 - val_loss: 151.5968\n",
      "Epoch 15/100\n",
      " - 0s - loss: 174.9806 - val_loss: 152.2637\n",
      "Epoch 16/100\n",
      " - 0s - loss: 171.2553 - val_loss: 150.9674\n",
      "Epoch 17/100\n",
      " - 0s - loss: 167.7830 - val_loss: 149.2623\n",
      "Epoch 18/100\n",
      " - 0s - loss: 165.0701 - val_loss: 148.9912\n",
      "Epoch 19/100\n",
      " - 0s - loss: 162.5850 - val_loss: 148.1533\n",
      "Epoch 20/100\n",
      " - 0s - loss: 160.1184 - val_loss: 148.1683\n",
      "Epoch 21/100\n",
      " - 0s - loss: 157.9596 - val_loss: 146.3765\n",
      "Epoch 22/100\n",
      " - 0s - loss: 154.8945 - val_loss: 145.6700\n",
      "Epoch 23/100\n",
      " - 0s - loss: 153.6731 - val_loss: 148.3440\n",
      "Epoch 24/100\n",
      " - 0s - loss: 151.2479 - val_loss: 144.0160\n",
      "Epoch 25/100\n",
      " - 0s - loss: 149.4990 - val_loss: 144.7598\n",
      "Epoch 26/100\n",
      " - 0s - loss: 147.8261 - val_loss: 146.2756\n",
      "Epoch 27/100\n",
      " - 0s - loss: 147.0607 - val_loss: 143.7883\n",
      "Epoch 28/100\n",
      " - 0s - loss: 144.5520 - val_loss: 144.3917\n",
      "Epoch 29/100\n",
      " - 0s - loss: 143.2346 - val_loss: 145.1966\n",
      "Epoch 30/100\n",
      " - 0s - loss: 142.2080 - val_loss: 144.1286\n",
      "Epoch 31/100\n",
      " - 0s - loss: 141.0349 - val_loss: 145.2346\n",
      "Epoch 32/100\n",
      " - 0s - loss: 138.9816 - val_loss: 141.5780\n",
      "Epoch 33/100\n",
      " - 0s - loss: 137.8942 - val_loss: 142.5410\n",
      "Epoch 34/100\n",
      " - 0s - loss: 137.2984 - val_loss: 143.2370\n",
      "Epoch 35/100\n",
      " - 0s - loss: 136.1434 - val_loss: 142.3527\n",
      "Epoch 36/100\n",
      " - 0s - loss: 134.0831 - val_loss: 142.3082\n",
      "Epoch 37/100\n",
      " - 0s - loss: 132.8994 - val_loss: 140.4817\n",
      "Epoch 38/100\n",
      " - 0s - loss: 131.9026 - val_loss: 141.8296\n",
      "Epoch 39/100\n",
      " - 0s - loss: 130.5478 - val_loss: 142.4473\n",
      "Epoch 40/100\n",
      " - 0s - loss: 129.4935 - val_loss: 141.9965\n",
      "Epoch 41/100\n",
      " - 0s - loss: 129.4484 - val_loss: 142.3616\n",
      "Epoch 42/100\n",
      " - 0s - loss: 127.1943 - val_loss: 142.2827\n",
      "Epoch 43/100\n",
      " - 0s - loss: 126.0569 - val_loss: 142.0529\n",
      "Epoch 44/100\n",
      " - 0s - loss: 125.2310 - val_loss: 142.1439\n",
      "Epoch 45/100\n",
      " - 0s - loss: 124.2878 - val_loss: 139.5263\n",
      "Epoch 46/100\n",
      " - 0s - loss: 122.3286 - val_loss: 141.4255\n",
      "Epoch 47/100\n",
      " - 0s - loss: 121.2766 - val_loss: 143.2205\n",
      "Epoch 48/100\n",
      " - 0s - loss: 119.6576 - val_loss: 141.5134\n",
      "Epoch 49/100\n",
      " - 0s - loss: 119.0770 - val_loss: 142.8838\n",
      "Epoch 50/100\n",
      " - 0s - loss: 117.0518 - val_loss: 142.4775\n",
      "Epoch 51/100\n",
      " - 0s - loss: 115.7664 - val_loss: 142.8742\n",
      "Epoch 52/100\n",
      " - 0s - loss: 114.4264 - val_loss: 139.1521\n",
      "Epoch 53/100\n",
      " - 0s - loss: 114.1861 - val_loss: 141.7361\n",
      "Epoch 54/100\n",
      " - 0s - loss: 112.1385 - val_loss: 143.1399\n",
      "Epoch 55/100\n",
      " - 0s - loss: 110.8033 - val_loss: 144.0058\n",
      "Epoch 56/100\n",
      " - 0s - loss: 109.2106 - val_loss: 145.8370\n",
      "Epoch 57/100\n",
      " - 0s - loss: 107.3908 - val_loss: 142.1175\n",
      "Epoch 58/100\n",
      " - 0s - loss: 106.4856 - val_loss: 144.6337\n",
      "Epoch 59/100\n",
      " - 0s - loss: 104.0205 - val_loss: 142.7583\n",
      "Epoch 60/100\n",
      " - 0s - loss: 102.5479 - val_loss: 144.7293\n",
      "Epoch 61/100\n",
      " - 0s - loss: 100.4102 - val_loss: 145.5662\n",
      "Epoch 62/100\n",
      " - 0s - loss: 98.1125 - val_loss: 146.5497\n",
      "Epoch 63/100\n",
      " - 0s - loss: 96.3137 - val_loss: 143.6797\n",
      "Epoch 64/100\n",
      " - 0s - loss: 94.5221 - val_loss: 141.9680\n",
      "Epoch 65/100\n",
      " - 1s - loss: 92.8047 - val_loss: 145.1369\n",
      "Epoch 66/100\n",
      " - 0s - loss: 91.3435 - val_loss: 149.2283\n",
      "Epoch 67/100\n",
      " - 0s - loss: 89.3673 - val_loss: 144.3800\n",
      "Epoch 68/100\n",
      " - 0s - loss: 87.3848 - val_loss: 138.9888\n",
      "Epoch 69/100\n",
      " - 0s - loss: 86.2130 - val_loss: 145.0193\n",
      "Epoch 70/100\n",
      " - 0s - loss: 83.8436 - val_loss: 147.7036\n",
      "Epoch 71/100\n",
      " - 0s - loss: 81.8504 - val_loss: 141.5082\n",
      "Epoch 72/100\n",
      " - 0s - loss: 79.7270 - val_loss: 145.8423\n",
      "Epoch 73/100\n",
      " - 0s - loss: 77.2501 - val_loss: 143.0407\n",
      "Epoch 74/100\n",
      " - 0s - loss: 75.8365 - val_loss: 146.7253\n",
      "Epoch 75/100\n",
      " - 0s - loss: 73.7361 - val_loss: 136.2796\n",
      "Epoch 76/100\n",
      " - 0s - loss: 70.7489 - val_loss: 142.2601\n",
      "Epoch 77/100\n",
      " - 0s - loss: 67.5725 - val_loss: 138.3911\n",
      "Epoch 78/100\n",
      " - 0s - loss: 65.2894 - val_loss: 144.2346\n",
      "Epoch 79/100\n",
      " - 0s - loss: 63.6166 - val_loss: 136.4495\n",
      "Epoch 80/100\n",
      " - 0s - loss: 61.2867 - val_loss: 139.2956\n",
      "Epoch 81/100\n",
      " - 0s - loss: 59.7914 - val_loss: 140.7650\n",
      "Epoch 82/100\n",
      " - 0s - loss: 58.6296 - val_loss: 147.9929\n",
      "Epoch 83/100\n",
      " - 0s - loss: 56.5811 - val_loss: 137.6499\n",
      "Epoch 84/100\n",
      " - 0s - loss: 55.8621 - val_loss: 133.8785\n",
      "Epoch 85/100\n",
      " - 0s - loss: 54.8514 - val_loss: 155.9608\n",
      "Epoch 86/100\n",
      " - 0s - loss: 54.2323 - val_loss: 136.4192\n",
      "Epoch 87/100\n",
      " - 0s - loss: 53.1949 - val_loss: 139.4717\n",
      "Epoch 88/100\n",
      " - 0s - loss: 51.6476 - val_loss: 148.0035\n",
      "Epoch 89/100\n",
      " - 0s - loss: 50.0877 - val_loss: 142.9382\n",
      "Epoch 90/100\n",
      " - 0s - loss: 49.6080 - val_loss: 134.7352\n",
      "Epoch 91/100\n",
      " - 0s - loss: 48.1090 - val_loss: 148.4356\n",
      "Epoch 92/100\n",
      " - 0s - loss: 47.0177 - val_loss: 140.0370\n",
      "Epoch 93/100\n",
      " - 0s - loss: 46.7481 - val_loss: 138.6067\n",
      "Epoch 94/100\n",
      " - 0s - loss: 45.3024 - val_loss: 140.6341\n",
      "Epoch 95/100\n",
      " - 0s - loss: 44.4093 - val_loss: 144.8599\n",
      "Epoch 96/100\n",
      " - 0s - loss: 43.3531 - val_loss: 144.8630\n",
      "Epoch 97/100\n",
      " - 0s - loss: 42.7454 - val_loss: 164.2060\n",
      "Epoch 98/100\n",
      " - 0s - loss: 42.9107 - val_loss: 141.9325\n",
      "Epoch 99/100\n",
      " - 0s - loss: 41.2317 - val_loss: 147.9865\n",
      "Epoch 100/100\n",
      " - 0s - loss: 40.5082 - val_loss: 150.4884\n"
     ]
    },
    {
     "data": {
      "text/plain": [
       "<keras.callbacks.History at 0x7fb9b97686d8>"
      ]
     },
     "execution_count": 15,
     "metadata": {},
     "output_type": "execute_result"
    }
   ],
   "source": [
    "# fit the model\n",
    "model.fit(predictors_norm, target, validation_split=0.3, epochs=100, verbose=2)"
   ]
  },
  {
   "cell_type": "code",
   "execution_count": 17,
   "metadata": {},
   "outputs": [
    {
     "data": {
      "text/plain": [
       "array([[66.67162 ],\n",
       "       [67.56622 ],\n",
       "       [47.81141 ],\n",
       "       [48.52102 ],\n",
       "       [42.257095],\n",
       "       [44.006374],\n",
       "       [48.16523 ],\n",
       "       [38.807117],\n",
       "       [31.712194],\n",
       "       [38.483418]], dtype=float32)"
      ]
     },
     "execution_count": 17,
     "metadata": {},
     "output_type": "execute_result"
    }
   ],
   "source": [
    "model.predict(predictors_norm)[0:10]"
   ]
  },
  {
   "cell_type": "markdown",
   "metadata": {
    "button": false,
    "deletable": true,
    "new_sheet": false,
    "run_control": {
     "read_only": false
    }
   },
   "source": [
    "<strong>You can refer to this [link](https://keras.io/models/sequential?cm_mmc=Email_Newsletter-_-Developer_Ed%2BTech-_-WW_WW-_-SkillsNetwork-Courses-IBMDeveloperSkillsNetwork-DL0101EN-SkillsNetwork-20718188&cm_mmca1=000026UJ&cm_mmca2=10006555&cm_mmca3=M12345678&cvosrc=email.Newsletter.M12345678&cvo_campaign=000026UJ&cm_mmc=Email_Newsletter-_-Developer_Ed%2BTech-_-WW_WW-_-SkillsNetwork-Courses-IBMDeveloperSkillsNetwork-DL0101EN-SkillsNetwork-20718188&cm_mmca1=000026UJ&cm_mmca2=10006555&cm_mmca3=M12345678&cvosrc=email.Newsletter.M12345678&cvo_campaign=000026UJ&cm_mmc=Email_Newsletter-_-Developer_Ed%2BTech-_-WW_WW-_-SkillsNetwork-Courses-IBMDeveloperSkillsNetwork-DL0101EN-SkillsNetwork-20718188&cm_mmca1=000026UJ&cm_mmca2=10006555&cm_mmca3=M12345678&cvosrc=email.Newsletter.M12345678&cvo_campaign=000026UJ) to learn about other functions that you can use for prediction or evaluation.</strong>\n"
   ]
  },
  {
   "cell_type": "markdown",
   "metadata": {
    "button": false,
    "deletable": true,
    "new_sheet": false,
    "run_control": {
     "read_only": false
    }
   },
   "source": [
    "Feel free to vary the following and note what impact each change has on the model's performance:\n",
    "\n",
    "1.  Increase or decreate number of neurons in hidden layers\n",
    "2.  Add more hidden layers\n",
    "3.  Increase number of epochs\n"
   ]
  },
  {
   "cell_type": "code",
   "execution_count": 16,
   "metadata": {},
   "outputs": [],
   "source": [
    "from keras.regularizers import l2"
   ]
  },
  {
   "cell_type": "code",
   "execution_count": 18,
   "metadata": {},
   "outputs": [],
   "source": [
    "def regression_model():\n",
    "    # create model\n",
    "    model = Sequential()\n",
    "    model.add(Dense(50, activation='relu', input_shape=(n_cols,)))\n",
    "    model.add(Dense(50, activation='relu', kernel_regularizer=l2(0.01)))\n",
    "    model.add(Dense(50, activation='relu', kernel_regularizer=l2(0.01)))\n",
    "    model.add(Dense(50, activation='relu', kernel_regularizer=l2(0.01)))\n",
    "    model.add(Dense(50, activation='relu', kernel_regularizer=l2(0.01)))\n",
    "    model.add(Dense(50, activation='relu', kernel_regularizer=l2(0.01)))\n",
    "    model.add(Dense(1))\n",
    "    \n",
    "    # compile model\n",
    "    model.compile(optimizer='adam', loss='mean_squared_error')\n",
    "    return model"
   ]
  },
  {
   "cell_type": "code",
   "execution_count": 19,
   "metadata": {},
   "outputs": [
    {
     "name": "stdout",
     "output_type": "stream",
     "text": [
      "Train on 721 samples, validate on 309 samples\n",
      "Epoch 1/100\n",
      " - 2s - loss: 1670.5258 - val_loss: 1133.9284\n",
      "Epoch 2/100\n",
      " - 1s - loss: 1039.2670 - val_loss: 247.9039\n",
      "Epoch 3/100\n",
      " - 0s - loss: 331.4576 - val_loss: 194.7425\n",
      "Epoch 4/100\n",
      " - 0s - loss: 228.7304 - val_loss: 181.3849\n",
      "Epoch 5/100\n",
      " - 0s - loss: 211.3311 - val_loss: 171.0061\n",
      "Epoch 6/100\n",
      " - 0s - loss: 185.6558 - val_loss: 170.4641\n",
      "Epoch 7/100\n",
      " - 0s - loss: 172.6154 - val_loss: 165.0795\n",
      "Epoch 8/100\n",
      " - 0s - loss: 161.3855 - val_loss: 167.9624\n",
      "Epoch 9/100\n",
      " - 0s - loss: 147.6622 - val_loss: 161.5933\n",
      "Epoch 10/100\n",
      " - 0s - loss: 136.0693 - val_loss: 154.4223\n",
      "Epoch 11/100\n",
      " - 0s - loss: 122.5740 - val_loss: 172.9100\n",
      "Epoch 12/100\n",
      " - 0s - loss: 112.7221 - val_loss: 164.8110\n",
      "Epoch 13/100\n",
      " - 0s - loss: 96.9942 - val_loss: 154.2329\n",
      "Epoch 14/100\n",
      " - 0s - loss: 84.6808 - val_loss: 158.7517\n",
      "Epoch 15/100\n",
      " - 1s - loss: 75.3686 - val_loss: 157.8688\n",
      "Epoch 16/100\n",
      " - 1s - loss: 68.2032 - val_loss: 148.8448\n",
      "Epoch 17/100\n",
      " - 0s - loss: 58.9413 - val_loss: 137.4225\n",
      "Epoch 18/100\n",
      " - 0s - loss: 54.5394 - val_loss: 147.3446\n",
      "Epoch 19/100\n",
      " - 0s - loss: 48.8899 - val_loss: 164.4375\n",
      "Epoch 20/100\n",
      " - 0s - loss: 46.4576 - val_loss: 142.0031\n",
      "Epoch 21/100\n",
      " - 0s - loss: 43.8601 - val_loss: 139.0339\n",
      "Epoch 22/100\n",
      " - 0s - loss: 41.0311 - val_loss: 143.2342\n",
      "Epoch 23/100\n",
      " - 0s - loss: 39.3543 - val_loss: 131.5012\n",
      "Epoch 24/100\n",
      " - 0s - loss: 38.3723 - val_loss: 161.4628\n",
      "Epoch 25/100\n",
      " - 1s - loss: 35.9964 - val_loss: 170.3994\n",
      "Epoch 26/100\n",
      " - 0s - loss: 34.3325 - val_loss: 168.8021\n",
      "Epoch 27/100\n",
      " - 0s - loss: 35.8023 - val_loss: 147.2091\n",
      "Epoch 28/100\n",
      " - 0s - loss: 31.0897 - val_loss: 164.8162\n",
      "Epoch 29/100\n",
      " - 0s - loss: 29.6648 - val_loss: 157.6007\n",
      "Epoch 30/100\n",
      " - 0s - loss: 29.7648 - val_loss: 159.5162\n",
      "Epoch 31/100\n",
      " - 0s - loss: 28.0030 - val_loss: 180.3533\n",
      "Epoch 32/100\n",
      " - 0s - loss: 27.8544 - val_loss: 174.6574\n",
      "Epoch 33/100\n",
      " - 0s - loss: 25.8509 - val_loss: 177.1928\n",
      "Epoch 34/100\n",
      " - 1s - loss: 25.8180 - val_loss: 175.5821\n",
      "Epoch 35/100\n",
      " - 0s - loss: 25.9766 - val_loss: 159.7075\n",
      "Epoch 36/100\n",
      " - 0s - loss: 24.4663 - val_loss: 199.1886\n",
      "Epoch 37/100\n",
      " - 0s - loss: 23.7911 - val_loss: 199.2034\n",
      "Epoch 38/100\n",
      " - 0s - loss: 24.0907 - val_loss: 187.1314\n",
      "Epoch 39/100\n",
      " - 0s - loss: 22.9983 - val_loss: 167.8478\n",
      "Epoch 40/100\n",
      " - 0s - loss: 22.1562 - val_loss: 153.1910\n",
      "Epoch 41/100\n",
      " - 0s - loss: 22.3678 - val_loss: 155.5831\n",
      "Epoch 42/100\n",
      " - 0s - loss: 21.5092 - val_loss: 162.7130\n",
      "Epoch 43/100\n",
      " - 0s - loss: 21.8846 - val_loss: 171.4756\n",
      "Epoch 44/100\n",
      " - 0s - loss: 22.0523 - val_loss: 146.2863\n",
      "Epoch 45/100\n",
      " - 0s - loss: 21.4352 - val_loss: 170.8690\n",
      "Epoch 46/100\n",
      " - 0s - loss: 19.8374 - val_loss: 166.7622\n",
      "Epoch 47/100\n",
      " - 1s - loss: 19.1787 - val_loss: 175.3559\n",
      "Epoch 48/100\n",
      " - 0s - loss: 18.9992 - val_loss: 170.3712\n",
      "Epoch 49/100\n",
      " - 0s - loss: 20.8635 - val_loss: 168.5467\n",
      "Epoch 50/100\n",
      " - 1s - loss: 20.0502 - val_loss: 178.8669\n",
      "Epoch 51/100\n",
      " - 0s - loss: 18.8811 - val_loss: 162.4518\n",
      "Epoch 52/100\n",
      " - 0s - loss: 19.7813 - val_loss: 163.6347\n",
      "Epoch 53/100\n",
      " - 0s - loss: 19.3746 - val_loss: 175.0744\n",
      "Epoch 54/100\n",
      " - 0s - loss: 18.4441 - val_loss: 171.9779\n",
      "Epoch 55/100\n",
      " - 0s - loss: 17.4767 - val_loss: 139.7504\n",
      "Epoch 56/100\n",
      " - 0s - loss: 20.1802 - val_loss: 143.5358\n",
      "Epoch 57/100\n",
      " - 0s - loss: 17.7241 - val_loss: 182.5486\n",
      "Epoch 58/100\n",
      " - 0s - loss: 17.5108 - val_loss: 146.8573\n",
      "Epoch 59/100\n",
      " - 0s - loss: 21.1883 - val_loss: 172.9813\n",
      "Epoch 60/100\n",
      " - 0s - loss: 17.7348 - val_loss: 169.8803\n",
      "Epoch 61/100\n",
      " - 0s - loss: 16.2737 - val_loss: 164.9433\n",
      "Epoch 62/100\n",
      " - 0s - loss: 16.2733 - val_loss: 153.8187\n",
      "Epoch 63/100\n",
      " - 0s - loss: 16.8647 - val_loss: 155.3628\n",
      "Epoch 64/100\n",
      " - 0s - loss: 16.3309 - val_loss: 156.6461\n",
      "Epoch 65/100\n",
      " - 0s - loss: 16.5563 - val_loss: 172.1136\n",
      "Epoch 66/100\n",
      " - 0s - loss: 15.6570 - val_loss: 164.9647\n",
      "Epoch 67/100\n",
      " - 0s - loss: 18.1020 - val_loss: 169.1166\n",
      "Epoch 68/100\n",
      " - 0s - loss: 16.5224 - val_loss: 155.9376\n",
      "Epoch 69/100\n",
      " - 0s - loss: 16.8974 - val_loss: 157.8474\n",
      "Epoch 70/100\n",
      " - 0s - loss: 15.4596 - val_loss: 154.0117\n",
      "Epoch 71/100\n",
      " - 0s - loss: 14.8322 - val_loss: 145.0322\n",
      "Epoch 72/100\n",
      " - 0s - loss: 16.2318 - val_loss: 151.6471\n",
      "Epoch 73/100\n",
      " - 0s - loss: 15.7642 - val_loss: 152.8111\n",
      "Epoch 74/100\n",
      " - 0s - loss: 15.3642 - val_loss: 141.4357\n",
      "Epoch 75/100\n",
      " - 0s - loss: 15.5182 - val_loss: 163.1907\n",
      "Epoch 76/100\n",
      " - 0s - loss: 15.3948 - val_loss: 174.1753\n",
      "Epoch 77/100\n",
      " - 1s - loss: 14.3374 - val_loss: 183.2671\n",
      "Epoch 78/100\n",
      " - 0s - loss: 14.2643 - val_loss: 185.4068\n",
      "Epoch 79/100\n",
      " - 0s - loss: 14.9286 - val_loss: 138.9858\n",
      "Epoch 80/100\n",
      " - 0s - loss: 15.0641 - val_loss: 168.5692\n",
      "Epoch 81/100\n",
      " - 0s - loss: 16.5925 - val_loss: 149.9479\n",
      "Epoch 82/100\n",
      " - 0s - loss: 16.6577 - val_loss: 130.5475\n",
      "Epoch 83/100\n",
      " - 0s - loss: 14.6703 - val_loss: 133.7242\n",
      "Epoch 84/100\n",
      " - 0s - loss: 15.3462 - val_loss: 138.3258\n",
      "Epoch 85/100\n",
      " - 0s - loss: 14.6292 - val_loss: 187.0540\n",
      "Epoch 86/100\n",
      " - 0s - loss: 14.4228 - val_loss: 173.5747\n",
      "Epoch 87/100\n",
      " - 0s - loss: 14.1065 - val_loss: 169.6370\n",
      "Epoch 88/100\n",
      " - 0s - loss: 15.1649 - val_loss: 149.9585\n",
      "Epoch 89/100\n",
      " - 0s - loss: 13.5455 - val_loss: 145.6098\n",
      "Epoch 90/100\n",
      " - 0s - loss: 13.2374 - val_loss: 168.3452\n",
      "Epoch 91/100\n",
      " - 0s - loss: 14.4925 - val_loss: 162.8958\n",
      "Epoch 92/100\n",
      " - 1s - loss: 14.1942 - val_loss: 162.8880\n",
      "Epoch 93/100\n",
      " - 0s - loss: 13.9120 - val_loss: 150.8995\n",
      "Epoch 94/100\n",
      " - 1s - loss: 13.5308 - val_loss: 170.9178\n",
      "Epoch 95/100\n",
      " - 0s - loss: 13.3181 - val_loss: 150.0745\n",
      "Epoch 96/100\n",
      " - 1s - loss: 12.9268 - val_loss: 160.6068\n",
      "Epoch 97/100\n",
      " - 0s - loss: 12.8823 - val_loss: 147.3728\n",
      "Epoch 98/100\n",
      " - 0s - loss: 12.7504 - val_loss: 153.9883\n",
      "Epoch 99/100\n",
      " - 0s - loss: 12.8158 - val_loss: 142.4732\n",
      "Epoch 100/100\n",
      " - 0s - loss: 12.8880 - val_loss: 170.8054\n"
     ]
    },
    {
     "data": {
      "text/plain": [
       "<keras.callbacks.History at 0x7fb9b82a7e80>"
      ]
     },
     "execution_count": 19,
     "metadata": {},
     "output_type": "execute_result"
    }
   ],
   "source": [
    "model = regression_model()\n",
    "model.fit(predictors_norm, target, validation_split=0.3, epochs=100, verbose=2)"
   ]
  },
  {
   "cell_type": "code",
   "execution_count": 20,
   "metadata": {},
   "outputs": [
    {
     "data": {
      "text/plain": [
       "array([[72.26497 ],\n",
       "       [73.15957 ],\n",
       "       [37.38217 ],\n",
       "       [39.516666],\n",
       "       [40.288353],\n",
       "       [47.4085  ],\n",
       "       [41.377224],\n",
       "       [37.775627],\n",
       "       [44.083164],\n",
       "       [40.50194 ]], dtype=float32)"
      ]
     },
     "execution_count": 20,
     "metadata": {},
     "output_type": "execute_result"
    }
   ],
   "source": [
    "model.predict(predictors_norm)[0:10]"
   ]
  },
  {
   "cell_type": "markdown",
   "metadata": {
    "button": false,
    "deletable": true,
    "new_sheet": false,
    "run_control": {
     "read_only": false
    }
   },
   "source": [
    "### Thank you for completing this lab!\n",
    "\n",
    "This notebook was created by [Alex Aklson](https://www.linkedin.com/in/aklson?cm_mmc=Email_Newsletter-_-Developer_Ed%2BTech-_-WW_WW-_-SkillsNetwork-Courses-IBMDeveloperSkillsNetwork-DL0101EN-SkillsNetwork-20718188&cm_mmca1=000026UJ&cm_mmca2=10006555&cm_mmca3=M12345678&cvosrc=email.Newsletter.M12345678&cvo_campaign=000026UJ&cm_mmc=Email_Newsletter-_-Developer_Ed%2BTech-_-WW_WW-_-SkillsNetwork-Courses-IBMDeveloperSkillsNetwork-DL0101EN-SkillsNetwork-20718188&cm_mmca1=000026UJ&cm_mmca2=10006555&cm_mmca3=M12345678&cvosrc=email.Newsletter.M12345678&cvo_campaign=000026UJ). I hope you found this lab interesting and educational. Feel free to contact me if you have any questions!\n"
   ]
  },
  {
   "cell_type": "markdown",
   "metadata": {},
   "source": [
    "## Change Log\n",
    "\n",
    "| Date (YYYY-MM-DD) | Version | Changed By | Change Description                                          |\n",
    "| ----------------- | ------- | ---------- | ----------------------------------------------------------- |\n",
    "| 2020-09-21        | 2.0     | Srishti    | Migrated Lab to Markdown and added to course repo in GitLab |\n",
    "\n",
    "<hr>\n",
    "\n",
    "## <h3 align=\"center\"> © IBM Corporation 2020. All rights reserved. <h3/>\n"
   ]
  },
  {
   "cell_type": "markdown",
   "metadata": {
    "button": false,
    "deletable": true,
    "new_sheet": false,
    "run_control": {
     "read_only": false
    }
   },
   "source": [
    "This notebook is part of a course on **Coursera** called _Introduction to Deep Learning & Neural Networks with Keras_. If you accessed this notebook outside the course, you can take this course online by clicking [here](https://cocl.us/DL0101EN_Coursera_Week3_LAB1).\n"
   ]
  },
  {
   "cell_type": "markdown",
   "metadata": {
    "button": false,
    "deletable": true,
    "new_sheet": false,
    "run_control": {
     "read_only": false
    }
   },
   "source": [
    "<hr>\n",
    "\n",
    "Copyright © 2019 [IBM Developer Skills Network](https://cognitiveclass.ai?utm_source=bducopyrightlink&utm_medium=dswb&utm_campaign=bdu&cm_mmc=Email_Newsletter-_-Developer_Ed%2BTech-_-WW_WW-_-SkillsNetwork-Courses-IBMDeveloperSkillsNetwork-DL0101EN-SkillsNetwork-20718188&cm_mmca1=000026UJ&cm_mmca2=10006555&cm_mmca3=M12345678&cvosrc=email.Newsletter.M12345678&cvo_campaign=000026UJ&cm_mmc=Email_Newsletter-_-Developer_Ed%2BTech-_-WW_WW-_-SkillsNetwork-Courses-IBMDeveloperSkillsNetwork-DL0101EN-SkillsNetwork-20718188&cm_mmca1=000026UJ&cm_mmca2=10006555&cm_mmca3=M12345678&cvosrc=email.Newsletter.M12345678&cvo_campaign=000026UJ&cm_mmc=Email_Newsletter-_-Developer_Ed%2BTech-_-WW_WW-_-SkillsNetwork-Courses-IBMDeveloperSkillsNetwork-DL0101EN-SkillsNetwork-20718188&cm_mmca1=000026UJ&cm_mmca2=10006555&cm_mmca3=M12345678&cvosrc=email.Newsletter.M12345678&cvo_campaign=000026UJ&cm_mmc=Email_Newsletter-_-Developer_Ed%2BTech-_-WW_WW-_-SkillsNetwork-Courses-IBMDeveloperSkillsNetwork-DL0101EN-SkillsNetwork-20718188&cm_mmca1=000026UJ&cm_mmca2=10006555&cm_mmca3=M12345678&cvosrc=email.Newsletter.M12345678&cvo_campaign=000026UJ). This notebook and its source code are released under the terms of the [MIT License](https://bigdatauniversity.com/mit-license?cm_mmc=Email_Newsletter-_-Developer_Ed%2BTech-_-WW_WW-_-SkillsNetwork-Courses-IBMDeveloperSkillsNetwork-DL0101EN-SkillsNetwork-20718188&cm_mmca1=000026UJ&cm_mmca2=10006555&cm_mmca3=M12345678&cvosrc=email.Newsletter.M12345678&cvo_campaign=000026UJ&cm_mmc=Email_Newsletter-_-Developer_Ed%2BTech-_-WW_WW-_-SkillsNetwork-Courses-IBMDeveloperSkillsNetwork-DL0101EN-SkillsNetwork-20718188&cm_mmca1=000026UJ&cm_mmca2=10006555&cm_mmca3=M12345678&cvosrc=email.Newsletter.M12345678&cvo_campaign=000026UJ).\n"
   ]
  }
 ],
 "metadata": {
  "kernelspec": {
   "display_name": "Python",
   "language": "python",
   "name": "conda-env-python-py"
  },
  "language_info": {
   "codemirror_mode": {
    "name": "ipython",
    "version": 3
   },
   "file_extension": ".py",
   "mimetype": "text/x-python",
   "name": "python",
   "nbconvert_exporter": "python",
   "pygments_lexer": "ipython3",
   "version": "3.6.12"
  }
 },
 "nbformat": 4,
 "nbformat_minor": 4
}
